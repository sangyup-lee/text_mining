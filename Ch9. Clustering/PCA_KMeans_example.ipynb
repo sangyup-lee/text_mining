{
 "cells": [
  {
   "cell_type": "markdown",
   "metadata": {},
   "source": [
    "아래와 같이 텍스트 파일을 읽어 옵니다."
   ]
  },
  {
   "cell_type": "code",
   "execution_count": 1,
   "metadata": {},
   "outputs": [],
   "source": [
    "import numpy as np\n",
    "from os import listdir\n",
    "from os.path import isfile, join\n",
    "\n",
    "mypath = './example_En_docs/'\n",
    "onlyfiles = [f for f in listdir(mypath) if isfile(join(mypath, f))]\n",
    "onlyfiles.sort()\n",
    "\n",
    "total_docs = []\n",
    "for file in onlyfiles:\n",
    "    file_path = mypath+file\n",
    "    with open(file_path, 'r', encoding='utf8') as f:\n",
    "        content = f.read()\n",
    "    total_docs.append(content)"
   ]
  },
  {
   "cell_type": "code",
   "execution_count": 2,
   "metadata": {},
   "outputs": [
    {
     "data": {
      "text/plain": [
       "15"
      ]
     },
     "execution_count": 2,
     "metadata": {},
     "output_type": "execute_result"
    }
   ],
   "source": [
    "len(total_docs)"
   ]
  },
  {
   "cell_type": "code",
   "execution_count": 3,
   "metadata": {
    "scrolled": true
   },
   "outputs": [
    {
     "data": {
      "text/plain": [
       "'Ryen Aleman was engrossed in the virtual world, focused on the video game in front of him, when he realized the gunshots he was hearing were real. He ducked and bolted for a restroom to take cover.\\nAnother mass shooting was unfolding in Florida, this time at a tournament for competitive players of the football video game, Madden, in Jacksonville. The winners would go on to a higher level tournament in Las Vegas in October, where large cash prizes could be won.\\nParticipants had gathered at the Jacksonville Landing Complex, an open-air marketplace with stores, bars and restaurants along the St. Johns River.\\n\\nDavid Katz, a 24-year-old gamer from Baltimore, Maryland, was in Jacksonville for the tournament at GLHF Game Bar, in the back of a pizza restaurant. On Sunday, he brought a gun into the venue and opened fire, killing two people. Then he turned the gun on himself, Jacksonville Sheriff Mike Williams said. Police have not released a possible motive.\\nKatz used at least one handgun in the shooting, the sheriff said. Nine other people suffered gunshot wounds and two people were injured fleeing the area, Williams said. The victims were all in stable condition at local hospitals, the sheriff said.\\nThe horror that unfolded was captured on an online stream of the event, posted the website Twitch. The game abruptly stopped after several shots were heard.\\nPeople screamed. One person cried out, \"Oh f**, what\\'d he shoot me with?\" \\nShortly after 1:30 p.m., 911 calls started pouring in about a shooting, according to Williams. Officers were on the scene within two minutes.\\nAleman said he huddled in the bathroom for 10 minutes and ran from the scene.\\n\"I\\'m still shocked, I can hardly talk,\" he told CNN.\\nSeven members of the Jacksonville Fire Station 1 -- known as \"The Rock\" -- were doing routine training in a parking garage across the street from the Landing, when dozens of people came running out, said Randy Wyse, president of the Jacksonville Association of Fire Fighters.\\nOne person pulled up their shirt, showing where they had been shot in the chest, Wyse said. A second person with gunshot wounds followed shortly behind them.\\nAs four firefighters administered first aid, three others ran toward the Landing, Wyse said, and flagged down a police officer.\\nThey started treating victims and found the three dead bodies, including Katz\\'s body.\\nHours after he committed suicide, authorities said, agents with the Bureau of Alcohol, Tobacco, Firearms and Explosives and FBI and Baltimore Police searched Katz\\'s family home in Baltimore.\\nKatz went by the gaming naming \"Bread\" and previously won Madden tournaments in 2017, multiple gamers told CNN.\\nIn February 2017, the Buffalo Bills tweeted out a picture of him after he won the Madden 17 Bills Championship. \"Congrats to David Katz, the Madden 17 Bills Championship winner! Thanks for following along, Bills fans,\" the tweet read.\\nIn an interview after the win with former Buffalos Bills player Steve Tasker, Katz talked about his prowess.\\n\"I think personally I\\'m one of the better players,\" he said. \\nFlorida has seen several mass shootings in recent years: a gunman killed 17 people at Marjory Stoneman Douglas high school in Parkland earlier this year; five people were gunned down at the Fort Lauderdale airport last year; and 49 were shot dead at the Pulse nightclub in Orlando in 2016.\\n\"We have got to change,\" Gov. Rick Scott told reporters Sunday night. \"We\\'ve got to really stop and say to ourselves: there\\'s something wrong.\"\\n\"Why are young men willing to give up their life, or why don\\'t they value somebody else\\'s life?\" he said. \"We\\'ve got to figure this out.\"\\nFormer Congresswoman Gabrielle Giffords, who was seriously wounded in a mass shooting, said the nation\\'s attention turns to Florida, again.\\n\"The nation once again looks to Florida with grief and heavy hearts,\" Giffords, who co-founded a gun violence prevention organization, said in a statement.\\n\"The massacre in Jacksonville is a tragic reminder of the threats we face from gun violence, no matter who we are or where our day takes us,\" said Giffords. \"And it\\'s yet another devastating indictment of this country\\'s inability to keep our kids safe.\"\\n\\n    The nation once again looks to Florida with grief and heavy hearts. The massacre in Jacksonville is yet another devastating indictment of this country\\'s inability to keep our kids safe. https://t.co/NNw88rVWR2\\n    — Gabrielle Giffords (@GabbyGiffords) August 26, 2018\\n\\nEA Sports, a video game developer and publisher, condemned the shooting as \"a senseless act of violence.\"\\nCompLexity Gaming founder and CEO Jason Lake told CNN that the shooting may make the growing eSports industry reconsider security at events.\\nOne of the company\\'s gamers, a 19-year-old who goes by Drini, was shot in the thumb but managed to escape and is going to be fine, Lake said.\\n\"To have someone walk into an event like this that\\'s all about good sportsmanship and teamwork and just good vibes, and do something like this, it\\'s heartbreaking,\" he said. \"I think the e-sports industry as a whole is going to have to step back and take a look at further strengthening our security.\"'"
      ]
     },
     "execution_count": 3,
     "metadata": {},
     "output_type": "execute_result"
    }
   ],
   "source": [
    "total_docs[0]"
   ]
  },
  {
   "cell_type": "code",
   "execution_count": 4,
   "metadata": {},
   "outputs": [],
   "source": [
    "import preprocessing # import a python file for English text preprocessing"
   ]
  },
  {
   "cell_type": "code",
   "execution_count": 5,
   "metadata": {},
   "outputs": [],
   "source": [
    "stopwords = ['be', 'today', 'yesterday', 'tomorrow'] # 불용어 사전 생성하기"
   ]
  },
  {
   "cell_type": "code",
   "execution_count": 6,
   "metadata": {},
   "outputs": [],
   "source": [
    "docs_nouns = [preprocessing.En_preprocessing(doc, stopwords) for doc in total_docs]"
   ]
  },
  {
   "cell_type": "code",
   "execution_count": 7,
   "metadata": {},
   "outputs": [
    {
     "name": "stdout",
     "output_type": "stream",
     "text": [
      "['aleman', 'world', 'video', 'game', 'front', 'gunshot', 'restroom', 'cover', 'mass', 'shooting', 'florida', 'tournament', 'player', 'football', 'video', 'game', 'madden', 'jacksonville', 'winner', 'level', 'tournament', 'vega', 'october', 'cash', 'prize', 'participant', 'jacksonville', 'marketplace', 'store', 'bar', 'restaurant', 'st', 'john', 'river', 'david', 'gamer', 'baltimore', 'maryland', 'jacksonville', 'tournament', 'game', 'bar', 'back', 'pizza', 'restaurant', 'sunday', 'gun', 'venue', 'fire', 'people', 'gun', 'mike', 'williams', 'police', 'motive', 'katz', 'handgun', 'sheriff', 'people', 'wound', 'people', 'area', 'williams', 'victim', 'condition', 'hospital', 'sheriff', 'horror', 'stream', 'event', 'game', 'shot', 'people', 'person', 'f', 'whatd', 'call', 'williams', 'officer', 'scene', 'minute', 'bathroom', 'minute', 'ran', 'scene', 'im', 'member', 'jacksonville', 'fire', 'station', 'rock', 'training', 'parking', 'garage', 'street', 'landing', 'dozen', 'people', 'president', 'jacksonville', 'association', 'fire', 'fighter', 'person', 'shirt', 'chest', 'wyse', 'person', 'wound', 'firefighter', 'aid', 'others', 'landing', 'wyse', 'officer', 'victim', 'body', 'katzs', 'body', 'hour', 'authority', 'agent', 'bureau', 'alcohol', 'tobacco', 'firearm', 'explosive', 'fbi', 'police', 'family', 'home', 'baltimore', 'katz', 'gaming', 'bread', 'tournament', 'multiple', 'gamers', 'cnn', 'buffalo', 'bill', 'picture', 'bill', 'congrats', 'bill', 'thanks', 'bill', 'tweet', 'read', 'interview', 'win', 'buffalo', 'bill', 'player', 'tasker', 'katz', 'prowess', 'player', 'florida', 'mass', 'shooting', 'year', 'gunman', 'people', 'douglas', 'school', 'parkland', 'year', 'people', 'fort', 'lauderdale', 'airport', 'year', 'pulse', 'nightclub', 'orlando', 'gov', 'rick', 'scott', 'reporter', 'night', 'weve', 'something', 'men', 'life', 'value', 'somebody', 'life', 'congresswoman', 'gabrielle', 'giffords', 'mass', 'shooting', 'nation', 'attention', 'nation', 'grief', 'heart', 'giffords', 'gun', 'violence', 'prevention', 'organization', 'statement', 'massacre', 'jacksonville', 'reminder', 'threat', 'violence', 'matter', 'day', 'giffords', 'indictment', 'country', 'inability', 'kid', 'nation', 'grief', 'heart', 'massacre', 'jacksonville', 'indictment', 'country', 'inability', 'kid', 'httpstconnw88rvwr2', 'gabrielle', 'giffords', 'gabbygiffords', 'ea', 'sport', 'video', 'game', 'developer', 'publisher', 'shooting', 'senseless', 'act', 'violence', 'complexity', 'founder', 'ceo', 'jason', 'cnn', 'shooting', 'esports', 'industry', 'security', 'event', 'company', 'drini', 'thumb', 'lake', 'someone', 'walk', 'event', 'sportsmanship', 'teamwork', 'vibe', 'something', 'heartbreaking', 'esports', 'industry', 'whole', 'look', 'security']\n"
     ]
    }
   ],
   "source": [
    "print(docs_nouns[0]) # 첫번째 문서에 대한 내용 ((문서 내용, [명사단어])로 구성)"
   ]
  },
  {
   "cell_type": "code",
   "execution_count": 7,
   "metadata": {},
   "outputs": [],
   "source": [
    "documents_filtered = [' '.join(doc) for doc in docs_nouns]\n",
    "# 불필요한 단어들을 제거하고 난후 DTM로 변환하기 위해 다시 list of strings의 형태로 변환"
   ]
  },
  {
   "cell_type": "code",
   "execution_count": 8,
   "metadata": {},
   "outputs": [],
   "source": [
    "from sklearn.feature_extraction.text import TfidfVectorizer\n",
    "tfidf_vectorizer = TfidfVectorizer()\n",
    "DTM_tfidf = tfidf_vectorizer.fit_transform(documents_filtered)\n",
    "DTM_TFIDF = np.array(DTM_tfidf.todense())"
   ]
  },
  {
   "cell_type": "code",
   "execution_count": 9,
   "metadata": {},
   "outputs": [
    {
     "data": {
      "text/plain": [
       "(15, 1166)"
      ]
     },
     "execution_count": 9,
     "metadata": {},
     "output_type": "execute_result"
    }
   ],
   "source": [
    "DTM_TFIDF.shape"
   ]
  },
  {
   "cell_type": "code",
   "execution_count": 56,
   "metadata": {},
   "outputs": [],
   "source": [
    "from sklearn.decomposition import PCA"
   ]
  },
  {
   "cell_type": "code",
   "execution_count": 59,
   "metadata": {},
   "outputs": [],
   "source": [
    "pca = PCA(n_components=10)\n",
    "pca_results_tfidf = pca.fit_transform(DTM_TFIDF)"
   ]
  },
  {
   "cell_type": "code",
   "execution_count": 60,
   "metadata": {},
   "outputs": [
    {
     "data": {
      "text/plain": [
       "array([0.1700526 , 0.15575681, 0.14024696, 0.10946413, 0.0629343 ,\n",
       "       0.05584565, 0.04982947, 0.04685669, 0.04420719, 0.04138422])"
      ]
     },
     "execution_count": 60,
     "metadata": {},
     "output_type": "execute_result"
    }
   ],
   "source": [
    "pca.explained_variance_ratio_"
   ]
  },
  {
   "cell_type": "code",
   "execution_count": 61,
   "metadata": {},
   "outputs": [
    {
     "data": {
      "text/plain": [
       "0.8765780119628038"
      ]
     },
     "execution_count": 61,
     "metadata": {},
     "output_type": "execute_result"
    }
   ],
   "source": [
    "sum(pca.explained_variance_ratio_)"
   ]
  },
  {
   "cell_type": "markdown",
   "metadata": {},
   "source": [
    "## KMeans 적용하기"
   ]
  },
  {
   "cell_type": "code",
   "execution_count": 62,
   "metadata": {},
   "outputs": [],
   "source": [
    "from sklearn.cluster import KMeans"
   ]
  },
  {
   "cell_type": "code",
   "execution_count": 66,
   "metadata": {},
   "outputs": [],
   "source": [
    "kmeans = KMeans(n_clusters=5, random_state=42)\n",
    "clusters_pca_tfidf = kmeans.fit_predict(pca_results_tfidf)"
   ]
  },
  {
   "cell_type": "code",
   "execution_count": 67,
   "metadata": {},
   "outputs": [
    {
     "data": {
      "text/plain": [
       "array([4, 4, 4, 3, 3, 0, 0, 0, 2, 2, 2, 2, 1, 1, 1])"
      ]
     },
     "execution_count": 67,
     "metadata": {},
     "output_type": "execute_result"
    }
   ],
   "source": [
    "clusters_pca_tfidf"
   ]
  },
  {
   "cell_type": "markdown",
   "metadata": {},
   "source": [
    "## 실루엣 값 확인해 보기"
   ]
  },
  {
   "cell_type": "code",
   "execution_count": 68,
   "metadata": {},
   "outputs": [
    {
     "name": "stdout",
     "output_type": "stream",
     "text": [
      "0.3710211001794674\n"
     ]
    }
   ],
   "source": [
    "from sklearn.metrics import silhouette_score\n",
    "print(silhouette_score(pca_results_tfidf, clusters_pca_tfidf))"
   ]
  },
  {
   "cell_type": "code",
   "execution_count": 69,
   "metadata": {},
   "outputs": [],
   "source": [
    "kmeans1 = KMeans(n_clusters=5, random_state=42)\n",
    "clusters_tfidf = kmeans1.fit_predict(DTM_TFIDF)"
   ]
  },
  {
   "cell_type": "code",
   "execution_count": 70,
   "metadata": {},
   "outputs": [
    {
     "data": {
      "text/plain": [
       "array([1, 1, 1, 4, 4, 2, 2, 2, 3, 3, 3, 3, 0, 0, 0])"
      ]
     },
     "execution_count": 70,
     "metadata": {},
     "output_type": "execute_result"
    }
   ],
   "source": [
    "clusters_tfidf"
   ]
  },
  {
   "cell_type": "code",
   "execution_count": 71,
   "metadata": {},
   "outputs": [
    {
     "name": "stdout",
     "output_type": "stream",
     "text": [
      "0.24272695180620912\n"
     ]
    }
   ],
   "source": [
    "print(silhouette_score(DTM_TFIDF, clusters_tfidf))"
   ]
  },
  {
   "cell_type": "markdown",
   "metadata": {},
   "source": [
    "## 군집화 분석 결과 시각화 해보기"
   ]
  },
  {
   "cell_type": "code",
   "execution_count": 77,
   "metadata": {},
   "outputs": [],
   "source": [
    "pca = PCA(n_components=2)\n",
    "pca_results_tfidf = pca.fit_transform(DTM_TFIDF)"
   ]
  },
  {
   "cell_type": "code",
   "execution_count": 72,
   "metadata": {},
   "outputs": [],
   "source": [
    "kmeans = KMeans(n_clusters=5)\n",
    "clusters_pca_tfidf = kmeans.fit_predict(pca_results_tfidf)"
   ]
  },
  {
   "cell_type": "code",
   "execution_count": 73,
   "metadata": {},
   "outputs": [
    {
     "data": {
      "text/plain": [
       "array([3, 3, 3, 4, 4, 0, 0, 0, 1, 1, 1, 1, 2, 2, 2])"
      ]
     },
     "execution_count": 73,
     "metadata": {},
     "output_type": "execute_result"
    }
   ],
   "source": [
    "clusters_pca_tfidf"
   ]
  },
  {
   "cell_type": "code",
   "execution_count": 78,
   "metadata": {},
   "outputs": [
    {
     "data": {
      "text/plain": [
       "array([[ 0.20349993,  0.05548504],\n",
       "       [ 0.21157439,  0.06688828],\n",
       "       [ 0.20939505,  0.03296025],\n",
       "       [ 0.11706569,  0.23414053],\n",
       "       [ 0.08616315,  0.2649957 ],\n",
       "       [-0.20278472,  0.58708559],\n",
       "       [-0.20874408,  0.52101432],\n",
       "       [-0.21275474,  0.60146383],\n",
       "       [-0.5510365 , -0.45152148],\n",
       "       [-0.37422994, -0.26291803],\n",
       "       [-0.44995695, -0.37032732],\n",
       "       [-0.51034492, -0.44571187],\n",
       "       [ 0.57674518, -0.29472271],\n",
       "       [ 0.53693851, -0.25950262],\n",
       "       [ 0.56846995, -0.27932951]])"
      ]
     },
     "execution_count": 78,
     "metadata": {},
     "output_type": "execute_result"
    }
   ],
   "source": [
    "pca_results_tfidf "
   ]
  },
  {
   "cell_type": "code",
   "execution_count": 74,
   "metadata": {},
   "outputs": [],
   "source": [
    "import pandas as pd"
   ]
  },
  {
   "cell_type": "code",
   "execution_count": 79,
   "metadata": {},
   "outputs": [],
   "source": [
    "data = pd.DataFrame(pca_results_tfidf, columns=['x1', 'x2'])"
   ]
  },
  {
   "cell_type": "code",
   "execution_count": 80,
   "metadata": {},
   "outputs": [],
   "source": [
    "data['cluster_id']=clusters_pca_tfidf.tolist()"
   ]
  },
  {
   "cell_type": "code",
   "execution_count": 82,
   "metadata": {},
   "outputs": [
    {
     "data": {
      "text/html": [
       "<div>\n",
       "<style scoped>\n",
       "    .dataframe tbody tr th:only-of-type {\n",
       "        vertical-align: middle;\n",
       "    }\n",
       "\n",
       "    .dataframe tbody tr th {\n",
       "        vertical-align: top;\n",
       "    }\n",
       "\n",
       "    .dataframe thead th {\n",
       "        text-align: right;\n",
       "    }\n",
       "</style>\n",
       "<table border=\"1\" class=\"dataframe\">\n",
       "  <thead>\n",
       "    <tr style=\"text-align: right;\">\n",
       "      <th></th>\n",
       "      <th>x1</th>\n",
       "      <th>x2</th>\n",
       "      <th>cluster_id</th>\n",
       "    </tr>\n",
       "  </thead>\n",
       "  <tbody>\n",
       "    <tr>\n",
       "      <th>0</th>\n",
       "      <td>0.203500</td>\n",
       "      <td>0.055485</td>\n",
       "      <td>3</td>\n",
       "    </tr>\n",
       "    <tr>\n",
       "      <th>1</th>\n",
       "      <td>0.211574</td>\n",
       "      <td>0.066888</td>\n",
       "      <td>3</td>\n",
       "    </tr>\n",
       "    <tr>\n",
       "      <th>2</th>\n",
       "      <td>0.209395</td>\n",
       "      <td>0.032960</td>\n",
       "      <td>3</td>\n",
       "    </tr>\n",
       "  </tbody>\n",
       "</table>\n",
       "</div>"
      ],
      "text/plain": [
       "         x1        x2  cluster_id\n",
       "0  0.203500  0.055485           3\n",
       "1  0.211574  0.066888           3\n",
       "2  0.209395  0.032960           3"
      ]
     },
     "execution_count": 82,
     "metadata": {},
     "output_type": "execute_result"
    }
   ],
   "source": [
    "data.head(3)"
   ]
  },
  {
   "cell_type": "code",
   "execution_count": 83,
   "metadata": {},
   "outputs": [],
   "source": [
    "import seaborn as sns\n",
    "import matplotlib.pyplot as plt"
   ]
  },
  {
   "cell_type": "code",
   "execution_count": 84,
   "metadata": {},
   "outputs": [
    {
     "data": {
      "image/png": "[encoded data removed]",
      "text/plain": [
       "<Figure size 416.375x360 with 1 Axes>"
      ]
     },
     "metadata": {
      "needs_background": "light"
     },
     "output_type": "display_data"
    }
   ],
   "source": [
    "sns.lmplot(x='x1', y='x2', data=data, hue='cluster_id',fit_reg=False )\n",
    "plt.show()"
   ]
  }
 ],
 "metadata": {
  "kernelspec": {
   "display_name": "Python 3 (ipykernel)",
   "language": "python",
   "name": "python3"
  },
  "language_info": {
   "codemirror_mode": {
    "name": "ipython",
    "version": 3
   },
   "file_extension": ".py",
   "mimetype": "text/x-python",
   "name": "python",
   "nbconvert_exporter": "python",
   "pygments_lexer": "ipython3",
   "version": "3.8.5"
  }
 },
 "nbformat": 4,
 "nbformat_minor": 2
}
