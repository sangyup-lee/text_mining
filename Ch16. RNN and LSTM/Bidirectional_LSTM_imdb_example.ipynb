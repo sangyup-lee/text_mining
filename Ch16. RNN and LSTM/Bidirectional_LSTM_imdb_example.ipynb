{
 "cells": [
  {
   "cell_type": "code",
   "execution_count": 1,
   "metadata": {},
   "outputs": [],
   "source": [
    "import numpy as np\n",
    "from tensorflow import keras\n",
    "\n",
    "max_features = 10000  # Only consider the top 20k words\n",
    "maxlen = 500  # Only consider the first 500 words of each movie review"
   ]
  },
  {
   "cell_type": "code",
   "execution_count": 2,
   "metadata": {},
   "outputs": [],
   "source": [
    "(x_train, y_train), (x_test, y_test) = keras.datasets.imdb.load_data(num_words=max_features)\n",
    "x_train = keras.preprocessing.sequence.pad_sequences(x_train, maxlen=maxlen)\n",
    "x_test = keras.preprocessing.sequence.pad_sequences(x_test, maxlen=maxlen)"
   ]
  },
  {
   "cell_type": "code",
   "execution_count": 3,
   "metadata": {},
   "outputs": [],
   "source": [
    "from tensorflow.keras.utils import to_categorical\n",
    "y_train_one_hot = to_categorical(y_train)\n",
    "y_test_one_hot = to_categorical(y_test)"
   ]
  },
  {
   "cell_type": "code",
   "execution_count": 4,
   "metadata": {},
   "outputs": [],
   "source": [
    "from tensorflow.keras import layers\n",
    "from tensorflow.keras import models"
   ]
  },
  {
   "cell_type": "code",
   "execution_count": 5,
   "metadata": {},
   "outputs": [
    {
     "name": "stdout",
     "output_type": "stream",
     "text": [
      "Model: \"sequential\"\n",
      "_________________________________________________________________\n",
      " Layer (type)                Output Shape              Param #   \n",
      "=================================================================\n",
      " embedding (Embedding)       (None, 500, 128)          1280000   \n",
      "                                                                 \n",
      " bidirectional (Bidirectiona  (None, 128)              98816     \n",
      " l)                                                              \n",
      "                                                                 \n",
      " dense (Dense)               (None, 2)                 258       \n",
      "                                                                 \n",
      "=================================================================\n",
      "Total params: 1,379,074\n",
      "Trainable params: 1,379,074\n",
      "Non-trainable params: 0\n",
      "_________________________________________________________________\n"
     ]
    }
   ],
   "source": [
    "model = models.Sequential()\n",
    "model.add(layers.Embedding(max_features, 128, input_length=maxlen))\n",
    "model.add(layers.Bidirectional(layers.LSTM(64), merge_mode='concat'))\n",
    "model.add(layers.Dense(2, activation = 'softmax'))\n",
    "model.summary()"
   ]
  },
  {
   "cell_type": "code",
   "execution_count": 6,
   "metadata": {},
   "outputs": [],
   "source": [
    "from tensorflow.keras.callbacks import EarlyStopping\n",
    "from tensorflow.keras.callbacks import ModelCheckpoint"
   ]
  },
  {
   "cell_type": "code",
   "execution_count": 7,
   "metadata": {},
   "outputs": [],
   "source": [
    "es = EarlyStopping(monitor='val_loss', mode='min', verbose=1, patience=5)\n",
    "checkpoint_filepath = './temp/checkpoint_bi_lstm_en'\n",
    "mc = ModelCheckpoint(checkpoint_filepath, monitor='val_loss', mode='min', \n",
    "                     save_weights_only=True, save_best_only=True)"
   ]
  },
  {
   "cell_type": "code",
   "execution_count": 8,
   "metadata": {},
   "outputs": [],
   "source": [
    "from tensorflow.keras.optimizers import RMSprop\n",
    "model.compile(optimizer=RMSprop(learning_rate=0.0005), loss='binary_crossentropy', metrics='accuracy')"
   ]
  },
  {
   "cell_type": "code",
   "execution_count": 9,
   "metadata": {},
   "outputs": [
    {
     "name": "stdout",
     "output_type": "stream",
     "text": [
      "Epoch 1/20\n",
      "176/176 [==============================] - 469s 3s/step - loss: 0.5001 - accuracy: 0.7651 - val_loss: 0.3752 - val_accuracy: 0.8464\n",
      "Epoch 2/20\n",
      "176/176 [==============================] - 488s 3s/step - loss: 0.2862 - accuracy: 0.8912 - val_loss: 0.2756 - val_accuracy: 0.8900\n",
      "Epoch 3/20\n",
      "176/176 [==============================] - 496s 3s/step - loss: 0.2241 - accuracy: 0.9158 - val_loss: 0.2755 - val_accuracy: 0.8872\n",
      "Epoch 4/20\n",
      "176/176 [==============================] - 493s 3s/step - loss: 0.1953 - accuracy: 0.9299 - val_loss: 0.2923 - val_accuracy: 0.8828\n",
      "Epoch 5/20\n",
      "176/176 [==============================] - 492s 3s/step - loss: 0.1729 - accuracy: 0.9381 - val_loss: 0.2878 - val_accuracy: 0.8920\n",
      "Epoch 6/20\n",
      "176/176 [==============================] - 491s 3s/step - loss: 0.1580 - accuracy: 0.9435 - val_loss: 0.3256 - val_accuracy: 0.8500\n",
      "Epoch 7/20\n",
      "176/176 [==============================] - 486s 3s/step - loss: 0.1403 - accuracy: 0.9496 - val_loss: 0.4914 - val_accuracy: 0.8636\n",
      "Epoch 8/20\n",
      "176/176 [==============================] - 689s 4s/step - loss: 0.1307 - accuracy: 0.9542 - val_loss: 0.3336 - val_accuracy: 0.8892\n",
      "Epoch 8: early stopping\n"
     ]
    }
   ],
   "source": [
    "history=model.fit(x_train, y_train_one_hot, epochs=20, batch_size=128, validation_split=0.1, callbacks=[es, mc])"
   ]
  },
  {
   "cell_type": "code",
   "execution_count": 10,
   "metadata": {},
   "outputs": [
    {
     "name": "stdout",
     "output_type": "stream",
     "text": [
      "782/782 [==============================] - 44s 56ms/step - loss: 0.3731 - accuracy: 0.8690\n"
     ]
    },
    {
     "data": {
      "text/plain": [
       "[0.37307679653167725, 0.8690400123596191]"
      ]
     },
     "execution_count": 10,
     "metadata": {},
     "output_type": "execute_result"
    }
   ],
   "source": [
    "model.evaluate(x_test, y_test_one_hot)"
   ]
  },
  {
   "cell_type": "markdown",
   "metadata": {},
   "source": [
    "아래와 같이 stacked bidirectional LSTM을 구현할 수 있다. <br>\n",
    "이때, return_sequences=True로 설정해야 한다. "
   ]
  },
  {
   "cell_type": "code",
   "execution_count": 9,
   "metadata": {},
   "outputs": [
    {
     "name": "stdout",
     "output_type": "stream",
     "text": [
      "Model: \"sequential_1\"\n",
      "_________________________________________________________________\n",
      "Layer (type)                 Output Shape              Param #   \n",
      "=================================================================\n",
      "embedding_1 (Embedding)      (None, 200, 128)          2560000   \n",
      "_________________________________________________________________\n",
      "bidirectional_1 (Bidirection (None, 200, 128)          98816     \n",
      "_________________________________________________________________\n",
      "bidirectional_2 (Bidirection (None, 128)               98816     \n",
      "_________________________________________________________________\n",
      "dense_1 (Dense)              (None, 2)                 258       \n",
      "=================================================================\n",
      "Total params: 2,757,890\n",
      "Trainable params: 2,757,890\n",
      "Non-trainable params: 0\n",
      "_________________________________________________________________\n"
     ]
    }
   ],
   "source": [
    "model1 = models.Sequential()\n",
    "model1.add(layers.Embedding(max_features, 128, input_length=maxlen))\n",
    "model1.add(layers.Bidirectional(layers.LSTM(64, return_sequences=True)))\n",
    "model1.add(layers.Bidirectional(layers.LSTM(64)))\n",
    "model1.add(layers.Dense(2, activation = 'softmax'))\n",
    "model1.summary()"
   ]
  },
  {
   "cell_type": "code",
   "execution_count": 10,
   "metadata": {},
   "outputs": [
    {
     "name": "stdout",
     "output_type": "stream",
     "text": [
      "Epoch 1/2\n",
      "782/782 [==============================] - 47s 61ms/step - loss: 0.3833 - accuracy: 0.8268 - val_loss: 0.3378 - val_accuracy: 0.8618\n",
      "Epoch 2/2\n",
      "782/782 [==============================] - 46s 59ms/step - loss: 0.2087 - accuracy: 0.9218 - val_loss: 0.3562 - val_accuracy: 0.8607\n"
     ]
    },
    {
     "data": {
      "text/plain": [
       "<tensorflow.python.keras.callbacks.History at 0x268a5ef54f0>"
      ]
     },
     "execution_count": 10,
     "metadata": {},
     "output_type": "execute_result"
    }
   ],
   "source": [
    "model1.compile(\"adam\", \"binary_crossentropy\", metrics=[\"accuracy\"])\n",
    "model1.fit(x_train, y_train_one_hot, batch_size=32, epochs=2, validation_split=0.2)"
   ]
  },
  {
   "cell_type": "code",
   "execution_count": 11,
   "metadata": {},
   "outputs": [
    {
     "name": "stdout",
     "output_type": "stream",
     "text": [
      "782/782 [==============================] - 11s 14ms/step - loss: 0.3562 - accuracy: 0.8607\n"
     ]
    },
    {
     "data": {
      "text/plain": [
       "[0.3561634421348572, 0.8607199788093567]"
      ]
     },
     "execution_count": 11,
     "metadata": {},
     "output_type": "execute_result"
    }
   ],
   "source": [
    "model1.evaluate(x_test, y_test_one_hot)"
   ]
  },
  {
   "cell_type": "code",
   "execution_count": null,
   "metadata": {},
   "outputs": [],
   "source": []
  }
 ],
 "metadata": {
  "kernelspec": {
   "display_name": "Python 3",
   "language": "python",
   "name": "python3"
  },
  "language_info": {
   "codemirror_mode": {
    "name": "ipython",
    "version": 3
   },
   "file_extension": ".py",
   "mimetype": "text/x-python",
   "name": "python",
   "nbconvert_exporter": "python",
   "pygments_lexer": "ipython3",
   "version": "3.8.8"
  }
 },
 "nbformat": 4,
 "nbformat_minor": 2
}
