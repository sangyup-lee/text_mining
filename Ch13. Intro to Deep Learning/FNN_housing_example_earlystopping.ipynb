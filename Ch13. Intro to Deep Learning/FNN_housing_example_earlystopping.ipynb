{
 "cells": [
  {
   "cell_type": "code",
   "execution_count": 1,
   "metadata": {},
   "outputs": [],
   "source": [
    "import tensorflow as tf\n",
    "from tensorflow import keras\n",
    "(train_data, train_targets), (test_data, test_targets) =keras.datasets.boston_housing.load_data()"
   ]
  },
  {
   "cell_type": "code",
   "execution_count": 2,
   "metadata": {},
   "outputs": [],
   "source": [
    "mean = train_data.mean(axis=0)\n",
    "train_data -= mean\n",
    "std = train_data.std(axis=0)\n",
    "train_data /= std"
   ]
  },
  {
   "cell_type": "code",
   "execution_count": 3,
   "metadata": {},
   "outputs": [],
   "source": [
    "test_data -= mean\n",
    "test_data /= std"
   ]
  },
  {
   "cell_type": "markdown",
   "metadata": {},
   "source": [
    "데이터 표준화하기"
   ]
  },
  {
   "cell_type": "code",
   "execution_count": 4,
   "metadata": {},
   "outputs": [],
   "source": [
    "from tensorflow.keras import models\n",
    "from tensorflow.keras import layers\n",
    "from tensorflow.keras import regularizers"
   ]
  },
  {
   "cell_type": "code",
   "execution_count": 24,
   "metadata": {},
   "outputs": [],
   "source": [
    "model = models.Sequential()\n",
    "# Regularizer 더하기\n",
    "# https://keras.io/api/layers/regularizers/\n",
    "model.add(layers.Dense(64, activation = 'relu', kernel_regularizer=regularizers.l2(0.1), input_shape=(train_data.shape[1],)))\n",
    "model.add(layers.Dense(64, activation = 'relu'))\n",
    "model.add(layers.Dense(1))"
   ]
  },
  {
   "cell_type": "code",
   "execution_count": 25,
   "metadata": {},
   "outputs": [
    {
     "name": "stdout",
     "output_type": "stream",
     "text": [
      "Model: \"sequential_1\"\n",
      "_________________________________________________________________\n",
      " Layer (type)                Output Shape              Param #   \n",
      "=================================================================\n",
      " dense_3 (Dense)             (None, 64)                896       \n",
      "                                                                 \n",
      " dense_4 (Dense)             (None, 64)                4160      \n",
      "                                                                 \n",
      " dense_5 (Dense)             (None, 1)                 65        \n",
      "                                                                 \n",
      "=================================================================\n",
      "Total params: 5,121\n",
      "Trainable params: 5,121\n",
      "Non-trainable params: 0\n",
      "_________________________________________________________________\n"
     ]
    }
   ],
   "source": [
    "model.summary()"
   ]
  },
  {
   "cell_type": "code",
   "execution_count": 26,
   "metadata": {},
   "outputs": [],
   "source": [
    "from tensorflow.keras.callbacks import EarlyStopping\n",
    "from tensorflow.keras.callbacks import ModelCheckpoint"
   ]
  },
  {
   "cell_type": "code",
   "execution_count": 27,
   "metadata": {},
   "outputs": [],
   "source": [
    "es = EarlyStopping(monitor='val_loss', mode='min', verbose=1, patience=10)\n",
    "checkpoint_filepath = './temp/checkpoint'\n",
    "mc = ModelCheckpoint(checkpoint_filepath, monitor='val_loss', mode='min', \n",
    "                     save_weights_only=True, save_best_only=True)"
   ]
  },
  {
   "cell_type": "code",
   "execution_count": 28,
   "metadata": {},
   "outputs": [],
   "source": [
    "adam = tf.keras.optimizers.Adam(learning_rate=0.1)"
   ]
  },
  {
   "cell_type": "code",
   "execution_count": 29,
   "metadata": {},
   "outputs": [],
   "source": [
    "model.compile(optimizer=adam, loss='mse')"
   ]
  },
  {
   "cell_type": "code",
   "execution_count": 30,
   "metadata": {
    "scrolled": true
   },
   "outputs": [
    {
     "name": "stdout",
     "output_type": "stream",
     "text": [
      "Epoch 1/200\n",
      "11/11 [==============================] - 0s 16ms/step - loss: 431.6947 - val_loss: 335.9711\n",
      "Epoch 2/200\n",
      "11/11 [==============================] - 0s 8ms/step - loss: 148.7997 - val_loss: 54.4624\n",
      "Epoch 3/200\n",
      "11/11 [==============================] - 0s 7ms/step - loss: 78.8681 - val_loss: 52.8306\n",
      "Epoch 4/200\n",
      "11/11 [==============================] - 0s 8ms/step - loss: 54.8687 - val_loss: 51.4357\n",
      "Epoch 5/200\n",
      "11/11 [==============================] - 0s 4ms/step - loss: 44.8712 - val_loss: 55.9093\n",
      "Epoch 6/200\n",
      "11/11 [==============================] - 0s 6ms/step - loss: 49.7229 - val_loss: 42.0547\n",
      "Epoch 7/200\n",
      "11/11 [==============================] - 0s 6ms/step - loss: 30.9000 - val_loss: 30.4508\n",
      "Epoch 8/200\n",
      "11/11 [==============================] - 0s 3ms/step - loss: 24.6249 - val_loss: 31.0905\n",
      "Epoch 9/200\n",
      "11/11 [==============================] - 0s 4ms/step - loss: 24.6837 - val_loss: 35.2778\n",
      "Epoch 10/200\n",
      "11/11 [==============================] - 0s 7ms/step - loss: 22.2286 - val_loss: 25.5606\n",
      "Epoch 11/200\n",
      "11/11 [==============================] - 0s 6ms/step - loss: 18.0685 - val_loss: 20.2235\n",
      "Epoch 12/200\n",
      "11/11 [==============================] - 0s 3ms/step - loss: 15.9253 - val_loss: 27.5647\n",
      "Epoch 13/200\n",
      "11/11 [==============================] - 0s 3ms/step - loss: 24.3548 - val_loss: 23.5789\n",
      "Epoch 14/200\n",
      "11/11 [==============================] - 0s 4ms/step - loss: 20.6991 - val_loss: 22.4278\n",
      "Epoch 15/200\n",
      "11/11 [==============================] - 0s 3ms/step - loss: 16.9701 - val_loss: 20.2700\n",
      "Epoch 16/200\n",
      "11/11 [==============================] - 0s 6ms/step - loss: 14.0021 - val_loss: 19.5634\n",
      "Epoch 17/200\n",
      "11/11 [==============================] - 0s 6ms/step - loss: 14.7140 - val_loss: 19.4809\n",
      "Epoch 18/200\n",
      "11/11 [==============================] - 0s 3ms/step - loss: 15.4196 - val_loss: 23.8492\n",
      "Epoch 19/200\n",
      "11/11 [==============================] - 0s 5ms/step - loss: 15.7502 - val_loss: 18.6455\n",
      "Epoch 20/200\n",
      "11/11 [==============================] - 0s 6ms/step - loss: 13.9072 - val_loss: 17.8848\n",
      "Epoch 21/200\n",
      "11/11 [==============================] - 0s 11ms/step - loss: 14.9319 - val_loss: 16.6712\n",
      "Epoch 22/200\n",
      "11/11 [==============================] - 0s 9ms/step - loss: 15.2807 - val_loss: 13.7122\n",
      "Epoch 23/200\n",
      "11/11 [==============================] - 0s 6ms/step - loss: 15.4917 - val_loss: 19.1382\n",
      "Epoch 24/200\n",
      "11/11 [==============================] - 0s 5ms/step - loss: 15.6318 - val_loss: 18.1298\n",
      "Epoch 25/200\n",
      "11/11 [==============================] - 0s 4ms/step - loss: 14.6556 - val_loss: 19.5089\n",
      "Epoch 26/200\n",
      "11/11 [==============================] - 0s 6ms/step - loss: 15.2783 - val_loss: 16.6135\n",
      "Epoch 27/200\n",
      "11/11 [==============================] - 0s 9ms/step - loss: 15.0740 - val_loss: 19.1908\n",
      "Epoch 28/200\n",
      "11/11 [==============================] - 0s 4ms/step - loss: 14.5596 - val_loss: 21.4424\n",
      "Epoch 29/200\n",
      "11/11 [==============================] - 0s 4ms/step - loss: 13.0496 - val_loss: 14.2721\n",
      "Epoch 30/200\n",
      "11/11 [==============================] - 0s 4ms/step - loss: 13.7329 - val_loss: 20.2162\n",
      "Epoch 31/200\n",
      "11/11 [==============================] - 0s 4ms/step - loss: 19.8959 - val_loss: 15.1896\n",
      "Epoch 32/200\n",
      "11/11 [==============================] - 0s 4ms/step - loss: 18.2172 - val_loss: 14.8815\n",
      "Epoch 32: early stopping\n"
     ]
    }
   ],
   "source": [
    "history = model.fit(train_data, train_targets, validation_split=0.2, epochs=200, batch_size=32, callbacks=[es, mc])"
   ]
  },
  {
   "cell_type": "code",
   "execution_count": 31,
   "metadata": {},
   "outputs": [
    {
     "data": {
      "image/png": "[encoded data removed]",
      "text/plain": [
       "<Figure size 432x288 with 1 Axes>"
      ]
     },
     "metadata": {
      "needs_background": "light"
     },
     "output_type": "display_data"
    }
   ],
   "source": [
    "from matplotlib import pyplot\n",
    "pyplot.plot(history.history['loss'], label='train')\n",
    "pyplot.plot(history.history['val_loss'], label='validation')\n",
    "pyplot.legend()\n",
    "pyplot.show()"
   ]
  },
  {
   "cell_type": "code",
   "execution_count": 32,
   "metadata": {},
   "outputs": [
    {
     "data": {
      "text/plain": [
       "<tensorflow.python.training.tracking.util.CheckpointLoadStatus at 0x29c3ef9ec40>"
      ]
     },
     "execution_count": 32,
     "metadata": {},
     "output_type": "execute_result"
    }
   ],
   "source": [
    "model.load_weights(checkpoint_filepath)"
   ]
  },
  {
   "cell_type": "code",
   "execution_count": 33,
   "metadata": {},
   "outputs": [
    {
     "name": "stdout",
     "output_type": "stream",
     "text": [
      "4/4 [==============================] - 0s 998us/step\n"
     ]
    }
   ],
   "source": [
    "y_pred = model.predict(test_data)"
   ]
  },
  {
   "cell_type": "code",
   "execution_count": 34,
   "metadata": {},
   "outputs": [
    {
     "data": {
      "text/plain": [
       "0.8404199238469278"
      ]
     },
     "execution_count": 34,
     "metadata": {},
     "output_type": "execute_result"
    }
   ],
   "source": [
    "from sklearn.metrics import r2_score\n",
    "r2_score(test_targets, y_pred)"
   ]
  },
  {
   "cell_type": "code",
   "execution_count": 35,
   "metadata": {},
   "outputs": [
    {
     "data": {
      "text/plain": [
       "3.6447303996406246"
      ]
     },
     "execution_count": 35,
     "metadata": {},
     "output_type": "execute_result"
    }
   ],
   "source": [
    "from sklearn.metrics import mean_squared_error\n",
    "mean_squared_error(test_targets, y_pred)**0.5"
   ]
  },
  {
   "cell_type": "code",
   "execution_count": null,
   "metadata": {},
   "outputs": [],
   "source": []
  }
 ],
 "metadata": {
  "kernelspec": {
   "display_name": "Python 3 (ipykernel)",
   "language": "python",
   "name": "python3"
  },
  "language_info": {
   "codemirror_mode": {
    "name": "ipython",
    "version": 3
   },
   "file_extension": ".py",
   "mimetype": "text/x-python",
   "name": "python",
   "nbconvert_exporter": "python",
   "pygments_lexer": "ipython3",
   "version": "3.8.5"
  }
 },
 "nbformat": 4,
 "nbformat_minor": 2
}
