{
 "cells": [
  {
   "cell_type": "code",
   "execution_count": 1,
   "metadata": {},
   "outputs": [],
   "source": [
    "import tensorflow as tf\n",
    "from tensorflow import keras"
   ]
  },
  {
   "cell_type": "code",
   "execution_count": 2,
   "metadata": {},
   "outputs": [],
   "source": [
    "(train_data, train_targets), (test_data, test_targets) =keras.datasets.boston_housing.load_data()"
   ]
  },
  {
   "cell_type": "code",
   "execution_count": 3,
   "metadata": {},
   "outputs": [],
   "source": [
    "mean = train_data.mean(axis=0)\n",
    "train_data -= mean\n",
    "std = train_data.std(axis=0)\n",
    "train_data /= std\n",
    "test_data -= mean\n",
    "test_data /= std"
   ]
  },
  {
   "cell_type": "code",
   "execution_count": 4,
   "metadata": {},
   "outputs": [],
   "source": [
    "from tensorflow.keras import models\n",
    "from tensorflow.keras import layers"
   ]
  },
  {
   "cell_type": "code",
   "execution_count": 5,
   "metadata": {},
   "outputs": [
    {
     "data": {
      "text/plain": [
       "(404, 13)"
      ]
     },
     "execution_count": 5,
     "metadata": {},
     "output_type": "execute_result"
    }
   ],
   "source": [
    "train_data.shape"
   ]
  },
  {
   "cell_type": "code",
   "execution_count": 6,
   "metadata": {},
   "outputs": [],
   "source": [
    "model = models.Sequential()"
   ]
  },
  {
   "cell_type": "code",
   "execution_count": 7,
   "metadata": {},
   "outputs": [],
   "source": [
    "model.add(layers.Dense(64, activation = 'relu', kernel_initializer = 'glorot_uniform', input_shape=(train_data.shape[1],)))"
   ]
  },
  {
   "cell_type": "code",
   "execution_count": 8,
   "metadata": {},
   "outputs": [],
   "source": [
    "model.add(layers.Dense(64, activation = 'relu', kernel_initializer = 'glorot_uniform'))"
   ]
  },
  {
   "cell_type": "code",
   "execution_count": 9,
   "metadata": {},
   "outputs": [],
   "source": [
    "model.add(layers.Dense(1))"
   ]
  },
  {
   "cell_type": "code",
   "execution_count": 10,
   "metadata": {},
   "outputs": [
    {
     "name": "stdout",
     "output_type": "stream",
     "text": [
      "Model: \"sequential\"\n",
      "_________________________________________________________________\n",
      " Layer (type)                Output Shape              Param #   \n",
      "=================================================================\n",
      " dense (Dense)               (None, 64)                896       \n",
      "                                                                 \n",
      " dense_1 (Dense)             (None, 64)                4160      \n",
      "                                                                 \n",
      " dense_2 (Dense)             (None, 1)                 65        \n",
      "                                                                 \n",
      "=================================================================\n",
      "Total params: 5,121\n",
      "Trainable params: 5,121\n",
      "Non-trainable params: 0\n",
      "_________________________________________________________________\n"
     ]
    }
   ],
   "source": [
    "model.summary()"
   ]
  },
  {
   "cell_type": "markdown",
   "metadata": {},
   "source": [
    "## RMSprop 옵티마이저 사용해 보기"
   ]
  },
  {
   "cell_type": "code",
   "execution_count": 11,
   "metadata": {},
   "outputs": [],
   "source": [
    "rmsprop = tf.keras.optimizers.RMSprop(learning_rate=0.01, rho=0.85, momentum=0.9)"
   ]
  },
  {
   "cell_type": "code",
   "execution_count": 12,
   "metadata": {},
   "outputs": [],
   "source": [
    "model.compile(optimizer=rmsprop, loss='mse')"
   ]
  },
  {
   "cell_type": "code",
   "execution_count": 13,
   "metadata": {
    "scrolled": true
   },
   "outputs": [
    {
     "name": "stdout",
     "output_type": "stream",
     "text": [
      "Epoch 1/80\n",
      "7/7 [==============================] - 1s 2ms/step - loss: 693.3901\n",
      "Epoch 2/80\n",
      "7/7 [==============================] - 0s 2ms/step - loss: 168.6300\n",
      "Epoch 3/80\n",
      "7/7 [==============================] - 0s 2ms/step - loss: 107.0129\n",
      "Epoch 4/80\n",
      "7/7 [==============================] - 0s 2ms/step - loss: 64.1973\n",
      "Epoch 5/80\n",
      "7/7 [==============================] - 0s 2ms/step - loss: 32.2072\n",
      "Epoch 6/80\n",
      "7/7 [==============================] - 0s 2ms/step - loss: 20.7896\n",
      "Epoch 7/80\n",
      "7/7 [==============================] - 0s 2ms/step - loss: 16.7152\n",
      "Epoch 8/80\n",
      "7/7 [==============================] - 0s 2ms/step - loss: 14.0595\n",
      "Epoch 9/80\n",
      "7/7 [==============================] - 0s 2ms/step - loss: 14.5198\n",
      "Epoch 10/80\n",
      "7/7 [==============================] - 0s 5ms/step - loss: 13.1433\n",
      "Epoch 11/80\n",
      "7/7 [==============================] - 0s 4ms/step - loss: 12.2291\n",
      "Epoch 12/80\n",
      "7/7 [==============================] - 0s 4ms/step - loss: 14.4463\n",
      "Epoch 13/80\n",
      "7/7 [==============================] - 0s 4ms/step - loss: 12.2971\n",
      "Epoch 14/80\n",
      "7/7 [==============================] - 0s 4ms/step - loss: 11.7305\n",
      "Epoch 15/80\n",
      "7/7 [==============================] - 0s 4ms/step - loss: 9.1815\n",
      "Epoch 16/80\n",
      "7/7 [==============================] - 0s 3ms/step - loss: 15.0659\n",
      "Epoch 17/80\n",
      "7/7 [==============================] - 0s 3ms/step - loss: 14.1962\n",
      "Epoch 18/80\n",
      "7/7 [==============================] - 0s 4ms/step - loss: 9.0654\n",
      "Epoch 19/80\n",
      "7/7 [==============================] - 0s 3ms/step - loss: 11.4799\n",
      "Epoch 20/80\n",
      "7/7 [==============================] - 0s 2ms/step - loss: 13.1408\n",
      "Epoch 21/80\n",
      "7/7 [==============================] - 0s 2ms/step - loss: 12.0042\n",
      "Epoch 22/80\n",
      "7/7 [==============================] - 0s 3ms/step - loss: 12.8226\n",
      "Epoch 23/80\n",
      "7/7 [==============================] - 0s 4ms/step - loss: 10.4850\n",
      "Epoch 24/80\n",
      "7/7 [==============================] - 0s 4ms/step - loss: 9.8325\n",
      "Epoch 25/80\n",
      "7/7 [==============================] - 0s 3ms/step - loss: 12.0327\n",
      "Epoch 26/80\n",
      "7/7 [==============================] - 0s 3ms/step - loss: 14.4641\n",
      "Epoch 27/80\n",
      "7/7 [==============================] - 0s 3ms/step - loss: 11.4049\n",
      "Epoch 28/80\n",
      "7/7 [==============================] - 0s 2ms/step - loss: 8.9737\n",
      "Epoch 29/80\n",
      "7/7 [==============================] - 0s 2ms/step - loss: 9.0470\n",
      "Epoch 30/80\n",
      "7/7 [==============================] - 0s 2ms/step - loss: 10.1554\n",
      "Epoch 31/80\n",
      "7/7 [==============================] - 0s 2ms/step - loss: 8.8171\n",
      "Epoch 32/80\n",
      "7/7 [==============================] - 0s 2ms/step - loss: 6.0058\n",
      "Epoch 33/80\n",
      "7/7 [==============================] - 0s 2ms/step - loss: 6.0779\n",
      "Epoch 34/80\n",
      "7/7 [==============================] - 0s 3ms/step - loss: 5.8617\n",
      "Epoch 35/80\n",
      "7/7 [==============================] - 0s 5ms/step - loss: 6.8896\n",
      "Epoch 36/80\n",
      "7/7 [==============================] - 0s 3ms/step - loss: 8.8752\n",
      "Epoch 37/80\n",
      "7/7 [==============================] - 0s 3ms/step - loss: 10.5855\n",
      "Epoch 38/80\n",
      "7/7 [==============================] - 0s 2ms/step - loss: 7.7189\n",
      "Epoch 39/80\n",
      "7/7 [==============================] - 0s 2ms/step - loss: 6.3967\n",
      "Epoch 40/80\n",
      "7/7 [==============================] - 0s 2ms/step - loss: 9.2467\n",
      "Epoch 41/80\n",
      "7/7 [==============================] - 0s 2ms/step - loss: 8.7097\n",
      "Epoch 42/80\n",
      "7/7 [==============================] - 0s 2ms/step - loss: 7.7829\n",
      "Epoch 43/80\n",
      "7/7 [==============================] - 0s 3ms/step - loss: 5.9661\n",
      "Epoch 44/80\n",
      "7/7 [==============================] - 0s 3ms/step - loss: 5.1345\n",
      "Epoch 45/80\n",
      "7/7 [==============================] - 0s 2ms/step - loss: 6.5097\n",
      "Epoch 46/80\n",
      "7/7 [==============================] - 0s 3ms/step - loss: 6.1056\n",
      "Epoch 47/80\n",
      "7/7 [==============================] - 0s 2ms/step - loss: 7.5529\n",
      "Epoch 48/80\n",
      "7/7 [==============================] - 0s 2ms/step - loss: 6.6574\n",
      "Epoch 49/80\n",
      "7/7 [==============================] - 0s 2ms/step - loss: 5.6993\n",
      "Epoch 50/80\n",
      "7/7 [==============================] - 0s 2ms/step - loss: 5.0091\n",
      "Epoch 51/80\n",
      "7/7 [==============================] - 0s 2ms/step - loss: 5.9064\n",
      "Epoch 52/80\n",
      "7/7 [==============================] - 0s 2ms/step - loss: 8.8460\n",
      "Epoch 53/80\n",
      "7/7 [==============================] - 0s 2ms/step - loss: 10.6342\n",
      "Epoch 54/80\n",
      "7/7 [==============================] - 0s 2ms/step - loss: 6.3785\n",
      "Epoch 55/80\n",
      "7/7 [==============================] - 0s 2ms/step - loss: 6.2527\n",
      "Epoch 56/80\n",
      "7/7 [==============================] - 0s 3ms/step - loss: 5.3398\n",
      "Epoch 57/80\n",
      "7/7 [==============================] - 0s 4ms/step - loss: 8.3518\n",
      "Epoch 58/80\n",
      "7/7 [==============================] - 0s 2ms/step - loss: 9.4965\n",
      "Epoch 59/80\n",
      "7/7 [==============================] - 0s 2ms/step - loss: 5.5885\n",
      "Epoch 60/80\n",
      "7/7 [==============================] - 0s 2ms/step - loss: 6.0828\n",
      "Epoch 61/80\n",
      "7/7 [==============================] - 0s 2ms/step - loss: 5.3197\n",
      "Epoch 62/80\n",
      "7/7 [==============================] - 0s 4ms/step - loss: 4.2536\n",
      "Epoch 63/80\n",
      "7/7 [==============================] - 0s 3ms/step - loss: 4.4138\n",
      "Epoch 64/80\n",
      "7/7 [==============================] - 0s 4ms/step - loss: 5.2881\n",
      "Epoch 65/80\n",
      "7/7 [==============================] - 0s 3ms/step - loss: 5.0875\n",
      "Epoch 66/80\n",
      "7/7 [==============================] - 0s 2ms/step - loss: 6.7206\n",
      "Epoch 67/80\n",
      "7/7 [==============================] - 0s 2ms/step - loss: 9.3253\n",
      "Epoch 68/80\n",
      "7/7 [==============================] - 0s 1ms/step - loss: 12.9640\n",
      "Epoch 69/80\n",
      "7/7 [==============================] - 0s 2ms/step - loss: 11.4114\n",
      "Epoch 70/80\n",
      "7/7 [==============================] - 0s 2ms/step - loss: 6.0079\n",
      "Epoch 71/80\n",
      "7/7 [==============================] - 0s 2ms/step - loss: 4.7465\n",
      "Epoch 72/80\n",
      "7/7 [==============================] - 0s 4ms/step - loss: 5.4960\n",
      "Epoch 73/80\n",
      "7/7 [==============================] - 0s 3ms/step - loss: 5.0674\n",
      "Epoch 74/80\n",
      "7/7 [==============================] - 0s 3ms/step - loss: 4.9532\n",
      "Epoch 75/80\n",
      "7/7 [==============================] - 0s 2ms/step - loss: 5.1929\n",
      "Epoch 76/80\n",
      "7/7 [==============================] - 0s 3ms/step - loss: 4.0458\n",
      "Epoch 77/80\n",
      "7/7 [==============================] - 0s 3ms/step - loss: 6.1232\n",
      "Epoch 78/80\n",
      "7/7 [==============================] - 0s 3ms/step - loss: 5.6957\n",
      "Epoch 79/80\n",
      "7/7 [==============================] - 0s 3ms/step - loss: 6.3856\n",
      "Epoch 80/80\n",
      "7/7 [==============================] - 0s 3ms/step - loss: 5.0073\n"
     ]
    }
   ],
   "source": [
    "# model.fit(train_data, train_targets, epochs=80, batch_size=16)\n",
    "history = model.fit(train_data, train_targets, epochs=80, batch_size=64)"
   ]
  },
  {
   "cell_type": "markdown",
   "metadata": {},
   "source": [
    "## Loss 값 변화 살펴보기"
   ]
  },
  {
   "cell_type": "code",
   "execution_count": 14,
   "metadata": {},
   "outputs": [],
   "source": [
    "import matplotlib.pyplot as plt"
   ]
  },
  {
   "cell_type": "code",
   "execution_count": 15,
   "metadata": {},
   "outputs": [
    {
     "data": {
      "image/png": "[encoded data removed]",
      "text/plain": [
       "<Figure size 432x288 with 1 Axes>"
      ]
     },
     "metadata": {
      "needs_background": "light"
     },
     "output_type": "display_data"
    }
   ],
   "source": [
    "plt.plot(history.history['loss'])\n",
    "plt.xlabel('epoch')\n",
    "plt.ylabel('loss')\n",
    "plt.legend(['train'])\n",
    "plt.show()"
   ]
  },
  {
   "cell_type": "markdown",
   "metadata": {},
   "source": [
    "# 성능 평가하기"
   ]
  },
  {
   "cell_type": "code",
   "execution_count": 18,
   "metadata": {},
   "outputs": [
    {
     "data": {
      "text/plain": [
       "3.769786717474918"
      ]
     },
     "execution_count": 18,
     "metadata": {},
     "output_type": "execute_result"
    }
   ],
   "source": [
    "y_pred = model.predict(test_data)\n",
    "from sklearn.metrics import mean_squared_error\n",
    "mean_squared_error(test_targets, y_pred)**0.5"
   ]
  },
  {
   "cell_type": "code",
   "execution_count": 19,
   "metadata": {},
   "outputs": [
    {
     "data": {
      "text/plain": [
       "0.8292811763517869"
      ]
     },
     "execution_count": 19,
     "metadata": {},
     "output_type": "execute_result"
    }
   ],
   "source": [
    "from sklearn.metrics import r2_score\n",
    "r2_score(test_targets, y_pred)"
   ]
  },
  {
   "cell_type": "code",
   "execution_count": null,
   "metadata": {},
   "outputs": [],
   "source": []
  }
 ],
 "metadata": {
  "kernelspec": {
   "display_name": "Python 3 (ipykernel)",
   "language": "python",
   "name": "python3"
  },
  "language_info": {
   "codemirror_mode": {
    "name": "ipython",
    "version": 3
   },
   "file_extension": ".py",
   "mimetype": "text/x-python",
   "name": "python",
   "nbconvert_exporter": "python",
   "pygments_lexer": "ipython3",
   "version": "3.8.5"
  }
 },
 "nbformat": 4,
 "nbformat_minor": 2
}
