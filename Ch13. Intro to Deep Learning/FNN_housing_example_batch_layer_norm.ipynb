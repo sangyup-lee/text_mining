{
 "cells": [
  {
   "cell_type": "code",
   "execution_count": 1,
   "metadata": {},
   "outputs": [],
   "source": [
    "import tensorflow as tf\n",
    "from tensorflow import keras"
   ]
  },
  {
   "cell_type": "code",
   "execution_count": 2,
   "metadata": {},
   "outputs": [],
   "source": [
    "(train_data, train_targets), (test_data, test_targets) =keras.datasets.boston_housing.load_data()"
   ]
  },
  {
   "cell_type": "code",
   "execution_count": 3,
   "metadata": {},
   "outputs": [],
   "source": [
    "mean = train_data.mean(axis=0)\n",
    "train_data -= mean\n",
    "std = train_data.std(axis=0)\n",
    "train_data /= std\n",
    "test_data -= mean\n",
    "test_data /= std"
   ]
  },
  {
   "cell_type": "code",
   "execution_count": 4,
   "metadata": {},
   "outputs": [],
   "source": [
    "from tensorflow.keras import models\n",
    "from tensorflow.keras import layers"
   ]
  },
  {
   "cell_type": "code",
   "execution_count": 5,
   "metadata": {},
   "outputs": [
    {
     "data": {
      "text/plain": [
       "(404, 13)"
      ]
     },
     "execution_count": 5,
     "metadata": {},
     "output_type": "execute_result"
    }
   ],
   "source": [
    "train_data.shape"
   ]
  },
  {
   "cell_type": "code",
   "execution_count": 6,
   "metadata": {},
   "outputs": [],
   "source": [
    "model = models.Sequential()"
   ]
  },
  {
   "cell_type": "code",
   "execution_count": 7,
   "metadata": {},
   "outputs": [],
   "source": [
    "model.add(layers.Dense(64, activation = 'relu', kernel_initializer = 'glorot_uniform', input_shape=(train_data.shape[1],)))"
   ]
  },
  {
   "cell_type": "code",
   "execution_count": 8,
   "metadata": {},
   "outputs": [],
   "source": [
    "model.add(layers.BatchNormalization())"
   ]
  },
  {
   "cell_type": "code",
   "execution_count": 9,
   "metadata": {},
   "outputs": [],
   "source": [
    "model.add(layers.Dense(64, activation = 'relu', kernel_initializer = 'glorot_uniform'))"
   ]
  },
  {
   "cell_type": "code",
   "execution_count": 10,
   "metadata": {},
   "outputs": [],
   "source": [
    "model.add(layers.LayerNormalization())"
   ]
  },
  {
   "cell_type": "code",
   "execution_count": 11,
   "metadata": {},
   "outputs": [],
   "source": [
    "model.add(layers.Dense(1))"
   ]
  },
  {
   "cell_type": "code",
   "execution_count": 12,
   "metadata": {},
   "outputs": [
    {
     "name": "stdout",
     "output_type": "stream",
     "text": [
      "Model: \"sequential\"\n",
      "_________________________________________________________________\n",
      " Layer (type)                Output Shape              Param #   \n",
      "=================================================================\n",
      " dense (Dense)               (None, 64)                896       \n",
      "                                                                 \n",
      " batch_normalization (BatchN  (None, 64)               256       \n",
      " ormalization)                                                   \n",
      "                                                                 \n",
      " dense_1 (Dense)             (None, 64)                4160      \n",
      "                                                                 \n",
      " layer_normalization (LayerN  (None, 64)               128       \n",
      " ormalization)                                                   \n",
      "                                                                 \n",
      " dense_2 (Dense)             (None, 1)                 65        \n",
      "                                                                 \n",
      "=================================================================\n",
      "Total params: 5,505\n",
      "Trainable params: 5,377\n",
      "Non-trainable params: 128\n",
      "_________________________________________________________________\n"
     ]
    }
   ],
   "source": [
    "model.summary()"
   ]
  },
  {
   "cell_type": "code",
   "execution_count": 13,
   "metadata": {},
   "outputs": [],
   "source": [
    "rmsprop = tf.keras.optimizers.RMSprop(learning_rate=0.01, rho=0.85, momentum=0.9)"
   ]
  },
  {
   "cell_type": "code",
   "execution_count": 14,
   "metadata": {},
   "outputs": [],
   "source": [
    "model.compile(optimizer=rmsprop, loss='mse')"
   ]
  },
  {
   "cell_type": "code",
   "execution_count": 15,
   "metadata": {
    "scrolled": true
   },
   "outputs": [
    {
     "name": "stdout",
     "output_type": "stream",
     "text": [
      "Epoch 1/80\n",
      "7/7 [==============================] - 2s 3ms/step - loss: 327.6671\n",
      "Epoch 2/80\n",
      "7/7 [==============================] - 0s 3ms/step - loss: 71.7587\n",
      "Epoch 3/80\n",
      "7/7 [==============================] - 0s 3ms/step - loss: 26.0590\n",
      "Epoch 4/80\n",
      "7/7 [==============================] - 0s 3ms/step - loss: 17.3354\n",
      "Epoch 5/80\n",
      "7/7 [==============================] - 0s 4ms/step - loss: 16.4510\n",
      "Epoch 6/80\n",
      "7/7 [==============================] - 0s 3ms/step - loss: 16.8137\n",
      "Epoch 7/80\n",
      "7/7 [==============================] - 0s 3ms/step - loss: 9.2734\n",
      "Epoch 8/80\n",
      "7/7 [==============================] - 0s 5ms/step - loss: 10.9123\n",
      "Epoch 9/80\n",
      "7/7 [==============================] - 0s 7ms/step - loss: 13.9800\n",
      "Epoch 10/80\n",
      "7/7 [==============================] - 0s 5ms/step - loss: 12.4925\n",
      "Epoch 11/80\n",
      "7/7 [==============================] - 0s 5ms/step - loss: 11.1093\n",
      "Epoch 12/80\n",
      "7/7 [==============================] - 0s 5ms/step - loss: 14.3480\n",
      "Epoch 13/80\n",
      "7/7 [==============================] - 0s 3ms/step - loss: 15.7654\n",
      "Epoch 14/80\n",
      "7/7 [==============================] - 0s 3ms/step - loss: 12.9739\n",
      "Epoch 15/80\n",
      "7/7 [==============================] - 0s 3ms/step - loss: 7.3878\n",
      "Epoch 16/80\n",
      "7/7 [==============================] - 0s 2ms/step - loss: 10.0830\n",
      "Epoch 17/80\n",
      "7/7 [==============================] - 0s 4ms/step - loss: 10.2918\n",
      "Epoch 18/80\n",
      "7/7 [==============================] - 0s 5ms/step - loss: 16.6883\n",
      "Epoch 19/80\n",
      "7/7 [==============================] - 0s 5ms/step - loss: 10.0314\n",
      "Epoch 20/80\n",
      "7/7 [==============================] - 0s 2ms/step - loss: 10.6564\n",
      "Epoch 21/80\n",
      "7/7 [==============================] - 0s 3ms/step - loss: 10.7893\n",
      "Epoch 22/80\n",
      "7/7 [==============================] - 0s 3ms/step - loss: 11.0001\n",
      "Epoch 23/80\n",
      "7/7 [==============================] - 0s 3ms/step - loss: 10.5534\n",
      "Epoch 24/80\n",
      "7/7 [==============================] - 0s 3ms/step - loss: 9.4707\n",
      "Epoch 25/80\n",
      "7/7 [==============================] - 0s 3ms/step - loss: 7.9602\n",
      "Epoch 26/80\n",
      "7/7 [==============================] - 0s 3ms/step - loss: 6.8861\n",
      "Epoch 27/80\n",
      "7/7 [==============================] - 0s 3ms/step - loss: 7.9476\n",
      "Epoch 28/80\n",
      "7/7 [==============================] - 0s 2ms/step - loss: 5.6154\n",
      "Epoch 29/80\n",
      "7/7 [==============================] - 0s 3ms/step - loss: 11.7925\n",
      "Epoch 30/80\n",
      "7/7 [==============================] - 0s 3ms/step - loss: 9.2613\n",
      "Epoch 31/80\n",
      "7/7 [==============================] - 0s 3ms/step - loss: 9.0080\n",
      "Epoch 32/80\n",
      "7/7 [==============================] - 0s 4ms/step - loss: 5.9127\n",
      "Epoch 33/80\n",
      "7/7 [==============================] - 0s 3ms/step - loss: 6.0267\n",
      "Epoch 34/80\n",
      "7/7 [==============================] - 0s 3ms/step - loss: 6.7588\n",
      "Epoch 35/80\n",
      "7/7 [==============================] - 0s 2ms/step - loss: 5.3141\n",
      "Epoch 36/80\n",
      "7/7 [==============================] - 0s 3ms/step - loss: 5.5396\n",
      "Epoch 37/80\n",
      "7/7 [==============================] - 0s 3ms/step - loss: 5.2664\n",
      "Epoch 38/80\n",
      "7/7 [==============================] - 0s 3ms/step - loss: 5.6778\n",
      "Epoch 39/80\n",
      "7/7 [==============================] - 0s 3ms/step - loss: 6.1677\n",
      "Epoch 40/80\n",
      "7/7 [==============================] - 0s 5ms/step - loss: 9.4019\n",
      "Epoch 41/80\n",
      "7/7 [==============================] - 0s 5ms/step - loss: 8.3609\n",
      "Epoch 42/80\n",
      "7/7 [==============================] - 0s 6ms/step - loss: 10.0507\n",
      "Epoch 43/80\n",
      "7/7 [==============================] - 0s 6ms/step - loss: 6.3452\n",
      "Epoch 44/80\n",
      "7/7 [==============================] - 0s 4ms/step - loss: 6.2682\n",
      "Epoch 45/80\n",
      "7/7 [==============================] - 0s 3ms/step - loss: 5.5855\n",
      "Epoch 46/80\n",
      "7/7 [==============================] - 0s 3ms/step - loss: 4.8094\n",
      "Epoch 47/80\n",
      "7/7 [==============================] - 0s 3ms/step - loss: 4.1965\n",
      "Epoch 48/80\n",
      "7/7 [==============================] - 0s 3ms/step - loss: 8.0942\n",
      "Epoch 49/80\n",
      "7/7 [==============================] - 0s 3ms/step - loss: 5.8973\n",
      "Epoch 50/80\n",
      "7/7 [==============================] - 0s 3ms/step - loss: 7.0500\n",
      "Epoch 51/80\n",
      "7/7 [==============================] - 0s 4ms/step - loss: 4.3201\n",
      "Epoch 52/80\n",
      "7/7 [==============================] - 0s 5ms/step - loss: 4.1645\n",
      "Epoch 53/80\n",
      "7/7 [==============================] - 0s 5ms/step - loss: 4.9086\n",
      "Epoch 54/80\n",
      "7/7 [==============================] - 0s 4ms/step - loss: 4.8379\n",
      "Epoch 55/80\n",
      "7/7 [==============================] - 0s 5ms/step - loss: 8.3878\n",
      "Epoch 56/80\n",
      "7/7 [==============================] - 0s 4ms/step - loss: 11.5432\n",
      "Epoch 57/80\n",
      "7/7 [==============================] - 0s 3ms/step - loss: 10.3804\n",
      "Epoch 58/80\n",
      "7/7 [==============================] - 0s 3ms/step - loss: 5.1805\n",
      "Epoch 59/80\n",
      "7/7 [==============================] - 0s 5ms/step - loss: 3.1923\n",
      "Epoch 60/80\n",
      "7/7 [==============================] - 0s 6ms/step - loss: 4.8641\n",
      "Epoch 61/80\n",
      "7/7 [==============================] - 0s 5ms/step - loss: 5.8950\n",
      "Epoch 62/80\n",
      "7/7 [==============================] - 0s 6ms/step - loss: 5.0453\n",
      "Epoch 63/80\n",
      "7/7 [==============================] - 0s 5ms/step - loss: 4.5205\n",
      "Epoch 64/80\n",
      "7/7 [==============================] - 0s 4ms/step - loss: 5.4142\n",
      "Epoch 65/80\n",
      "7/7 [==============================] - 0s 5ms/step - loss: 4.1803\n",
      "Epoch 66/80\n",
      "7/7 [==============================] - 0s 4ms/step - loss: 6.9489\n",
      "Epoch 67/80\n",
      "7/7 [==============================] - 0s 4ms/step - loss: 4.6526\n",
      "Epoch 68/80\n",
      "7/7 [==============================] - 0s 7ms/step - loss: 5.6669\n",
      "Epoch 69/80\n",
      "7/7 [==============================] - 0s 5ms/step - loss: 5.0033\n",
      "Epoch 70/80\n",
      "7/7 [==============================] - 0s 5ms/step - loss: 4.7478\n",
      "Epoch 71/80\n",
      "7/7 [==============================] - 0s 3ms/step - loss: 4.7535\n",
      "Epoch 72/80\n",
      "7/7 [==============================] - 0s 2ms/step - loss: 3.6817\n",
      "Epoch 73/80\n",
      "7/7 [==============================] - 0s 2ms/step - loss: 4.1515\n",
      "Epoch 74/80\n",
      "7/7 [==============================] - 0s 2ms/step - loss: 4.7316\n",
      "Epoch 75/80\n",
      "7/7 [==============================] - 0s 2ms/step - loss: 3.9072\n",
      "Epoch 76/80\n",
      "7/7 [==============================] - 0s 2ms/step - loss: 4.5856\n",
      "Epoch 77/80\n",
      "7/7 [==============================] - 0s 3ms/step - loss: 5.4131\n",
      "Epoch 78/80\n",
      "7/7 [==============================] - 0s 2ms/step - loss: 4.0415\n",
      "Epoch 79/80\n",
      "7/7 [==============================] - 0s 3ms/step - loss: 3.2752\n",
      "Epoch 80/80\n",
      "7/7 [==============================] - 0s 3ms/step - loss: 3.2970\n"
     ]
    }
   ],
   "source": [
    "# model.fit(train_data, train_targets, epochs=80, batch_size=16)\n",
    "history = model.fit(train_data, train_targets, epochs=80, batch_size=64)"
   ]
  },
  {
   "cell_type": "markdown",
   "metadata": {},
   "source": [
    "## Loss 값 변화 살펴보기"
   ]
  },
  {
   "cell_type": "code",
   "execution_count": 16,
   "metadata": {},
   "outputs": [],
   "source": [
    "import matplotlib.pyplot as plt"
   ]
  },
  {
   "cell_type": "code",
   "execution_count": 17,
   "metadata": {},
   "outputs": [
    {
     "data": {
      "image/png": "[encoded data removed]",
      "text/plain": [
       "<Figure size 432x288 with 1 Axes>"
      ]
     },
     "metadata": {
      "needs_background": "light"
     },
     "output_type": "display_data"
    }
   ],
   "source": [
    "plt.plot(history.history['loss'])\n",
    "plt.xlabel('epoch')\n",
    "plt.ylabel('loss')\n",
    "plt.legend(['train'])\n",
    "plt.show()"
   ]
  },
  {
   "cell_type": "markdown",
   "metadata": {},
   "source": [
    "# 성능 평가하기"
   ]
  },
  {
   "cell_type": "code",
   "execution_count": 18,
   "metadata": {},
   "outputs": [
    {
     "name": "stdout",
     "output_type": "stream",
     "text": [
      "4/4 [==============================] - 0s 3ms/step\n"
     ]
    },
    {
     "data": {
      "text/plain": [
       "4.511985629061511"
      ]
     },
     "execution_count": 18,
     "metadata": {},
     "output_type": "execute_result"
    }
   ],
   "source": [
    "y_pred = model.predict(test_data)\n",
    "from sklearn.metrics import mean_squared_error\n",
    "mean_squared_error(test_targets, y_pred)**0.5"
   ]
  },
  {
   "cell_type": "code",
   "execution_count": 19,
   "metadata": {},
   "outputs": [
    {
     "data": {
      "text/plain": [
       "0.7554412166321778"
      ]
     },
     "execution_count": 19,
     "metadata": {},
     "output_type": "execute_result"
    }
   ],
   "source": [
    "from sklearn.metrics import r2_score\n",
    "r2_score(test_targets, y_pred)"
   ]
  },
  {
   "cell_type": "code",
   "execution_count": null,
   "metadata": {},
   "outputs": [],
   "source": []
  }
 ],
 "metadata": {
  "kernelspec": {
   "display_name": "Python 3 (ipykernel)",
   "language": "python",
   "name": "python3"
  },
  "language_info": {
   "codemirror_mode": {
    "name": "ipython",
    "version": 3
   },
   "file_extension": ".py",
   "mimetype": "text/x-python",
   "name": "python",
   "nbconvert_exporter": "python",
   "pygments_lexer": "ipython3",
   "version": "3.8.5"
  }
 },
 "nbformat": 4,
 "nbformat_minor": 2
}
