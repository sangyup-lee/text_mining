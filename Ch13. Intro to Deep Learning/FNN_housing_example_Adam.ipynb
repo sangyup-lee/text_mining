{
 "cells": [
  {
   "cell_type": "code",
   "execution_count": 1,
   "metadata": {},
   "outputs": [],
   "source": [
    "import tensorflow as tf\n",
    "from tensorflow import keras"
   ]
  },
  {
   "cell_type": "code",
   "execution_count": 2,
   "metadata": {},
   "outputs": [],
   "source": [
    "(train_data, train_targets), (test_data, test_targets) =keras.datasets.boston_housing.load_data()"
   ]
  },
  {
   "cell_type": "code",
   "execution_count": 3,
   "metadata": {},
   "outputs": [],
   "source": [
    "mean = train_data.mean(axis=0)\n",
    "train_data -= mean\n",
    "std = train_data.std(axis=0)\n",
    "train_data /= std\n",
    "test_data -= mean\n",
    "test_data /= std"
   ]
  },
  {
   "cell_type": "code",
   "execution_count": 4,
   "metadata": {},
   "outputs": [],
   "source": [
    "from tensorflow.keras import models\n",
    "from tensorflow.keras import layers"
   ]
  },
  {
   "cell_type": "code",
   "execution_count": 5,
   "metadata": {},
   "outputs": [
    {
     "data": {
      "text/plain": [
       "(404, 13)"
      ]
     },
     "execution_count": 5,
     "metadata": {},
     "output_type": "execute_result"
    }
   ],
   "source": [
    "train_data.shape"
   ]
  },
  {
   "cell_type": "code",
   "execution_count": 6,
   "metadata": {},
   "outputs": [],
   "source": [
    "model = models.Sequential()"
   ]
  },
  {
   "cell_type": "code",
   "execution_count": 7,
   "metadata": {},
   "outputs": [],
   "source": [
    "model.add(layers.Dense(64, activation = 'relu', kernel_initializer = 'glorot_uniform', input_shape=(train_data.shape[1],)))"
   ]
  },
  {
   "cell_type": "code",
   "execution_count": 8,
   "metadata": {},
   "outputs": [],
   "source": [
    "model.add(layers.Dense(64, activation = 'relu', kernel_initializer = 'glorot_uniform'))"
   ]
  },
  {
   "cell_type": "code",
   "execution_count": 9,
   "metadata": {},
   "outputs": [],
   "source": [
    "model.add(layers.Dense(1))"
   ]
  },
  {
   "cell_type": "code",
   "execution_count": 10,
   "metadata": {},
   "outputs": [
    {
     "name": "stdout",
     "output_type": "stream",
     "text": [
      "Model: \"sequential\"\n",
      "_________________________________________________________________\n",
      " Layer (type)                Output Shape              Param #   \n",
      "=================================================================\n",
      " dense (Dense)               (None, 64)                896       \n",
      "                                                                 \n",
      " dense_1 (Dense)             (None, 64)                4160      \n",
      "                                                                 \n",
      " dense_2 (Dense)             (None, 1)                 65        \n",
      "                                                                 \n",
      "=================================================================\n",
      "Total params: 5,121\n",
      "Trainable params: 5,121\n",
      "Non-trainable params: 0\n",
      "_________________________________________________________________\n"
     ]
    }
   ],
   "source": [
    "model.summary()"
   ]
  },
  {
   "cell_type": "markdown",
   "metadata": {},
   "source": [
    "## Adam 옵티마이저 사용해 보기"
   ]
  },
  {
   "cell_type": "code",
   "execution_count": 11,
   "metadata": {},
   "outputs": [],
   "source": [
    "# Optimizer 종류 => https://keras.io/api/optimizers/\n",
    "adam = tf.keras.optimizers.Adam(learning_rate=0.01, beta_1=0.9, beta_2=0.999)"
   ]
  },
  {
   "cell_type": "code",
   "execution_count": 12,
   "metadata": {},
   "outputs": [],
   "source": [
    "model.compile(optimizer=adam, loss='mse')"
   ]
  },
  {
   "cell_type": "code",
   "execution_count": 13,
   "metadata": {
    "scrolled": true
   },
   "outputs": [
    {
     "name": "stdout",
     "output_type": "stream",
     "text": [
      "Epoch 1/80\n",
      "7/7 [==============================] - 1s 3ms/step - loss: 438.9020\n",
      "Epoch 2/80\n",
      "7/7 [==============================] - 0s 2ms/step - loss: 109.3064\n",
      "Epoch 3/80\n",
      "7/7 [==============================] - 0s 2ms/step - loss: 55.7163\n",
      "Epoch 4/80\n",
      "7/7 [==============================] - 0s 2ms/step - loss: 39.1026\n",
      "Epoch 5/80\n",
      "7/7 [==============================] - 0s 2ms/step - loss: 25.0650\n",
      "Epoch 6/80\n",
      "7/7 [==============================] - 0s 2ms/step - loss: 17.6751\n",
      "Epoch 7/80\n",
      "7/7 [==============================] - 0s 4ms/step - loss: 17.3588\n",
      "Epoch 8/80\n",
      "7/7 [==============================] - 0s 4ms/step - loss: 14.0010\n",
      "Epoch 9/80\n",
      "7/7 [==============================] - 0s 3ms/step - loss: 12.9267\n",
      "Epoch 10/80\n",
      "7/7 [==============================] - 0s 3ms/step - loss: 11.7010\n",
      "Epoch 11/80\n",
      "7/7 [==============================] - 0s 4ms/step - loss: 11.1388\n",
      "Epoch 12/80\n",
      "7/7 [==============================] - 0s 3ms/step - loss: 10.7289\n",
      "Epoch 13/80\n",
      "7/7 [==============================] - 0s 3ms/step - loss: 10.4715\n",
      "Epoch 14/80\n",
      "7/7 [==============================] - 0s 2ms/step - loss: 10.5372\n",
      "Epoch 15/80\n",
      "7/7 [==============================] - 0s 3ms/step - loss: 9.7307\n",
      "Epoch 16/80\n",
      "7/7 [==============================] - 0s 2ms/step - loss: 9.4510\n",
      "Epoch 17/80\n",
      "7/7 [==============================] - 0s 2ms/step - loss: 9.3677\n",
      "Epoch 18/80\n",
      "7/7 [==============================] - 0s 2ms/step - loss: 9.2037\n",
      "Epoch 19/80\n",
      "7/7 [==============================] - 0s 2ms/step - loss: 9.7237\n",
      "Epoch 20/80\n",
      "7/7 [==============================] - 0s 2ms/step - loss: 9.2882\n",
      "Epoch 21/80\n",
      "7/7 [==============================] - 0s 2ms/step - loss: 8.6405\n",
      "Epoch 22/80\n",
      "7/7 [==============================] - 0s 3ms/step - loss: 8.5401\n",
      "Epoch 23/80\n",
      "7/7 [==============================] - 0s 2ms/step - loss: 8.4953\n",
      "Epoch 24/80\n",
      "7/7 [==============================] - 0s 2ms/step - loss: 8.2489\n",
      "Epoch 25/80\n",
      "7/7 [==============================] - 0s 2ms/step - loss: 8.4119\n",
      "Epoch 26/80\n",
      "7/7 [==============================] - 0s 4ms/step - loss: 8.0037\n",
      "Epoch 27/80\n",
      "7/7 [==============================] - 0s 2ms/step - loss: 8.3566\n",
      "Epoch 28/80\n",
      "7/7 [==============================] - 0s 2ms/step - loss: 8.0888\n",
      "Epoch 29/80\n",
      "7/7 [==============================] - 0s 2ms/step - loss: 7.8785\n",
      "Epoch 30/80\n",
      "7/7 [==============================] - 0s 2ms/step - loss: 7.7759\n",
      "Epoch 31/80\n",
      "7/7 [==============================] - 0s 2ms/step - loss: 7.9228\n",
      "Epoch 32/80\n",
      "7/7 [==============================] - 0s 2ms/step - loss: 7.7058\n",
      "Epoch 33/80\n",
      "7/7 [==============================] - 0s 2ms/step - loss: 7.8532\n",
      "Epoch 34/80\n",
      "7/7 [==============================] - 0s 2ms/step - loss: 7.6080\n",
      "Epoch 35/80\n",
      "7/7 [==============================] - 0s 2ms/step - loss: 7.1765\n",
      "Epoch 36/80\n",
      "7/7 [==============================] - 0s 2ms/step - loss: 7.1244\n",
      "Epoch 37/80\n",
      "7/7 [==============================] - 0s 2ms/step - loss: 7.0697\n",
      "Epoch 38/80\n",
      "7/7 [==============================] - 0s 2ms/step - loss: 7.0619\n",
      "Epoch 39/80\n",
      "7/7 [==============================] - 0s 3ms/step - loss: 6.8262\n",
      "Epoch 40/80\n",
      "7/7 [==============================] - 0s 3ms/step - loss: 7.4018\n",
      "Epoch 41/80\n",
      "7/7 [==============================] - 0s 5ms/step - loss: 7.2685\n",
      "Epoch 42/80\n",
      "7/7 [==============================] - 0s 4ms/step - loss: 6.9278\n",
      "Epoch 43/80\n",
      "7/7 [==============================] - 0s 3ms/step - loss: 6.7636\n",
      "Epoch 44/80\n",
      "7/7 [==============================] - 0s 3ms/step - loss: 7.1919\n",
      "Epoch 45/80\n",
      "7/7 [==============================] - 0s 4ms/step - loss: 7.0369\n",
      "Epoch 46/80\n",
      "7/7 [==============================] - 0s 3ms/step - loss: 6.6524\n",
      "Epoch 47/80\n",
      "7/7 [==============================] - 0s 2ms/step - loss: 6.4856\n",
      "Epoch 48/80\n",
      "7/7 [==============================] - 0s 4ms/step - loss: 6.3752\n",
      "Epoch 49/80\n",
      "7/7 [==============================] - 0s 4ms/step - loss: 6.7024\n",
      "Epoch 50/80\n",
      "7/7 [==============================] - 0s 3ms/step - loss: 6.4176\n",
      "Epoch 51/80\n",
      "7/7 [==============================] - 0s 2ms/step - loss: 6.7408\n",
      "Epoch 52/80\n",
      "7/7 [==============================] - 0s 4ms/step - loss: 6.8439\n",
      "Epoch 53/80\n",
      "7/7 [==============================] - 0s 4ms/step - loss: 6.4629\n",
      "Epoch 54/80\n",
      "7/7 [==============================] - 0s 4ms/step - loss: 7.1273\n",
      "Epoch 55/80\n",
      "7/7 [==============================] - 0s 4ms/step - loss: 7.1770\n",
      "Epoch 56/80\n",
      "7/7 [==============================] - 0s 4ms/step - loss: 6.5284\n",
      "Epoch 57/80\n",
      "7/7 [==============================] - 0s 4ms/step - loss: 6.1113\n",
      "Epoch 58/80\n",
      "7/7 [==============================] - 0s 3ms/step - loss: 6.0847\n",
      "Epoch 59/80\n",
      "7/7 [==============================] - 0s 3ms/step - loss: 5.9724\n",
      "Epoch 60/80\n",
      "7/7 [==============================] - 0s 2ms/step - loss: 5.8686\n",
      "Epoch 61/80\n",
      "7/7 [==============================] - 0s 2ms/step - loss: 5.8728\n",
      "Epoch 62/80\n",
      "7/7 [==============================] - 0s 2ms/step - loss: 5.8997\n",
      "Epoch 63/80\n",
      "7/7 [==============================] - 0s 2ms/step - loss: 6.1703\n",
      "Epoch 64/80\n",
      "7/7 [==============================] - 0s 2ms/step - loss: 5.6283\n",
      "Epoch 65/80\n",
      "7/7 [==============================] - 0s 4ms/step - loss: 5.7886\n",
      "Epoch 66/80\n",
      "7/7 [==============================] - 0s 4ms/step - loss: 6.2569\n",
      "Epoch 67/80\n",
      "7/7 [==============================] - 0s 4ms/step - loss: 6.1727\n",
      "Epoch 68/80\n",
      "7/7 [==============================] - 0s 2ms/step - loss: 5.6677\n",
      "Epoch 69/80\n",
      "7/7 [==============================] - 0s 3ms/step - loss: 5.7944\n",
      "Epoch 70/80\n",
      "7/7 [==============================] - 0s 2ms/step - loss: 5.7177\n",
      "Epoch 71/80\n",
      "7/7 [==============================] - 0s 2ms/step - loss: 5.6553\n",
      "Epoch 72/80\n",
      "7/7 [==============================] - 0s 2ms/step - loss: 5.3984\n",
      "Epoch 73/80\n",
      "7/7 [==============================] - 0s 3ms/step - loss: 5.7080\n",
      "Epoch 74/80\n",
      "7/7 [==============================] - 0s 2ms/step - loss: 5.4567\n",
      "Epoch 75/80\n",
      "7/7 [==============================] - 0s 4ms/step - loss: 5.6131\n",
      "Epoch 76/80\n",
      "7/7 [==============================] - 0s 4ms/step - loss: 5.1696\n",
      "Epoch 77/80\n",
      "7/7 [==============================] - 0s 3ms/step - loss: 5.3392\n",
      "Epoch 78/80\n",
      "7/7 [==============================] - 0s 2ms/step - loss: 5.4974\n",
      "Epoch 79/80\n",
      "7/7 [==============================] - 0s 2ms/step - loss: 5.2800\n",
      "Epoch 80/80\n",
      "7/7 [==============================] - 0s 2ms/step - loss: 5.1824\n"
     ]
    }
   ],
   "source": [
    "# model.fit(train_data, train_targets, epochs=80, batch_size=16)\n",
    "history = model.fit(train_data, train_targets, epochs=80, batch_size=64)"
   ]
  },
  {
   "cell_type": "markdown",
   "metadata": {},
   "source": [
    "## Loss 값 변화 살펴보기"
   ]
  },
  {
   "cell_type": "code",
   "execution_count": 14,
   "metadata": {},
   "outputs": [],
   "source": [
    "import matplotlib.pyplot as plt"
   ]
  },
  {
   "cell_type": "code",
   "execution_count": 15,
   "metadata": {},
   "outputs": [
    {
     "data": {
      "image/png": "[encoded data removed]",
      "text/plain": [
       "<Figure size 432x288 with 1 Axes>"
      ]
     },
     "metadata": {
      "needs_background": "light"
     },
     "output_type": "display_data"
    }
   ],
   "source": [
    "plt.plot(history.history['loss'])\n",
    "plt.xlabel('epoch')\n",
    "plt.ylabel('loss')\n",
    "plt.legend(['train'])\n",
    "plt.show()"
   ]
  },
  {
   "cell_type": "markdown",
   "metadata": {},
   "source": [
    "# 성능 평가하기"
   ]
  },
  {
   "cell_type": "code",
   "execution_count": 16,
   "metadata": {},
   "outputs": [
    {
     "name": "stdout",
     "output_type": "stream",
     "text": [
      "4/4 [==============================] - 0s 3ms/step\n"
     ]
    },
    {
     "data": {
      "text/plain": [
       "4.005291638350085"
      ]
     },
     "execution_count": 16,
     "metadata": {},
     "output_type": "execute_result"
    }
   ],
   "source": [
    "y_pred = model.predict(test_data)\n",
    "from sklearn.metrics import mean_squared_error\n",
    "mean_squared_error(test_targets, y_pred)**0.5"
   ]
  },
  {
   "cell_type": "code",
   "execution_count": 17,
   "metadata": {},
   "outputs": [
    {
     "data": {
      "text/plain": [
       "0.807284725616436"
      ]
     },
     "execution_count": 17,
     "metadata": {},
     "output_type": "execute_result"
    }
   ],
   "source": [
    "from sklearn.metrics import r2_score\n",
    "r2_score(test_targets, y_pred)"
   ]
  }
 ],
 "metadata": {
  "kernelspec": {
   "display_name": "Python 3 (ipykernel)",
   "language": "python",
   "name": "python3"
  },
  "language_info": {
   "codemirror_mode": {
    "name": "ipython",
    "version": 3
   },
   "file_extension": ".py",
   "mimetype": "text/x-python",
   "name": "python",
   "nbconvert_exporter": "python",
   "pygments_lexer": "ipython3",
   "version": "3.8.5"
  }
 },
 "nbformat": 4,
 "nbformat_minor": 2
}
