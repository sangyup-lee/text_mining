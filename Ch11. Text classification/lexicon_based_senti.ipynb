{
 "cells": [
  {
   "cell_type": "code",
   "execution_count": 1,
   "metadata": {
    "collapsed": true
   },
   "outputs": [],
   "source": [
    "# simple lexicon \n",
    "pos_words = ['happy', 'fun', 'great', 'exciting', 'fantastic']\n",
    "neg_words = ['boring', 'disappointing', 'bad', 'unpleasant']\n",
    "\n",
    "def get_sent(sentence):\n",
    "    words = sentence.lower().replace('.', '').split()\n",
    "    pos_score = 0\n",
    "    neg_score = 0\n",
    "    for word in words:\n",
    "        if word in pos_words:\n",
    "            pos_score += 1\n",
    "        elif word in neg_words:\n",
    "            neg_score -= 1\n",
    "    total_score = pos_score + neg_score\n",
    "    return total_score"
   ]
  },
  {
   "cell_type": "code",
   "execution_count": 2,
   "metadata": {},
   "outputs": [
    {
     "name": "stdout",
     "output_type": "stream",
     "text": [
      "1\n"
     ]
    }
   ],
   "source": [
    "sent1 = 'The movie was fun.'\n",
    "\n",
    "score = get_sent(sent1)\n",
    "print(score)"
   ]
  },
  {
   "cell_type": "code",
   "execution_count": 1,
   "metadata": {},
   "outputs": [],
   "source": [
    "from nltk.sentiment.vader import SentimentIntensityAnalyzer\n",
    "# Gilbert, C. H. E. (2014). Vader: A parsimonious rule-based model for sentiment analysis of social media text. In Eighth International Conference on Weblogs and Social Media (ICWSM-14). Available at (20/04/16) http://comp. social. gatech. edu/papers/icwsm14. vader. hutto. pdf.\n",
    "from nltk import tokenize\n",
    "import nltk"
   ]
  },
  {
   "cell_type": "code",
   "execution_count": 3,
   "metadata": {
    "collapsed": true
   },
   "outputs": [],
   "source": [
    "sid = SentimentIntensityAnalyzer()\n",
    "# Creating an instance of vader\n",
    "\n",
    "def get_senti_score(text):\n",
    "    text_sents = tokenize.sent_tokenize(text) # split the text into sentences\n",
    "    sum_desc_com = 0\n",
    "    for sentence in text_sents:\n",
    "        ss = sid.polarity_scores(sentence)\n",
    "        #ss = {'neg': 0.0, 'neu': 0.423, 'pos': 0.577, 'compound': 0.6249}\n",
    "        compound = ss['compound']\n",
    "        sum_desc_com += compound\n",
    "    try:\n",
    "        avg_text_com = sum_desc_com/len(text_sents)\n",
    "    except:\n",
    "        avg_text_com = 'NA'\n",
    "    return avg_text_com\n"
   ]
  },
  {
   "cell_type": "code",
   "execution_count": 4,
   "metadata": {},
   "outputs": [
    {
     "name": "stdout",
     "output_type": "stream",
     "text": [
      "avg score:  0.2083\n"
     ]
    }
   ],
   "source": [
    "text2 = 'I watched a newly released movie yesterday. It was an action movie. It was great.'\n",
    "avg_sent_score = get_senti_score(text2)\n",
    "print('avg score: ', avg_sent_score)"
   ]
  },
  {
   "cell_type": "code",
   "execution_count": null,
   "metadata": {
    "collapsed": true
   },
   "outputs": [],
   "source": []
  }
 ],
 "metadata": {
  "kernelspec": {
   "display_name": "Python 3 (ipykernel)",
   "language": "python",
   "name": "python3"
  },
  "language_info": {
   "codemirror_mode": {
    "name": "ipython",
    "version": 3
   },
   "file_extension": ".py",
   "mimetype": "text/x-python",
   "name": "python",
   "nbconvert_exporter": "python",
   "pygments_lexer": "ipython3",
   "version": "3.8.5"
  }
 },
 "nbformat": 4,
 "nbformat_minor": 2
}
