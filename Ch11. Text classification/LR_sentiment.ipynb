{
 "cells": [
  {
   "cell_type": "code",
   "execution_count": 1,
   "metadata": {},
   "outputs": [],
   "source": [
    "import warnings\n",
    "warnings.filterwarnings('ignore')"
   ]
  },
  {
   "cell_type": "code",
   "execution_count": 1,
   "metadata": {},
   "outputs": [],
   "source": [
    "import pandas as pd\n",
    "import numpy as np\n",
    "import time"
   ]
  },
  {
   "cell_type": "markdown",
   "metadata": {},
   "source": [
    "데이터 불러오기"
   ]
  },
  {
   "cell_type": "code",
   "execution_count": 2,
   "metadata": {},
   "outputs": [],
   "source": [
    "with open('2016_filtered_review_part.txt', encoding='utf-8') as f:\n",
    "    docs = [doc.strip().split('\\t\\t') for doc in f]\n",
    "    docs = [(doc[1], int(doc[2])) for doc in docs if len(doc) == 3]\n",
    "    # 각 행에서 두 번째와 세 번째 칼럼을 읽음\n",
    "    texts, scores = zip(*docs)\n",
    "    # 둘을 분리해서 별도의 list 변수로 저장"
   ]
  },
  {
   "cell_type": "markdown",
   "metadata": {},
   "source": [
    "평점 정보를 이용해서 종속변수 레이블링 하기"
   ]
  },
  {
   "cell_type": "code",
   "execution_count": 3,
   "metadata": {},
   "outputs": [],
   "source": [
    "filtered_texts = []\n",
    "filtered_labels = []\n",
    "\n",
    "for text, score in zip(texts, scores):\n",
    "    if 4 < score < 8:\n",
    "        continue\n",
    "        \n",
    "    # 평점 기준으로 문서에 label을 부여\n",
    "    # 1 ~ 4 -> 부정, 0\n",
    "    # 8 ~ 10 -> 긍정, 1\n",
    "    filtered_texts.append(text)\n",
    "    filtered_labels.append(1 if score >= 8 else 0) # 조건부 표현 (conditional expression) 사용"
   ]
  },
  {
   "cell_type": "code",
   "execution_count": 4,
   "metadata": {},
   "outputs": [
    {
     "name": "stdout",
     "output_type": "stream",
     "text": [
      "전체 영화평의 수: 19513\n",
      "긍정 영화평의 수: 17890\n",
      "긍정 영화평의 비율: 0.92\n"
     ]
    }
   ],
   "source": [
    "# 불균형 문제\n",
    "print('전체 영화평의 수: {}'.format(len(filtered_labels)))\n",
    "print('긍정 영화평의 수: {}'.format(sum(filtered_labels)))\n",
    "print('긍정 영화평의 비율: {0:.2f}'.format(sum(filtered_labels)/len(filtered_labels)))"
   ]
  },
  {
   "cell_type": "code",
   "execution_count": 5,
   "metadata": {},
   "outputs": [],
   "source": [
    "# To split the data into training and test datasets\n",
    "from sklearn.model_selection import train_test_split\n",
    "train_texts, test_texts, train_labels, test_labels = train_test_split(filtered_texts, filtered_labels, test_size=0.1, random_state=42)"
   ]
  },
  {
   "cell_type": "code",
   "execution_count": 6,
   "metadata": {},
   "outputs": [
    {
     "data": {
      "text/plain": [
       "'영화 괜찮 재미있'"
      ]
     },
     "execution_count": 6,
     "metadata": {},
     "output_type": "execute_result"
    }
   ],
   "source": [
    "train_texts[0]"
   ]
  },
  {
   "cell_type": "markdown",
   "metadata": {},
   "source": [
    "# 1. L1 규제화 사용해 보기"
   ]
  },
  {
   "cell_type": "markdown",
   "metadata": {},
   "source": [
    "### 1.1 TF 정보 사용해 보기"
   ]
  },
  {
   "cell_type": "code",
   "execution_count": 9,
   "metadata": {},
   "outputs": [],
   "source": [
    "from sklearn.feature_extraction.text import CountVectorizer\n",
    "tf_vectorizer = CountVectorizer() \n",
    "tf_train_features = tf_vectorizer.fit_transform(train_texts) \n",
    "tf_test_features = tf_vectorizer.transform(test_texts)"
   ]
  },
  {
   "cell_type": "code",
   "execution_count": 7,
   "metadata": {},
   "outputs": [],
   "source": [
    "from sklearn.linear_model import LogisticRegression"
   ]
  },
  {
   "cell_type": "code",
   "execution_count": 8,
   "metadata": {},
   "outputs": [],
   "source": [
    "lr_tf_l1 = LogisticRegression(C=0.1, penalty='l1', solver='saga', max_iter=10000) "
   ]
  },
  {
   "cell_type": "code",
   "execution_count": 10,
   "metadata": {},
   "outputs": [
    {
     "name": "stdout",
     "output_type": "stream",
     "text": [
      "\n",
      "Learning time: 3.211 seconds\n"
     ]
    }
   ],
   "source": [
    "start = time.time()\n",
    "lr_tf_l1.fit(tf_train_features, train_labels) # 학습\n",
    "end = time.time()\n",
    "elapsed = end - start \n",
    "print('\\nLearning time: {0:.3f} seconds'.format(elapsed))"
   ]
  },
  {
   "cell_type": "code",
   "execution_count": 11,
   "metadata": {},
   "outputs": [],
   "source": [
    "pred_labels_tf_l1 = lr_tf_l1.predict(tf_test_features) # 예측"
   ]
  },
  {
   "cell_type": "code",
   "execution_count": 12,
   "metadata": {},
   "outputs": [],
   "source": [
    "from sklearn.metrics import accuracy_score"
   ]
  },
  {
   "cell_type": "code",
   "execution_count": 13,
   "metadata": {},
   "outputs": [
    {
     "data": {
      "text/plain": [
       "0.9385245901639344"
      ]
     },
     "execution_count": 13,
     "metadata": {},
     "output_type": "execute_result"
    }
   ],
   "source": [
    "accuracy_score(test_labels, pred_labels_tf_l1)"
   ]
  },
  {
   "cell_type": "markdown",
   "metadata": {},
   "source": [
    "긍정과 부정의 역할을 하는 단어 출력해 보기"
   ]
  },
  {
   "cell_type": "code",
   "execution_count": 14,
   "metadata": {},
   "outputs": [],
   "source": [
    "# 단어 사전 만들기\n",
    "words_dict = {}\n",
    "for word, index in tf_vectorizer.vocabulary_.items():\n",
    "    words_dict[index]=word"
   ]
  },
  {
   "cell_type": "code",
   "execution_count": 15,
   "metadata": {},
   "outputs": [
    {
     "name": "stdout",
     "output_type": "stream",
     "text": [
      "긍정 단어 상위 30 개\n",
      "재밌 (1.515)\n",
      "재미있 (1.427)\n",
      "최고 (1.269)\n",
      "역시 (0.926)\n",
      "즐겁 (0.888)\n",
      "영상미 (0.731)\n",
      "도르마무 (0.611)\n",
      "다음 (0.546)\n",
      "추천 (0.499)\n",
      "아이 (0.489)\n",
      "영상 (0.466)\n",
      "아쉽 (0.431)\n",
      "마블 (0.382)\n",
      "연기 (0.331)\n",
      "스트레인 (0.283)\n",
      "새롭 (0.255)\n",
      "아이맥스 (0.220)\n",
      "효과 (0.214)\n",
      "약간 (0.208)\n",
      "기대 (0.184)\n",
      "베네딕트 (0.146)\n",
      "베니 (0.146)\n",
      "망토 (0.142)\n",
      "닥터스 (0.131)\n",
      "생각 (0.113)\n",
      "거북이 (0.101)\n",
      "멋지 (0.058)\n",
      "괜찮 (0.032)\n",
      "조금 (0.006)\n",
      "독특 (0.001)\n",
      "\n",
      "부정 단어 상위 30 개\n",
      "처음 (-0.258)\n",
      "진심 (-0.268)\n",
      "나오 (-0.273)\n",
      "기분 (-0.297)\n",
      "영화 (-0.312)\n",
      "너무 (-0.333)\n",
      "개연 (-0.399)\n",
      "졸리 (-0.443)\n",
      "초딩 (-0.487)\n",
      "핵노잼 (-0.521)\n",
      "음악 (-0.541)\n",
      "스토리 (-0.556)\n",
      "그냥 (-0.569)\n",
      "노래 (-0.601)\n",
      "손예진 (-0.642)\n",
      "내용 (-0.738)\n",
      "정신 (-0.739)\n",
      "평점 (-0.805)\n",
      "실망 (-0.968)\n",
      "쓰레기 (-0.971)\n",
      "유치 (-1.089)\n",
      "짜증 (-1.189)\n",
      "낭비 (-1.296)\n",
      "감독 (-1.344)\n",
      "별로 (-1.405)\n",
      "알바 (-1.847)\n",
      "아깝 (-1.908)\n",
      "재미없 (-2.451)\n",
      "노잼 (-2.717)\n",
      "최악 (-2.902)\n"
     ]
    }
   ],
   "source": [
    "# Get coefficients of the model\n",
    "coefficients = lr_tf_l1.coef_.tolist()\n",
    "\n",
    "sorted_coefficients = sorted(enumerate(coefficients[0]), key=lambda x:x[1], reverse=True)\n",
    "# 학습에 사용된 각 단어마다의 coefficient (즉 weight) 값이 존재\n",
    "# coefficient값이 큰 순으로 정렬 'reverse=True'\n",
    "\n",
    "\n",
    "K=30\n",
    "# print top K positive words\n",
    "print(\"긍정 단어 상위 {} 개\".format(str(K)))\n",
    "for word_id, coef in sorted_coefficients[:K]:\n",
    "    print('{0:} ({1:.3f})'.format(words_dict[word_id], coef))\n",
    "# print top K negative words\n",
    "print(\"\\n부정 단어 상위 {} 개\".format(str(K)))\n",
    "for word_id, coef in sorted_coefficients[-K:]:\n",
    "    print('{0:} ({1:.3f})'.format(words_dict[word_id], coef))"
   ]
  },
  {
   "cell_type": "markdown",
   "metadata": {},
   "source": [
    "### 1.2 TF-IDF 정보 사용해 보기"
   ]
  },
  {
   "cell_type": "code",
   "execution_count": 16,
   "metadata": {},
   "outputs": [],
   "source": [
    "from sklearn.feature_extraction.text import TfidfVectorizer\n",
    "tfidf_vectorizer = TfidfVectorizer() \n",
    "tfidf_train_features = tfidf_vectorizer.fit_transform(train_texts) \n",
    "tfidf_test_features = tfidf_vectorizer.transform(test_texts)"
   ]
  },
  {
   "cell_type": "code",
   "execution_count": 17,
   "metadata": {},
   "outputs": [],
   "source": [
    "lr_tfidf_l1 = LogisticRegression(C=0.1, penalty='l1', solver='saga', max_iter=10000) \n",
    "lr_tfidf_l1.fit(tfidf_train_features, train_labels) # 학습\n",
    "pred_labels_tfidf_l1 = lr_tfidf_l1.predict(tfidf_test_features)"
   ]
  },
  {
   "cell_type": "code",
   "execution_count": 18,
   "metadata": {},
   "outputs": [
    {
     "data": {
      "text/plain": [
       "0.9339139344262295"
      ]
     },
     "execution_count": 18,
     "metadata": {},
     "output_type": "execute_result"
    }
   ],
   "source": [
    "accuracy_score(test_labels, pred_labels_tfidf_l1)"
   ]
  },
  {
   "cell_type": "markdown",
   "metadata": {},
   "source": [
    "상위 긍, 부정 단어 출력해 보기"
   ]
  },
  {
   "cell_type": "code",
   "execution_count": 19,
   "metadata": {},
   "outputs": [
    {
     "name": "stdout",
     "output_type": "stream",
     "text": [
      "긍정 단어 상위 30 개\n",
      "재밌 (3.789)\n",
      "재미있 (2.568)\n",
      "최고 (1.666)\n",
      "마블 (1.422)\n",
      "역시 (1.057)\n",
      "도르마무 (0.910)\n",
      "영상미 (0.563)\n",
      "즐겁 (0.369)\n",
      "아이 (0.136)\n",
      "기대 (0.127)\n",
      "영상 (0.046)\n",
      "1펀 (0.000)\n",
      "2디 (0.000)\n",
      "2화 (0.000)\n",
      "3d (0.000)\n",
      "3디 (0.000)\n",
      "3베니마블 (0.000)\n",
      "4d (0.000)\n",
      "4디 (0.000)\n",
      "d강추 (0.000)\n",
      "oo노잼 (0.000)\n",
      "ㄱ저냥 (0.000)\n",
      "ㄹ혜 (0.000)\n",
      "ㅈ노잼 (0.000)\n",
      "ㅈ루 (0.000)\n",
      "ㅜ나빡 (0.000)\n",
      "ㅜ컴버배치 (0.000)\n",
      "ㅡ스리디 (0.000)\n",
      "ㅡ재밋는 (0.000)\n",
      "日고미 (0.000)\n",
      "부정 단어 상위 30 개\n",
      "히트 (0.000)\n",
      "히트다히트 (0.000)\n",
      "히트작 (0.000)\n",
      "히피 (0.000)\n",
      "히헿 (0.000)\n",
      "히히 (0.000)\n",
      "히히히헤헤헤히힣 (0.000)\n",
      "힌트 (0.000)\n",
      "힐로 (0.000)\n",
      "힐링 (0.000)\n",
      "힘내 (0.000)\n",
      "힘들 (0.000)\n",
      "힘쓰 (0.000)\n",
      "힘없이 (0.000)\n",
      "힙합 (0.000)\n",
      "너무 (-0.041)\n",
      "음악 (-0.190)\n",
      "그냥 (-0.560)\n",
      "스토리 (-0.672)\n",
      "영화 (-1.036)\n",
      "내용 (-1.238)\n",
      "손예진 (-1.374)\n",
      "별로 (-2.278)\n",
      "노잼 (-2.861)\n",
      "평점 (-2.918)\n",
      "아깝 (-3.321)\n",
      "알바 (-3.331)\n",
      "감독 (-3.809)\n",
      "재미없 (-4.715)\n",
      "최악 (-6.185)\n"
     ]
    }
   ],
   "source": [
    "coefficients = lr_tfidf_l1.coef_.tolist()\n",
    "sorted_coefficients = sorted(enumerate(coefficients[0]), key=lambda x:x[1], reverse=True)\n",
    "\n",
    "K=30\n",
    "# print top K positive words\n",
    "print(\"긍정 단어 상위 {} 개\".format(str(K)))\n",
    "for word_id, coef in sorted_coefficients[:K]:\n",
    "    print('{0:} ({1:.3f})'.format(words_dict[word_id], coef))\n",
    "# print top K negative words\n",
    "print(\"부정 단어 상위 {} 개\".format(str(K)))\n",
    "for word_id, coef in sorted_coefficients[-K:]:\n",
    "    print('{0:} ({1:.3f})'.format(words_dict[word_id], coef))"
   ]
  },
  {
   "cell_type": "markdown",
   "metadata": {},
   "source": [
    "# L2 규제화 사용해 보기"
   ]
  },
  {
   "cell_type": "markdown",
   "metadata": {},
   "source": [
    "### TF 정보 사용하기"
   ]
  },
  {
   "cell_type": "code",
   "execution_count": 20,
   "metadata": {},
   "outputs": [],
   "source": [
    "lr_tf_l2 = LogisticRegression(C=0.1, penalty='l2', solver='saga', max_iter=10000)"
   ]
  },
  {
   "cell_type": "code",
   "execution_count": 21,
   "metadata": {},
   "outputs": [
    {
     "name": "stdout",
     "output_type": "stream",
     "text": [
      "\n",
      "Learning time: 0.736 seconds\n"
     ]
    }
   ],
   "source": [
    "start = time.time()\n",
    "lr_tf_l2.fit(tf_train_features, train_labels) # 학습\n",
    "end = time.time()\n",
    "elapsed = end - start \n",
    "print('\\nLearning time: {0:.3f} seconds'.format(elapsed))"
   ]
  },
  {
   "cell_type": "code",
   "execution_count": 22,
   "metadata": {},
   "outputs": [],
   "source": [
    "pred_labels_tf_l2 = lr_tf_l2.predict(tf_test_features) # 예측"
   ]
  },
  {
   "cell_type": "code",
   "execution_count": 23,
   "metadata": {},
   "outputs": [
    {
     "data": {
      "text/plain": [
       "0.9395491803278688"
      ]
     },
     "execution_count": 23,
     "metadata": {},
     "output_type": "execute_result"
    }
   ],
   "source": [
    "accuracy_score(test_labels, pred_labels_tf_l2)"
   ]
  },
  {
   "cell_type": "code",
   "execution_count": 24,
   "metadata": {},
   "outputs": [
    {
     "name": "stdout",
     "output_type": "stream",
     "text": [
      "긍정 단어 상위 30 개\n",
      "재밌 (1.425)\n",
      "재미있 (1.288)\n",
      "최고 (1.119)\n",
      "즐겁 (0.914)\n",
      "역시 (0.900)\n",
      "영상미 (0.747)\n",
      "도르마무 (0.710)\n",
      "다음 (0.708)\n",
      "아이 (0.676)\n",
      "추천 (0.665)\n",
      "약간 (0.634)\n",
      "아이맥스 (0.577)\n",
      "아쉽 (0.544)\n",
      "영상 (0.538)\n",
      "새롭 (0.534)\n",
      "독특 (0.534)\n",
      "망토 (0.534)\n",
      "베니 (0.531)\n",
      "스트레인 (0.508)\n",
      "효과 (0.498)\n",
      "닥터스 (0.486)\n",
      "호강 (0.465)\n",
      "연기 (0.452)\n",
      "귀엽 (0.452)\n",
      "볼거리 (0.451)\n",
      "멋지 (0.448)\n",
      "강추 (0.437)\n",
      "그리 (0.434)\n",
      "재미나 (0.420)\n",
      "한국 (0.418)\n",
      "\n",
      "부정 단어 상위 30 개\n",
      "차라리 (-0.561)\n",
      "개연 (-0.565)\n",
      "진심 (-0.592)\n",
      "그나마 (-0.605)\n",
      "노래 (-0.605)\n",
      "비추 (-0.607)\n",
      "스토리 (-0.615)\n",
      "손예진 (-0.629)\n",
      "막장 (-0.629)\n",
      "짬뽕 (-0.667)\n",
      "보다 (-0.689)\n",
      "초딩 (-0.738)\n",
      "정신 (-0.740)\n",
      "내용 (-0.762)\n",
      "졸리 (-0.765)\n",
      "개노잼 (-0.777)\n",
      "평점 (-0.789)\n",
      "핵노잼 (-0.817)\n",
      "쓰레기 (-0.867)\n",
      "실망 (-0.907)\n",
      "짜증 (-0.911)\n",
      "유치 (-0.971)\n",
      "낭비 (-1.070)\n",
      "감독 (-1.124)\n",
      "별로 (-1.296)\n",
      "알바 (-1.387)\n",
      "노잼 (-1.555)\n",
      "아깝 (-1.708)\n",
      "재미없 (-1.866)\n",
      "최악 (-1.897)\n"
     ]
    }
   ],
   "source": [
    "# Get coefficients of the model\n",
    "coefficients = lr_tf_l2.coef_.tolist()\n",
    "\n",
    "sorted_coefficients = sorted(enumerate(coefficients[0]), key=lambda x:x[1], reverse=True)\n",
    "# 학습에 사용된 각 단어마다의 coefficient (즉 weight) 값이 존재\n",
    "# coefficient값이 큰 순으로 정렬 'reverse=True'\n",
    "\n",
    "\n",
    "K=30\n",
    "# print top K positive words\n",
    "print(\"긍정 단어 상위 {} 개\".format(str(K)))\n",
    "for word_id, coef in sorted_coefficients[:K]:\n",
    "    print('{0:} ({1:.3f})'.format(words_dict[word_id], coef))\n",
    "# print top K negative words\n",
    "print(\"\\n부정 단어 상위 {} 개\".format(str(K)))\n",
    "for word_id, coef in sorted_coefficients[-K:]:\n",
    "    print('{0:} ({1:.3f})'.format(words_dict[word_id], coef))"
   ]
  },
  {
   "cell_type": "markdown",
   "metadata": {},
   "source": [
    "### TF-IDF 정보 사용하기"
   ]
  },
  {
   "cell_type": "code",
   "execution_count": 25,
   "metadata": {},
   "outputs": [],
   "source": [
    "lr_tfidf_l2 = LogisticRegression(C=0.1, penalty='l2', solver='saga', max_iter=10000) \n",
    "lr_tfidf_l2.fit(tfidf_train_features, train_labels) # 학습\n",
    "pred_labels_tfidf_l2 = lr_tfidf_l2.predict(tfidf_test_features)"
   ]
  },
  {
   "cell_type": "code",
   "execution_count": 26,
   "metadata": {},
   "outputs": [
    {
     "data": {
      "text/plain": [
       "0.9298155737704918"
      ]
     },
     "execution_count": 26,
     "metadata": {},
     "output_type": "execute_result"
    }
   ],
   "source": [
    "accuracy_score(test_labels, pred_labels_tfidf_l2)"
   ]
  },
  {
   "cell_type": "code",
   "execution_count": 27,
   "metadata": {},
   "outputs": [
    {
     "name": "stdout",
     "output_type": "stream",
     "text": [
      "긍정 단어 상위 30 개\n",
      "재밌 (2.279)\n",
      "재미있 (1.667)\n",
      "최고 (1.239)\n",
      "마블 (1.220)\n",
      "역시 (1.072)\n",
      "영상미 (0.892)\n",
      "도르마무 (0.829)\n",
      "즐겁 (0.823)\n",
      "아이 (0.803)\n",
      "영상 (0.678)\n",
      "추천 (0.660)\n",
      "다음 (0.643)\n",
      "기대 (0.611)\n",
      "아이맥스 (0.492)\n",
      "베네딕트 (0.475)\n",
      "베니 (0.454)\n",
      "새롭 (0.452)\n",
      "망토 (0.446)\n",
      "쿠키 (0.429)\n",
      "닥터스 (0.427)\n",
      "아쉽 (0.424)\n",
      "볼거리 (0.424)\n",
      "약간 (0.424)\n",
      "효과 (0.423)\n",
      "멋지 (0.420)\n",
      "거래 (0.398)\n",
      "스트레인 (0.395)\n",
      "닥터 (0.386)\n",
      "강추 (0.376)\n",
      "호강 (0.369)\n",
      "\n",
      "부정 단어 상위 30 개\n",
      "비밀 (-0.525)\n",
      "수준 (-0.566)\n",
      "초딩 (-0.578)\n",
      "이해 (-0.593)\n",
      "개연 (-0.599)\n",
      "개노잼 (-0.613)\n",
      "노래 (-0.639)\n",
      "정신 (-0.651)\n",
      "진심 (-0.660)\n",
      "실망 (-0.686)\n",
      "보다 (-0.704)\n",
      "핵노잼 (-0.739)\n",
      "그냥 (-0.745)\n",
      "유치 (-0.791)\n",
      "쓰레기 (-0.808)\n",
      "낭비 (-0.808)\n",
      "음악 (-0.856)\n",
      "스토리 (-0.864)\n",
      "짜증 (-0.884)\n",
      "영화 (-1.017)\n",
      "내용 (-1.077)\n",
      "손예진 (-1.165)\n",
      "노잼 (-1.356)\n",
      "알바 (-1.488)\n",
      "별로 (-1.526)\n",
      "감독 (-1.609)\n",
      "평점 (-1.785)\n",
      "최악 (-2.193)\n",
      "재미없 (-2.209)\n",
      "아깝 (-2.305)\n"
     ]
    }
   ],
   "source": [
    "# Get coefficients of the model\n",
    "coefficients = lr_tfidf_l2.coef_.tolist()\n",
    "\n",
    "sorted_coefficients = sorted(enumerate(coefficients[0]), key=lambda x:x[1], reverse=True)\n",
    "# 학습에 사용된 각 단어마다의 coefficient (즉 weight) 값이 존재\n",
    "# coefficient값이 큰 순으로 정렬 'reverse=True'\n",
    "\n",
    "\n",
    "K=30\n",
    "# print top K positive words\n",
    "print(\"긍정 단어 상위 {} 개\".format(str(K)))\n",
    "for word_id, coef in sorted_coefficients[:K]:\n",
    "    print('{0:} ({1:.3f})'.format(words_dict[word_id], coef))\n",
    "# print top K negative words\n",
    "print(\"\\n부정 단어 상위 {} 개\".format(str(K)))\n",
    "for word_id, coef in sorted_coefficients[-K:]:\n",
    "    print('{0:} ({1:.3f})'.format(words_dict[word_id], coef))"
   ]
  }
 ],
 "metadata": {
  "kernelspec": {
   "display_name": "Python 3 (ipykernel)",
   "language": "python",
   "name": "python3"
  },
  "language_info": {
   "codemirror_mode": {
    "name": "ipython",
    "version": 3
   },
   "file_extension": ".py",
   "mimetype": "text/x-python",
   "name": "python",
   "nbconvert_exporter": "python",
   "pygments_lexer": "ipython3",
   "version": "3.8.5"
  }
 },
 "nbformat": 4,
 "nbformat_minor": 2
}
