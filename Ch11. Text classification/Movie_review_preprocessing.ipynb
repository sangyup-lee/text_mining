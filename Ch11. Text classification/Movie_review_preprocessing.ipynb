{
 "cells": [
  {
   "cell_type": "code",
   "execution_count": 12,
   "metadata": {},
   "outputs": [],
   "source": [
    "from kiwipiepy import Kiwi\n",
    "kiwi = Kiwi()"
   ]
  },
  {
   "cell_type": "code",
   "execution_count": 13,
   "metadata": {},
   "outputs": [],
   "source": [
    "# 사용하고자 하는 품사 선택\n",
    "# 품사 정보: https://github.com/bab2min/kiwipiepy#%ED%92%88%EC%82%AC-%ED%83%9C%EA%B7%B8\n",
    "FEATURES =['NNG', 'NNP', 'VA', 'VV', 'MAG']"
   ]
  },
  {
   "cell_type": "code",
   "execution_count": 15,
   "metadata": {},
   "outputs": [],
   "source": [
    "import re\n",
    "\n",
    "def select_words(text):\n",
    "    text = text.strip()\n",
    "    text = re.sub(r'[^\\d\\s\\w]',' ',text)\n",
    "    kiwi_tokens = kiwi.tokenize(text)\n",
    "    selected_words=[]\n",
    "    for token in kiwi_tokens:\n",
    "        if token.tag in FEATURES:\n",
    "            selected_words.append(token.form)\n",
    "    return ' '.join(selected_words)"
   ]
  },
  {
   "cell_type": "code",
   "execution_count": 17,
   "metadata": {},
   "outputs": [],
   "source": [
    "with open('2016_movie_reviews_part.txt', 'r', encoding='utf-8') as f:\n",
    "    docs = [doc.strip().split('\\t\\t') for doc in f]"
   ]
  },
  {
   "cell_type": "code",
   "execution_count": 18,
   "metadata": {},
   "outputs": [],
   "source": [
    "with open('2016_filtered_review_part.txt', 'w', encoding='utf-8') as f1:\n",
    "    for doc in docs:\n",
    "        if len(doc)==3:\n",
    "            review=doc[1]\n",
    "            doc_review = doc[0]+'\\t\\t'+select_words(review)+'\\t\\t'+doc[2]+'\\n'\n",
    "            f1.write(doc_review)"
   ]
  },
  {
   "cell_type": "code",
   "execution_count": null,
   "metadata": {},
   "outputs": [],
   "source": []
  }
 ],
 "metadata": {
  "kernelspec": {
   "display_name": "Python 3 (ipykernel)",
   "language": "python",
   "name": "python3"
  },
  "language_info": {
   "codemirror_mode": {
    "name": "ipython",
    "version": 3
   },
   "file_extension": ".py",
   "mimetype": "text/x-python",
   "name": "python",
   "nbconvert_exporter": "python",
   "pygments_lexer": "ipython3",
   "version": "3.8.5"
  }
 },
 "nbformat": 4,
 "nbformat_minor": 4
}
