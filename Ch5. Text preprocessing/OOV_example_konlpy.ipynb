{
 "cells": [
  {
   "cell_type": "markdown",
   "metadata": {},
   "source": [
    "### 미등록 단어 문제"
   ]
  },
  {
   "cell_type": "code",
   "execution_count": 2,
   "metadata": {},
   "outputs": [
    {
     "name": "stdout",
     "output_type": "stream",
     "text": [
      "[('파', 'Noun'), ('이콘', 'Noun'), ('은', 'Josa'), ('파이썬', 'Noun'), ('콘퍼런스', 'Noun'), ('의', 'Josa'), ('약자', 'Noun'), ('이다', 'Josa')]\n"
     ]
    }
   ],
   "source": [
    "text = '파이콘은 파이썬 콘퍼런스의 약자이다'\n",
    "import konlpy.tag\n",
    "okt = konlpy.tag.Okt()\n",
    "print(okt.pos(text))"
   ]
  },
  {
   "cell_type": "markdown",
   "metadata": {},
   "source": [
    "### ckonlpy 모듈의 Twitter 클래스 사용하기"
   ]
  },
  {
   "cell_type": "code",
   "execution_count": 4,
   "metadata": {},
   "outputs": [],
   "source": [
    "# 아래와 같이 customized_konlpy 모듈을 설치합니다.\n",
    "# !pip install customized_konlpy "
   ]
  },
  {
   "cell_type": "code",
   "execution_count": 3,
   "metadata": {},
   "outputs": [
    {
     "name": "stderr",
     "output_type": "stream",
     "text": [
      "C:\\Users\\user\\anaconda3\\lib\\site-packages\\konlpy\\tag\\_okt.py:16: UserWarning: \"Twitter\" has changed to \"Okt\" since KoNLPy v0.4.5.\n",
      "  warn('\"Twitter\" has changed to \"Okt\" since KoNLPy v0.4.5.')\n"
     ]
    }
   ],
   "source": [
    "# customized_konlpy (ckonlpy)를 사용해서 새로운 단어 추가하기\n",
    "from ckonlpy.tag import Twitter\n",
    "twitter = Twitter()"
   ]
  },
  {
   "cell_type": "code",
   "execution_count": 5,
   "metadata": {},
   "outputs": [
    {
     "name": "stdout",
     "output_type": "stream",
     "text": [
      "[('파', 'Noun'), ('이콘', 'Noun'), ('은', 'Josa'), ('파이썬', 'Noun'), ('콘퍼런스', 'Noun'), ('의', 'Josa'), ('약자', 'Noun'), ('이다', 'Josa')]\n"
     ]
    }
   ],
   "source": [
    "text = '파이콘은 파이썬 콘퍼런스의 약자이다'\n",
    "print(twitter.pos(text))"
   ]
  },
  {
   "cell_type": "code",
   "execution_count": 6,
   "metadata": {},
   "outputs": [],
   "source": [
    "twitter.add_dictionary('파이콘', 'Noun') # 새로운 단어 추가하기"
   ]
  },
  {
   "cell_type": "code",
   "execution_count": 7,
   "metadata": {},
   "outputs": [
    {
     "name": "stdout",
     "output_type": "stream",
     "text": [
      "[('파이콘', 'Noun'), ('은', 'Josa'), ('파이썬', 'Noun'), ('콘퍼런스', 'Noun'), ('의', 'Josa'), ('약자', 'Noun'), ('이다', 'Josa')]\n"
     ]
    }
   ],
   "source": [
    "print(twitter.pos(text))"
   ]
  },
  {
   "cell_type": "code",
   "execution_count": 8,
   "metadata": {},
   "outputs": [],
   "source": [
    "#한 번에 여러 단어 추가하기\n",
    "twitter.add_dictionary(['파이콘','김갑갑'], 'Noun')"
   ]
  },
  {
   "cell_type": "markdown",
   "metadata": {},
   "source": [
    "### 코모란 형태소 분석기의 경우"
   ]
  },
  {
   "cell_type": "code",
   "execution_count": 11,
   "metadata": {},
   "outputs": [],
   "source": [
    "from konlpy.tag import Komoran\n",
    "komoran = Komoran()"
   ]
  },
  {
   "cell_type": "code",
   "execution_count": 13,
   "metadata": {},
   "outputs": [
    {
     "name": "stdout",
     "output_type": "stream",
     "text": [
      "[('파', 'NNG'), ('이콘', 'NNP'), ('은', 'JX'), ('파이썬', 'NNP'), ('콘퍼런스', 'NNP'), ('의', 'JKG'), ('약자', 'NNP'), ('이다', 'NNP')]\n"
     ]
    }
   ],
   "source": [
    "print(komoran.pos(text))"
   ]
  },
  {
   "cell_type": "markdown",
   "metadata": {},
   "source": [
    "Komoran() 생성자 함수의 userdic 파라미터 설정하기"
   ]
  },
  {
   "cell_type": "code",
   "execution_count": 14,
   "metadata": {},
   "outputs": [],
   "source": [
    "komoran2 = konlpy.tag.Komoran(userdic='dic.txt')"
   ]
  },
  {
   "cell_type": "code",
   "execution_count": 15,
   "metadata": {},
   "outputs": [
    {
     "name": "stdout",
     "output_type": "stream",
     "text": [
      "[('파이콘', 'NNG'), ('은', 'JX'), ('파이썬', 'NNP'), ('콘퍼런스', 'NNP'), ('의', 'JKG'), ('약자', 'NNP'), ('이다', 'NNP')]\n"
     ]
    }
   ],
   "source": [
    "print(komoran2.pos(text))"
   ]
  }
 ],
 "metadata": {
  "kernelspec": {
   "display_name": "Python 3 (ipykernel)",
   "language": "python",
   "name": "python3"
  },
  "language_info": {
   "codemirror_mode": {
    "name": "ipython",
    "version": 3
   },
   "file_extension": ".py",
   "mimetype": "text/x-python",
   "name": "python",
   "nbconvert_exporter": "python",
   "pygments_lexer": "ipython3",
   "version": "3.8.5"
  }
 },
 "nbformat": 4,
 "nbformat_minor": 2
}
