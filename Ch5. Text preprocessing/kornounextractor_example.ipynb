{
 "cells": [
  {
   "cell_type": "code",
   "execution_count": 1,
   "metadata": {},
   "outputs": [],
   "source": [
    "from kornounextractor.noun_extractor import extract"
   ]
  },
  {
   "cell_type": "code",
   "execution_count": 2,
   "metadata": {},
   "outputs": [],
   "source": [
    "with open('example.txt', 'r', encoding='utf8') as f:\n",
    "    news_article = f.read()"
   ]
  },
  {
   "cell_type": "code",
   "execution_count": 3,
   "metadata": {},
   "outputs": [
    {
     "name": "stdout",
     "output_type": "stream",
     "text": [
      "['UEFA', '가능', '가디언', '감독', '고려', '근거', '긴장', '내년', '도전', '독일', '득점', '리그', '마우리시오', '매력', '문제', '뮌헨', '바이에른', '반응', '병역', '보도', '분데스리가', '소식', '손흥민', '시점', '아시안게임', '언론', '언어', '연봉', '영국', '영입', '우승', '유럽축구연맹', '유력지', '이야기', '이용', '이적설', '이탈리아', '일간지', '일부', '입단', '입장', '잉글랜드', '자리', '자카르타', '재계약', '재점화', '재해석', '적응', '챔피언스리그', '최근', '최초', '추진', '축구공', '칼치오메르카토', '토트넘', '팔렘방', '포체티노', '프리미어리그', '한국시간', '현지', '협상', '회의']\n"
     ]
    }
   ],
   "source": [
    "print(sorted(extract(news_article)))"
   ]
  },
  {
   "cell_type": "code",
   "execution_count": 4,
   "metadata": {},
   "outputs": [
    {
     "data": {
      "text/plain": [
       "62"
      ]
     },
     "execution_count": 4,
     "metadata": {},
     "output_type": "execute_result"
    }
   ],
   "source": [
    "len(extract(news_article))"
   ]
  },
  {
   "cell_type": "code",
   "execution_count": 5,
   "metadata": {},
   "outputs": [
    {
     "name": "stdout",
     "output_type": "stream",
     "text": [
      "['가능', '가디언', '내년', '독일', '리그', '문제', '뮌헨', '보도', '분데스리가', '손흥민', '언론', '영국', '이적설', '이탈리아', '적응', '챔피언스리그', '토트넘']\n"
     ]
    }
   ],
   "source": [
    "print(sorted(extract(news_article, freq=2)))"
   ]
  },
  {
   "cell_type": "code",
   "execution_count": 6,
   "metadata": {},
   "outputs": [
    {
     "data": {
      "text/plain": [
       "17"
      ]
     },
     "execution_count": 6,
     "metadata": {},
     "output_type": "execute_result"
    }
   ],
   "source": [
    "len(extract(news_article, freq=2))"
   ]
  },
  {
   "cell_type": "markdown",
   "metadata": {
    "collapsed": true
   },
   "source": [
    "### Okt 결과물과 비교"
   ]
  },
  {
   "cell_type": "code",
   "execution_count": 11,
   "metadata": {},
   "outputs": [],
   "source": [
    "from konlpy.tag import Okt\n",
    "okt = Okt()"
   ]
  },
  {
   "cell_type": "code",
   "execution_count": 19,
   "metadata": {},
   "outputs": [
    {
     "name": "stdout",
     "output_type": "stream",
     "text": [
      "{'전', '가능성', '점화', '도', '활약', '추진', '동안', '이적설', '메르', '최초', '득점', '일간', '자리', '수', '뮌헨', '독일', '칼치', '잉글랜드', '연봉', '팔렘방', '입장', '긴장', '더', '현지', '시점', '근거', '반응', '카토', '리그', '만', '유럽', '이후', '재', '챔피언스리그', '언론', '일도', '이탈리아', '최근', '가디언', '티노', '시간', '토트넘', '의', '것', '손흥민', '문제', '마', '영국', '본격', '바이에른', '소식', '감독', '포체', '체결', '협상', '게임', '병역', '팀', '도전', '이용', '보도로', '입', '축구공', '보도', '지도', '해', '유력', '회의', '이적', '한국', '연맹', '자카르타', '시오', '수도', '두', '우승', '매력', '축구', '언어', '적응', '입단', '재해', '아시안', '점', '분데스리가', '프리미어리그', '설명', '당시', '재계약', '이상', '내년', '고려', '우리', '일부', '이야기', '챔피언', '은'}\n"
     ]
    }
   ],
   "source": [
    "print(set(okt.nouns(news_article)))"
   ]
  },
  {
   "cell_type": "markdown",
   "metadata": {},
   "source": [
    "### Komoran 결과물과 비교"
   ]
  },
  {
   "cell_type": "code",
   "execution_count": 12,
   "metadata": {},
   "outputs": [],
   "source": [
    "from konlpy.tag import Komoran\n",
    "komoran = Komoran()"
   ]
  },
  {
   "cell_type": "code",
   "execution_count": 13,
   "metadata": {},
   "outputs": [
    {
     "name": "stdout",
     "output_type": "stream",
     "text": [
      "{'시즌', '있다', '일', '전', '점화', '년', '활약', '추진', '동안', '최초', '득점', '자리', '수', '마우리시오 포체티노', '해석', '뮌헨', '독일', '잉글랜드', '연봉', '팔렘방', '입장', '긴장', '유력지', '현지', '시점', '근거', '반응', '카토', '리그', '영입', '만', '유럽', '설', '이후', '챔피언스리그', '언론', '이탈리아', '최근', '가디언', '치', '시간', '토트넘', '아시안게임', '것', '칼', '손흥민', '문제', '영국', '바이에른', '소식', '감독', '오메', '체결', '협상', '병역', '팀', '도전', '이용', '일간지', '축구공', '보도', '지도', '회의', '이적', '한국', '연맹', '자카르타', '우승', '매력', '축구', '언어', '적응', '입단', '점', '분데스리가', '프리미어리그', '성공', '설명', '당시', '재계약', '이상', '내년', '고려', '하진', '일부', '1월', '이야기', '챔피언', '르'}\n"
     ]
    }
   ],
   "source": [
    "print(set(komoran.nouns(news_article)))"
   ]
  },
  {
   "cell_type": "code",
   "execution_count": null,
   "metadata": {},
   "outputs": [],
   "source": []
  }
 ],
 "metadata": {
  "kernelspec": {
   "display_name": "Python 3 (ipykernel)",
   "language": "python",
   "name": "python3"
  },
  "language_info": {
   "codemirror_mode": {
    "name": "ipython",
    "version": 3
   },
   "file_extension": ".py",
   "mimetype": "text/x-python",
   "name": "python",
   "nbconvert_exporter": "python",
   "pygments_lexer": "ipython3",
   "version": "3.8.5"
  }
 },
 "nbformat": 4,
 "nbformat_minor": 2
}
