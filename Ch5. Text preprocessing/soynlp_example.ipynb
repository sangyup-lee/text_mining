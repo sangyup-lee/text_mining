{
 "cells": [
  {
   "cell_type": "code",
   "execution_count": 1,
   "metadata": {},
   "outputs": [
    {
     "name": "stderr",
     "output_type": "stream",
     "text": [
      "<frozen importlib._bootstrap>:219: RuntimeWarning: scipy._lib.messagestream.MessageStream size changed, may indicate binary incompatibility. Expected 56 from C header, got 64 from PyObject\n"
     ]
    }
   ],
   "source": [
    "from soynlp.noun import LRNounExtractor_v2"
   ]
  },
  {
   "cell_type": "code",
   "execution_count": 2,
   "metadata": {},
   "outputs": [],
   "source": [
    "import re\n",
    "def get_sentences(text):\n",
    "    sentences = re.split(r'[\\.\\?\\!]\\s+', text)\n",
    "    return sentences"
   ]
  },
  {
   "cell_type": "code",
   "execution_count": 3,
   "metadata": {},
   "outputs": [],
   "source": [
    "with open('example.txt', 'r', encoding='utf8') as f:\n",
    "    news_article = f.read()"
   ]
  },
  {
   "cell_type": "code",
   "execution_count": 4,
   "metadata": {},
   "outputs": [
    {
     "name": "stdout",
     "output_type": "stream",
     "text": [
      "['토트넘이 긴장해야 할 지도 모른다', '손흥민의 바이에른 뮌헨 이적설이 끊이질 않는다', '영국 유력지 ‘가디언’은 22일(한국시간) “마우리시오 포체티노 감독에게 좋지 않은 소식이다', '내년 1월 뮌헨이 손흥민 영입 추진하고 있다', '손흥민은 분데스리가 챔피언 뮌헨으로 떠날 수도 있다”라고 설명했다', '손흥민의 이적설은 이탈리아 현지에서 흘러 나왔다', '이탈리아 일간지 ‘칼치오메르카토’의 최초 보도 이후 영국과 일부 독일 언론에서 재해석해 이적설을 전했다', '당시 언론들은 손흥민이 최근 재계약을 체결했다는 점을 근거로 가능성을 낮게 점쳤다', '‘가디언’도 “손흥민이 이적설을 민감하게 반응하진 않을 것이다', '뮌헨 이적설을 토트넘과 연봉 협상에 이용할 수도 있다”라고 전했다', '그러나 ‘가디언’의 보도로 뮌헨 이적설이 재점화 된 점을 고려하면, 토트넘 입장에서 흘려 들을 만한 이야기는 아니다', '손흥민은 2015년 토트넘 입단 전까지 독일 분데스리가에서 활약했다', '언어와 리그 적응에 문제가 없단 점과, 뮌헨이 유럽축구연맹(UEFA) 챔피언스리그 우승에 도전하는 점을 돌아보면 매력적인 팀이다', '2018 자카르타-팔렘방 아시안게임으로 더 이상 병역 문제도 없다', '축구공은 둥글기에 어떤 일도 일어날 수 있다', '그러나 내년 1월 이적에는 회의적이다 ', '손흥민은 잉글랜드 프리미어리그 적응 이후 2시즌 동안 두 자리 득점에 성공했다', '리그와 챔피언스리그가 본격적으로 접어드는 시점에 토트넘이 손흥민이 내줄 가능성은 낮다.']\n"
     ]
    }
   ],
   "source": [
    "sents = get_sentences(news_article)\n",
    "print(sents)"
   ]
  },
  {
   "cell_type": "code",
   "execution_count": 5,
   "metadata": {},
   "outputs": [
    {
     "name": "stdout",
     "output_type": "stream",
     "text": [
      "[Noun Extractor] use default predictors\n",
      "[Noun Extractor] num features: pos=3929, neg=2321, common=107\n",
      "[Noun Extractor] counting eojeols\n",
      "[EojeolCounter] n eojeol = 138 from 18 sents. mem=0.118 Gb                    \n",
      "[Noun Extractor] complete eojeol counter -> lr graph\n",
      "[Noun Extractor] has been trained. #eojeols=162, mem=0.118 Gb\n",
      "[Noun Extractor] batch prediction was completed for 65 words\n",
      "[Noun Extractor] checked compounds. discovered 0 compounds\n",
      "[Noun Extractor] postprocessing detaching_features : 17 -> 17\n",
      "[Noun Extractor] postprocessing ignore_features : 17 -> 16\n",
      "[Noun Extractor] postprocessing ignore_NJ : 16 -> 16\n",
      "[Noun Extractor] 16 nouns (0 compounds) with min frequency=1\n",
      "[Noun Extractor] flushing was done. mem=0.119 Gb                    \n",
      "[Noun Extractor] 32.72 % eojeols are covered\n",
      "{'챔피언스리그': NounScore(frequency=2, score=1.0), '‘가디언’': NounScore(frequency=3, score=1.0), '분데스리': NounScore(frequency=2, score=1.0), '토트넘': NounScore(frequency=5, score=1.0), '손흥민': NounScore(frequency=8, score=1.0), '이적설': NounScore(frequency=6, score=1.0), '가능성': NounScore(frequency=2, score=1.0), '적응': NounScore(frequency=2, score=1.0), '보도': NounScore(frequency=2, score=1.0), '문제': NounScore(frequency=2, score=1.0), '언론': NounScore(frequency=1, score=0.5), '리그': NounScore(frequency=2, score=1.0), '뮌헨': NounScore(frequency=6, score=1.0), '영국': NounScore(frequency=2, score=1.0), '수': NounScore(frequency=3, score=1.0), '점': NounScore(frequency=4, score=1.0)}\n"
     ]
    }
   ],
   "source": [
    "noun_extractor = LRNounExtractor_v2(verbose=True)\n",
    "nouns = noun_extractor.train_extract(sents)\n",
    "print(nouns)"
   ]
  },
  {
   "cell_type": "code",
   "execution_count": 6,
   "metadata": {},
   "outputs": [
    {
     "name": "stdout",
     "output_type": "stream",
     "text": [
      "['‘가디언’', '가능성', '리그', '문제', '뮌헨', '보도', '분데스리', '손흥민', '수', '언론', '영국', '이적설', '적응', '점', '챔피언스리그', '토트넘']\n"
     ]
    }
   ],
   "source": [
    "print(sorted(list(nouns.keys())))"
   ]
  },
  {
   "cell_type": "code",
   "execution_count": null,
   "metadata": {
    "collapsed": true
   },
   "outputs": [],
   "source": []
  }
 ],
 "metadata": {
  "kernelspec": {
   "display_name": "Python 3 (ipykernel)",
   "language": "python",
   "name": "python3"
  },
  "language_info": {
   "codemirror_mode": {
    "name": "ipython",
    "version": 3
   },
   "file_extension": ".py",
   "mimetype": "text/x-python",
   "name": "python",
   "nbconvert_exporter": "python",
   "pygments_lexer": "ipython3",
   "version": "3.8.5"
  }
 },
 "nbformat": 4,
 "nbformat_minor": 2
}
