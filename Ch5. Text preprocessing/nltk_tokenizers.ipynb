{
 "cells": [
  {
   "cell_type": "code",
   "execution_count": 1,
   "metadata": {},
   "outputs": [],
   "source": [
    "import nltk"
   ]
  },
  {
   "cell_type": "code",
   "execution_count": 2,
   "metadata": {},
   "outputs": [],
   "source": [
    "text = \"This book is Mr. Lee's book -- Its title is 'Introduction to Text Mining'.\""
   ]
  },
  {
   "cell_type": "markdown",
   "metadata": {},
   "source": [
    "기본적으로 split() 함수 적용해 보기"
   ]
  },
  {
   "cell_type": "code",
   "execution_count": 3,
   "metadata": {},
   "outputs": [
    {
     "name": "stdout",
     "output_type": "stream",
     "text": [
      "['This', 'book', 'is', 'Mr.', \"Lee's\", 'book', '--', 'Its', 'title', 'is', \"'Introduction\", 'to', 'Text', \"Mining'.\"]\n"
     ]
    }
   ],
   "source": [
    "filtered_text = text.split()\n",
    "print(filtered_text)"
   ]
  },
  {
   "cell_type": "markdown",
   "metadata": {},
   "source": [
    "nltk에서 제공되는 word_tokenize() 사용해 보기"
   ]
  },
  {
   "cell_type": "code",
   "execution_count": 25,
   "metadata": {},
   "outputs": [
    {
     "name": "stdout",
     "output_type": "stream",
     "text": [
      "['This', 'book', 'is', 'Mr.', 'Lee', \"'s\", 'book', '--', 'Its', 'title', 'is', \"'Introduction\", 'to', 'Text', 'Mining', \"'\", '.']\n"
     ]
    }
   ],
   "source": [
    "print(nltk.word_tokenize(text))"
   ]
  },
  {
   "cell_type": "markdown",
   "metadata": {},
   "source": [
    "WordPunctTokenizer 사용하기"
   ]
  },
  {
   "cell_type": "code",
   "execution_count": 4,
   "metadata": {},
   "outputs": [
    {
     "name": "stdout",
     "output_type": "stream",
     "text": [
      "['This', 'book', 'is', 'Mr', '.', 'Lee', \"'\", 's', 'book', '--', 'Its', 'title', 'is', \"'\", 'Introduction', 'to', 'Text', 'Mining', \"'.\"]\n"
     ]
    }
   ],
   "source": [
    "from nltk.tokenize import WordPunctTokenizer\n",
    "tk = WordPunctTokenizer()\n",
    "print(tk.tokenize(text))"
   ]
  },
  {
   "cell_type": "markdown",
   "metadata": {},
   "source": [
    "TreebankWordTokenizer 사용하기"
   ]
  },
  {
   "cell_type": "code",
   "execution_count": 5,
   "metadata": {},
   "outputs": [
    {
     "name": "stdout",
     "output_type": "stream",
     "text": [
      "['This', 'book', 'is', 'Mr.', 'Lee', \"'s\", 'book', '--', 'Its', 'title', 'is', \"'Introduction\", 'to', 'Text', 'Mining', \"'\", '.']\n"
     ]
    }
   ],
   "source": [
    "from nltk.tokenize import TreebankWordTokenizer\n",
    "tb = TreebankWordTokenizer()\n",
    "print(tb.tokenize(text))"
   ]
  },
  {
   "cell_type": "markdown",
   "metadata": {},
   "source": [
    "casual_tokenize() 사용하기"
   ]
  },
  {
   "cell_type": "code",
   "execution_count": 6,
   "metadata": {},
   "outputs": [
    {
     "data": {
      "text/plain": [
       "['soooooooooo', 'cool', '.', 'I', 'love', 'it', '.']"
      ]
     },
     "execution_count": 6,
     "metadata": {},
     "output_type": "execute_result"
    }
   ],
   "source": [
    "from nltk.tokenize.casual import casual_tokenize\n",
    "comment = \"soooooooooo cool. I love it.\"\n",
    "casual_tokenize(comment)"
   ]
  },
  {
   "cell_type": "markdown",
   "metadata": {},
   "source": [
    "ToktokTokenizer 사용하기"
   ]
  },
  {
   "cell_type": "code",
   "execution_count": 7,
   "metadata": {},
   "outputs": [
    {
     "name": "stdout",
     "output_type": "stream",
     "text": [
      "['This', 'book', 'is', 'Mr.', 'Lee', \"'\", 's', 'book', '--', 'Its', 'title', 'is', \"'\", 'Introduction', 'to', 'Text', 'Mining', \"'\", '.']\n"
     ]
    }
   ],
   "source": [
    "from nltk.tokenize.toktok import ToktokTokenizer\n",
    "tok = ToktokTokenizer()\n",
    "print(tok.tokenize(text))"
   ]
  },
  {
   "cell_type": "markdown",
   "metadata": {},
   "source": [
    "RegexpTokenizer 사용하기"
   ]
  },
  {
   "cell_type": "code",
   "execution_count": 8,
   "metadata": {},
   "outputs": [
    {
     "name": "stdout",
     "output_type": "stream",
     "text": [
      "['This', 'book', 'is', 'Mr', 'Lee', 's', 'book', 'Its', 'title', 'is', 'Introduction', 'to', 'Text', 'Mining']\n"
     ]
    }
   ],
   "source": [
    "from nltk.tokenize import RegexpTokenizer\n",
    "rg = RegexpTokenizer(pattern = r'\\w+')\n",
    "print(rg.tokenize(text))"
   ]
  },
  {
   "cell_type": "code",
   "execution_count": 9,
   "metadata": {},
   "outputs": [
    {
     "name": "stdout",
     "output_type": "stream",
     "text": [
      "['This', 'book', 'is', 'Mr', '.', 'Lee', \"'\", 's', 'book', '--', 'Its', 'title', 'is', \"'\", 'Introduction', 'to', 'Text', 'Mining', \"'.\"]\n"
     ]
    }
   ],
   "source": [
    "rg1 = RegexpTokenizer(pattern = r'\\w+|[^\\w\\d\\s]+')\n",
    "print(rg1.tokenize(text))"
   ]
  }
 ],
 "metadata": {
  "kernelspec": {
   "display_name": "Python 3 (ipykernel)",
   "language": "python",
   "name": "python3"
  },
  "language_info": {
   "codemirror_mode": {
    "name": "ipython",
    "version": 3
   },
   "file_extension": ".py",
   "mimetype": "text/x-python",
   "name": "python",
   "nbconvert_exporter": "python",
   "pygments_lexer": "ipython3",
   "version": "3.8.5"
  }
 },
 "nbformat": 4,
 "nbformat_minor": 2
}
