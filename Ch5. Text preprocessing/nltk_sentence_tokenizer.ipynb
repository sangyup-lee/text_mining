{
 "cells": [
  {
   "cell_type": "code",
   "execution_count": 1,
   "metadata": {},
   "outputs": [],
   "source": [
    "import nltk"
   ]
  },
  {
   "cell_type": "code",
   "execution_count": 2,
   "metadata": {},
   "outputs": [],
   "source": [
    "text = 'The carrot is one of vegetables. Research shows Vegetables are good for health. Thus, carrots are also good for health. Your health can be improved with carrots.'"
   ]
  },
  {
   "cell_type": "code",
   "execution_count": 3,
   "metadata": {},
   "outputs": [
    {
     "name": "stdout",
     "output_type": "stream",
     "text": [
      "['The carrot is one of vegetables', 'Research shows Vegetables are good for health', 'Thus, carrots are also good for health', 'Your health can be improved with carrots.']\n"
     ]
    }
   ],
   "source": [
    "# 정규식을 이용해서 문장 단위로 분할하기\n",
    "import re\n",
    "sentences = re.split(r'[\\.\\?\\!]\\s+', text)\n",
    "print(sentences)"
   ]
  },
  {
   "cell_type": "code",
   "execution_count": 4,
   "metadata": {},
   "outputs": [
    {
     "name": "stdout",
     "output_type": "stream",
     "text": [
      "['The carrot is one of vegetables.', 'Research shows Vegetables are good for health.', 'Thus, carrots are also good for health.', 'Your health can be improved with carrots.']\n"
     ]
    }
   ],
   "source": [
    "# sent_tokenize() 함수 사용하기\n",
    "print(nltk.sent_tokenize(text))"
   ]
  },
  {
   "cell_type": "code",
   "execution_count": 5,
   "metadata": {},
   "outputs": [
    {
     "name": "stdout",
     "output_type": "stream",
     "text": [
      "['The carrot is one of vegetables.', 'Research shows Vegetables are good for health.', 'Thus, carrots are also good for health.', 'Your health can be improved with carrots.']\n"
     ]
    }
   ],
   "source": [
    "# PunktSentenceTokenizer 클래스 사용하기\n",
    "from nltk.tokenize import PunktSentenceTokenizer\n",
    "pstk = PunktSentenceTokenizer()\n",
    "print(pstk.tokenize(text))"
   ]
  },
  {
   "cell_type": "code",
   "execution_count": null,
   "metadata": {},
   "outputs": [],
   "source": []
  }
 ],
 "metadata": {
  "kernelspec": {
   "display_name": "Python 3 (ipykernel)",
   "language": "python",
   "name": "python3"
  },
  "language_info": {
   "codemirror_mode": {
    "name": "ipython",
    "version": 3
   },
   "file_extension": ".py",
   "mimetype": "text/x-python",
   "name": "python",
   "nbconvert_exporter": "python",
   "pygments_lexer": "ipython3",
   "version": "3.8.5"
  }
 },
 "nbformat": 4,
 "nbformat_minor": 2
}
