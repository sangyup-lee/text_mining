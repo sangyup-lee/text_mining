{
 "cells": [
  {
   "cell_type": "code",
   "execution_count": 1,
   "metadata": {},
   "outputs": [],
   "source": [
    "import nltk"
   ]
  },
  {
   "cell_type": "code",
   "execution_count": 2,
   "metadata": {},
   "outputs": [
    {
     "data": {
      "text/plain": [
       "[('I', 'do'),\n",
       " ('do', \"n't\"),\n",
       " (\"n't\", 'want'),\n",
       " ('want', 'to'),\n",
       " ('to', 'watch'),\n",
       " ('watch', 'the'),\n",
       " ('the', 'movie'),\n",
       " ('movie', 'in'),\n",
       " ('in', 'a'),\n",
       " ('a', 'theater'),\n",
       " ('theater', '.'),\n",
       " ('.', 'There'),\n",
       " ('There', 'are'),\n",
       " ('are', 'bad'),\n",
       " ('bad', 'reviews'),\n",
       " ('reviews', 'on'),\n",
       " ('on', 'it'),\n",
       " ('it', '.')]"
      ]
     },
     "execution_count": 2,
     "metadata": {},
     "output_type": "execute_result"
    }
   ],
   "source": [
    "content = \"I don't want to watch the movie in a theater. There are bad reviews on it.\"\n",
    "words = nltk.word_tokenize(content)\n",
    "from nltk.util import ngrams\n",
    "list(ngrams(words, 2))"
   ]
  },
  {
   "cell_type": "code",
   "execution_count": 3,
   "metadata": {},
   "outputs": [
    {
     "data": {
      "text/plain": [
       "['I do',\n",
       " \"do n't\",\n",
       " \"n't want\",\n",
       " 'want to',\n",
       " 'to watch',\n",
       " 'watch the',\n",
       " 'the movie',\n",
       " 'movie in',\n",
       " 'in a',\n",
       " 'a theater',\n",
       " 'theater .',\n",
       " '. There',\n",
       " 'There are',\n",
       " 'are bad',\n",
       " 'bad reviews',\n",
       " 'reviews on',\n",
       " 'on it',\n",
       " 'it .']"
      ]
     },
     "execution_count": 3,
     "metadata": {},
     "output_type": "execute_result"
    }
   ],
   "source": [
    " [' '.join(x) for x in list(ngrams(words, 2))]"
   ]
  },
  {
   "cell_type": "code",
   "execution_count": null,
   "metadata": {
    "collapsed": true
   },
   "outputs": [],
   "source": []
  }
 ],
 "metadata": {
  "kernelspec": {
   "display_name": "Python 3 (ipykernel)",
   "language": "python",
   "name": "python3"
  },
  "language_info": {
   "codemirror_mode": {
    "name": "ipython",
    "version": 3
   },
   "file_extension": ".py",
   "mimetype": "text/x-python",
   "name": "python",
   "nbconvert_exporter": "python",
   "pygments_lexer": "ipython3",
   "version": "3.8.5"
  }
 },
 "nbformat": 4,
 "nbformat_minor": 2
}
