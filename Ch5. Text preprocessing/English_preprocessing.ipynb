{
 "cells": [
  {
   "cell_type": "code",
   "execution_count": 1,
   "metadata": {},
   "outputs": [],
   "source": [
    "import nltk # natural language tool kit"
   ]
  },
  {
   "cell_type": "code",
   "execution_count": 2,
   "metadata": {},
   "outputs": [
    {
     "name": "stderr",
     "output_type": "stream",
     "text": [
      "[nltk_data] Downloading collection 'all'\n",
      "[nltk_data]    | \n",
      "[nltk_data]    | Downloading package abc to\n",
      "[nltk_data]    |     C:\\Users\\user\\AppData\\Roaming\\nltk_data...\n",
      "[nltk_data]    |   Package abc is already up-to-date!\n",
      "[nltk_data]    | Downloading package alpino to\n",
      "[nltk_data]    |     C:\\Users\\user\\AppData\\Roaming\\nltk_data...\n",
      "[nltk_data]    |   Package alpino is already up-to-date!\n",
      "[nltk_data]    | Downloading package averaged_perceptron_tagger to\n",
      "[nltk_data]    |     C:\\Users\\user\\AppData\\Roaming\\nltk_data...\n",
      "[nltk_data]    |   Package averaged_perceptron_tagger is already up-\n",
      "[nltk_data]    |       to-date!\n",
      "[nltk_data]    | Downloading package averaged_perceptron_tagger_ru to\n",
      "[nltk_data]    |     C:\\Users\\user\\AppData\\Roaming\\nltk_data...\n",
      "[nltk_data]    |   Package averaged_perceptron_tagger_ru is already\n",
      "[nltk_data]    |       up-to-date!\n",
      "[nltk_data]    | Downloading package basque_grammars to\n",
      "[nltk_data]    |     C:\\Users\\user\\AppData\\Roaming\\nltk_data...\n",
      "[nltk_data]    |   Package basque_grammars is already up-to-date!\n",
      "[nltk_data]    | Downloading package bcp47 to\n",
      "[nltk_data]    |     C:\\Users\\user\\AppData\\Roaming\\nltk_data...\n",
      "[nltk_data]    | Downloading package biocreative_ppi to\n",
      "[nltk_data]    |     C:\\Users\\user\\AppData\\Roaming\\nltk_data...\n",
      "[nltk_data]    |   Package biocreative_ppi is already up-to-date!\n",
      "[nltk_data]    | Downloading package bllip_wsj_no_aux to\n",
      "[nltk_data]    |     C:\\Users\\user\\AppData\\Roaming\\nltk_data...\n",
      "[nltk_data]    |   Package bllip_wsj_no_aux is already up-to-date!\n",
      "[nltk_data]    | Downloading package book_grammars to\n",
      "[nltk_data]    |     C:\\Users\\user\\AppData\\Roaming\\nltk_data...\n",
      "[nltk_data]    |   Package book_grammars is already up-to-date!\n",
      "[nltk_data]    | Downloading package brown to\n",
      "[nltk_data]    |     C:\\Users\\user\\AppData\\Roaming\\nltk_data...\n",
      "[nltk_data]    |   Package brown is already up-to-date!\n",
      "[nltk_data]    | Downloading package brown_tei to\n",
      "[nltk_data]    |     C:\\Users\\user\\AppData\\Roaming\\nltk_data...\n",
      "[nltk_data]    |   Package brown_tei is already up-to-date!\n",
      "[nltk_data]    | Downloading package cess_cat to\n",
      "[nltk_data]    |     C:\\Users\\user\\AppData\\Roaming\\nltk_data...\n",
      "[nltk_data]    |   Package cess_cat is already up-to-date!\n",
      "[nltk_data]    | Downloading package cess_esp to\n",
      "[nltk_data]    |     C:\\Users\\user\\AppData\\Roaming\\nltk_data...\n",
      "[nltk_data]    |   Package cess_esp is already up-to-date!\n",
      "[nltk_data]    | Downloading package chat80 to\n",
      "[nltk_data]    |     C:\\Users\\user\\AppData\\Roaming\\nltk_data...\n",
      "[nltk_data]    |   Package chat80 is already up-to-date!\n",
      "[nltk_data]    | Downloading package city_database to\n",
      "[nltk_data]    |     C:\\Users\\user\\AppData\\Roaming\\nltk_data...\n",
      "[nltk_data]    |   Package city_database is already up-to-date!\n",
      "[nltk_data]    | Downloading package cmudict to\n",
      "[nltk_data]    |     C:\\Users\\user\\AppData\\Roaming\\nltk_data...\n",
      "[nltk_data]    |   Package cmudict is already up-to-date!\n",
      "[nltk_data]    | Downloading package comparative_sentences to\n",
      "[nltk_data]    |     C:\\Users\\user\\AppData\\Roaming\\nltk_data...\n",
      "[nltk_data]    |   Package comparative_sentences is already up-to-\n",
      "[nltk_data]    |       date!\n",
      "[nltk_data]    | Downloading package comtrans to\n",
      "[nltk_data]    |     C:\\Users\\user\\AppData\\Roaming\\nltk_data...\n",
      "[nltk_data]    |   Package comtrans is already up-to-date!\n",
      "[nltk_data]    | Downloading package conll2000 to\n",
      "[nltk_data]    |     C:\\Users\\user\\AppData\\Roaming\\nltk_data...\n",
      "[nltk_data]    |   Package conll2000 is already up-to-date!\n",
      "[nltk_data]    | Downloading package conll2002 to\n",
      "[nltk_data]    |     C:\\Users\\user\\AppData\\Roaming\\nltk_data...\n",
      "[nltk_data]    |   Package conll2002 is already up-to-date!\n",
      "[nltk_data]    | Downloading package conll2007 to\n",
      "[nltk_data]    |     C:\\Users\\user\\AppData\\Roaming\\nltk_data...\n",
      "[nltk_data]    |   Package conll2007 is already up-to-date!\n",
      "[nltk_data]    | Downloading package crubadan to\n",
      "[nltk_data]    |     C:\\Users\\user\\AppData\\Roaming\\nltk_data...\n",
      "[nltk_data]    |   Package crubadan is already up-to-date!\n",
      "[nltk_data]    | Downloading package dependency_treebank to\n",
      "[nltk_data]    |     C:\\Users\\user\\AppData\\Roaming\\nltk_data...\n",
      "[nltk_data]    |   Package dependency_treebank is already up-to-date!\n",
      "[nltk_data]    | Downloading package dolch to\n",
      "[nltk_data]    |     C:\\Users\\user\\AppData\\Roaming\\nltk_data...\n",
      "[nltk_data]    |   Package dolch is already up-to-date!\n",
      "[nltk_data]    | Downloading package europarl_raw to\n",
      "[nltk_data]    |     C:\\Users\\user\\AppData\\Roaming\\nltk_data...\n",
      "[nltk_data]    |   Package europarl_raw is already up-to-date!\n",
      "[nltk_data]    | Downloading package extended_omw to\n",
      "[nltk_data]    |     C:\\Users\\user\\AppData\\Roaming\\nltk_data...\n",
      "[nltk_data]    |   Package extended_omw is already up-to-date!\n",
      "[nltk_data]    | Downloading package floresta to\n",
      "[nltk_data]    |     C:\\Users\\user\\AppData\\Roaming\\nltk_data...\n",
      "[nltk_data]    |   Package floresta is already up-to-date!\n",
      "[nltk_data]    | Downloading package framenet_v15 to\n",
      "[nltk_data]    |     C:\\Users\\user\\AppData\\Roaming\\nltk_data...\n",
      "[nltk_data]    |   Package framenet_v15 is already up-to-date!\n",
      "[nltk_data]    | Downloading package framenet_v17 to\n",
      "[nltk_data]    |     C:\\Users\\user\\AppData\\Roaming\\nltk_data...\n",
      "[nltk_data]    |   Package framenet_v17 is already up-to-date!\n",
      "[nltk_data]    | Downloading package gazetteers to\n",
      "[nltk_data]    |     C:\\Users\\user\\AppData\\Roaming\\nltk_data...\n",
      "[nltk_data]    |   Package gazetteers is already up-to-date!\n",
      "[nltk_data]    | Downloading package genesis to\n",
      "[nltk_data]    |     C:\\Users\\user\\AppData\\Roaming\\nltk_data...\n",
      "[nltk_data]    |   Package genesis is already up-to-date!\n",
      "[nltk_data]    | Downloading package gutenberg to\n",
      "[nltk_data]    |     C:\\Users\\user\\AppData\\Roaming\\nltk_data...\n",
      "[nltk_data]    |   Package gutenberg is already up-to-date!\n",
      "[nltk_data]    | Downloading package ieer to\n",
      "[nltk_data]    |     C:\\Users\\user\\AppData\\Roaming\\nltk_data...\n",
      "[nltk_data]    |   Package ieer is already up-to-date!\n",
      "[nltk_data]    | Downloading package inaugural to\n",
      "[nltk_data]    |     C:\\Users\\user\\AppData\\Roaming\\nltk_data...\n",
      "[nltk_data]    |   Unzipping corpora\\inaugural.zip.\n",
      "[nltk_data]    | Downloading package indian to\n",
      "[nltk_data]    |     C:\\Users\\user\\AppData\\Roaming\\nltk_data...\n",
      "[nltk_data]    |   Package indian is already up-to-date!\n",
      "[nltk_data]    | Downloading package jeita to\n",
      "[nltk_data]    |     C:\\Users\\user\\AppData\\Roaming\\nltk_data...\n",
      "[nltk_data]    |   Package jeita is already up-to-date!\n",
      "[nltk_data]    | Downloading package kimmo to\n",
      "[nltk_data]    |     C:\\Users\\user\\AppData\\Roaming\\nltk_data...\n",
      "[nltk_data]    |   Package kimmo is already up-to-date!\n",
      "[nltk_data]    | Downloading package knbc to\n",
      "[nltk_data]    |     C:\\Users\\user\\AppData\\Roaming\\nltk_data...\n",
      "[nltk_data]    |   Package knbc is already up-to-date!\n",
      "[nltk_data]    | Downloading package large_grammars to\n",
      "[nltk_data]    |     C:\\Users\\user\\AppData\\Roaming\\nltk_data...\n",
      "[nltk_data]    |   Package large_grammars is already up-to-date!\n",
      "[nltk_data]    | Downloading package lin_thesaurus to\n",
      "[nltk_data]    |     C:\\Users\\user\\AppData\\Roaming\\nltk_data...\n",
      "[nltk_data]    |   Package lin_thesaurus is already up-to-date!\n",
      "[nltk_data]    | Downloading package mac_morpho to\n",
      "[nltk_data]    |     C:\\Users\\user\\AppData\\Roaming\\nltk_data...\n",
      "[nltk_data]    |   Package mac_morpho is already up-to-date!\n",
      "[nltk_data]    | Downloading package machado to\n",
      "[nltk_data]    |     C:\\Users\\user\\AppData\\Roaming\\nltk_data...\n",
      "[nltk_data]    |   Package machado is already up-to-date!\n",
      "[nltk_data]    | Downloading package masc_tagged to\n",
      "[nltk_data]    |     C:\\Users\\user\\AppData\\Roaming\\nltk_data...\n",
      "[nltk_data]    |   Package masc_tagged is already up-to-date!\n",
      "[nltk_data]    | Downloading package maxent_ne_chunker to\n",
      "[nltk_data]    |     C:\\Users\\user\\AppData\\Roaming\\nltk_data...\n",
      "[nltk_data]    |   Package maxent_ne_chunker is already up-to-date!\n",
      "[nltk_data]    | Downloading package maxent_treebank_pos_tagger to\n",
      "[nltk_data]    |     C:\\Users\\user\\AppData\\Roaming\\nltk_data...\n",
      "[nltk_data]    |   Package maxent_treebank_pos_tagger is already up-\n",
      "[nltk_data]    |       to-date!\n",
      "[nltk_data]    | Downloading package moses_sample to\n",
      "[nltk_data]    |     C:\\Users\\user\\AppData\\Roaming\\nltk_data...\n"
     ]
    },
    {
     "name": "stderr",
     "output_type": "stream",
     "text": [
      "[nltk_data]    |   Package moses_sample is already up-to-date!\n",
      "[nltk_data]    | Downloading package movie_reviews to\n",
      "[nltk_data]    |     C:\\Users\\user\\AppData\\Roaming\\nltk_data...\n",
      "[nltk_data]    |   Package movie_reviews is already up-to-date!\n",
      "[nltk_data]    | Downloading package mte_teip5 to\n",
      "[nltk_data]    |     C:\\Users\\user\\AppData\\Roaming\\nltk_data...\n",
      "[nltk_data]    |   Package mte_teip5 is already up-to-date!\n",
      "[nltk_data]    | Downloading package mwa_ppdb to\n",
      "[nltk_data]    |     C:\\Users\\user\\AppData\\Roaming\\nltk_data...\n",
      "[nltk_data]    |   Package mwa_ppdb is already up-to-date!\n",
      "[nltk_data]    | Downloading package names to\n",
      "[nltk_data]    |     C:\\Users\\user\\AppData\\Roaming\\nltk_data...\n",
      "[nltk_data]    |   Package names is already up-to-date!\n",
      "[nltk_data]    | Downloading package nombank.1.0 to\n",
      "[nltk_data]    |     C:\\Users\\user\\AppData\\Roaming\\nltk_data...\n",
      "[nltk_data]    |   Package nombank.1.0 is already up-to-date!\n",
      "[nltk_data]    | Downloading package nonbreaking_prefixes to\n",
      "[nltk_data]    |     C:\\Users\\user\\AppData\\Roaming\\nltk_data...\n",
      "[nltk_data]    |   Package nonbreaking_prefixes is already up-to-date!\n",
      "[nltk_data]    | Downloading package nps_chat to\n",
      "[nltk_data]    |     C:\\Users\\user\\AppData\\Roaming\\nltk_data...\n",
      "[nltk_data]    |   Package nps_chat is already up-to-date!\n",
      "[nltk_data]    | Downloading package omw to\n",
      "[nltk_data]    |     C:\\Users\\user\\AppData\\Roaming\\nltk_data...\n",
      "[nltk_data]    |   Package omw is already up-to-date!\n",
      "[nltk_data]    | Downloading package omw-1.4 to\n",
      "[nltk_data]    |     C:\\Users\\user\\AppData\\Roaming\\nltk_data...\n",
      "[nltk_data]    | Downloading package opinion_lexicon to\n",
      "[nltk_data]    |     C:\\Users\\user\\AppData\\Roaming\\nltk_data...\n",
      "[nltk_data]    |   Package opinion_lexicon is already up-to-date!\n",
      "[nltk_data]    | Downloading package panlex_swadesh to\n",
      "[nltk_data]    |     C:\\Users\\user\\AppData\\Roaming\\nltk_data...\n",
      "[nltk_data]    |   Package panlex_swadesh is already up-to-date!\n",
      "[nltk_data]    | Downloading package paradigms to\n",
      "[nltk_data]    |     C:\\Users\\user\\AppData\\Roaming\\nltk_data...\n",
      "[nltk_data]    |   Package paradigms is already up-to-date!\n",
      "[nltk_data]    | Downloading package pe08 to\n",
      "[nltk_data]    |     C:\\Users\\user\\AppData\\Roaming\\nltk_data...\n",
      "[nltk_data]    |   Unzipping corpora\\pe08.zip.\n",
      "[nltk_data]    | Downloading package perluniprops to\n",
      "[nltk_data]    |     C:\\Users\\user\\AppData\\Roaming\\nltk_data...\n",
      "[nltk_data]    |   Package perluniprops is already up-to-date!\n",
      "[nltk_data]    | Downloading package pil to\n",
      "[nltk_data]    |     C:\\Users\\user\\AppData\\Roaming\\nltk_data...\n",
      "[nltk_data]    |   Package pil is already up-to-date!\n",
      "[nltk_data]    | Downloading package pl196x to\n",
      "[nltk_data]    |     C:\\Users\\user\\AppData\\Roaming\\nltk_data...\n",
      "[nltk_data]    |   Package pl196x is already up-to-date!\n",
      "[nltk_data]    | Downloading package porter_test to\n",
      "[nltk_data]    |     C:\\Users\\user\\AppData\\Roaming\\nltk_data...\n",
      "[nltk_data]    |   Package porter_test is already up-to-date!\n",
      "[nltk_data]    | Downloading package ppattach to\n",
      "[nltk_data]    |     C:\\Users\\user\\AppData\\Roaming\\nltk_data...\n",
      "[nltk_data]    |   Package ppattach is already up-to-date!\n",
      "[nltk_data]    | Downloading package problem_reports to\n",
      "[nltk_data]    |     C:\\Users\\user\\AppData\\Roaming\\nltk_data...\n",
      "[nltk_data]    |   Package problem_reports is already up-to-date!\n",
      "[nltk_data]    | Downloading package product_reviews_1 to\n",
      "[nltk_data]    |     C:\\Users\\user\\AppData\\Roaming\\nltk_data...\n",
      "[nltk_data]    |   Package product_reviews_1 is already up-to-date!\n",
      "[nltk_data]    | Downloading package product_reviews_2 to\n",
      "[nltk_data]    |     C:\\Users\\user\\AppData\\Roaming\\nltk_data...\n",
      "[nltk_data]    |   Package product_reviews_2 is already up-to-date!\n",
      "[nltk_data]    | Downloading package propbank to\n",
      "[nltk_data]    |     C:\\Users\\user\\AppData\\Roaming\\nltk_data...\n",
      "[nltk_data]    |   Package propbank is already up-to-date!\n",
      "[nltk_data]    | Downloading package pros_cons to\n",
      "[nltk_data]    |     C:\\Users\\user\\AppData\\Roaming\\nltk_data...\n",
      "[nltk_data]    |   Package pros_cons is already up-to-date!\n",
      "[nltk_data]    | Downloading package ptb to\n",
      "[nltk_data]    |     C:\\Users\\user\\AppData\\Roaming\\nltk_data...\n",
      "[nltk_data]    |   Package ptb is already up-to-date!\n",
      "[nltk_data]    | Downloading package punkt to\n",
      "[nltk_data]    |     C:\\Users\\user\\AppData\\Roaming\\nltk_data...\n",
      "[nltk_data]    |   Unzipping tokenizers\\punkt.zip.\n",
      "[nltk_data]    | Downloading package qc to\n",
      "[nltk_data]    |     C:\\Users\\user\\AppData\\Roaming\\nltk_data...\n",
      "[nltk_data]    |   Package qc is already up-to-date!\n",
      "[nltk_data]    | Downloading package reuters to\n",
      "[nltk_data]    |     C:\\Users\\user\\AppData\\Roaming\\nltk_data...\n",
      "[nltk_data]    |   Package reuters is already up-to-date!\n",
      "[nltk_data]    | Downloading package rslp to\n",
      "[nltk_data]    |     C:\\Users\\user\\AppData\\Roaming\\nltk_data...\n",
      "[nltk_data]    |   Package rslp is already up-to-date!\n",
      "[nltk_data]    | Downloading package rte to\n",
      "[nltk_data]    |     C:\\Users\\user\\AppData\\Roaming\\nltk_data...\n",
      "[nltk_data]    |   Package rte is already up-to-date!\n",
      "[nltk_data]    | Downloading package sample_grammars to\n",
      "[nltk_data]    |     C:\\Users\\user\\AppData\\Roaming\\nltk_data...\n",
      "[nltk_data]    |   Package sample_grammars is already up-to-date!\n",
      "[nltk_data]    | Downloading package semcor to\n",
      "[nltk_data]    |     C:\\Users\\user\\AppData\\Roaming\\nltk_data...\n",
      "[nltk_data]    |   Package semcor is already up-to-date!\n",
      "[nltk_data]    | Downloading package senseval to\n",
      "[nltk_data]    |     C:\\Users\\user\\AppData\\Roaming\\nltk_data...\n",
      "[nltk_data]    |   Package senseval is already up-to-date!\n",
      "[nltk_data]    | Downloading package sentence_polarity to\n",
      "[nltk_data]    |     C:\\Users\\user\\AppData\\Roaming\\nltk_data...\n",
      "[nltk_data]    |   Package sentence_polarity is already up-to-date!\n",
      "[nltk_data]    | Downloading package sentiwordnet to\n",
      "[nltk_data]    |     C:\\Users\\user\\AppData\\Roaming\\nltk_data...\n",
      "[nltk_data]    |   Package sentiwordnet is already up-to-date!\n",
      "[nltk_data]    | Downloading package shakespeare to\n",
      "[nltk_data]    |     C:\\Users\\user\\AppData\\Roaming\\nltk_data...\n",
      "[nltk_data]    |   Package shakespeare is already up-to-date!\n",
      "[nltk_data]    | Downloading package sinica_treebank to\n",
      "[nltk_data]    |     C:\\Users\\user\\AppData\\Roaming\\nltk_data...\n",
      "[nltk_data]    |   Unzipping corpora\\sinica_treebank.zip.\n",
      "[nltk_data]    | Downloading package smultron to\n",
      "[nltk_data]    |     C:\\Users\\user\\AppData\\Roaming\\nltk_data...\n",
      "[nltk_data]    |   Package smultron is already up-to-date!\n",
      "[nltk_data]    | Downloading package snowball_data to\n",
      "[nltk_data]    |     C:\\Users\\user\\AppData\\Roaming\\nltk_data...\n",
      "[nltk_data]    |   Package snowball_data is already up-to-date!\n",
      "[nltk_data]    | Downloading package spanish_grammars to\n",
      "[nltk_data]    |     C:\\Users\\user\\AppData\\Roaming\\nltk_data...\n",
      "[nltk_data]    |   Package spanish_grammars is already up-to-date!\n",
      "[nltk_data]    | Downloading package state_union to\n",
      "[nltk_data]    |     C:\\Users\\user\\AppData\\Roaming\\nltk_data...\n",
      "[nltk_data]    |   Package state_union is already up-to-date!\n",
      "[nltk_data]    | Downloading package stopwords to\n",
      "[nltk_data]    |     C:\\Users\\user\\AppData\\Roaming\\nltk_data...\n",
      "[nltk_data]    |   Unzipping corpora\\stopwords.zip.\n",
      "[nltk_data]    | Downloading package subjectivity to\n",
      "[nltk_data]    |     C:\\Users\\user\\AppData\\Roaming\\nltk_data...\n",
      "[nltk_data]    |   Package subjectivity is already up-to-date!\n",
      "[nltk_data]    | Downloading package swadesh to\n",
      "[nltk_data]    |     C:\\Users\\user\\AppData\\Roaming\\nltk_data...\n",
      "[nltk_data]    |   Package swadesh is already up-to-date!\n",
      "[nltk_data]    | Downloading package switchboard to\n",
      "[nltk_data]    |     C:\\Users\\user\\AppData\\Roaming\\nltk_data...\n",
      "[nltk_data]    |   Package switchboard is already up-to-date!\n",
      "[nltk_data]    | Downloading package tagsets to\n",
      "[nltk_data]    |     C:\\Users\\user\\AppData\\Roaming\\nltk_data...\n",
      "[nltk_data]    |   Package tagsets is already up-to-date!\n",
      "[nltk_data]    | Downloading package timit to\n",
      "[nltk_data]    |     C:\\Users\\user\\AppData\\Roaming\\nltk_data...\n",
      "[nltk_data]    |   Package timit is already up-to-date!\n",
      "[nltk_data]    | Downloading package toolbox to\n",
      "[nltk_data]    |     C:\\Users\\user\\AppData\\Roaming\\nltk_data...\n",
      "[nltk_data]    |   Package toolbox is already up-to-date!\n",
      "[nltk_data]    | Downloading package treebank to\n",
      "[nltk_data]    |     C:\\Users\\user\\AppData\\Roaming\\nltk_data...\n"
     ]
    },
    {
     "name": "stderr",
     "output_type": "stream",
     "text": [
      "[nltk_data]    |   Package treebank is already up-to-date!\n",
      "[nltk_data]    | Downloading package twitter_samples to\n",
      "[nltk_data]    |     C:\\Users\\user\\AppData\\Roaming\\nltk_data...\n",
      "[nltk_data]    |   Package twitter_samples is already up-to-date!\n",
      "[nltk_data]    | Downloading package udhr to\n",
      "[nltk_data]    |     C:\\Users\\user\\AppData\\Roaming\\nltk_data...\n",
      "[nltk_data]    |   Package udhr is already up-to-date!\n",
      "[nltk_data]    | Downloading package udhr2 to\n",
      "[nltk_data]    |     C:\\Users\\user\\AppData\\Roaming\\nltk_data...\n",
      "[nltk_data]    |   Package udhr2 is already up-to-date!\n",
      "[nltk_data]    | Downloading package unicode_samples to\n",
      "[nltk_data]    |     C:\\Users\\user\\AppData\\Roaming\\nltk_data...\n",
      "[nltk_data]    |   Package unicode_samples is already up-to-date!\n",
      "[nltk_data]    | Downloading package universal_tagset to\n",
      "[nltk_data]    |     C:\\Users\\user\\AppData\\Roaming\\nltk_data...\n",
      "[nltk_data]    |   Unzipping taggers\\universal_tagset.zip.\n",
      "[nltk_data]    | Downloading package universal_treebanks_v20 to\n",
      "[nltk_data]    |     C:\\Users\\user\\AppData\\Roaming\\nltk_data...\n",
      "[nltk_data]    |   Package universal_treebanks_v20 is already up-to-\n",
      "[nltk_data]    |       date!\n",
      "[nltk_data]    | Downloading package vader_lexicon to\n",
      "[nltk_data]    |     C:\\Users\\user\\AppData\\Roaming\\nltk_data...\n",
      "[nltk_data]    |   Package vader_lexicon is already up-to-date!\n",
      "[nltk_data]    | Downloading package verbnet to\n",
      "[nltk_data]    |     C:\\Users\\user\\AppData\\Roaming\\nltk_data...\n",
      "[nltk_data]    |   Package verbnet is already up-to-date!\n",
      "[nltk_data]    | Downloading package verbnet3 to\n",
      "[nltk_data]    |     C:\\Users\\user\\AppData\\Roaming\\nltk_data...\n",
      "[nltk_data]    |   Package verbnet3 is already up-to-date!\n",
      "[nltk_data]    | Downloading package webtext to\n",
      "[nltk_data]    |     C:\\Users\\user\\AppData\\Roaming\\nltk_data...\n",
      "[nltk_data]    |   Package webtext is already up-to-date!\n",
      "[nltk_data]    | Downloading package wmt15_eval to\n",
      "[nltk_data]    |     C:\\Users\\user\\AppData\\Roaming\\nltk_data...\n",
      "[nltk_data]    |   Package wmt15_eval is already up-to-date!\n",
      "[nltk_data]    | Downloading package word2vec_sample to\n",
      "[nltk_data]    |     C:\\Users\\user\\AppData\\Roaming\\nltk_data...\n",
      "[nltk_data]    |   Package word2vec_sample is already up-to-date!\n",
      "[nltk_data]    | Downloading package wordnet to\n",
      "[nltk_data]    |     C:\\Users\\user\\AppData\\Roaming\\nltk_data...\n",
      "[nltk_data]    |   Package wordnet is already up-to-date!\n",
      "[nltk_data]    | Downloading package wordnet2021 to\n",
      "[nltk_data]    |     C:\\Users\\user\\AppData\\Roaming\\nltk_data...\n",
      "[nltk_data]    | Downloading package wordnet2022 to\n",
      "[nltk_data]    |     C:\\Users\\user\\AppData\\Roaming\\nltk_data...\n",
      "[nltk_data]    |   Unzipping corpora\\wordnet2022.zip.\n",
      "[nltk_data]    | Downloading package wordnet31 to\n",
      "[nltk_data]    |     C:\\Users\\user\\AppData\\Roaming\\nltk_data...\n",
      "[nltk_data]    | Downloading package wordnet_ic to\n",
      "[nltk_data]    |     C:\\Users\\user\\AppData\\Roaming\\nltk_data...\n",
      "[nltk_data]    |   Package wordnet_ic is already up-to-date!\n",
      "[nltk_data]    | Downloading package words to\n",
      "[nltk_data]    |     C:\\Users\\user\\AppData\\Roaming\\nltk_data...\n",
      "[nltk_data]    |   Package words is already up-to-date!\n",
      "[nltk_data]    | Downloading package ycoe to\n",
      "[nltk_data]    |     C:\\Users\\user\\AppData\\Roaming\\nltk_data...\n",
      "[nltk_data]    |   Package ycoe is already up-to-date!\n",
      "[nltk_data]    | \n",
      "[nltk_data]  Done downloading collection all\n"
     ]
    },
    {
     "data": {
      "text/plain": [
       "True"
      ]
     },
     "execution_count": 2,
     "metadata": {},
     "output_type": "execute_result"
    }
   ],
   "source": [
    "# nltk에서 제공되는 함수들을 이용해서 텍스트 전처리를 수행하기 위해서 아래 코드를 \n",
    "# 실행해서 필요한 데이터를 다운로드 받아야 합니다. \n",
    "nltk.download('all')"
   ]
  },
  {
   "cell_type": "code",
   "execution_count": 10,
   "metadata": {},
   "outputs": [],
   "source": [
    "# 본 책에서는 뉴욕 타임즈의 기사에 대해 전처리 작업을 수행합니다. \n",
    "# 해당 기사 데이터는 nytimes.txt 파일에 저장되어 있습니다. \n",
    "with open('nytimes.txt', 'r', encoding='utf8') as f:\n",
    "    content = f.read()"
   ]
  },
  {
   "cell_type": "code",
   "execution_count": 4,
   "metadata": {
    "scrolled": true
   },
   "outputs": [
    {
     "name": "stdout",
     "output_type": "stream",
     "text": [
      " Hurray for the HotBlack Coffee cafe in Toronto for declining to offer Wi-Fi to its customers. There are other such cafes, to be sure, including seven of the eight New York City locations of Café Grumpy. But it’s HotBlack’s reason for the electronic blackout that is cause for hosannas. As its president, Jimson Bienenstock, explained, his aim is to get customers to talk with one another instead of being buried in their portable devices. “It’s about creating a social vibe,” he told a New York Times reporter. “We’re a vehicle for human interaction, otherwise it’s just a commodity.” What a novel idea! Perhaps Mr. Bienenstock instinctively knows what medical science has been increasingly demonstrating for decades: Social interaction is a critically important contributor to good health and longevity. Personally, I don’t need research-based evidence to appreciate the value of making and maintaining social connections. I experience it daily during my morning walk with up to three women, then before and after my swim in the locker room of the YMCA where the use of electronic devices is not allowed. The locker room experience has been surprisingly rewarding. I’ve made many new friends with whom I can share both joys and sorrows. The women help me solve problems big and small, providing a sounding board, advice and counsel and often a hearty laugh that brightens my day. And, as myriad studies have shown, they may also be helping to save my life. As the Harvard Women’s Health Watch reported, “Dozens of studies have shown that people who have satisfying relationships with family, friends and their community are happier, have fewer health problems, and live longer.” In a study of 7,000 men and women in Alameda County, Calif., begun in 1965, Lisa F. Berkman and S. Leonard Syme found that “people who were disconnected from others were roughly three times more likely to die during the nine-year study than people with strong social ties,” John Robbins recounted in his marvelous book on health and longevity, “Healthy at 100.” This major difference in survival occurred regardless of people’s age, gender, health practices or physical health status. In fact, the researchers found that “those with close social ties and unhealthful lifestyles (such as smoking, obesity and lack of exercise) actually lived longer than those with poor social ties but more healthful living habits,” Mr. Robbins wrote. However, he quickly added, “Needless to say, people with both healthful lifestyles and close social ties lived the longest of all.” In another study, published in The New England Journal of Medicine in 1984, researchers at the Health Insurance Plan of Greater New York found that among 2,320 men who had survived a heart attack, those with strong connections with other people had only a quarter the risk of death within the following three years as those who lacked social connectedness. Researchers at Duke University Medical Center also found that social ties can reduce deaths among people with serious medical conditions. Beverly H. Brummett and colleagues reported in 2001 that among adults with coronary artery disease, the mortality rate was 2.4 times higher among those who were socially isolated. In a column I wrote in 2013 called “Shaking Off Loneliness,” I cited a review of research published in 1988 indicating that “social isolation is on a par with high blood pressure, obesity, lack of exercise or smoking as a risk factor for illness and early death.” People who are chronically lacking in social contacts are more likely to experience elevated levels of stress and inflammation. These, in turn, can undermine the well-being of nearly every bodily system, including the brain. Absent social interactions, blood flow to vital organs is likely to be reduced and immune function may be undermined. Even how genes are expressed can be adversely affected, impairing the body’s ability to turn off inflammation. Chronic inflammation has been linked to heart disease, arthritis, Type 2 diabetes and even suicide attempts. In a 2010 report in The Journal of Health and Social Behavior, Debra Umberson and Jennifer Karas Montez, sociology researchers at the University of Texas at Austin, cited “consistent and compelling evidence linking a low quantity or quality of social ties with a host of conditions,” including the development and worsening of cardiovascular disease, repeat heart attacks, autoimmune disorders, high blood pressure, cancer and slowed wound healing. The Texas researchers pointed out that social interactions can enhance good health through a positive influence on people’s living habits. For example, if none of your friends smoke, you’ll be less likely to smoke. According to the researchers, the practice of health behaviors like getting regular exercise, consuming a balanced diet and avoiding smoking, excessive weight gain and abuse of alcohol and drugs “explains about 40 percent of premature mortality as well as substantial morbidity and disability in the United States.” Lack of social interactions also damages mental health. The emotional support provided by social connections helps to reduce the damaging effects of stress and can foster “a sense of meaning and purpose in life,” the Texas researchers wrote. Emma Seppala of the Stanford Center for Compassion and Altruism Research and Education, and author of the 2016 book “The Happiness Track,” wrote, “People who feel more connected to others have lower levels of anxiety and depression. Moreover, studies show they also have higher self-esteem, greater empathy for others, are more trusting and cooperative and, as a consequence, others are more open to trusting and cooperating with them. “In other words,” Dr. Seppala explained, “social connectedness generates a positive feedback loop of social, emotional and physical well-being.” She suggested that a societal decline in social connectedness may help to explain recent increases in reports of loneliness, isolation and alienation, and may be why loneliness has become a leading reason people seek psychological counseling. By 2004, she wrote, sociological research revealed that more than 25 percent of Americans had no one to confide in. They lacked a close friend with whom they felt comfortable sharing a personal problem. For those seeking a health-promoting lifestyle, it’s not enough to focus on eating your veggies and getting regular exercise. Dr. Seppala advises: “Don’t forget to connect.”\n"
     ]
    }
   ],
   "source": [
    "print(content)"
   ]
  },
  {
   "cell_type": "markdown",
   "metadata": {},
   "source": [
    "Text preprocessing"
   ]
  },
  {
   "cell_type": "code",
   "execution_count": 5,
   "metadata": {},
   "outputs": [],
   "source": [
    "# replace() 함수를 사용해서 기호 제거하기\n",
    "cleaned_content = content.replace('.','').replace(',','').replace('!','')"
   ]
  },
  {
   "cell_type": "code",
   "execution_count": 6,
   "metadata": {
    "scrolled": true
   },
   "outputs": [
    {
     "name": "stdout",
     "output_type": "stream",
     "text": [
      " Hurray for the HotBlack Coffee cafe in Toronto for declining to offer WiFi to its customers There are other such cafes to be sure including seven of the eight New York City locations of Café Grumpy But its HotBlacks reason for the electronic blackout that is cause for hosannas As its president Jimson Bienenstock explained his aim is to get customers to talk with one another instead of being buried in their portable devices Its about creating a social vibe he told a New York Times reporter Were a vehicle for human interaction otherwise its just a commodity What a novel idea Perhaps Mr Bienenstock instinctively knows what medical science has been increasingly demonstrating for decades Social interaction is a critically important contributor to good health and longevity Personally I dont need researchbased evidence to appreciate the value of making and maintaining social connections I experience it daily during my morning walk with up to three women then before and after my swim in the locker room of the YMCA where the use of electronic devices is not allowed The locker room experience has been surprisingly rewarding Ive made many new friends with whom I can share both joys and sorrows The women help me solve problems big and small providing a sounding board advice and counsel and often a hearty laugh that brightens my day And as myriad studies have shown they may also be helping to save my life As the Harvard Womens Health Watch reported Dozens of studies have shown that people who have satisfying relationships with family friends and their community are happier have fewer health problems and live longer In a study of 7000 men and women in Alameda County Calif begun in 1965 Lisa F Berkman and S Leonard Syme found that people who were disconnected from others were roughly three times more likely to die during the nineyear study than people with strong social ties John Robbins recounted in his marvelous book on health and longevity Healthy at 100 This major difference in survival occurred regardless of peoples age gender health practices or physical health status In fact the researchers found that those with close social ties and unhealthful lifestyles such as smoking obesity and lack of exercise actually lived longer than those with poor social ties but more healthful living habits Mr Robbins wrote However he quickly added Needless to say people with both healthful lifestyles and close social ties lived the longest of all In another study published in The New England Journal of Medicine in 1984 researchers at the Health Insurance Plan of Greater New York found that among 2320 men who had survived a heart attack those with strong connections with other people had only a quarter the risk of death within the following three years as those who lacked social connectedness Researchers at Duke University Medical Center also found that social ties can reduce deaths among people with serious medical conditions Beverly H Brummett and colleagues reported in 2001 that among adults with coronary artery disease the mortality rate was 24 times higher among those who were socially isolated In a column I wrote in 2013 called Shaking Off Loneliness I cited a review of research published in 1988 indicating that social isolation is on a par with high blood pressure obesity lack of exercise or smoking as a risk factor for illness and early death People who are chronically lacking in social contacts are more likely to experience elevated levels of stress and inflammation These in turn can undermine the wellbeing of nearly every bodily system including the brain Absent social interactions blood flow to vital organs is likely to be reduced and immune function may be undermined Even how genes are expressed can be adversely affected impairing the bodys ability to turn off inflammation Chronic inflammation has been linked to heart disease arthritis Type 2 diabetes and even suicide attempts In a 2010 report in The Journal of Health and Social Behavior Debra Umberson and Jennifer Karas Montez sociology researchers at the University of Texas at Austin cited consistent and compelling evidence linking a low quantity or quality of social ties with a host of conditions including the development and worsening of cardiovascular disease repeat heart attacks autoimmune disorders high blood pressure cancer and slowed wound healing The Texas researchers pointed out that social interactions can enhance good health through a positive influence on peoples living habits For example if none of your friends smoke youll be less likely to smoke According to the researchers the practice of health behaviors like getting regular exercise consuming a balanced diet and avoiding smoking excessive weight gain and abuse of alcohol and drugs explains about 40 percent of premature mortality as well as substantial morbidity and disability in the United States Lack of social interactions also damages mental health The emotional support provided by social connections helps to reduce the damaging effects of stress and can foster a sense of meaning and purpose in life the Texas researchers wrote Emma Seppala of the Stanford Center for Compassion and Altruism Research and Education and author of the 2016 book The Happiness Track wrote People who feel more connected to others have lower levels of anxiety and depression Moreover studies show they also have higher selfesteem greater empathy for others are more trusting and cooperative and as a consequence others are more open to trusting and cooperating with them In other words Dr Seppala explained social connectedness generates a positive feedback loop of social emotional and physical wellbeing She suggested that a societal decline in social connectedness may help to explain recent increases in reports of loneliness isolation and alienation and may be why loneliness has become a leading reason people seek psychological counseling By 2004 she wrote sociological research revealed that more than 25 percent of Americans had no one to confide in They lacked a close friend with whom they felt comfortable sharing a personal problem For those seeking a healthpromoting lifestyle its not enough to focus on eating your veggies and getting regular exercise Dr Seppala advises Dont forget to connect\n"
     ]
    }
   ],
   "source": [
    "import re\n",
    "# 1. 정규표현식을 이용해서 기호 제거하기\n",
    "cleaned_content = re.sub('[^\\w\\d\\s]','',content)\n",
    "print(cleaned_content)"
   ]
  },
  {
   "cell_type": "code",
   "execution_count": 7,
   "metadata": {},
   "outputs": [],
   "source": [
    "# 2. 대소문자 통일: 대문자를 소문자로 바꾸기\n",
    "cleaned_content = cleaned_content.lower() "
   ]
  },
  {
   "cell_type": "code",
   "execution_count": 8,
   "metadata": {},
   "outputs": [
    {
     "name": "stdout",
     "output_type": "stream",
     "text": [
      " hurray for the hotblack coffee cafe in toronto for declining to offer wifi to its customers there are other such cafes to be sure including seven of the eight new york city locations of café grumpy but its hotblacks reason for the electronic blackout that is cause for hosannas as its president jimson bienenstock explained his aim is to get customers to talk with one another instead of being buried in their portable devices its about creating a social vibe he told a new york times reporter were a vehicle for human interaction otherwise its just a commodity what a novel idea perhaps mr bienenstock instinctively knows what medical science has been increasingly demonstrating for decades social interaction is a critically important contributor to good health and longevity personally i dont need researchbased evidence to appreciate the value of making and maintaining social connections i experience it daily during my morning walk with up to three women then before and after my swim in the locker room of the ymca where the use of electronic devices is not allowed the locker room experience has been surprisingly rewarding ive made many new friends with whom i can share both joys and sorrows the women help me solve problems big and small providing a sounding board advice and counsel and often a hearty laugh that brightens my day and as myriad studies have shown they may also be helping to save my life as the harvard womens health watch reported dozens of studies have shown that people who have satisfying relationships with family friends and their community are happier have fewer health problems and live longer in a study of 7000 men and women in alameda county calif begun in 1965 lisa f berkman and s leonard syme found that people who were disconnected from others were roughly three times more likely to die during the nineyear study than people with strong social ties john robbins recounted in his marvelous book on health and longevity healthy at 100 this major difference in survival occurred regardless of peoples age gender health practices or physical health status in fact the researchers found that those with close social ties and unhealthful lifestyles such as smoking obesity and lack of exercise actually lived longer than those with poor social ties but more healthful living habits mr robbins wrote however he quickly added needless to say people with both healthful lifestyles and close social ties lived the longest of all in another study published in the new england journal of medicine in 1984 researchers at the health insurance plan of greater new york found that among 2320 men who had survived a heart attack those with strong connections with other people had only a quarter the risk of death within the following three years as those who lacked social connectedness researchers at duke university medical center also found that social ties can reduce deaths among people with serious medical conditions beverly h brummett and colleagues reported in 2001 that among adults with coronary artery disease the mortality rate was 24 times higher among those who were socially isolated in a column i wrote in 2013 called shaking off loneliness i cited a review of research published in 1988 indicating that social isolation is on a par with high blood pressure obesity lack of exercise or smoking as a risk factor for illness and early death people who are chronically lacking in social contacts are more likely to experience elevated levels of stress and inflammation these in turn can undermine the wellbeing of nearly every bodily system including the brain absent social interactions blood flow to vital organs is likely to be reduced and immune function may be undermined even how genes are expressed can be adversely affected impairing the bodys ability to turn off inflammation chronic inflammation has been linked to heart disease arthritis type 2 diabetes and even suicide attempts in a 2010 report in the journal of health and social behavior debra umberson and jennifer karas montez sociology researchers at the university of texas at austin cited consistent and compelling evidence linking a low quantity or quality of social ties with a host of conditions including the development and worsening of cardiovascular disease repeat heart attacks autoimmune disorders high blood pressure cancer and slowed wound healing the texas researchers pointed out that social interactions can enhance good health through a positive influence on peoples living habits for example if none of your friends smoke youll be less likely to smoke according to the researchers the practice of health behaviors like getting regular exercise consuming a balanced diet and avoiding smoking excessive weight gain and abuse of alcohol and drugs explains about 40 percent of premature mortality as well as substantial morbidity and disability in the united states lack of social interactions also damages mental health the emotional support provided by social connections helps to reduce the damaging effects of stress and can foster a sense of meaning and purpose in life the texas researchers wrote emma seppala of the stanford center for compassion and altruism research and education and author of the 2016 book the happiness track wrote people who feel more connected to others have lower levels of anxiety and depression moreover studies show they also have higher selfesteem greater empathy for others are more trusting and cooperative and as a consequence others are more open to trusting and cooperating with them in other words dr seppala explained social connectedness generates a positive feedback loop of social emotional and physical wellbeing she suggested that a societal decline in social connectedness may help to explain recent increases in reports of loneliness isolation and alienation and may be why loneliness has become a leading reason people seek psychological counseling by 2004 she wrote sociological research revealed that more than 25 percent of americans had no one to confide in they lacked a close friend with whom they felt comfortable sharing a personal problem for those seeking a healthpromoting lifestyle its not enough to focus on eating your veggies and getting regular exercise dr seppala advises dont forget to connect\n"
     ]
    }
   ],
   "source": [
    "print(cleaned_content)"
   ]
  },
  {
   "cell_type": "code",
   "execution_count": 9,
   "metadata": {},
   "outputs": [
    {
     "name": "stdout",
     "output_type": "stream",
     "text": [
      "['hurray', 'for', 'the', 'hotblack', 'coffee', 'cafe', 'in', 'toronto', 'for', 'declining', 'to', 'offer', 'wifi', 'to', 'its', 'customers', 'there', 'are', 'other', 'such', 'cafes', 'to', 'be', 'sure', 'including', 'seven', 'of', 'the', 'eight', 'new', 'york', 'city', 'locations', 'of', 'café', 'grumpy', 'but', 'its', 'hotblacks', 'reason', 'for', 'the', 'electronic', 'blackout', 'that', 'is', 'cause', 'for', 'hosannas', 'as', 'its', 'president', 'jimson', 'bienenstock', 'explained', 'his', 'aim', 'is', 'to', 'get', 'customers', 'to', 'talk', 'with', 'one', 'another', 'instead', 'of', 'being', 'buried', 'in', 'their', 'portable', 'devices', 'its', 'about', 'creating', 'a', 'social', 'vibe', 'he', 'told', 'a', 'new', 'york', 'times', 'reporter', 'were', 'a', 'vehicle', 'for', 'human', 'interaction', 'otherwise', 'its', 'just', 'a', 'commodity', 'what', 'a', 'novel', 'idea', 'perhaps', 'mr', 'bienenstock', 'instinctively', 'knows', 'what', 'medical', 'science', 'has', 'been', 'increasingly', 'demonstrating', 'for', 'decades', 'social', 'interaction', 'is', 'a', 'critically', 'important', 'contributor', 'to', 'good', 'health', 'and', 'longevity', 'personally', 'i', 'dont', 'need', 'researchbased', 'evidence', 'to', 'appreciate', 'the', 'value', 'of', 'making', 'and', 'maintaining', 'social', 'connections', 'i', 'experience', 'it', 'daily', 'during', 'my', 'morning', 'walk', 'with', 'up', 'to', 'three', 'women', 'then', 'before', 'and', 'after', 'my', 'swim', 'in', 'the', 'locker', 'room', 'of', 'the', 'ymca', 'where', 'the', 'use', 'of', 'electronic', 'devices', 'is', 'not', 'allowed', 'the', 'locker', 'room', 'experience', 'has', 'been', 'surprisingly', 'rewarding', 'ive', 'made', 'many', 'new', 'friends', 'with', 'whom', 'i', 'can', 'share', 'both', 'joys', 'and', 'sorrows', 'the', 'women', 'help', 'me', 'solve', 'problems', 'big', 'and', 'small', 'providing', 'a', 'sounding', 'board', 'advice', 'and', 'counsel', 'and', 'often', 'a', 'hearty', 'laugh', 'that', 'brightens', 'my', 'day', 'and', 'as', 'myriad', 'studies', 'have', 'shown', 'they', 'may', 'also', 'be', 'helping', 'to', 'save', 'my', 'life', 'as', 'the', 'harvard', 'womens', 'health', 'watch', 'reported', 'dozens', 'of', 'studies', 'have', 'shown', 'that', 'people', 'who', 'have', 'satisfying', 'relationships', 'with', 'family', 'friends', 'and', 'their', 'community', 'are', 'happier', 'have', 'fewer', 'health', 'problems', 'and', 'live', 'longer', 'in', 'a', 'study', 'of', '7000', 'men', 'and', 'women', 'in', 'alameda', 'county', 'calif', 'begun', 'in', '1965', 'lisa', 'f', 'berkman', 'and', 's', 'leonard', 'syme', 'found', 'that', 'people', 'who', 'were', 'disconnected', 'from', 'others', 'were', 'roughly', 'three', 'times', 'more', 'likely', 'to', 'die', 'during', 'the', 'nineyear', 'study', 'than', 'people', 'with', 'strong', 'social', 'ties', 'john', 'robbins', 'recounted', 'in', 'his', 'marvelous', 'book', 'on', 'health', 'and', 'longevity', 'healthy', 'at', '100', 'this', 'major', 'difference', 'in', 'survival', 'occurred', 'regardless', 'of', 'peoples', 'age', 'gender', 'health', 'practices', 'or', 'physical', 'health', 'status', 'in', 'fact', 'the', 'researchers', 'found', 'that', 'those', 'with', 'close', 'social', 'ties', 'and', 'unhealthful', 'lifestyles', 'such', 'as', 'smoking', 'obesity', 'and', 'lack', 'of', 'exercise', 'actually', 'lived', 'longer', 'than', 'those', 'with', 'poor', 'social', 'ties', 'but', 'more', 'healthful', 'living', 'habits', 'mr', 'robbins', 'wrote', 'however', 'he', 'quickly', 'added', 'needless', 'to', 'say', 'people', 'with', 'both', 'healthful', 'lifestyles', 'and', 'close', 'social', 'ties', 'lived', 'the', 'longest', 'of', 'all', 'in', 'another', 'study', 'published', 'in', 'the', 'new', 'england', 'journal', 'of', 'medicine', 'in', '1984', 'researchers', 'at', 'the', 'health', 'insurance', 'plan', 'of', 'greater', 'new', 'york', 'found', 'that', 'among', '2320', 'men', 'who', 'had', 'survived', 'a', 'heart', 'attack', 'those', 'with', 'strong', 'connections', 'with', 'other', 'people', 'had', 'only', 'a', 'quarter', 'the', 'risk', 'of', 'death', 'within', 'the', 'following', 'three', 'years', 'as', 'those', 'who', 'lacked', 'social', 'connectedness', 'researchers', 'at', 'duke', 'university', 'medical', 'center', 'also', 'found', 'that', 'social', 'ties', 'can', 'reduce', 'deaths', 'among', 'people', 'with', 'serious', 'medical', 'conditions', 'beverly', 'h', 'brummett', 'and', 'colleagues', 'reported', 'in', '2001', 'that', 'among', 'adults', 'with', 'coronary', 'artery', 'disease', 'the', 'mortality', 'rate', 'was', '24', 'times', 'higher', 'among', 'those', 'who', 'were', 'socially', 'isolated', 'in', 'a', 'column', 'i', 'wrote', 'in', '2013', 'called', 'shaking', 'off', 'loneliness', 'i', 'cited', 'a', 'review', 'of', 'research', 'published', 'in', '1988', 'indicating', 'that', 'social', 'isolation', 'is', 'on', 'a', 'par', 'with', 'high', 'blood', 'pressure', 'obesity', 'lack', 'of', 'exercise', 'or', 'smoking', 'as', 'a', 'risk', 'factor', 'for', 'illness', 'and', 'early', 'death', 'people', 'who', 'are', 'chronically', 'lacking', 'in', 'social', 'contacts', 'are', 'more', 'likely', 'to', 'experience', 'elevated', 'levels', 'of', 'stress', 'and', 'inflammation', 'these', 'in', 'turn', 'can', 'undermine', 'the', 'wellbeing', 'of', 'nearly', 'every', 'bodily', 'system', 'including', 'the', 'brain', 'absent', 'social', 'interactions', 'blood', 'flow', 'to', 'vital', 'organs', 'is', 'likely', 'to', 'be', 'reduced', 'and', 'immune', 'function', 'may', 'be', 'undermined', 'even', 'how', 'genes', 'are', 'expressed', 'can', 'be', 'adversely', 'affected', 'impairing', 'the', 'bodys', 'ability', 'to', 'turn', 'off', 'inflammation', 'chronic', 'inflammation', 'has', 'been', 'linked', 'to', 'heart', 'disease', 'arthritis', 'type', '2', 'diabetes', 'and', 'even', 'suicide', 'attempts', 'in', 'a', '2010', 'report', 'in', 'the', 'journal', 'of', 'health', 'and', 'social', 'behavior', 'debra', 'umberson', 'and', 'jennifer', 'karas', 'montez', 'sociology', 'researchers', 'at', 'the', 'university', 'of', 'texas', 'at', 'austin', 'cited', 'consistent', 'and', 'compelling', 'evidence', 'linking', 'a', 'low', 'quantity', 'or', 'quality', 'of', 'social', 'ties', 'with', 'a', 'host', 'of', 'conditions', 'including', 'the', 'development', 'and', 'worsening', 'of', 'cardiovascular', 'disease', 'repeat', 'heart', 'attacks', 'autoimmune', 'disorders', 'high', 'blood', 'pressure', 'cancer', 'and', 'slowed', 'wound', 'healing', 'the', 'texas', 'researchers', 'pointed', 'out', 'that', 'social', 'interactions', 'can', 'enhance', 'good', 'health', 'through', 'a', 'positive', 'influence', 'on', 'peoples', 'living', 'habits', 'for', 'example', 'if', 'none', 'of', 'your', 'friends', 'smoke', 'youll', 'be', 'less', 'likely', 'to', 'smoke', 'according', 'to', 'the', 'researchers', 'the', 'practice', 'of', 'health', 'behaviors', 'like', 'getting', 'regular', 'exercise', 'consuming', 'a', 'balanced', 'diet', 'and', 'avoiding', 'smoking', 'excessive', 'weight', 'gain', 'and', 'abuse', 'of', 'alcohol', 'and', 'drugs', 'explains', 'about', '40', 'percent', 'of', 'premature', 'mortality', 'as', 'well', 'as', 'substantial', 'morbidity', 'and', 'disability', 'in', 'the', 'united', 'states', 'lack', 'of', 'social', 'interactions', 'also', 'damages', 'mental', 'health', 'the', 'emotional', 'support', 'provided', 'by', 'social', 'connections', 'helps', 'to', 'reduce', 'the', 'damaging', 'effects', 'of', 'stress', 'and', 'can', 'foster', 'a', 'sense', 'of', 'meaning', 'and', 'purpose', 'in', 'life', 'the', 'texas', 'researchers', 'wrote', 'emma', 'seppala', 'of', 'the', 'stanford', 'center', 'for', 'compassion', 'and', 'altruism', 'research', 'and', 'education', 'and', 'author', 'of', 'the', '2016', 'book', 'the', 'happiness', 'track', 'wrote', 'people', 'who', 'feel', 'more', 'connected', 'to', 'others', 'have', 'lower', 'levels', 'of', 'anxiety', 'and', 'depression', 'moreover', 'studies', 'show', 'they', 'also', 'have', 'higher', 'selfesteem', 'greater', 'empathy', 'for', 'others', 'are', 'more', 'trusting', 'and', 'cooperative', 'and', 'as', 'a', 'consequence', 'others', 'are', 'more', 'open', 'to', 'trusting', 'and', 'cooperating', 'with', 'them', 'in', 'other', 'words', 'dr', 'seppala', 'explained', 'social', 'connectedness', 'generates', 'a', 'positive', 'feedback', 'loop', 'of', 'social', 'emotional', 'and', 'physical', 'wellbeing', 'she', 'suggested', 'that', 'a', 'societal', 'decline', 'in', 'social', 'connectedness', 'may', 'help', 'to', 'explain', 'recent', 'increases', 'in', 'reports', 'of', 'loneliness', 'isolation', 'and', 'alienation', 'and', 'may', 'be', 'why', 'loneliness', 'has', 'become', 'a', 'leading', 'reason', 'people', 'seek', 'psychological', 'counseling', 'by', '2004', 'she', 'wrote', 'sociological', 'research', 'revealed', 'that', 'more', 'than', '25', 'percent', 'of', 'americans', 'had', 'no', 'one', 'to', 'confide', 'in', 'they', 'lacked', 'a', 'close', 'friend', 'with', 'whom', 'they', 'felt', 'comfortable', 'sharing', 'a', 'personal', 'problem', 'for', 'those', 'seeking', 'a', 'healthpromoting', 'lifestyle', 'its', 'not', 'enough', 'to', 'focus', 'on', 'eating', 'your', 'veggies', 'and', 'getting', 'regular', 'exercise', 'dr', 'seppala', 'advises', 'dont', 'forget', 'to', 'connect']\n",
      "1023\n",
      "508\n"
     ]
    }
   ],
   "source": [
    "# 3. Word tokenization\n",
    "word_tokens = nltk.word_tokenize(cleaned_content)\n",
    "print(word_tokens)\n",
    "print(len(word_tokens))\n",
    "print(len(set(word_tokens)))"
   ]
  },
  {
   "cell_type": "code",
   "execution_count": 11,
   "metadata": {},
   "outputs": [
    {
     "name": "stdout",
     "output_type": "stream",
     "text": [
      "[('hurray', 'NN'), ('for', 'IN'), ('the', 'DT'), ('hotblack', 'NN'), ('coffee', 'NN'), ('cafe', 'NN'), ('in', 'IN'), ('toronto', 'NN'), ('for', 'IN'), ('declining', 'VBG'), ('to', 'TO'), ('offer', 'VB'), ('wifi', 'NN'), ('to', 'TO'), ('its', 'PRP$'), ('customers', 'NNS'), ('there', 'EX'), ('are', 'VBP'), ('other', 'JJ'), ('such', 'JJ'), ('cafes', 'NNS'), ('to', 'TO'), ('be', 'VB'), ('sure', 'JJ'), ('including', 'VBG'), ('seven', 'CD'), ('of', 'IN'), ('the', 'DT'), ('eight', 'CD'), ('new', 'JJ'), ('york', 'NN'), ('city', 'NN'), ('locations', 'NNS'), ('of', 'IN'), ('café', 'NN'), ('grumpy', 'NN'), ('but', 'CC'), ('its', 'PRP$'), ('hotblacks', 'NNS'), ('reason', 'NN'), ('for', 'IN'), ('the', 'DT'), ('electronic', 'JJ'), ('blackout', 'NN'), ('that', 'WDT'), ('is', 'VBZ'), ('cause', 'NN'), ('for', 'IN'), ('hosannas', 'NN'), ('as', 'IN'), ('its', 'PRP$'), ('president', 'NN'), ('jimson', 'NN'), ('bienenstock', 'NN'), ('explained', 'VBD'), ('his', 'PRP$'), ('aim', 'NN'), ('is', 'VBZ'), ('to', 'TO'), ('get', 'VB'), ('customers', 'NNS'), ('to', 'TO'), ('talk', 'VB'), ('with', 'IN'), ('one', 'CD'), ('another', 'DT'), ('instead', 'RB'), ('of', 'IN'), ('being', 'VBG'), ('buried', 'VBN'), ('in', 'IN'), ('their', 'PRP$'), ('portable', 'JJ'), ('devices', 'NNS'), ('its', 'PRP$'), ('about', 'IN'), ('creating', 'VBG'), ('a', 'DT'), ('social', 'JJ'), ('vibe', 'NN'), ('he', 'PRP'), ('told', 'VBD'), ('a', 'DT'), ('new', 'JJ'), ('york', 'NN'), ('times', 'NNS'), ('reporter', 'VBP'), ('were', 'VBD'), ('a', 'DT'), ('vehicle', 'NN'), ('for', 'IN'), ('human', 'JJ'), ('interaction', 'NN'), ('otherwise', 'RB'), ('its', 'PRP$'), ('just', 'RB'), ('a', 'DT'), ('commodity', 'NN'), ('what', 'WP'), ('a', 'DT'), ('novel', 'JJ'), ('idea', 'NN'), ('perhaps', 'RB'), ('mr', 'JJ'), ('bienenstock', 'NN'), ('instinctively', 'RB'), ('knows', 'VBZ'), ('what', 'WP'), ('medical', 'JJ'), ('science', 'NN'), ('has', 'VBZ'), ('been', 'VBN'), ('increasingly', 'RB'), ('demonstrating', 'VBG'), ('for', 'IN'), ('decades', 'NNS'), ('social', 'JJ'), ('interaction', 'NN'), ('is', 'VBZ'), ('a', 'DT'), ('critically', 'RB'), ('important', 'JJ'), ('contributor', 'NN'), ('to', 'TO'), ('good', 'JJ'), ('health', 'NN'), ('and', 'CC'), ('longevity', 'NN'), ('personally', 'RB'), ('i', 'JJ'), ('dont', 'VBP'), ('need', 'VBP'), ('researchbased', 'VBN'), ('evidence', 'NN'), ('to', 'TO'), ('appreciate', 'VB'), ('the', 'DT'), ('value', 'NN'), ('of', 'IN'), ('making', 'VBG'), ('and', 'CC'), ('maintaining', 'VBG'), ('social', 'JJ'), ('connections', 'NNS'), ('i', 'VBP'), ('experience', 'VBP'), ('it', 'PRP'), ('daily', 'RB'), ('during', 'IN'), ('my', 'PRP$'), ('morning', 'NN'), ('walk', 'NN'), ('with', 'IN'), ('up', 'IN'), ('to', 'TO'), ('three', 'CD'), ('women', 'NNS'), ('then', 'RB'), ('before', 'IN'), ('and', 'CC'), ('after', 'IN'), ('my', 'PRP$'), ('swim', 'NN'), ('in', 'IN'), ('the', 'DT'), ('locker', 'NN'), ('room', 'NN'), ('of', 'IN'), ('the', 'DT'), ('ymca', 'NN'), ('where', 'WRB'), ('the', 'DT'), ('use', 'NN'), ('of', 'IN'), ('electronic', 'JJ'), ('devices', 'NNS'), ('is', 'VBZ'), ('not', 'RB'), ('allowed', 'VBN'), ('the', 'DT'), ('locker', 'NN'), ('room', 'NN'), ('experience', 'NN'), ('has', 'VBZ'), ('been', 'VBN'), ('surprisingly', 'RB'), ('rewarding', 'VBG'), ('ive', 'JJ'), ('made', 'VBN'), ('many', 'JJ'), ('new', 'JJ'), ('friends', 'NNS'), ('with', 'IN'), ('whom', 'WP'), ('i', 'NN'), ('can', 'MD'), ('share', 'NN'), ('both', 'DT'), ('joys', 'NNS'), ('and', 'CC'), ('sorrows', 'VBZ'), ('the', 'DT'), ('women', 'NNS'), ('help', 'VB'), ('me', 'PRP'), ('solve', 'VB'), ('problems', 'NNS'), ('big', 'JJ'), ('and', 'CC'), ('small', 'JJ'), ('providing', 'VBG'), ('a', 'DT'), ('sounding', 'VBG'), ('board', 'NN'), ('advice', 'NN'), ('and', 'CC'), ('counsel', 'NN'), ('and', 'CC'), ('often', 'RB'), ('a', 'DT'), ('hearty', 'JJ'), ('laugh', 'NN'), ('that', 'IN'), ('brightens', 'NNS'), ('my', 'PRP$'), ('day', 'NN'), ('and', 'CC'), ('as', 'IN'), ('myriad', 'JJ'), ('studies', 'NNS'), ('have', 'VBP'), ('shown', 'VBN'), ('they', 'PRP'), ('may', 'MD'), ('also', 'RB'), ('be', 'VB'), ('helping', 'VBG'), ('to', 'TO'), ('save', 'VB'), ('my', 'PRP$'), ('life', 'NN'), ('as', 'IN'), ('the', 'DT'), ('harvard', 'NN'), ('womens', 'VBZ'), ('health', 'NN'), ('watch', 'NN'), ('reported', 'VBD'), ('dozens', 'NNS'), ('of', 'IN'), ('studies', 'NNS'), ('have', 'VBP'), ('shown', 'VBN'), ('that', 'IN'), ('people', 'NNS'), ('who', 'WP'), ('have', 'VBP'), ('satisfying', 'VBG'), ('relationships', 'NNS'), ('with', 'IN'), ('family', 'NN'), ('friends', 'NNS'), ('and', 'CC'), ('their', 'PRP$'), ('community', 'NN'), ('are', 'VBP'), ('happier', 'VBN'), ('have', 'VBP'), ('fewer', 'JJR'), ('health', 'NN'), ('problems', 'NNS'), ('and', 'CC'), ('live', 'JJ'), ('longer', 'NN'), ('in', 'IN'), ('a', 'DT'), ('study', 'NN'), ('of', 'IN'), ('7000', 'CD'), ('men', 'NNS'), ('and', 'CC'), ('women', 'NNS'), ('in', 'IN'), ('alameda', 'JJ'), ('county', 'NN'), ('calif', 'NN'), ('begun', 'VBN'), ('in', 'IN'), ('1965', 'CD'), ('lisa', 'NN'), ('f', 'JJ'), ('berkman', 'NN'), ('and', 'CC'), ('s', 'VB'), ('leonard', 'NN'), ('syme', 'NN'), ('found', 'VBD'), ('that', 'IN'), ('people', 'NNS'), ('who', 'WP'), ('were', 'VBD'), ('disconnected', 'VBN'), ('from', 'IN'), ('others', 'NNS'), ('were', 'VBD'), ('roughly', 'RB'), ('three', 'CD'), ('times', 'NNS'), ('more', 'RBR'), ('likely', 'JJ'), ('to', 'TO'), ('die', 'VB'), ('during', 'IN'), ('the', 'DT'), ('nineyear', 'NN'), ('study', 'NN'), ('than', 'IN'), ('people', 'NNS'), ('with', 'IN'), ('strong', 'JJ'), ('social', 'JJ'), ('ties', 'NNS'), ('john', 'VBP'), ('robbins', 'NNS'), ('recounted', 'VBN'), ('in', 'IN'), ('his', 'PRP$'), ('marvelous', 'JJ'), ('book', 'NN'), ('on', 'IN'), ('health', 'NN'), ('and', 'CC'), ('longevity', 'NN'), ('healthy', 'JJ'), ('at', 'IN'), ('100', 'CD'), ('this', 'DT'), ('major', 'JJ'), ('difference', 'NN'), ('in', 'IN'), ('survival', 'NN'), ('occurred', 'VBD'), ('regardless', 'RB'), ('of', 'IN'), ('peoples', 'NNS'), ('age', 'NN'), ('gender', 'NN'), ('health', 'NN'), ('practices', 'NNS'), ('or', 'CC'), ('physical', 'JJ'), ('health', 'NN'), ('status', 'NN'), ('in', 'IN'), ('fact', 'NN'), ('the', 'DT'), ('researchers', 'NNS'), ('found', 'VBD'), ('that', 'IN'), ('those', 'DT'), ('with', 'IN'), ('close', 'JJ'), ('social', 'JJ'), ('ties', 'NNS'), ('and', 'CC'), ('unhealthful', 'JJ'), ('lifestyles', 'NNS'), ('such', 'JJ'), ('as', 'IN'), ('smoking', 'VBG'), ('obesity', 'NN'), ('and', 'CC'), ('lack', 'NN'), ('of', 'IN'), ('exercise', 'NN'), ('actually', 'RB'), ('lived', 'VBD'), ('longer', 'JJR'), ('than', 'IN'), ('those', 'DT'), ('with', 'IN'), ('poor', 'JJ'), ('social', 'JJ'), ('ties', 'NNS'), ('but', 'CC'), ('more', 'JJR'), ('healthful', 'JJ'), ('living', 'NN'), ('habits', 'NNS'), ('mr', 'VBP'), ('robbins', 'NNS'), ('wrote', 'VBD'), ('however', 'RB'), ('he', 'PRP'), ('quickly', 'RB'), ('added', 'VBD'), ('needless', 'JJ'), ('to', 'TO'), ('say', 'VB'), ('people', 'NNS'), ('with', 'IN'), ('both', 'DT'), ('healthful', 'JJ'), ('lifestyles', 'NNS'), ('and', 'CC'), ('close', 'JJ'), ('social', 'JJ'), ('ties', 'NNS'), ('lived', 'VBD'), ('the', 'DT'), ('longest', 'JJS'), ('of', 'IN'), ('all', 'DT'), ('in', 'IN'), ('another', 'DT'), ('study', 'NN'), ('published', 'VBN'), ('in', 'IN'), ('the', 'DT'), ('new', 'JJ'), ('england', 'JJ'), ('journal', 'NN'), ('of', 'IN'), ('medicine', 'NN'), ('in', 'IN'), ('1984', 'CD'), ('researchers', 'NNS'), ('at', 'IN'), ('the', 'DT'), ('health', 'NN'), ('insurance', 'NN'), ('plan', 'NN'), ('of', 'IN'), ('greater', 'JJR'), ('new', 'JJ'), ('york', 'NN'), ('found', 'VBD'), ('that', 'IN'), ('among', 'IN'), ('2320', 'CD'), ('men', 'NNS'), ('who', 'WP'), ('had', 'VBD'), ('survived', 'VBN'), ('a', 'DT'), ('heart', 'NN'), ('attack', 'NN'), ('those', 'DT'), ('with', 'IN'), ('strong', 'JJ'), ('connections', 'NNS'), ('with', 'IN'), ('other', 'JJ'), ('people', 'NNS'), ('had', 'VBD'), ('only', 'RB'), ('a', 'DT'), ('quarter', 'NN'), ('the', 'DT'), ('risk', 'NN'), ('of', 'IN'), ('death', 'NN'), ('within', 'IN'), ('the', 'DT'), ('following', 'JJ'), ('three', 'CD'), ('years', 'NNS'), ('as', 'IN'), ('those', 'DT'), ('who', 'WP'), ('lacked', 'VBD'), ('social', 'JJ'), ('connectedness', 'NN'), ('researchers', 'NNS'), ('at', 'IN'), ('duke', 'NN'), ('university', 'NN'), ('medical', 'JJ'), ('center', 'NN'), ('also', 'RB'), ('found', 'VBD'), ('that', 'IN'), ('social', 'JJ'), ('ties', 'NNS'), ('can', 'MD'), ('reduce', 'VB'), ('deaths', 'NNS'), ('among', 'IN'), ('people', 'NNS'), ('with', 'IN'), ('serious', 'JJ'), ('medical', 'JJ'), ('conditions', 'NNS'), ('beverly', 'RB'), ('h', 'VBP'), ('brummett', 'NNS'), ('and', 'CC'), ('colleagues', 'NNS'), ('reported', 'VBN'), ('in', 'IN'), ('2001', 'CD'), ('that', 'IN'), ('among', 'IN'), ('adults', 'NNS'), ('with', 'IN'), ('coronary', 'JJ'), ('artery', 'NN'), ('disease', 'NN'), ('the', 'DT'), ('mortality', 'NN'), ('rate', 'NN'), ('was', 'VBD'), ('24', 'CD'), ('times', 'NNS'), ('higher', 'RBR'), ('among', 'IN'), ('those', 'DT'), ('who', 'WP'), ('were', 'VBD'), ('socially', 'RB'), ('isolated', 'VBN'), ('in', 'IN'), ('a', 'DT'), ('column', 'NN'), ('i', 'JJ'), ('wrote', 'VBD'), ('in', 'IN'), ('2013', 'CD'), ('called', 'VBD'), ('shaking', 'VBG'), ('off', 'RP'), ('loneliness', 'NN'), ('i', 'NN'), ('cited', 'VBD'), ('a', 'DT'), ('review', 'NN'), ('of', 'IN'), ('research', 'NN'), ('published', 'VBN'), ('in', 'IN'), ('1988', 'CD'), ('indicating', 'NN'), ('that', 'WDT'), ('social', 'JJ'), ('isolation', 'NN'), ('is', 'VBZ'), ('on', 'IN'), ('a', 'DT'), ('par', 'NN'), ('with', 'IN'), ('high', 'JJ'), ('blood', 'NN'), ('pressure', 'NN'), ('obesity', 'NN'), ('lack', 'NN'), ('of', 'IN'), ('exercise', 'NN'), ('or', 'CC'), ('smoking', 'NN'), ('as', 'IN'), ('a', 'DT'), ('risk', 'NN'), ('factor', 'NN'), ('for', 'IN'), ('illness', 'NN'), ('and', 'CC'), ('early', 'JJ'), ('death', 'NN'), ('people', 'NNS'), ('who', 'WP'), ('are', 'VBP'), ('chronically', 'RB'), ('lacking', 'VBG'), ('in', 'IN'), ('social', 'JJ'), ('contacts', 'NNS'), ('are', 'VBP'), ('more', 'RBR'), ('likely', 'JJ'), ('to', 'TO'), ('experience', 'VB'), ('elevated', 'JJ'), ('levels', 'NNS'), ('of', 'IN'), ('stress', 'NN'), ('and', 'CC'), ('inflammation', 'NN'), ('these', 'DT'), ('in', 'IN'), ('turn', 'NN'), ('can', 'MD'), ('undermine', 'VB'), ('the', 'DT'), ('wellbeing', 'NN'), ('of', 'IN'), ('nearly', 'RB'), ('every', 'DT'), ('bodily', 'NN'), ('system', 'NN'), ('including', 'VBG'), ('the', 'DT'), ('brain', 'NN'), ('absent', 'JJ'), ('social', 'JJ'), ('interactions', 'NNS'), ('blood', 'VBD'), ('flow', 'NN'), ('to', 'TO'), ('vital', 'JJ'), ('organs', 'NNS'), ('is', 'VBZ'), ('likely', 'JJ'), ('to', 'TO'), ('be', 'VB'), ('reduced', 'VBN'), ('and', 'CC'), ('immune', 'JJ'), ('function', 'NN'), ('may', 'MD'), ('be', 'VB'), ('undermined', 'VBN'), ('even', 'RB'), ('how', 'WRB'), ('genes', 'NNS'), ('are', 'VBP'), ('expressed', 'VBN'), ('can', 'MD'), ('be', 'VB'), ('adversely', 'RB'), ('affected', 'JJ'), ('impairing', 'VBG'), ('the', 'DT'), ('bodys', 'NN'), ('ability', 'NN'), ('to', 'TO'), ('turn', 'VB'), ('off', 'RP'), ('inflammation', 'NN'), ('chronic', 'JJ'), ('inflammation', 'NN'), ('has', 'VBZ'), ('been', 'VBN'), ('linked', 'VBN'), ('to', 'TO'), ('heart', 'NN'), ('disease', 'NN'), ('arthritis', 'NN'), ('type', 'NN'), ('2', 'CD'), ('diabetes', 'NNS'), ('and', 'CC'), ('even', 'RB'), ('suicide', 'VB'), ('attempts', 'NNS'), ('in', 'IN'), ('a', 'DT'), ('2010', 'CD'), ('report', 'NN'), ('in', 'IN'), ('the', 'DT'), ('journal', 'NN'), ('of', 'IN'), ('health', 'NN'), ('and', 'CC'), ('social', 'JJ'), ('behavior', 'NN'), ('debra', 'NN'), ('umberson', 'NN'), ('and', 'CC'), ('jennifer', 'NN'), ('karas', 'NNS'), ('montez', 'VBP'), ('sociology', 'NN'), ('researchers', 'NNS'), ('at', 'IN'), ('the', 'DT'), ('university', 'NN'), ('of', 'IN'), ('texas', 'NN'), ('at', 'IN'), ('austin', 'NN'), ('cited', 'VBD'), ('consistent', 'JJ'), ('and', 'CC'), ('compelling', 'JJ'), ('evidence', 'NN'), ('linking', 'VBG'), ('a', 'DT'), ('low', 'JJ'), ('quantity', 'NN'), ('or', 'CC'), ('quality', 'NN'), ('of', 'IN'), ('social', 'JJ'), ('ties', 'NNS'), ('with', 'IN'), ('a', 'DT'), ('host', 'NN'), ('of', 'IN'), ('conditions', 'NNS'), ('including', 'VBG'), ('the', 'DT'), ('development', 'NN'), ('and', 'CC'), ('worsening', 'NN'), ('of', 'IN'), ('cardiovascular', 'JJ'), ('disease', 'NN'), ('repeat', 'NN'), ('heart', 'NN'), ('attacks', 'VBZ'), ('autoimmune', 'JJ'), ('disorders', 'NNS'), ('high', 'JJ'), ('blood', 'NN'), ('pressure', 'NN'), ('cancer', 'NN'), ('and', 'CC'), ('slowed', 'VBD'), ('wound', 'IN'), ('healing', 'VBG'), ('the', 'DT'), ('texas', 'NN'), ('researchers', 'NNS'), ('pointed', 'VBD'), ('out', 'RP'), ('that', 'IN'), ('social', 'JJ'), ('interactions', 'NNS'), ('can', 'MD'), ('enhance', 'VB'), ('good', 'JJ'), ('health', 'NN'), ('through', 'IN'), ('a', 'DT'), ('positive', 'JJ'), ('influence', 'NN'), ('on', 'IN'), ('peoples', 'NNS'), ('living', 'VBG'), ('habits', 'NNS'), ('for', 'IN'), ('example', 'NN'), ('if', 'IN'), ('none', 'NN'), ('of', 'IN'), ('your', 'PRP$'), ('friends', 'NNS'), ('smoke', 'VBP'), ('youll', 'RB'), ('be', 'VB'), ('less', 'RBR'), ('likely', 'JJ'), ('to', 'TO'), ('smoke', 'VB'), ('according', 'VBG'), ('to', 'TO'), ('the', 'DT'), ('researchers', 'NNS'), ('the', 'DT'), ('practice', 'NN'), ('of', 'IN'), ('health', 'NN'), ('behaviors', 'NNS'), ('like', 'IN'), ('getting', 'VBG'), ('regular', 'JJ'), ('exercise', 'NN'), ('consuming', 'VBG'), ('a', 'DT'), ('balanced', 'JJ'), ('diet', 'NN'), ('and', 'CC'), ('avoiding', 'VBG'), ('smoking', 'VBG'), ('excessive', 'JJ'), ('weight', 'NN'), ('gain', 'NN'), ('and', 'CC'), ('abuse', 'NN'), ('of', 'IN'), ('alcohol', 'NN'), ('and', 'CC'), ('drugs', 'NNS'), ('explains', 'VBZ'), ('about', 'IN'), ('40', 'CD'), ('percent', 'NN'), ('of', 'IN'), ('premature', 'JJ'), ('mortality', 'NN'), ('as', 'RB'), ('well', 'RB'), ('as', 'IN'), ('substantial', 'JJ'), ('morbidity', 'NN'), ('and', 'CC'), ('disability', 'NN'), ('in', 'IN'), ('the', 'DT'), ('united', 'JJ'), ('states', 'NNS'), ('lack', 'NN'), ('of', 'IN'), ('social', 'JJ'), ('interactions', 'NNS'), ('also', 'RB'), ('damages', 'NNS'), ('mental', 'VBP'), ('health', 'NN'), ('the', 'DT'), ('emotional', 'JJ'), ('support', 'NN'), ('provided', 'VBN'), ('by', 'IN'), ('social', 'JJ'), ('connections', 'NNS'), ('helps', 'VBZ'), ('to', 'TO'), ('reduce', 'VB'), ('the', 'DT'), ('damaging', 'JJ'), ('effects', 'NNS'), ('of', 'IN'), ('stress', 'NN'), ('and', 'CC'), ('can', 'MD'), ('foster', 'VB'), ('a', 'DT'), ('sense', 'NN'), ('of', 'IN'), ('meaning', 'NN'), ('and', 'CC'), ('purpose', 'NN'), ('in', 'IN'), ('life', 'NN'), ('the', 'DT'), ('texas', 'NN'), ('researchers', 'NNS'), ('wrote', 'VBD'), ('emma', 'JJ'), ('seppala', 'NN'), ('of', 'IN'), ('the', 'DT'), ('stanford', 'NN'), ('center', 'NN'), ('for', 'IN'), ('compassion', 'NN'), ('and', 'CC'), ('altruism', 'NN'), ('research', 'NN'), ('and', 'CC'), ('education', 'NN'), ('and', 'CC'), ('author', 'NN'), ('of', 'IN'), ('the', 'DT'), ('2016', 'CD'), ('book', 'NN'), ('the', 'DT'), ('happiness', 'NN'), ('track', 'NN'), ('wrote', 'VBD'), ('people', 'NNS'), ('who', 'WP'), ('feel', 'VBP'), ('more', 'RBR'), ('connected', 'JJ'), ('to', 'TO'), ('others', 'NNS'), ('have', 'VBP'), ('lower', 'JJR'), ('levels', 'NNS'), ('of', 'IN'), ('anxiety', 'NN'), ('and', 'CC'), ('depression', 'NN'), ('moreover', 'NN'), ('studies', 'NNS'), ('show', 'VBP'), ('they', 'PRP'), ('also', 'RB'), ('have', 'VBP'), ('higher', 'JJR'), ('selfesteem', 'NN'), ('greater', 'JJR'), ('empathy', 'NN'), ('for', 'IN'), ('others', 'NNS'), ('are', 'VBP'), ('more', 'RBR'), ('trusting', 'JJ'), ('and', 'CC'), ('cooperative', 'JJ'), ('and', 'CC'), ('as', 'IN'), ('a', 'DT'), ('consequence', 'NN'), ('others', 'NNS'), ('are', 'VBP'), ('more', 'RBR'), ('open', 'JJ'), ('to', 'TO'), ('trusting', 'VBG'), ('and', 'CC'), ('cooperating', 'VBG'), ('with', 'IN'), ('them', 'PRP'), ('in', 'IN'), ('other', 'JJ'), ('words', 'NNS'), ('dr', 'VBP'), ('seppala', 'NN'), ('explained', 'VBN'), ('social', 'JJ'), ('connectedness', 'NN'), ('generates', 'VBZ'), ('a', 'DT'), ('positive', 'JJ'), ('feedback', 'NN'), ('loop', 'NN'), ('of', 'IN'), ('social', 'JJ'), ('emotional', 'JJ'), ('and', 'CC'), ('physical', 'JJ'), ('wellbeing', 'NN'), ('she', 'PRP'), ('suggested', 'VBD'), ('that', 'IN'), ('a', 'DT'), ('societal', 'JJ'), ('decline', 'NN'), ('in', 'IN'), ('social', 'JJ'), ('connectedness', 'NN'), ('may', 'MD'), ('help', 'VB'), ('to', 'TO'), ('explain', 'VB'), ('recent', 'JJ'), ('increases', 'NNS'), ('in', 'IN'), ('reports', 'NNS'), ('of', 'IN'), ('loneliness', 'JJ'), ('isolation', 'NN'), ('and', 'CC'), ('alienation', 'NN'), ('and', 'CC'), ('may', 'MD'), ('be', 'VB'), ('why', 'WRB'), ('loneliness', 'NN'), ('has', 'VBZ'), ('become', 'VBN'), ('a', 'DT'), ('leading', 'JJ'), ('reason', 'NN'), ('people', 'NNS'), ('seek', 'VBP'), ('psychological', 'JJ'), ('counseling', 'NN'), ('by', 'IN'), ('2004', 'CD'), ('she', 'PRP'), ('wrote', 'VBD'), ('sociological', 'JJ'), ('research', 'NN'), ('revealed', 'VBD'), ('that', 'IN'), ('more', 'JJR'), ('than', 'IN'), ('25', 'CD'), ('percent', 'NN'), ('of', 'IN'), ('americans', 'NNS'), ('had', 'VBD'), ('no', 'DT'), ('one', 'NN'), ('to', 'TO'), ('confide', 'VB'), ('in', 'IN'), ('they', 'PRP'), ('lacked', 'VBD'), ('a', 'DT'), ('close', 'JJ'), ('friend', 'NN'), ('with', 'IN'), ('whom', 'WP'), ('they', 'PRP'), ('felt', 'VBD'), ('comfortable', 'JJ'), ('sharing', 'VBG'), ('a', 'DT'), ('personal', 'JJ'), ('problem', 'NN'), ('for', 'IN'), ('those', 'DT'), ('seeking', 'VBG'), ('a', 'DT'), ('healthpromoting', 'NN'), ('lifestyle', 'NN'), ('its', 'PRP$'), ('not', 'RB'), ('enough', 'RB'), ('to', 'TO'), ('focus', 'VB'), ('on', 'IN'), ('eating', 'VBG'), ('your', 'PRP$'), ('veggies', 'NNS'), ('and', 'CC'), ('getting', 'VBG'), ('regular', 'JJ'), ('exercise', 'NN'), ('dr', 'NN'), ('seppala', 'NN'), ('advises', 'VBZ'), ('dont', 'JJ'), ('forget', 'NN'), ('to', 'TO'), ('connect', 'VB')]\n"
     ]
    }
   ],
   "source": [
    "# 4. POS tagging\n",
    "# 영어의 경우는 nltk에서 제공하는 pos_tag() 함수를 사용해서 품사 태깅을 할 수 있습니다.\n",
    "# pos_tag()의 입력값으로는 단어의 리스트가 들어가야 합니다.\n",
    "tokens_pos = nltk.pos_tag(word_tokens)\n",
    "print(tokens_pos)"
   ]
  },
  {
   "cell_type": "code",
   "execution_count": 12,
   "metadata": {
    "scrolled": true
   },
   "outputs": [
    {
     "name": "stdout",
     "output_type": "stream",
     "text": [
      "['hurray', 'hotblack', 'coffee', 'cafe', 'toronto', 'wifi', 'customers', 'cafes', 'york', 'city', 'locations', 'café', 'grumpy', 'hotblacks', 'reason', 'blackout', 'cause', 'hosannas', 'president', 'jimson', 'bienenstock', 'aim', 'customers', 'devices', 'vibe', 'york', 'times', 'vehicle', 'interaction', 'commodity', 'idea', 'bienenstock', 'science', 'decades', 'interaction', 'contributor', 'health', 'longevity', 'evidence', 'value', 'connections', 'morning', 'walk', 'women', 'swim', 'locker', 'room', 'ymca', 'use', 'devices', 'locker', 'room', 'experience', 'friends', 'i', 'share', 'joys', 'women', 'problems', 'board', 'advice', 'counsel', 'laugh', 'brightens', 'day', 'studies', 'life', 'harvard', 'health', 'watch', 'dozens', 'studies', 'people', 'relationships', 'family', 'friends', 'community', 'health', 'problems', 'longer', 'study', 'men', 'women', 'county', 'calif', 'lisa', 'berkman', 'leonard', 'syme', 'people', 'others', 'times', 'nineyear', 'study', 'people', 'ties', 'robbins', 'book', 'health', 'longevity', 'difference', 'survival', 'peoples', 'age', 'gender', 'health', 'practices', 'health', 'status', 'fact', 'researchers', 'ties', 'lifestyles', 'obesity', 'lack', 'exercise', 'ties', 'living', 'habits', 'robbins', 'people', 'lifestyles', 'ties', 'study', 'journal', 'medicine', 'researchers', 'health', 'insurance', 'plan', 'york', 'men', 'heart', 'attack', 'connections', 'people', 'quarter', 'risk', 'death', 'years', 'connectedness', 'researchers', 'duke', 'university', 'center', 'ties', 'deaths', 'people', 'conditions', 'brummett', 'colleagues', 'adults', 'artery', 'disease', 'mortality', 'rate', 'times', 'column', 'loneliness', 'i', 'review', 'research', 'indicating', 'isolation', 'par', 'blood', 'pressure', 'obesity', 'lack', 'exercise', 'smoking', 'risk', 'factor', 'illness', 'death', 'people', 'contacts', 'levels', 'stress', 'inflammation', 'turn', 'wellbeing', 'bodily', 'system', 'brain', 'interactions', 'flow', 'organs', 'function', 'genes', 'bodys', 'ability', 'inflammation', 'inflammation', 'heart', 'disease', 'arthritis', 'type', 'diabetes', 'attempts', 'report', 'journal', 'health', 'behavior', 'debra', 'umberson', 'jennifer', 'karas', 'sociology', 'researchers', 'university', 'texas', 'austin', 'evidence', 'quantity', 'quality', 'ties', 'host', 'conditions', 'development', 'worsening', 'disease', 'repeat', 'heart', 'disorders', 'blood', 'pressure', 'cancer', 'texas', 'researchers', 'interactions', 'health', 'influence', 'peoples', 'habits', 'example', 'none', 'friends', 'researchers', 'practice', 'health', 'behaviors', 'exercise', 'diet', 'weight', 'gain', 'abuse', 'alcohol', 'drugs', 'percent', 'mortality', 'morbidity', 'disability', 'states', 'lack', 'interactions', 'damages', 'health', 'support', 'connections', 'effects', 'stress', 'sense', 'meaning', 'purpose', 'life', 'texas', 'researchers', 'seppala', 'stanford', 'center', 'compassion', 'altruism', 'research', 'education', 'author', 'book', 'happiness', 'track', 'people', 'others', 'levels', 'anxiety', 'depression', 'moreover', 'studies', 'selfesteem', 'empathy', 'others', 'consequence', 'others', 'words', 'seppala', 'connectedness', 'feedback', 'loop', 'wellbeing', 'decline', 'connectedness', 'increases', 'reports', 'isolation', 'alienation', 'loneliness', 'reason', 'people', 'counseling', 'research', 'percent', 'americans', 'one', 'friend', 'problem', 'healthpromoting', 'lifestyle', 'veggies', 'exercise', 'dr', 'seppala', 'forget']\n"
     ]
    }
   ],
   "source": [
    "# 명사 단어만 추출하기\n",
    "# 품사 태그 정보: https://www.ling.upenn.edu/courses/Fall_2003/ling001/penn_treebank_pos.html\n",
    "NN_words = []\n",
    "for word, pos in tokens_pos:\n",
    "    if 'NN' in pos:\n",
    "        NN_words.append(word)\n",
    "print(NN_words)"
   ]
  },
  {
   "cell_type": "code",
   "execution_count": 13,
   "metadata": {
    "scrolled": true
   },
   "outputs": [
    {
     "name": "stdout",
     "output_type": "stream",
     "text": [
      "['hurray', 'hotblack', 'coffee', 'cafe', 'toronto', 'wifi', 'customer', 'cafe', 'york', 'city', 'location', 'café', 'grumpy', 'hotblacks', 'reason', 'blackout', 'cause', 'hosanna', 'president', 'jimson', 'bienenstock', 'aim', 'customer', 'device', 'vibe', 'york', 'time', 'vehicle', 'interaction', 'commodity', 'idea', 'bienenstock', 'science', 'decade', 'interaction', 'contributor', 'health', 'longevity', 'evidence', 'value', 'connection', 'morning', 'walk', 'woman', 'swim', 'locker', 'room', 'ymca', 'use', 'device', 'locker', 'room', 'experience', 'friend', 'i', 'share', 'joy', 'woman', 'problem', 'board', 'advice', 'counsel', 'laugh', 'brightens', 'day', 'study', 'life', 'harvard', 'health', 'watch', 'dozen', 'study', 'people', 'relationship', 'family', 'friend', 'community', 'health', 'problem', 'longer', 'study', 'men', 'woman', 'county', 'calif', 'lisa', 'berkman', 'leonard', 'syme', 'people', 'others', 'time', 'nineyear', 'study', 'people', 'tie', 'robbins', 'book', 'health', 'longevity', 'difference', 'survival', 'people', 'age', 'gender', 'health', 'practice', 'health', 'status', 'fact', 'researcher', 'tie', 'lifestyle', 'obesity', 'lack', 'exercise', 'tie', 'living', 'habit', 'robbins', 'people', 'lifestyle', 'tie', 'study', 'journal', 'medicine', 'researcher', 'health', 'insurance', 'plan', 'york', 'men', 'heart', 'attack', 'connection', 'people', 'quarter', 'risk', 'death', 'year', 'connectedness', 'researcher', 'duke', 'university', 'center', 'tie', 'death', 'people', 'condition', 'brummett', 'colleague', 'adult', 'artery', 'disease', 'mortality', 'rate', 'time', 'column', 'loneliness', 'i', 'review', 'research', 'indicating', 'isolation', 'par', 'blood', 'pressure', 'obesity', 'lack', 'exercise', 'smoking', 'risk', 'factor', 'illness', 'death', 'people', 'contact', 'level', 'stress', 'inflammation', 'turn', 'wellbeing', 'bodily', 'system', 'brain', 'interaction', 'flow', 'organ', 'function', 'gene', 'body', 'ability', 'inflammation', 'inflammation', 'heart', 'disease', 'arthritis', 'type', 'diabetes', 'attempt', 'report', 'journal', 'health', 'behavior', 'debra', 'umberson', 'jennifer', 'karas', 'sociology', 'researcher', 'university', 'texas', 'austin', 'evidence', 'quantity', 'quality', 'tie', 'host', 'condition', 'development', 'worsening', 'disease', 'repeat', 'heart', 'disorder', 'blood', 'pressure', 'cancer', 'texas', 'researcher', 'interaction', 'health', 'influence', 'people', 'habit', 'example', 'none', 'friend', 'researcher', 'practice', 'health', 'behavior', 'exercise', 'diet', 'weight', 'gain', 'abuse', 'alcohol', 'drug', 'percent', 'mortality', 'morbidity', 'disability', 'state', 'lack', 'interaction', 'damage', 'health', 'support', 'connection', 'effect', 'stress', 'sense', 'meaning', 'purpose', 'life', 'texas', 'researcher', 'seppala', 'stanford', 'center', 'compassion', 'altruism', 'research', 'education', 'author', 'book', 'happiness', 'track', 'people', 'others', 'level', 'anxiety', 'depression', 'moreover', 'study', 'selfesteem', 'empathy', 'others', 'consequence', 'others', 'word', 'seppala', 'connectedness', 'feedback', 'loop', 'wellbeing', 'decline', 'connectedness', 'increase', 'report', 'isolation', 'alienation', 'loneliness', 'reason', 'people', 'counseling', 'research', 'percent', 'american', 'one', 'friend', 'problem', 'healthpromoting', 'lifestyle', 'veggie', 'exercise', 'dr', 'seppala', 'forget']\n"
     ]
    }
   ],
   "source": [
    "# Lemmatization\n",
    "# nltk에서 제공되는 WordNetLemmatizer을 이용하는 경우 \n",
    "# 명사의 경우는 보통 복수 -> 단수 형태로 변형\n",
    "# for more details, please see https://textminingonline.com/dive-into-nltk-part-iv-stemming-and-lemmatization\n",
    "wlem = nltk.WordNetLemmatizer()\n",
    "lemmatized_words = [wlem.lemmatize(word) for word in NN_words]\n",
    "#위의 코드는 아래와 같이 작성할 수 있습니다. \n",
    "# lemmatized_words = []\n",
    "# for word in NN_words:\n",
    "#     new_word = wlem.lemmatize(word)\n",
    "#     lemmatized_words.append(new_word)\n",
    "\n",
    "print(lemmatized_words)"
   ]
  },
  {
   "cell_type": "code",
   "execution_count": 14,
   "metadata": {},
   "outputs": [],
   "source": [
    "# 줄기 찾기\n",
    "# PorterStemmer 사용하기\n",
    "stemmer = nltk.PorterStemmer()\n",
    "stemmed_words = [stemmer.stem(word) for word in NN_words]"
   ]
  },
  {
   "cell_type": "code",
   "execution_count": 15,
   "metadata": {},
   "outputs": [
    {
     "name": "stdout",
     "output_type": "stream",
     "text": [
      "['hurray', 'hotblack', 'coffe', 'cafe', 'toronto', 'wifi', 'custom', 'cafe', 'york', 'citi', 'locat', 'café', 'grumpi', 'hotblack', 'reason', 'blackout', 'caus', 'hosanna', 'presid', 'jimson', 'bienenstock', 'aim', 'custom', 'devic', 'vibe', 'york', 'time', 'vehicl', 'interact', 'commod', 'idea', 'bienenstock', 'scienc', 'decad', 'interact', 'contributor', 'health', 'longev', 'evid', 'valu', 'connect', 'morn', 'walk', 'women', 'swim', 'locker', 'room', 'ymca', 'use', 'devic', 'locker', 'room', 'experi', 'friend', 'i', 'share', 'joy', 'women', 'problem', 'board', 'advic', 'counsel', 'laugh', 'brighten', 'day', 'studi', 'life', 'harvard', 'health', 'watch', 'dozen', 'studi', 'peopl', 'relationship', 'famili', 'friend', 'commun', 'health', 'problem', 'longer', 'studi', 'men', 'women', 'counti', 'calif', 'lisa', 'berkman', 'leonard', 'syme', 'peopl', 'other', 'time', 'nineyear', 'studi', 'peopl', 'tie', 'robbin', 'book', 'health', 'longev', 'differ', 'surviv', 'peopl', 'age', 'gender', 'health', 'practic', 'health', 'statu', 'fact', 'research', 'tie', 'lifestyl', 'obes', 'lack', 'exercis', 'tie', 'live', 'habit', 'robbin', 'peopl', 'lifestyl', 'tie', 'studi', 'journal', 'medicin', 'research', 'health', 'insur', 'plan', 'york', 'men', 'heart', 'attack', 'connect', 'peopl', 'quarter', 'risk', 'death', 'year', 'connected', 'research', 'duke', 'univers', 'center', 'tie', 'death', 'peopl', 'condit', 'brummett', 'colleagu', 'adult', 'arteri', 'diseas', 'mortal', 'rate', 'time', 'column', 'loneli', 'i', 'review', 'research', 'indic', 'isol', 'par', 'blood', 'pressur', 'obes', 'lack', 'exercis', 'smoke', 'risk', 'factor', 'ill', 'death', 'peopl', 'contact', 'level', 'stress', 'inflamm', 'turn', 'wellb', 'bodili', 'system', 'brain', 'interact', 'flow', 'organ', 'function', 'gene', 'bodi', 'abil', 'inflamm', 'inflamm', 'heart', 'diseas', 'arthriti', 'type', 'diabet', 'attempt', 'report', 'journal', 'health', 'behavior', 'debra', 'umberson', 'jennif', 'kara', 'sociolog', 'research', 'univers', 'texa', 'austin', 'evid', 'quantiti', 'qualiti', 'tie', 'host', 'condit', 'develop', 'worsen', 'diseas', 'repeat', 'heart', 'disord', 'blood', 'pressur', 'cancer', 'texa', 'research', 'interact', 'health', 'influenc', 'peopl', 'habit', 'exampl', 'none', 'friend', 'research', 'practic', 'health', 'behavior', 'exercis', 'diet', 'weight', 'gain', 'abus', 'alcohol', 'drug', 'percent', 'mortal', 'morbid', 'disabl', 'state', 'lack', 'interact', 'damag', 'health', 'support', 'connect', 'effect', 'stress', 'sens', 'mean', 'purpos', 'life', 'texa', 'research', 'seppala', 'stanford', 'center', 'compass', 'altruism', 'research', 'educ', 'author', 'book', 'happi', 'track', 'peopl', 'other', 'level', 'anxieti', 'depress', 'moreov', 'studi', 'selfesteem', 'empathi', 'other', 'consequ', 'other', 'word', 'seppala', 'connected', 'feedback', 'loop', 'wellb', 'declin', 'connected', 'increas', 'report', 'isol', 'alien', 'loneli', 'reason', 'peopl', 'counsel', 'research', 'percent', 'american', 'one', 'friend', 'problem', 'healthpromot', 'lifestyl', 'veggi', 'exercis', 'dr', 'seppala', 'forget']\n"
     ]
    }
   ],
   "source": [
    "print(stemmed_words)"
   ]
  },
  {
   "cell_type": "code",
   "execution_count": 16,
   "metadata": {},
   "outputs": [
    {
     "name": "stdout",
     "output_type": "stream",
     "text": [
      "['i', 'me', 'my', 'myself', 'we', 'our', 'ours', 'ourselves', 'you', \"you're\", \"you've\", \"you'll\", \"you'd\", 'your', 'yours', 'yourself', 'yourselves', 'he', 'him', 'his', 'himself', 'she', \"she's\", 'her', 'hers', 'herself', 'it', \"it's\", 'its', 'itself', 'they', 'them', 'their', 'theirs', 'themselves', 'what', 'which', 'who', 'whom', 'this', 'that', \"that'll\", 'these', 'those', 'am', 'is', 'are', 'was', 'were', 'be', 'been', 'being', 'have', 'has', 'had', 'having', 'do', 'does', 'did', 'doing', 'a', 'an', 'the', 'and', 'but', 'if', 'or', 'because', 'as', 'until', 'while', 'of', 'at', 'by', 'for', 'with', 'about', 'against', 'between', 'into', 'through', 'during', 'before', 'after', 'above', 'below', 'to', 'from', 'up', 'down', 'in', 'out', 'on', 'off', 'over', 'under', 'again', 'further', 'then', 'once', 'here', 'there', 'when', 'where', 'why', 'how', 'all', 'any', 'both', 'each', 'few', 'more', 'most', 'other', 'some', 'such', 'no', 'nor', 'not', 'only', 'own', 'same', 'so', 'than', 'too', 'very', 's', 't', 'can', 'will', 'just', 'don', \"don't\", 'should', \"should've\", 'now', 'd', 'll', 'm', 'o', 're', 've', 'y', 'ain', 'aren', \"aren't\", 'couldn', \"couldn't\", 'didn', \"didn't\", 'doesn', \"doesn't\", 'hadn', \"hadn't\", 'hasn', \"hasn't\", 'haven', \"haven't\", 'isn', \"isn't\", 'ma', 'mightn', \"mightn't\", 'mustn', \"mustn't\", 'needn', \"needn't\", 'shan', \"shan't\", 'shouldn', \"shouldn't\", 'wasn', \"wasn't\", 'weren', \"weren't\", 'won', \"won't\", 'wouldn', \"wouldn't\"]\n"
     ]
    },
    {
     "data": {
      "text/plain": [
       "179"
      ]
     },
     "execution_count": 16,
     "metadata": {},
     "output_type": "execute_result"
    }
   ],
   "source": [
    "from nltk.corpus import stopwords\n",
    "stopwords_list = stopwords.words('english')\n",
    "print(stopwords_list)\n",
    "len(stopwords_list)"
   ]
  },
  {
   "cell_type": "code",
   "execution_count": 19,
   "metadata": {},
   "outputs": [
    {
     "name": "stdout",
     "output_type": "stream",
     "text": [
      "['arabic', 'azerbaijani', 'basque', 'bengali', 'catalan', 'chinese', 'danish', 'dutch', 'english', 'finnish', 'french', 'german', 'greek', 'hebrew', 'hinglish', 'hungarian', 'indonesian', 'italian', 'kazakh', 'nepali', 'norwegian', 'portuguese', 'romanian', 'russian', 'slovene', 'spanish', 'swedish', 'tajik', 'turkish']\n",
      "29\n"
     ]
    }
   ],
   "source": [
    "# stopwords에서 지원되는 언어 목록\n",
    "print(stopwords.fileids())\n",
    "print(len(stopwords.fileids()))"
   ]
  },
  {
   "cell_type": "code",
   "execution_count": 14,
   "metadata": {},
   "outputs": [],
   "source": [
    "# Stopwords removal\n",
    "# 1차적으로 nltk에서 제공하는 불용어사전을 이용해서 불용어를 제거할 수 있습니다.\n",
    "from nltk.corpus import stopwords\n",
    "stopwords_list = stopwords.words('english') #nltk에서 제공하는 불용어사전 이용\n",
    "#print('stopwords: ', stopwords_list)\n",
    "unique_NN_words = set(lemmatized_words)\n",
    "final_NN_words = lemmatized_words\n",
    "\n",
    "# 불용어 제거\n",
    "for word in unique_NN_words:\n",
    "    if word in stopwords_list:\n",
    "        while word in final_NN_words: # final_NN_words 안에 word가 존재하는 경우, 계속해서 while 구문을 실행한다는 것을 의미합니다.\n",
    "            final_NN_words.remove(word)\n",
    "            "
   ]
  },
  {
   "cell_type": "code",
   "execution_count": 15,
   "metadata": {},
   "outputs": [
    {
     "name": "stdout",
     "output_type": "stream",
     "text": [
      "['hurray', 'hotblack', 'coffee', 'cafe', 'toronto', 'wifi', 'customer', 'cafe', 'york', 'city', 'location', 'café', 'grumpy', 'hotblacks', 'reason', 'blackout', 'cause', 'hosanna', 'president', 'jimson', 'bienenstock', 'aim', 'customer', 'device', 'vibe', 'york', 'time', 'vehicle', 'interaction', 'commodity', 'idea', 'bienenstock', 'science', 'decade', 'interaction', 'contributor', 'health', 'longevity', 'evidence', 'value', 'connection', 'morning', 'walk', 'woman', 'swim', 'locker', 'room', 'ymca', 'use', 'device', 'locker', 'room', 'experience', 'friend', 'share', 'joy', 'woman', 'problem', 'board', 'advice', 'counsel', 'laugh', 'brightens', 'day', 'study', 'life', 'harvard', 'health', 'watch', 'dozen', 'study', 'people', 'relationship', 'family', 'friend', 'community', 'health', 'problem', 'longer', 'study', 'men', 'woman', 'county', 'calif', 'lisa', 'berkman', 'leonard', 'syme', 'people', 'others', 'time', 'nineyear', 'study', 'people', 'tie', 'robbins', 'book', 'health', 'longevity', 'difference', 'survival', 'people', 'age', 'gender', 'health', 'practice', 'health', 'status', 'fact', 'researcher', 'tie', 'lifestyle', 'obesity', 'lack', 'exercise', 'tie', 'living', 'habit', 'robbins', 'people', 'lifestyle', 'tie', 'study', 'journal', 'medicine', 'researcher', 'health', 'insurance', 'plan', 'york', 'men', 'heart', 'attack', 'connection', 'people', 'quarter', 'risk', 'death', 'year', 'connectedness', 'researcher', 'duke', 'university', 'center', 'tie', 'death', 'people', 'condition', 'brummett', 'colleague', 'adult', 'artery', 'disease', 'mortality', 'rate', 'time', 'column', 'loneliness', 'review', 'research', 'indicating', 'isolation', 'par', 'blood', 'pressure', 'obesity', 'lack', 'exercise', 'smoking', 'risk', 'factor', 'illness', 'death', 'people', 'contact', 'level', 'stress', 'inflammation', 'turn', 'wellbeing', 'bodily', 'system', 'brain', 'interaction', 'flow', 'organ', 'function', 'gene', 'body', 'ability', 'inflammation', 'inflammation', 'heart', 'disease', 'arthritis', 'type', 'diabetes', 'attempt', 'report', 'journal', 'health', 'behavior', 'debra', 'umberson', 'jennifer', 'karas', 'sociology', 'researcher', 'university', 'texas', 'austin', 'evidence', 'quantity', 'quality', 'tie', 'host', 'condition', 'development', 'worsening', 'disease', 'repeat', 'heart', 'disorder', 'blood', 'pressure', 'cancer', 'texas', 'researcher', 'interaction', 'health', 'influence', 'people', 'habit', 'example', 'none', 'friend', 'researcher', 'practice', 'health', 'behavior', 'exercise', 'diet', 'weight', 'gain', 'abuse', 'alcohol', 'drug', 'percent', 'mortality', 'morbidity', 'disability', 'state', 'lack', 'interaction', 'damage', 'health', 'support', 'connection', 'effect', 'stress', 'sense', 'meaning', 'purpose', 'life', 'texas', 'researcher', 'seppala', 'stanford', 'center', 'compassion', 'altruism', 'research', 'education', 'author', 'book', 'happiness', 'track', 'people', 'others', 'level', 'anxiety', 'depression', 'moreover', 'study', 'selfesteem', 'empathy', 'others', 'consequence', 'others', 'word', 'seppala', 'connectedness', 'feedback', 'loop', 'wellbeing', 'decline', 'connectedness', 'increase', 'report', 'isolation', 'alienation', 'loneliness', 'reason', 'people', 'counseling', 'research', 'percent', 'american', 'one', 'friend', 'problem', 'healthpromoting', 'lifestyle', 'veggie', 'exercise', 'dr', 'seppala', 'forget']\n"
     ]
    }
   ],
   "source": [
    "print(final_NN_words)"
   ]
  },
  {
   "cell_type": "code",
   "execution_count": 16,
   "metadata": {
    "scrolled": true
   },
   "outputs": [
    {
     "name": "stdout",
     "output_type": "stream",
     "text": [
      "['hurray', 'hotblack', 'coffee', 'cafe', 'toronto', 'wifi', 'customer', 'cafe', 'city', 'location', 'café', 'grumpy', 'hotblacks', 'reason', 'blackout', 'cause', 'hosanna', 'president', 'jimson', 'bienenstock', 'aim', 'customer', 'device', 'vibe', 'vehicle', 'interaction', 'commodity', 'idea', 'bienenstock', 'science', 'decade', 'interaction', 'contributor', 'health', 'longevity', 'evidence', 'value', 'connection', 'morning', 'walk', 'woman', 'swim', 'locker', 'room', 'ymca', 'use', 'device', 'locker', 'room', 'experience', 'friend', 'share', 'joy', 'woman', 'problem', 'board', 'advice', 'counsel', 'laugh', 'brightens', 'day', 'study', 'life', 'harvard', 'health', 'watch', 'dozen', 'study', 'people', 'relationship', 'family', 'friend', 'community', 'health', 'problem', 'longer', 'study', 'men', 'woman', 'county', 'calif', 'lisa', 'berkman', 'leonard', 'syme', 'people', 'others', 'nineyear', 'study', 'people', 'tie', 'robbins', 'book', 'health', 'longevity', 'difference', 'survival', 'people', 'age', 'gender', 'health', 'practice', 'health', 'status', 'fact', 'researcher', 'tie', 'lifestyle', 'obesity', 'lack', 'exercise', 'tie', 'living', 'habit', 'robbins', 'people', 'lifestyle', 'tie', 'study', 'journal', 'medicine', 'researcher', 'health', 'insurance', 'plan', 'men', 'heart', 'attack', 'connection', 'people', 'quarter', 'risk', 'death', 'year', 'connectedness', 'researcher', 'duke', 'university', 'center', 'tie', 'death', 'people', 'condition', 'brummett', 'colleague', 'adult', 'artery', 'disease', 'mortality', 'rate', 'column', 'loneliness', 'review', 'research', 'indicating', 'isolation', 'par', 'blood', 'pressure', 'obesity', 'lack', 'exercise', 'smoking', 'risk', 'factor', 'illness', 'death', 'people', 'contact', 'level', 'stress', 'inflammation', 'turn', 'wellbeing', 'bodily', 'system', 'brain', 'interaction', 'flow', 'organ', 'function', 'gene', 'body', 'ability', 'inflammation', 'inflammation', 'heart', 'disease', 'arthritis', 'type', 'diabetes', 'attempt', 'report', 'journal', 'health', 'behavior', 'debra', 'umberson', 'jennifer', 'karas', 'sociology', 'researcher', 'university', 'texas', 'austin', 'evidence', 'quantity', 'quality', 'tie', 'host', 'condition', 'development', 'worsening', 'disease', 'repeat', 'heart', 'disorder', 'blood', 'pressure', 'cancer', 'texas', 'researcher', 'interaction', 'health', 'influence', 'people', 'habit', 'example', 'none', 'friend', 'researcher', 'practice', 'health', 'behavior', 'exercise', 'diet', 'weight', 'gain', 'abuse', 'alcohol', 'drug', 'percent', 'mortality', 'morbidity', 'disability', 'state', 'lack', 'interaction', 'damage', 'health', 'support', 'connection', 'effect', 'stress', 'sense', 'meaning', 'purpose', 'life', 'texas', 'researcher', 'seppala', 'stanford', 'center', 'compassion', 'altruism', 'research', 'education', 'author', 'book', 'happiness', 'track', 'people', 'others', 'level', 'anxiety', 'depression', 'moreover', 'study', 'selfesteem', 'empathy', 'others', 'consequence', 'others', 'word', 'seppala', 'connectedness', 'feedback', 'loop', 'wellbeing', 'decline', 'connectedness', 'increase', 'report', 'isolation', 'alienation', 'loneliness', 'reason', 'people', 'counseling', 'research', 'percent', 'american', 'one', 'friend', 'problem', 'healthpromoting', 'lifestyle', 'veggie', 'exercise', 'dr', 'seppala', 'forget']\n"
     ]
    }
   ],
   "source": [
    "# 제거하거자 하는 단어가 nltk에서 제공되는 사전에 포함되어 있지 않은 경우에, 아래와 같이 직접 만들어 사용할 수도 있습니다.\n",
    "customized_stopwords = ['today', 'yesterday', 'new', 'york', 'time'] # 직접 만든 불용어 사전\n",
    "unique_NN_words1 = set(final_NN_words)\n",
    "for word in unique_NN_words1:\n",
    "    if word in customized_stopwords:\n",
    "        while word in final_NN_words: \n",
    "            final_NN_words.remove(word)\n",
    "#------------------------------------------------\n",
    "\n",
    "print(final_NN_words)"
   ]
  },
  {
   "cell_type": "code",
   "execution_count": null,
   "metadata": {},
   "outputs": [],
   "source": []
  }
 ],
 "metadata": {
  "kernelspec": {
   "display_name": "Python 3 (ipykernel)",
   "language": "python",
   "name": "python3"
  },
  "language_info": {
   "codemirror_mode": {
    "name": "ipython",
    "version": 3
   },
   "file_extension": ".py",
   "mimetype": "text/x-python",
   "name": "python",
   "nbconvert_exporter": "python",
   "pygments_lexer": "ipython3",
   "version": "3.8.5"
  }
 },
 "nbformat": 4,
 "nbformat_minor": 2
}
