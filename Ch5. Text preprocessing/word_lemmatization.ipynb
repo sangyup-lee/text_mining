{
 "cells": [
  {
   "cell_type": "code",
   "execution_count": 1,
   "metadata": {},
   "outputs": [],
   "source": [
    "import nltk\n",
    "import re"
   ]
  },
  {
   "cell_type": "code",
   "execution_count": 2,
   "metadata": {},
   "outputs": [],
   "source": [
    "text = 'The carrot is one of vegetables. Research shows Vegetables are good for health. Thus, carrots are also good for health. Your health can be improved with carrots.'"
   ]
  },
  {
   "cell_type": "code",
   "execution_count": 3,
   "metadata": {},
   "outputs": [],
   "source": [
    "cleaned_content = re.sub(r'[^\\w\\d\\s]','',text)\n",
    "cleaned_content = cleaned_content.lower()\n",
    "word_tokens = nltk.word_tokenize(cleaned_content)\n",
    "tokens_pos = nltk.pos_tag(word_tokens)"
   ]
  },
  {
   "cell_type": "markdown",
   "metadata": {},
   "source": [
    "lemmatize() 함수의 두 번째 인자로는 WordNetLemmatizer가 사용하는 tag 정보가 입력되어야 합니다. 이를 위해서는 Penn Treebank에서 제공되는 품사 태그를 아래와 같이 WordNetLemmatizer가 사용하는 태그로 변환해야 합니다."
   ]
  },
  {
   "cell_type": "code",
   "execution_count": 12,
   "metadata": {
    "collapsed": true
   },
   "outputs": [],
   "source": [
    "def get_wordnet_pos(treebank_tag):\n",
    "\n",
    "    if treebank_tag.startswith('J'): # 형용사\n",
    "        return 'a'\n",
    "    elif treebank_tag.startswith('V'): # 동사\n",
    "        return 'v'\n",
    "    elif treebank_tag.startswith('N'): # 명사\n",
    "        return 'n'\n",
    "    elif treebank_tag.startswith('RB'): # 부사\n",
    "        return 'r'\n",
    "    else:\n",
    "        return 'n'"
   ]
  },
  {
   "cell_type": "markdown",
   "metadata": {},
   "source": [
    "여기서는 명사와 동사의 단어들을 선택합니다."
   ]
  },
  {
   "cell_type": "code",
   "execution_count": 13,
   "metadata": {},
   "outputs": [
    {
     "name": "stdout",
     "output_type": "stream",
     "text": [
      "['carrot', 'be', 'vegetable', 'research', 'show', 'vegetable', 'be', 'health', 'carrot', 'be', 'health', 'health', 'be', 'improve', 'carrot']\n"
     ]
    }
   ],
   "source": [
    "lemmatized_words = []\n",
    "wlem = nltk.WordNetLemmatizer()\n",
    "for word, pos in tokens_pos:\n",
    "    if 'NN' in pos or 'VB' in pos:\n",
    "        WN_pos = get_wordnet_pos(pos)  #wordnet pos tag로 변환합니다.\n",
    "        new_word = wlem.lemmatize(word, WN_pos)\n",
    "        lemmatized_words.append(new_word)\n",
    "print(lemmatized_words)"
   ]
  }
 ],
 "metadata": {
  "kernelspec": {
   "display_name": "Python 3 (ipykernel)",
   "language": "python",
   "name": "python3"
  },
  "language_info": {
   "codemirror_mode": {
    "name": "ipython",
    "version": 3
   },
   "file_extension": ".py",
   "mimetype": "text/x-python",
   "name": "python",
   "nbconvert_exporter": "python",
   "pygments_lexer": "ipython3",
   "version": "3.8.5"
  }
 },
 "nbformat": 4,
 "nbformat_minor": 2
}
