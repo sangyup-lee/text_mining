{
 "cells": [
  {
   "cell_type": "code",
   "execution_count": 1,
   "metadata": {},
   "outputs": [],
   "source": [
    "import pandas as pd\n",
    "import numpy as np"
   ]
  },
  {
   "cell_type": "markdown",
   "metadata": {},
   "source": [
    "데이터 불러오기"
   ]
  },
  {
   "cell_type": "code",
   "execution_count": 2,
   "metadata": {},
   "outputs": [],
   "source": [
    "with open('2016_filtered_review_part.txt', encoding='utf-8') as f:\n",
    "    docs = [doc.strip().split('\\t\\t') for doc in f]\n",
    "    docs = [(doc[1], int(doc[2])) for doc in docs if len(doc) == 3]\n",
    "    # To read the second and third column info from each row\n",
    "    texts, scores = zip(*docs)\n",
    "    # 둘을 분리해서 별도의 list 변수로 저장"
   ]
  },
  {
   "cell_type": "markdown",
   "metadata": {},
   "source": [
    "평점 정보를 이용해서 종속변수 레이블링 하기"
   ]
  },
  {
   "cell_type": "code",
   "execution_count": 3,
   "metadata": {},
   "outputs": [],
   "source": [
    "filtered_texts = []\n",
    "filtered_labels = []\n",
    "\n",
    "for text, score in zip(texts, scores):\n",
    "    if 4 < score < 8:\n",
    "        continue\n",
    "        \n",
    "    # 평점 기준으로 문서에 label을 부여\n",
    "    # 1 ~ 4 -> 부정, 0\n",
    "    # 8 ~ 10 -> 긍정, 1\n",
    "    filtered_texts.append(text)\n",
    "    filtered_labels.append(1 if score >= 8 else 0)"
   ]
  },
  {
   "cell_type": "code",
   "execution_count": 4,
   "metadata": {},
   "outputs": [],
   "source": [
    "# To split the data into training and test datasets\n",
    "from sklearn.model_selection import train_test_split\n",
    "train_texts, test_texts, train_labels, test_labels = train_test_split(filtered_texts, filtered_labels, test_size=0.1, random_state=42)"
   ]
  },
  {
   "cell_type": "code",
   "execution_count": 5,
   "metadata": {},
   "outputs": [],
   "source": [
    "from sklearn.linear_model import LogisticRegression"
   ]
  },
  {
   "cell_type": "code",
   "execution_count": 6,
   "metadata": {},
   "outputs": [],
   "source": [
    "lr_tf_l1 = LogisticRegression(C=0.1, penalty='l1', solver='saga', max_iter=10000) "
   ]
  },
  {
   "cell_type": "code",
   "execution_count": 7,
   "metadata": {},
   "outputs": [],
   "source": [
    "from sklearn.feature_extraction.text import CountVectorizer\n",
    "tf_vectorizer = CountVectorizer() \n",
    "tf_train_features = tf_vectorizer.fit_transform(train_texts) \n",
    "tf_test_features = tf_vectorizer.transform(test_texts)"
   ]
  },
  {
   "cell_type": "code",
   "execution_count": 8,
   "metadata": {},
   "outputs": [
    {
     "data": {
      "text/plain": [
       "LogisticRegression(C=0.1, max_iter=10000, penalty='l1', solver='saga')"
      ]
     },
     "execution_count": 8,
     "metadata": {},
     "output_type": "execute_result"
    }
   ],
   "source": [
    "lr_tf_l1.fit(tf_train_features, train_labels) # 학습"
   ]
  },
  {
   "cell_type": "code",
   "execution_count": 9,
   "metadata": {},
   "outputs": [],
   "source": [
    "pred_labels = lr_tf_l1.predict(tf_test_features) # 예측"
   ]
  },
  {
   "cell_type": "code",
   "execution_count": 10,
   "metadata": {},
   "outputs": [
    {
     "data": {
      "text/plain": [
       "array([[  29,  109],\n",
       "       [  11, 1803]], dtype=int64)"
      ]
     },
     "execution_count": 10,
     "metadata": {},
     "output_type": "execute_result"
    }
   ],
   "source": [
    "from sklearn.metrics import confusion_matrix\n",
    "confusion_matrix(test_labels, pred_labels)"
   ]
  },
  {
   "cell_type": "code",
   "execution_count": 11,
   "metadata": {},
   "outputs": [
    {
     "name": "stdout",
     "output_type": "stream",
     "text": [
      "              precision    recall  f1-score   support\n",
      "\n",
      "           0       0.72      0.21      0.33       138\n",
      "           1       0.94      0.99      0.97      1814\n",
      "\n",
      "    accuracy                           0.94      1952\n",
      "   macro avg       0.83      0.60      0.65      1952\n",
      "weighted avg       0.93      0.94      0.92      1952\n",
      "\n"
     ]
    }
   ],
   "source": [
    "from sklearn.metrics import classification_report\n",
    "print(classification_report(test_labels, pred_labels))"
   ]
  },
  {
   "cell_type": "markdown",
   "metadata": {},
   "source": [
    "# ROC curve / AUC"
   ]
  },
  {
   "cell_type": "code",
   "execution_count": 12,
   "metadata": {},
   "outputs": [],
   "source": [
    "pred_probs = lr_tf_l1.predict_proba(tf_test_features)"
   ]
  },
  {
   "cell_type": "code",
   "execution_count": 13,
   "metadata": {},
   "outputs": [
    {
     "data": {
      "text/plain": [
       "array([[0.05352931, 0.94647069],\n",
       "       [0.02859527, 0.97140473],\n",
       "       [0.07108639, 0.92891361],\n",
       "       ...,\n",
       "       [0.0915973 , 0.9084027 ],\n",
       "       [0.02171007, 0.97828993],\n",
       "       [0.07108639, 0.92891361]])"
      ]
     },
     "execution_count": 13,
     "metadata": {},
     "output_type": "execute_result"
    }
   ],
   "source": [
    "pred_probs "
   ]
  },
  {
   "cell_type": "code",
   "execution_count": 15,
   "metadata": {},
   "outputs": [],
   "source": [
    "from sklearn.metrics import roc_curve\n",
    "import matplotlib.pyplot as plt"
   ]
  },
  {
   "cell_type": "code",
   "execution_count": 16,
   "metadata": {},
   "outputs": [
    {
     "data": {
      "image/png": "[encoded data removed]",
      "text/plain": [
       "<Figure size 432x288 with 1 Axes>"
      ]
     },
     "metadata": {
      "needs_background": "light"
     },
     "output_type": "display_data"
    }
   ],
   "source": [
    "# roc curve for models\n",
    "fpr1, tpr1, thresh1 = roc_curve(test_labels, pred_probs[:,1], pos_label=1)\n",
    "\n",
    "# 기준이 되는 tpr = fpr 선을 그리기 위한 부분\n",
    "random_probs = [0 for i in range(len(test_labels))]\n",
    "p_fpr, p_tpr, _ = roc_curve(test_labels, random_probs, pos_label=1)\n",
    "\n",
    "# plot roc curves\n",
    "plt.plot(fpr1, tpr1,color='orange', label='ROC curve')\n",
    "plt.plot(p_fpr, p_tpr, linestyle='--', color='blue')\n",
    "\n",
    "plt.title('ROC curve for Sentiment analysis') # title\n",
    "plt.xlabel('False Positive Rate') # x label\n",
    "plt.ylabel('True Positive rate') # y label\n",
    "\n",
    "plt.legend(loc=\"lower right\")\n",
    "plt.savefig('ROC',dpi=300)\n",
    "plt.show()"
   ]
  },
  {
   "cell_type": "code",
   "execution_count": 19,
   "metadata": {},
   "outputs": [
    {
     "name": "stdout",
     "output_type": "stream",
     "text": [
      "[1.99986534 0.99986534 0.99669613 0.99631095 0.99589833 0.99569747\n",
      " 0.99548619 0.99546312 0.99426356 0.9942064  0.99368137 0.99356653\n",
      " 0.99337254 0.99199369 0.99195096 0.99194324 0.99060622 0.99034021\n",
      " 0.99014015 0.99011105 0.99007943 0.98987448 0.98978987 0.9897672\n",
      " 0.98954239 0.9894532  0.98894518 0.98882816 0.9881365  0.98805829\n",
      " 0.98790273 0.98786791 0.98764919 0.98758972 0.98617741 0.98617674\n",
      " 0.98610827 0.98605713 0.98592896 0.98567349 0.98564684 0.98561054\n",
      " 0.98559085 0.98551015 0.98525633 0.98517665 0.98494162 0.98491324\n",
      " 0.98476582 0.98451633 0.98448132 0.98445818 0.98394751 0.98382323\n",
      " 0.98345721 0.98344552 0.98281933 0.98276941 0.98260724 0.98252837\n",
      " 0.98212878 0.98193695 0.98181659 0.98171294 0.98044049 0.98028736\n",
      " 0.98004968 0.97983415 0.97970114 0.97907537 0.97893035 0.97889024\n",
      " 0.97881935 0.97868707 0.97845895 0.97834461 0.97780576 0.97749554\n",
      " 0.97741163 0.97705295 0.97646958 0.97638236 0.97558466 0.97545829\n",
      " 0.97516038 0.97515597 0.97497666 0.97431671 0.97420523 0.97327588\n",
      " 0.97323318 0.97245228 0.97244309 0.97161356 0.97161249 0.97144894\n",
      " 0.97140473 0.97121849 0.97109827 0.97061605 0.97056229 0.96979542\n",
      " 0.96944245 0.96928907 0.96887808 0.96827151 0.96797643 0.96591236\n",
      " 0.96552001 0.96479218 0.96442316 0.96438997 0.96283843 0.96273429\n",
      " 0.96115427 0.96104315 0.96077987 0.96043397 0.96022204 0.9601694\n",
      " 0.96009249 0.96007383 0.95882349 0.95867103 0.95809553 0.95795345\n",
      " 0.95772806 0.95753944 0.95689849 0.95673269 0.95570629 0.95556324\n",
      " 0.95526148 0.95510889 0.95483012 0.95462432 0.95462064 0.95432432\n",
      " 0.95415795 0.95265693 0.9526091  0.95245929 0.95245544 0.95203903\n",
      " 0.95197012 0.95117258 0.95105066 0.95058232 0.95032035 0.94872211\n",
      " 0.94832732 0.94618333 0.94544973 0.9454253  0.94531369 0.94448412\n",
      " 0.94398447 0.94215818 0.94208411 0.94175971 0.94146885 0.9402293\n",
      " 0.94020123 0.94010962 0.94009365 0.93992975 0.93959974 0.93813521\n",
      " 0.93790846 0.93790351 0.937678   0.93744648 0.93738197 0.93704553\n",
      " 0.93702471 0.93604459 0.93597598 0.93544986 0.93521011 0.93509482\n",
      " 0.93346673 0.93327241 0.93202057 0.93164135 0.92896104 0.92891361\n",
      " 0.92879763 0.92765167 0.92727744 0.92701021 0.92668024 0.92507949\n",
      " 0.92505995 0.92201519 0.92192684 0.92046665 0.91983239 0.9188012\n",
      " 0.91835046 0.91686618 0.91667215 0.91592622 0.91544349 0.91530754\n",
      " 0.91513719 0.91504246 0.91487071 0.91468795 0.91444881 0.91237322\n",
      " 0.91186062 0.91092271 0.91076779 0.90902046 0.90857195 0.90842426\n",
      " 0.9084027  0.90835762 0.90790325 0.90679954 0.90659621 0.90572823\n",
      " 0.90543183 0.90531379 0.90525218 0.90401279 0.903529   0.9031282\n",
      " 0.90261827 0.90196257 0.90163401 0.89995146 0.89980155 0.89349482\n",
      " 0.89339291 0.88606434 0.88578123 0.88436848 0.88382727 0.88221846\n",
      " 0.88183478 0.88082235 0.88068861 0.88060987 0.87964678 0.87902152\n",
      " 0.87899011 0.8789745  0.87780066 0.87736893 0.87727768 0.87714208\n",
      " 0.87688616 0.87592085 0.87508468 0.87500611 0.87477666 0.87300484\n",
      " 0.87257723 0.8712782  0.87034491 0.86339723 0.86195604 0.85431462\n",
      " 0.85380396 0.85193023 0.85148898 0.84945485 0.84932373 0.84559783\n",
      " 0.84502854 0.8427422  0.84261547 0.84152643 0.84055964 0.83951477\n",
      " 0.83943013 0.83434828 0.83405834 0.83152621 0.83023853 0.81530577\n",
      " 0.81465736 0.81024888 0.80872028 0.80695765 0.79842156 0.79696447\n",
      " 0.78450888 0.78332268 0.76568745 0.76211024 0.75904264 0.75052934\n",
      " 0.74906487 0.73289517 0.73170774 0.72261705 0.71979432 0.71194511\n",
      " 0.70458408 0.69579377 0.66993313 0.66811706 0.66132648 0.65952628\n",
      " 0.65613117 0.64921985 0.63934697 0.63135491 0.62530153 0.62236493\n",
      " 0.61128922 0.6008302  0.58838257 0.58614678 0.57872342 0.55102732\n",
      " 0.52959398 0.51244447 0.50873257 0.48641122 0.48634758 0.47918302\n",
      " 0.47212121 0.46837933 0.44030598 0.43109475 0.4265574  0.39507956\n",
      " 0.36952626 0.36796804 0.29097955 0.27972265 0.25279158 0.24493891\n",
      " 0.20453603 0.15373154 0.1367285  0.13611112 0.00096753]\n"
     ]
    }
   ],
   "source": [
    "np.set_printoptions(suppress=True)\n",
    "print(thresh1) # 기준 확률값 확인하기"
   ]
  },
  {
   "cell_type": "code",
   "execution_count": 20,
   "metadata": {},
   "outputs": [
    {
     "data": {
      "text/plain": [
       "0.834529744499305"
      ]
     },
     "execution_count": 20,
     "metadata": {},
     "output_type": "execute_result"
    }
   ],
   "source": [
    "from sklearn.metrics import roc_auc_score\n",
    "auc_score = roc_auc_score(test_labels, pred_probs[:,1])\n",
    "auc_score"
   ]
  },
  {
   "cell_type": "code",
   "execution_count": null,
   "metadata": {},
   "outputs": [],
   "source": []
  }
 ],
 "metadata": {
  "kernelspec": {
   "display_name": "Python 3 (ipykernel)",
   "language": "python",
   "name": "python3"
  },
  "language_info": {
   "codemirror_mode": {
    "name": "ipython",
    "version": 3
   },
   "file_extension": ".py",
   "mimetype": "text/x-python",
   "name": "python",
   "nbconvert_exporter": "python",
   "pygments_lexer": "ipython3",
   "version": "3.8.5"
  }
 },
 "nbformat": 4,
 "nbformat_minor": 2
}
