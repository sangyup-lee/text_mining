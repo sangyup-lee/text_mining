{
 "cells": [
  {
   "cell_type": "code",
   "execution_count": 17,
   "metadata": {},
   "outputs": [],
   "source": [
    "import pandas as pd\n",
    "import numpy as np"
   ]
  },
  {
   "cell_type": "code",
   "execution_count": 18,
   "metadata": {},
   "outputs": [],
   "source": [
    "data = pd.read_csv('iris_data.csv')"
   ]
  },
  {
   "cell_type": "code",
   "execution_count": 19,
   "metadata": {},
   "outputs": [
    {
     "data": {
      "text/html": [
       "<div>\n",
       "<style scoped>\n",
       "    .dataframe tbody tr th:only-of-type {\n",
       "        vertical-align: middle;\n",
       "    }\n",
       "\n",
       "    .dataframe tbody tr th {\n",
       "        vertical-align: top;\n",
       "    }\n",
       "\n",
       "    .dataframe thead th {\n",
       "        text-align: right;\n",
       "    }\n",
       "</style>\n",
       "<table border=\"1\" class=\"dataframe\">\n",
       "  <thead>\n",
       "    <tr style=\"text-align: right;\">\n",
       "      <th></th>\n",
       "      <th>sepal_length</th>\n",
       "      <th>sepal_width</th>\n",
       "      <th>petal_length</th>\n",
       "      <th>petal_width</th>\n",
       "      <th>species</th>\n",
       "    </tr>\n",
       "  </thead>\n",
       "  <tbody>\n",
       "    <tr>\n",
       "      <th>0</th>\n",
       "      <td>7.0</td>\n",
       "      <td>3.2</td>\n",
       "      <td>4.7</td>\n",
       "      <td>1.4</td>\n",
       "      <td>0</td>\n",
       "    </tr>\n",
       "    <tr>\n",
       "      <th>1</th>\n",
       "      <td>6.4</td>\n",
       "      <td>3.2</td>\n",
       "      <td>4.5</td>\n",
       "      <td>1.5</td>\n",
       "      <td>0</td>\n",
       "    </tr>\n",
       "    <tr>\n",
       "      <th>2</th>\n",
       "      <td>6.9</td>\n",
       "      <td>3.1</td>\n",
       "      <td>4.9</td>\n",
       "      <td>1.5</td>\n",
       "      <td>0</td>\n",
       "    </tr>\n",
       "    <tr>\n",
       "      <th>3</th>\n",
       "      <td>5.5</td>\n",
       "      <td>2.3</td>\n",
       "      <td>4.0</td>\n",
       "      <td>1.3</td>\n",
       "      <td>0</td>\n",
       "    </tr>\n",
       "    <tr>\n",
       "      <th>4</th>\n",
       "      <td>6.5</td>\n",
       "      <td>2.8</td>\n",
       "      <td>4.6</td>\n",
       "      <td>1.5</td>\n",
       "      <td>0</td>\n",
       "    </tr>\n",
       "  </tbody>\n",
       "</table>\n",
       "</div>"
      ],
      "text/plain": [
       "   sepal_length  sepal_width  petal_length  petal_width  species\n",
       "0           7.0          3.2           4.7          1.4        0\n",
       "1           6.4          3.2           4.5          1.5        0\n",
       "2           6.9          3.1           4.9          1.5        0\n",
       "3           5.5          2.3           4.0          1.3        0\n",
       "4           6.5          2.8           4.6          1.5        0"
      ]
     },
     "execution_count": 19,
     "metadata": {},
     "output_type": "execute_result"
    }
   ],
   "source": [
    "data.head()"
   ]
  },
  {
   "cell_type": "code",
   "execution_count": 20,
   "metadata": {},
   "outputs": [],
   "source": [
    "X = data.drop(\"species\", axis=1)\n",
    "y = data['species']"
   ]
  },
  {
   "cell_type": "code",
   "execution_count": 21,
   "metadata": {},
   "outputs": [],
   "source": [
    "from sklearn.model_selection import train_test_split\n",
    "X_train, X_test, y_train, y_test = train_test_split(X, y, test_size = 0.3)"
   ]
  },
  {
   "cell_type": "code",
   "execution_count": 23,
   "metadata": {},
   "outputs": [],
   "source": [
    "X_train, X_val, y_train, y_val = train_test_split(X_train, y_train, test_size = 0.2)"
   ]
  },
  {
   "cell_type": "code",
   "execution_count": 25,
   "metadata": {},
   "outputs": [],
   "source": [
    "from xgboost import XGBClassifier\n",
    "xgb_model = XGBClassifier(max_depth=2, n_estimators=1000, learning_rate=0.01, \n",
    "                             early_stopping_rounds=10)"
   ]
  },
  {
   "cell_type": "code",
   "execution_count": 28,
   "metadata": {
    "scrolled": true
   },
   "outputs": [
    {
     "name": "stdout",
     "output_type": "stream",
     "text": [
      "[0]\tvalidation_0-logloss:0.68647\tvalidation_1-logloss:0.68575\n",
      "[1]\tvalidation_0-logloss:0.67990\tvalidation_1-logloss:0.67847\n",
      "[2]\tvalidation_0-logloss:0.67345\tvalidation_1-logloss:0.67132\n",
      "[3]\tvalidation_0-logloss:0.66710\tvalidation_1-logloss:0.66427\n",
      "[4]\tvalidation_0-logloss:0.66087\tvalidation_1-logloss:0.65734\n",
      "[5]\tvalidation_0-logloss:0.65473\tvalidation_1-logloss:0.65052\n",
      "[6]\tvalidation_0-logloss:0.64870\tvalidation_1-logloss:0.64381\n",
      "[7]\tvalidation_0-logloss:0.64277\tvalidation_1-logloss:0.63720\n",
      "[8]\tvalidation_0-logloss:0.63658\tvalidation_1-logloss:0.63113\n",
      "[9]\tvalidation_0-logloss:0.63049\tvalidation_1-logloss:0.62516\n",
      "[10]\tvalidation_0-logloss:0.62450\tvalidation_1-logloss:0.61928\n",
      "[11]\tvalidation_0-logloss:0.61860\tvalidation_1-logloss:0.61349\n",
      "[12]\tvalidation_0-logloss:0.61280\tvalidation_1-logloss:0.60779\n",
      "[13]\tvalidation_0-logloss:0.60708\tvalidation_1-logloss:0.60218\n",
      "[14]\tvalidation_0-logloss:0.60146\tvalidation_1-logloss:0.59665\n",
      "[15]\tvalidation_0-logloss:0.59592\tvalidation_1-logloss:0.59121\n",
      "[16]\tvalidation_0-logloss:0.59070\tvalidation_1-logloss:0.58642\n",
      "[17]\tvalidation_0-logloss:0.58532\tvalidation_1-logloss:0.58113\n",
      "[18]\tvalidation_0-logloss:0.58026\tvalidation_1-logloss:0.57649\n",
      "[19]\tvalidation_0-logloss:0.57504\tvalidation_1-logloss:0.57134\n",
      "[20]\tvalidation_0-logloss:0.57012\tvalidation_1-logloss:0.56683\n",
      "[21]\tvalidation_0-logloss:0.56505\tvalidation_1-logloss:0.56182\n",
      "[22]\tvalidation_0-logloss:0.56028\tvalidation_1-logloss:0.55744\n",
      "[23]\tvalidation_0-logloss:0.55535\tvalidation_1-logloss:0.55256\n",
      "[24]\tvalidation_0-logloss:0.55072\tvalidation_1-logloss:0.54831\n",
      "[25]\tvalidation_0-logloss:0.54593\tvalidation_1-logloss:0.54356\n",
      "[26]\tvalidation_0-logloss:0.54143\tvalidation_1-logloss:0.53943\n",
      "[27]\tvalidation_0-logloss:0.53678\tvalidation_1-logloss:0.53480\n",
      "[28]\tvalidation_0-logloss:0.53240\tvalidation_1-logloss:0.53078\n",
      "[29]\tvalidation_0-logloss:0.52788\tvalidation_1-logloss:0.52628\n",
      "[30]\tvalidation_0-logloss:0.52362\tvalidation_1-logloss:0.52236\n",
      "[31]\tvalidation_0-logloss:0.51923\tvalidation_1-logloss:0.51797\n",
      "[32]\tvalidation_0-logloss:0.51509\tvalidation_1-logloss:0.51417\n",
      "[33]\tvalidation_0-logloss:0.51081\tvalidation_1-logloss:0.50989\n",
      "[34]\tvalidation_0-logloss:0.50659\tvalidation_1-logloss:0.50567\n",
      "[35]\tvalidation_0-logloss:0.50262\tvalidation_1-logloss:0.50202\n",
      "[36]\tvalidation_0-logloss:0.49852\tvalidation_1-logloss:0.49790\n",
      "[37]\tvalidation_0-logloss:0.49466\tvalidation_1-logloss:0.49435\n",
      "[38]\tvalidation_0-logloss:0.49066\tvalidation_1-logloss:0.49033\n",
      "[39]\tvalidation_0-logloss:0.48691\tvalidation_1-logloss:0.48687\n",
      "[40]\tvalidation_0-logloss:0.48301\tvalidation_1-logloss:0.48296\n",
      "[41]\tvalidation_0-logloss:0.47936\tvalidation_1-logloss:0.47958\n",
      "[42]\tvalidation_0-logloss:0.47556\tvalidation_1-logloss:0.47576\n",
      "[43]\tvalidation_0-logloss:0.47201\tvalidation_1-logloss:0.47248\n",
      "[44]\tvalidation_0-logloss:0.46831\tvalidation_1-logloss:0.46875\n",
      "[45]\tvalidation_0-logloss:0.46485\tvalidation_1-logloss:0.46555\n",
      "[46]\tvalidation_0-logloss:0.46125\tvalidation_1-logloss:0.46191\n",
      "[47]\tvalidation_0-logloss:0.45788\tvalidation_1-logloss:0.45879\n",
      "[48]\tvalidation_0-logloss:0.45437\tvalidation_1-logloss:0.45524\n",
      "[49]\tvalidation_0-logloss:0.45108\tvalidation_1-logloss:0.45220\n",
      "[50]\tvalidation_0-logloss:0.44766\tvalidation_1-logloss:0.44873\n",
      "[51]\tvalidation_0-logloss:0.44429\tvalidation_1-logloss:0.44530\n",
      "[52]\tvalidation_0-logloss:0.44113\tvalidation_1-logloss:0.44238\n",
      "[53]\tvalidation_0-logloss:0.43783\tvalidation_1-logloss:0.43903\n",
      "[54]\tvalidation_0-logloss:0.43475\tvalidation_1-logloss:0.43617\n",
      "[55]\tvalidation_0-logloss:0.43154\tvalidation_1-logloss:0.43290\n",
      "[56]\tvalidation_0-logloss:0.42854\tvalidation_1-logloss:0.43012\n",
      "[57]\tvalidation_0-logloss:0.42541\tvalidation_1-logloss:0.42692\n",
      "[58]\tvalidation_0-logloss:0.42248\tvalidation_1-logloss:0.42421\n",
      "[59]\tvalidation_0-logloss:0.41943\tvalidation_1-logloss:0.42108\n",
      "[60]\tvalidation_0-logloss:0.41657\tvalidation_1-logloss:0.41843\n",
      "[61]\tvalidation_0-logloss:0.41359\tvalidation_1-logloss:0.41538\n",
      "[62]\tvalidation_0-logloss:0.41081\tvalidation_1-logloss:0.41279\n",
      "[63]\tvalidation_0-logloss:0.40790\tvalidation_1-logloss:0.40981\n",
      "[64]\tvalidation_0-logloss:0.40518\tvalidation_1-logloss:0.40728\n",
      "[65]\tvalidation_0-logloss:0.40234\tvalidation_1-logloss:0.40436\n",
      "[66]\tvalidation_0-logloss:0.39954\tvalidation_1-logloss:0.40148\n",
      "[67]\tvalidation_0-logloss:0.39692\tvalidation_1-logloss:0.39904\n",
      "[68]\tvalidation_0-logloss:0.39418\tvalidation_1-logloss:0.39622\n",
      "[69]\tvalidation_0-logloss:0.39163\tvalidation_1-logloss:0.39384\n",
      "[70]\tvalidation_0-logloss:0.38895\tvalidation_1-logloss:0.39108\n",
      "[71]\tvalidation_0-logloss:0.38646\tvalidation_1-logloss:0.38876\n",
      "[72]\tvalidation_0-logloss:0.38385\tvalidation_1-logloss:0.38606\n",
      "[73]\tvalidation_0-logloss:0.38142\tvalidation_1-logloss:0.38379\n",
      "[74]\tvalidation_0-logloss:0.37887\tvalidation_1-logloss:0.38115\n",
      "[75]\tvalidation_0-logloss:0.37649\tvalidation_1-logloss:0.37893\n",
      "[76]\tvalidation_0-logloss:0.37400\tvalidation_1-logloss:0.37635\n",
      "[77]\tvalidation_0-logloss:0.37168\tvalidation_1-logloss:0.37418\n",
      "[78]\tvalidation_0-logloss:0.36925\tvalidation_1-logloss:0.37165\n",
      "[79]\tvalidation_0-logloss:0.36684\tvalidation_1-logloss:0.36914\n",
      "[80]\tvalidation_0-logloss:0.36460\tvalidation_1-logloss:0.36705\n",
      "[81]\tvalidation_0-logloss:0.36225\tvalidation_1-logloss:0.36460\n",
      "[82]\tvalidation_0-logloss:0.36007\tvalidation_1-logloss:0.36256\n",
      "[83]\tvalidation_0-logloss:0.35777\tvalidation_1-logloss:0.36016\n",
      "[84]\tvalidation_0-logloss:0.35563\tvalidation_1-logloss:0.35816\n",
      "[85]\tvalidation_0-logloss:0.35338\tvalidation_1-logloss:0.35577\n",
      "[86]\tvalidation_0-logloss:0.35130\tvalidation_1-logloss:0.35382\n",
      "[87]\tvalidation_0-logloss:0.34909\tvalidation_1-logloss:0.35147\n",
      "[88]\tvalidation_0-logloss:0.34705\tvalidation_1-logloss:0.34956\n",
      "[89]\tvalidation_0-logloss:0.34490\tvalidation_1-logloss:0.34727\n",
      "[90]\tvalidation_0-logloss:0.34290\tvalidation_1-logloss:0.34540\n",
      "[91]\tvalidation_0-logloss:0.34080\tvalidation_1-logloss:0.34315\n",
      "[92]\tvalidation_0-logloss:0.33871\tvalidation_1-logloss:0.34093\n",
      "[93]\tvalidation_0-logloss:0.33678\tvalidation_1-logloss:0.33913\n",
      "[94]\tvalidation_0-logloss:0.33474\tvalidation_1-logloss:0.33695\n",
      "[95]\tvalidation_0-logloss:0.33285\tvalidation_1-logloss:0.33473\n",
      "[96]\tvalidation_0-logloss:0.33098\tvalidation_1-logloss:0.33299\n",
      "[97]\tvalidation_0-logloss:0.32914\tvalidation_1-logloss:0.33082\n",
      "[98]\tvalidation_0-logloss:0.32731\tvalidation_1-logloss:0.32912\n",
      "[99]\tvalidation_0-logloss:0.32537\tvalidation_1-logloss:0.32704\n",
      "[100]\tvalidation_0-logloss:0.32361\tvalidation_1-logloss:0.32477\n",
      "[101]\tvalidation_0-logloss:0.32184\tvalidation_1-logloss:0.32312\n",
      "[102]\tvalidation_0-logloss:0.31996\tvalidation_1-logloss:0.32111\n",
      "[103]\tvalidation_0-logloss:0.31826\tvalidation_1-logloss:0.31890\n",
      "[104]\tvalidation_0-logloss:0.31654\tvalidation_1-logloss:0.31730\n",
      "[105]\tvalidation_0-logloss:0.31472\tvalidation_1-logloss:0.31535\n",
      "[106]\tvalidation_0-logloss:0.31308\tvalidation_1-logloss:0.31321\n",
      "[107]\tvalidation_0-logloss:0.31142\tvalidation_1-logloss:0.31166\n",
      "[108]\tvalidation_0-logloss:0.30965\tvalidation_1-logloss:0.30977\n",
      "[109]\tvalidation_0-logloss:0.30806\tvalidation_1-logloss:0.30769\n",
      "[110]\tvalidation_0-logloss:0.30645\tvalidation_1-logloss:0.30619\n",
      "[111]\tvalidation_0-logloss:0.30473\tvalidation_1-logloss:0.30436\n",
      "[112]\tvalidation_0-logloss:0.30316\tvalidation_1-logloss:0.30289\n",
      "[113]\tvalidation_0-logloss:0.30147\tvalidation_1-logloss:0.30109\n",
      "[114]\tvalidation_0-logloss:0.29997\tvalidation_1-logloss:0.29910\n",
      "[115]\tvalidation_0-logloss:0.29844\tvalidation_1-logloss:0.29769\n",
      "[116]\tvalidation_0-logloss:0.29681\tvalidation_1-logloss:0.29594\n",
      "[117]\tvalidation_0-logloss:0.29536\tvalidation_1-logloss:0.29441\n",
      "[118]\tvalidation_0-logloss:0.29387\tvalidation_1-logloss:0.29303\n",
      "[119]\tvalidation_0-logloss:0.29228\tvalidation_1-logloss:0.29133\n",
      "[120]\tvalidation_0-logloss:0.29083\tvalidation_1-logloss:0.28998\n",
      "[121]\tvalidation_0-logloss:0.28927\tvalidation_1-logloss:0.28831\n",
      "[122]\tvalidation_0-logloss:0.28773\tvalidation_1-logloss:0.28666\n",
      "[123]\tvalidation_0-logloss:0.28635\tvalidation_1-logloss:0.28522\n",
      "[124]\tvalidation_0-logloss:0.28496\tvalidation_1-logloss:0.28393\n",
      "[125]\tvalidation_0-logloss:0.28346\tvalidation_1-logloss:0.28232\n",
      "[126]\tvalidation_0-logloss:0.28209\tvalidation_1-logloss:0.28106\n",
      "[127]\tvalidation_0-logloss:0.28062\tvalidation_1-logloss:0.27948\n",
      "[128]\tvalidation_0-logloss:0.27927\tvalidation_1-logloss:0.27824\n",
      "[129]\tvalidation_0-logloss:0.27783\tvalidation_1-logloss:0.27670\n"
     ]
    },
    {
     "name": "stdout",
     "output_type": "stream",
     "text": [
      "[130]\tvalidation_0-logloss:0.27654\tvalidation_1-logloss:0.27527\n",
      "[131]\tvalidation_0-logloss:0.27523\tvalidation_1-logloss:0.27406\n",
      "[132]\tvalidation_0-logloss:0.27383\tvalidation_1-logloss:0.27256\n",
      "[133]\tvalidation_0-logloss:0.27255\tvalidation_1-logloss:0.27138\n",
      "[134]\tvalidation_0-logloss:0.27117\tvalidation_1-logloss:0.26991\n",
      "[135]\tvalidation_0-logloss:0.26992\tvalidation_1-logloss:0.26875\n",
      "[136]\tvalidation_0-logloss:0.26857\tvalidation_1-logloss:0.26731\n",
      "[137]\tvalidation_0-logloss:0.26734\tvalidation_1-logloss:0.26596\n",
      "[138]\tvalidation_0-logloss:0.26612\tvalidation_1-logloss:0.26484\n",
      "[139]\tvalidation_0-logloss:0.26481\tvalidation_1-logloss:0.26343\n",
      "[140]\tvalidation_0-logloss:0.26350\tvalidation_1-logloss:0.26204\n",
      "[141]\tvalidation_0-logloss:0.26232\tvalidation_1-logloss:0.26095\n",
      "[142]\tvalidation_0-logloss:0.26104\tvalidation_1-logloss:0.25959\n",
      "[143]\tvalidation_0-logloss:0.25988\tvalidation_1-logloss:0.25852\n",
      "[144]\tvalidation_0-logloss:0.25863\tvalidation_1-logloss:0.25718\n",
      "[145]\tvalidation_0-logloss:0.25747\tvalidation_1-logloss:0.25593\n",
      "[146]\tvalidation_0-logloss:0.25635\tvalidation_1-logloss:0.25489\n",
      "[147]\tvalidation_0-logloss:0.25512\tvalidation_1-logloss:0.25359\n",
      "[148]\tvalidation_0-logloss:0.25402\tvalidation_1-logloss:0.25258\n",
      "[149]\tvalidation_0-logloss:0.25282\tvalidation_1-logloss:0.25129\n",
      "[150]\tvalidation_0-logloss:0.25173\tvalidation_1-logloss:0.25030\n",
      "[151]\tvalidation_0-logloss:0.25055\tvalidation_1-logloss:0.24904\n",
      "[152]\tvalidation_0-logloss:0.24946\tvalidation_1-logloss:0.24787\n",
      "[153]\tvalidation_0-logloss:0.24840\tvalidation_1-logloss:0.24690\n",
      "[154]\tvalidation_0-logloss:0.24725\tvalidation_1-logloss:0.24568\n",
      "[155]\tvalidation_0-logloss:0.24622\tvalidation_1-logloss:0.24473\n",
      "[156]\tvalidation_0-logloss:0.24509\tvalidation_1-logloss:0.24353\n",
      "[157]\tvalidation_0-logloss:0.24397\tvalidation_1-logloss:0.24233\n",
      "[158]\tvalidation_0-logloss:0.24293\tvalidation_1-logloss:0.24122\n",
      "[159]\tvalidation_0-logloss:0.24193\tvalidation_1-logloss:0.24031\n",
      "[160]\tvalidation_0-logloss:0.24084\tvalidation_1-logloss:0.23915\n",
      "[161]\tvalidation_0-logloss:0.23986\tvalidation_1-logloss:0.23826\n",
      "[162]\tvalidation_0-logloss:0.23879\tvalidation_1-logloss:0.23712\n",
      "[163]\tvalidation_0-logloss:0.23783\tvalidation_1-logloss:0.23625\n",
      "[164]\tvalidation_0-logloss:0.23678\tvalidation_1-logloss:0.23513\n",
      "[165]\tvalidation_0-logloss:0.23578\tvalidation_1-logloss:0.23408\n",
      "[166]\tvalidation_0-logloss:0.23484\tvalidation_1-logloss:0.23323\n",
      "[167]\tvalidation_0-logloss:0.23382\tvalidation_1-logloss:0.23214\n",
      "[168]\tvalidation_0-logloss:0.23290\tvalidation_1-logloss:0.23131\n",
      "[169]\tvalidation_0-logloss:0.23189\tvalidation_1-logloss:0.23024\n",
      "[170]\tvalidation_0-logloss:0.23099\tvalidation_1-logloss:0.22942\n",
      "[171]\tvalidation_0-logloss:0.23000\tvalidation_1-logloss:0.22837\n",
      "[172]\tvalidation_0-logloss:0.22905\tvalidation_1-logloss:0.22738\n",
      "[173]\tvalidation_0-logloss:0.22818\tvalidation_1-logloss:0.22659\n",
      "[174]\tvalidation_0-logloss:0.22721\tvalidation_1-logloss:0.22556\n",
      "[175]\tvalidation_0-logloss:0.22625\tvalidation_1-logloss:0.22455\n",
      "[176]\tvalidation_0-logloss:0.22540\tvalidation_1-logloss:0.22378\n",
      "[177]\tvalidation_0-logloss:0.22446\tvalidation_1-logloss:0.22278\n",
      "[178]\tvalidation_0-logloss:0.22362\tvalidation_1-logloss:0.22202\n",
      "[179]\tvalidation_0-logloss:0.22259\tvalidation_1-logloss:0.22127\n",
      "[180]\tvalidation_0-logloss:0.22158\tvalidation_1-logloss:0.22052\n",
      "[181]\tvalidation_0-logloss:0.22076\tvalidation_1-logloss:0.21979\n",
      "[182]\tvalidation_0-logloss:0.21976\tvalidation_1-logloss:0.21906\n",
      "[183]\tvalidation_0-logloss:0.21878\tvalidation_1-logloss:0.21834\n",
      "[184]\tvalidation_0-logloss:0.21781\tvalidation_1-logloss:0.21763\n",
      "[185]\tvalidation_0-logloss:0.21702\tvalidation_1-logloss:0.21692\n",
      "[186]\tvalidation_0-logloss:0.21606\tvalidation_1-logloss:0.21623\n",
      "[187]\tvalidation_0-logloss:0.21512\tvalidation_1-logloss:0.21555\n",
      "[188]\tvalidation_0-logloss:0.21435\tvalidation_1-logloss:0.21486\n",
      "[189]\tvalidation_0-logloss:0.21342\tvalidation_1-logloss:0.21420\n",
      "[190]\tvalidation_0-logloss:0.21250\tvalidation_1-logloss:0.21354\n",
      "[191]\tvalidation_0-logloss:0.21159\tvalidation_1-logloss:0.21289\n",
      "[192]\tvalidation_0-logloss:0.21086\tvalidation_1-logloss:0.21223\n",
      "[193]\tvalidation_0-logloss:0.20996\tvalidation_1-logloss:0.21160\n",
      "[194]\tvalidation_0-logloss:0.20908\tvalidation_1-logloss:0.21098\n",
      "[195]\tvalidation_0-logloss:0.20821\tvalidation_1-logloss:0.21036\n",
      "[196]\tvalidation_0-logloss:0.20749\tvalidation_1-logloss:0.20973\n",
      "[197]\tvalidation_0-logloss:0.20664\tvalidation_1-logloss:0.20913\n",
      "[198]\tvalidation_0-logloss:0.20579\tvalidation_1-logloss:0.20854\n",
      "[199]\tvalidation_0-logloss:0.20510\tvalidation_1-logloss:0.20792\n",
      "[200]\tvalidation_0-logloss:0.20426\tvalidation_1-logloss:0.20734\n",
      "[201]\tvalidation_0-logloss:0.20344\tvalidation_1-logloss:0.20677\n",
      "[202]\tvalidation_0-logloss:0.20262\tvalidation_1-logloss:0.20621\n",
      "[203]\tvalidation_0-logloss:0.20195\tvalidation_1-logloss:0.20561\n",
      "[204]\tvalidation_0-logloss:0.20115\tvalidation_1-logloss:0.20507\n",
      "[205]\tvalidation_0-logloss:0.20036\tvalidation_1-logloss:0.20453\n",
      "[206]\tvalidation_0-logloss:0.19971\tvalidation_1-logloss:0.20404\n",
      "[207]\tvalidation_0-logloss:0.19893\tvalidation_1-logloss:0.20352\n",
      "[208]\tvalidation_0-logloss:0.19816\tvalidation_1-logloss:0.20300\n",
      "[209]\tvalidation_0-logloss:0.19752\tvalidation_1-logloss:0.20253\n",
      "[210]\tvalidation_0-logloss:0.19677\tvalidation_1-logloss:0.20202\n",
      "[211]\tvalidation_0-logloss:0.19602\tvalidation_1-logloss:0.20153\n",
      "[212]\tvalidation_0-logloss:0.19527\tvalidation_1-logloss:0.20104\n",
      "[213]\tvalidation_0-logloss:0.19466\tvalidation_1-logloss:0.20059\n",
      "[214]\tvalidation_0-logloss:0.19393\tvalidation_1-logloss:0.20011\n",
      "[215]\tvalidation_0-logloss:0.19321\tvalidation_1-logloss:0.19964\n",
      "[216]\tvalidation_0-logloss:0.19260\tvalidation_1-logloss:0.19920\n",
      "[217]\tvalidation_0-logloss:0.19189\tvalidation_1-logloss:0.19874\n",
      "[218]\tvalidation_0-logloss:0.19119\tvalidation_1-logloss:0.19829\n",
      "[219]\tvalidation_0-logloss:0.19060\tvalidation_1-logloss:0.19787\n",
      "[220]\tvalidation_0-logloss:0.18991\tvalidation_1-logloss:0.19743\n",
      "[221]\tvalidation_0-logloss:0.18923\tvalidation_1-logloss:0.19700\n",
      "[222]\tvalidation_0-logloss:0.18856\tvalidation_1-logloss:0.19657\n",
      "[223]\tvalidation_0-logloss:0.18798\tvalidation_1-logloss:0.19617\n",
      "[224]\tvalidation_0-logloss:0.18732\tvalidation_1-logloss:0.19575\n",
      "[225]\tvalidation_0-logloss:0.18666\tvalidation_1-logloss:0.19534\n",
      "[226]\tvalidation_0-logloss:0.18610\tvalidation_1-logloss:0.19496\n",
      "[227]\tvalidation_0-logloss:0.18546\tvalidation_1-logloss:0.19456\n",
      "[228]\tvalidation_0-logloss:0.18482\tvalidation_1-logloss:0.19416\n",
      "[229]\tvalidation_0-logloss:0.18427\tvalidation_1-logloss:0.19379\n",
      "[230]\tvalidation_0-logloss:0.18364\tvalidation_1-logloss:0.19340\n",
      "[231]\tvalidation_0-logloss:0.18302\tvalidation_1-logloss:0.19303\n",
      "[232]\tvalidation_0-logloss:0.18249\tvalidation_1-logloss:0.19256\n",
      "[233]\tvalidation_0-logloss:0.18188\tvalidation_1-logloss:0.19219\n",
      "[234]\tvalidation_0-logloss:0.18127\tvalidation_1-logloss:0.19182\n",
      "[235]\tvalidation_0-logloss:0.18076\tvalidation_1-logloss:0.19137\n",
      "[236]\tvalidation_0-logloss:0.18016\tvalidation_1-logloss:0.19109\n",
      "[237]\tvalidation_0-logloss:0.17957\tvalidation_1-logloss:0.19082\n",
      "[238]\tvalidation_0-logloss:0.17906\tvalidation_1-logloss:0.19038\n",
      "[239]\tvalidation_0-logloss:0.17848\tvalidation_1-logloss:0.19012\n",
      "[240]\tvalidation_0-logloss:0.17798\tvalidation_1-logloss:0.18968\n",
      "[241]\tvalidation_0-logloss:0.17740\tvalidation_1-logloss:0.18943\n",
      "[242]\tvalidation_0-logloss:0.17691\tvalidation_1-logloss:0.18899\n",
      "[243]\tvalidation_0-logloss:0.17634\tvalidation_1-logloss:0.18866\n",
      "[244]\tvalidation_0-logloss:0.17577\tvalidation_1-logloss:0.18841\n",
      "[245]\tvalidation_0-logloss:0.17529\tvalidation_1-logloss:0.18799\n",
      "[246]\tvalidation_0-logloss:0.17473\tvalidation_1-logloss:0.18776\n",
      "[247]\tvalidation_0-logloss:0.17426\tvalidation_1-logloss:0.18734\n",
      "[248]\tvalidation_0-logloss:0.17371\tvalidation_1-logloss:0.18711\n",
      "[249]\tvalidation_0-logloss:0.17324\tvalidation_1-logloss:0.18670\n",
      "[250]\tvalidation_0-logloss:0.17270\tvalidation_1-logloss:0.18648\n",
      "[251]\tvalidation_0-logloss:0.17215\tvalidation_1-logloss:0.18617\n",
      "[252]\tvalidation_0-logloss:0.17170\tvalidation_1-logloss:0.18576\n",
      "[253]\tvalidation_0-logloss:0.17116\tvalidation_1-logloss:0.18555\n",
      "[254]\tvalidation_0-logloss:0.17071\tvalidation_1-logloss:0.18516\n",
      "[255]\tvalidation_0-logloss:0.17018\tvalidation_1-logloss:0.18495\n",
      "[256]\tvalidation_0-logloss:0.16966\tvalidation_1-logloss:0.18465\n",
      "[257]\tvalidation_0-logloss:0.16922\tvalidation_1-logloss:0.18426\n",
      "[258]\tvalidation_0-logloss:0.16870\tvalidation_1-logloss:0.18407\n"
     ]
    },
    {
     "name": "stdout",
     "output_type": "stream",
     "text": [
      "[259]\tvalidation_0-logloss:0.16826\tvalidation_1-logloss:0.18368\n",
      "[260]\tvalidation_0-logloss:0.16775\tvalidation_1-logloss:0.18349\n",
      "[261]\tvalidation_0-logloss:0.16732\tvalidation_1-logloss:0.18312\n",
      "[262]\tvalidation_0-logloss:0.16681\tvalidation_1-logloss:0.18293\n",
      "[263]\tvalidation_0-logloss:0.16631\tvalidation_1-logloss:0.18275\n",
      "[264]\tvalidation_0-logloss:0.16589\tvalidation_1-logloss:0.18238\n",
      "[265]\tvalidation_0-logloss:0.16539\tvalidation_1-logloss:0.18221\n",
      "[266]\tvalidation_0-logloss:0.16498\tvalidation_1-logloss:0.18184\n",
      "[267]\tvalidation_0-logloss:0.16449\tvalidation_1-logloss:0.18157\n",
      "[268]\tvalidation_0-logloss:0.16400\tvalidation_1-logloss:0.18141\n",
      "[269]\tvalidation_0-logloss:0.16359\tvalidation_1-logloss:0.18105\n",
      "[270]\tvalidation_0-logloss:0.16311\tvalidation_1-logloss:0.18089\n",
      "[271]\tvalidation_0-logloss:0.16271\tvalidation_1-logloss:0.18054\n",
      "[272]\tvalidation_0-logloss:0.16224\tvalidation_1-logloss:0.18038\n",
      "[273]\tvalidation_0-logloss:0.16184\tvalidation_1-logloss:0.18004\n",
      "[274]\tvalidation_0-logloss:0.16137\tvalidation_1-logloss:0.17989\n",
      "[275]\tvalidation_0-logloss:0.16097\tvalidation_1-logloss:0.17954\n",
      "[276]\tvalidation_0-logloss:0.16051\tvalidation_1-logloss:0.17930\n",
      "[277]\tvalidation_0-logloss:0.16005\tvalidation_1-logloss:0.17915\n",
      "[278]\tvalidation_0-logloss:0.15967\tvalidation_1-logloss:0.17882\n",
      "[279]\tvalidation_0-logloss:0.15921\tvalidation_1-logloss:0.17868\n",
      "[280]\tvalidation_0-logloss:0.15883\tvalidation_1-logloss:0.17835\n",
      "[281]\tvalidation_0-logloss:0.15838\tvalidation_1-logloss:0.17822\n",
      "[282]\tvalidation_0-logloss:0.15794\tvalidation_1-logloss:0.17798\n",
      "[283]\tvalidation_0-logloss:0.15756\tvalidation_1-logloss:0.17766\n",
      "[284]\tvalidation_0-logloss:0.15712\tvalidation_1-logloss:0.17753\n",
      "[285]\tvalidation_0-logloss:0.15675\tvalidation_1-logloss:0.17721\n",
      "[286]\tvalidation_0-logloss:0.15632\tvalidation_1-logloss:0.17709\n",
      "[287]\tvalidation_0-logloss:0.15595\tvalidation_1-logloss:0.17677\n",
      "[288]\tvalidation_0-logloss:0.15552\tvalidation_1-logloss:0.17666\n",
      "[289]\tvalidation_0-logloss:0.15510\tvalidation_1-logloss:0.17643\n",
      "[290]\tvalidation_0-logloss:0.15474\tvalidation_1-logloss:0.17613\n",
      "[291]\tvalidation_0-logloss:0.15432\tvalidation_1-logloss:0.17601\n",
      "[292]\tvalidation_0-logloss:0.15396\tvalidation_1-logloss:0.17571\n",
      "[293]\tvalidation_0-logloss:0.15354\tvalidation_1-logloss:0.17560\n",
      "[294]\tvalidation_0-logloss:0.15313\tvalidation_1-logloss:0.17550\n",
      "[295]\tvalidation_0-logloss:0.15278\tvalidation_1-logloss:0.17520\n",
      "[296]\tvalidation_0-logloss:0.15237\tvalidation_1-logloss:0.17510\n",
      "[297]\tvalidation_0-logloss:0.15203\tvalidation_1-logloss:0.17481\n",
      "[298]\tvalidation_0-logloss:0.15162\tvalidation_1-logloss:0.17460\n",
      "[299]\tvalidation_0-logloss:0.15129\tvalidation_1-logloss:0.17431\n",
      "[300]\tvalidation_0-logloss:0.15088\tvalidation_1-logloss:0.17422\n",
      "[301]\tvalidation_0-logloss:0.15049\tvalidation_1-logloss:0.17413\n",
      "[302]\tvalidation_0-logloss:0.15015\tvalidation_1-logloss:0.17384\n",
      "[303]\tvalidation_0-logloss:0.14976\tvalidation_1-logloss:0.17376\n",
      "[304]\tvalidation_0-logloss:0.14943\tvalidation_1-logloss:0.17348\n",
      "[305]\tvalidation_0-logloss:0.14904\tvalidation_1-logloss:0.17339\n",
      "[306]\tvalidation_0-logloss:0.14872\tvalidation_1-logloss:0.17312\n",
      "[307]\tvalidation_0-logloss:0.14833\tvalidation_1-logloss:0.17293\n",
      "[308]\tvalidation_0-logloss:0.14795\tvalidation_1-logloss:0.17285\n",
      "[309]\tvalidation_0-logloss:0.14763\tvalidation_1-logloss:0.17258\n",
      "[310]\tvalidation_0-logloss:0.14725\tvalidation_1-logloss:0.17250\n",
      "[311]\tvalidation_0-logloss:0.14694\tvalidation_1-logloss:0.17223\n",
      "[312]\tvalidation_0-logloss:0.14656\tvalidation_1-logloss:0.17217\n",
      "[313]\tvalidation_0-logloss:0.14612\tvalidation_1-logloss:0.17180\n",
      "[314]\tvalidation_0-logloss:0.14575\tvalidation_1-logloss:0.17173\n",
      "[315]\tvalidation_0-logloss:0.14531\tvalidation_1-logloss:0.17137\n",
      "[316]\tvalidation_0-logloss:0.14494\tvalidation_1-logloss:0.17119\n",
      "[317]\tvalidation_0-logloss:0.14458\tvalidation_1-logloss:0.17113\n",
      "[318]\tvalidation_0-logloss:0.14422\tvalidation_1-logloss:0.17096\n",
      "[319]\tvalidation_0-logloss:0.14392\tvalidation_1-logloss:0.17070\n",
      "[320]\tvalidation_0-logloss:0.14356\tvalidation_1-logloss:0.17065\n",
      "[321]\tvalidation_0-logloss:0.14313\tvalidation_1-logloss:0.17030\n",
      "[322]\tvalidation_0-logloss:0.14277\tvalidation_1-logloss:0.17025\n",
      "[323]\tvalidation_0-logloss:0.14242\tvalidation_1-logloss:0.17020\n",
      "[324]\tvalidation_0-logloss:0.14200\tvalidation_1-logloss:0.16985\n",
      "[325]\tvalidation_0-logloss:0.14165\tvalidation_1-logloss:0.16981\n",
      "[326]\tvalidation_0-logloss:0.14124\tvalidation_1-logloss:0.16947\n",
      "[327]\tvalidation_0-logloss:0.14089\tvalidation_1-logloss:0.16931\n",
      "[328]\tvalidation_0-logloss:0.14055\tvalidation_1-logloss:0.16927\n",
      "[329]\tvalidation_0-logloss:0.14014\tvalidation_1-logloss:0.16894\n",
      "[330]\tvalidation_0-logloss:0.13980\tvalidation_1-logloss:0.16890\n",
      "[331]\tvalidation_0-logloss:0.13942\tvalidation_1-logloss:0.16869\n",
      "[332]\tvalidation_0-logloss:0.13906\tvalidation_1-logloss:0.16895\n",
      "[333]\tvalidation_0-logloss:0.13873\tvalidation_1-logloss:0.16880\n",
      "[334]\tvalidation_0-logloss:0.13840\tvalidation_1-logloss:0.16877\n",
      "[335]\tvalidation_0-logloss:0.13800\tvalidation_1-logloss:0.16845\n",
      "[336]\tvalidation_0-logloss:0.13767\tvalidation_1-logloss:0.16842\n",
      "[337]\tvalidation_0-logloss:0.13733\tvalidation_1-logloss:0.16868\n",
      "[338]\tvalidation_0-logloss:0.13693\tvalidation_1-logloss:0.16837\n",
      "[339]\tvalidation_0-logloss:0.13661\tvalidation_1-logloss:0.16823\n",
      "[340]\tvalidation_0-logloss:0.13629\tvalidation_1-logloss:0.16820\n",
      "[341]\tvalidation_0-logloss:0.13595\tvalidation_1-logloss:0.16847\n",
      "[342]\tvalidation_0-logloss:0.13563\tvalidation_1-logloss:0.16833\n",
      "[343]\tvalidation_0-logloss:0.13536\tvalidation_1-logloss:0.16811\n",
      "[344]\tvalidation_0-logloss:0.13505\tvalidation_1-logloss:0.16809\n",
      "[345]\tvalidation_0-logloss:0.13466\tvalidation_1-logloss:0.16779\n",
      "[346]\tvalidation_0-logloss:0.13435\tvalidation_1-logloss:0.16777\n",
      "[347]\tvalidation_0-logloss:0.13402\tvalidation_1-logloss:0.16804\n",
      "[348]\tvalidation_0-logloss:0.13364\tvalidation_1-logloss:0.16774\n",
      "[349]\tvalidation_0-logloss:0.13334\tvalidation_1-logloss:0.16773\n",
      "[350]\tvalidation_0-logloss:0.13296\tvalidation_1-logloss:0.16743\n",
      "[351]\tvalidation_0-logloss:0.13266\tvalidation_1-logloss:0.16743\n",
      "[352]\tvalidation_0-logloss:0.13228\tvalidation_1-logloss:0.16713\n",
      "[353]\tvalidation_0-logloss:0.13199\tvalidation_1-logloss:0.16701\n",
      "[354]\tvalidation_0-logloss:0.13169\tvalidation_1-logloss:0.16700\n",
      "[355]\tvalidation_0-logloss:0.13137\tvalidation_1-logloss:0.16728\n",
      "[356]\tvalidation_0-logloss:0.13108\tvalidation_1-logloss:0.16716\n",
      "[357]\tvalidation_0-logloss:0.13076\tvalidation_1-logloss:0.16745\n",
      "[358]\tvalidation_0-logloss:0.13047\tvalidation_1-logloss:0.16744\n",
      "[359]\tvalidation_0-logloss:0.13010\tvalidation_1-logloss:0.16716\n",
      "[360]\tvalidation_0-logloss:0.12982\tvalidation_1-logloss:0.16716\n",
      "[361]\tvalidation_0-logloss:0.12946\tvalidation_1-logloss:0.16688\n",
      "[362]\tvalidation_0-logloss:0.12917\tvalidation_1-logloss:0.16677\n",
      "[363]\tvalidation_0-logloss:0.12886\tvalidation_1-logloss:0.16706\n",
      "[364]\tvalidation_0-logloss:0.12858\tvalidation_1-logloss:0.16706\n",
      "[365]\tvalidation_0-logloss:0.12828\tvalidation_1-logloss:0.16735\n",
      "[366]\tvalidation_0-logloss:0.12800\tvalidation_1-logloss:0.16724\n",
      "[367]\tvalidation_0-logloss:0.12772\tvalidation_1-logloss:0.16725\n",
      "[368]\tvalidation_0-logloss:0.12738\tvalidation_1-logloss:0.16701\n",
      "[369]\tvalidation_0-logloss:0.12710\tvalidation_1-logloss:0.16702\n",
      "[370]\tvalidation_0-logloss:0.12676\tvalidation_1-logloss:0.16678\n",
      "[371]\tvalidation_0-logloss:0.12647\tvalidation_1-logloss:0.16707\n"
     ]
    },
    {
     "data": {
      "text/plain": [
       "XGBClassifier(base_score=0.5, booster='gbtree', callbacks=None,\n",
       "              colsample_bylevel=1, colsample_bynode=1, colsample_bytree=1,\n",
       "              early_stopping_rounds=10, enable_categorical=False,\n",
       "              eval_metric=None, gamma=0, gpu_id=-1, grow_policy='depthwise',\n",
       "              importance_type=None, interaction_constraints='',\n",
       "              learning_rate=0.01, max_bin=256, max_cat_to_onehot=4,\n",
       "              max_delta_step=0, max_depth=2, max_leaves=0, min_child_weight=1,\n",
       "              missing=nan, monotone_constraints='()', n_estimators=1000,\n",
       "              n_jobs=0, num_parallel_tree=1, predictor='auto', random_state=0,\n",
       "              reg_alpha=0, reg_lambda=1, ...)"
      ]
     },
     "execution_count": 28,
     "metadata": {},
     "output_type": "execute_result"
    }
   ],
   "source": [
    "xgb_model.fit(X_train, y_train, eval_set=[(X_train, y_train), (X_val, y_val)]) "
   ]
  },
  {
   "cell_type": "code",
   "execution_count": 29,
   "metadata": {},
   "outputs": [],
   "source": [
    "import matplotlib.pyplot as plt"
   ]
  },
  {
   "cell_type": "code",
   "execution_count": 36,
   "metadata": {},
   "outputs": [
    {
     "data": {
      "text/plain": [
       "<matplotlib.legend.Legend at 0x1e627e1ba30>"
      ]
     },
     "execution_count": 36,
     "metadata": {},
     "output_type": "execute_result"
    },
    {
     "data": {
      "image/png": "[encoded data removed]",
      "text/plain": [
       "<Figure size 720x504 with 1 Axes>"
      ]
     },
     "metadata": {
      "needs_background": "light"
     },
     "output_type": "display_data"
    }
   ],
   "source": [
    "results = xgb_model.evals_result()\n",
    "\n",
    "plt.figure(figsize=(10,7))\n",
    "plt.plot(results[\"validation_0\"][\"logloss\"], label=\"Training loss\")\n",
    "plt.plot(results[\"validation_1\"][\"logloss\"], label=\"Validation loss\")\n",
    "plt.axvline(362, color=\"gray\", label=\"Optimal tree number\")\n",
    "plt.xlabel(\"Number of trees\")\n",
    "plt.ylabel(\"Loss\")\n",
    "plt.legend()"
   ]
  },
  {
   "cell_type": "code",
   "execution_count": 31,
   "metadata": {},
   "outputs": [
    {
     "data": {
      "text/plain": [
       "363"
      ]
     },
     "execution_count": 31,
     "metadata": {},
     "output_type": "execute_result"
    }
   ],
   "source": [
    "xgb_model.best_ntree_limit"
   ]
  },
  {
   "cell_type": "code",
   "execution_count": 32,
   "metadata": {},
   "outputs": [],
   "source": [
    "y_preds = xgb_model.predict(X_test)"
   ]
  },
  {
   "cell_type": "code",
   "execution_count": 33,
   "metadata": {},
   "outputs": [
    {
     "data": {
      "text/plain": [
       "1.0"
      ]
     },
     "execution_count": 33,
     "metadata": {},
     "output_type": "execute_result"
    }
   ],
   "source": [
    "from sklearn.metrics import accuracy_score\n",
    "accuracy_score(y_test, y_preds)"
   ]
  },
  {
   "cell_type": "code",
   "execution_count": 34,
   "metadata": {},
   "outputs": [
    {
     "data": {
      "text/plain": [
       "1.0"
      ]
     },
     "execution_count": 34,
     "metadata": {},
     "output_type": "execute_result"
    }
   ],
   "source": [
    "xgb_model.score(X_test, y_test)"
   ]
  },
  {
   "cell_type": "code",
   "execution_count": 35,
   "metadata": {},
   "outputs": [
    {
     "data": {
      "text/plain": [
       "<AxesSubplot: title={'center': 'Feature importance'}, xlabel='F score', ylabel='Features'>"
      ]
     },
     "execution_count": 35,
     "metadata": {},
     "output_type": "execute_result"
    },
    {
     "data": {
      "image/png": "[encoded data removed]",
      "text/plain": [
       "<Figure size 720x864 with 1 Axes>"
      ]
     },
     "metadata": {
      "needs_background": "light"
     },
     "output_type": "display_data"
    }
   ],
   "source": [
    "from xgboost import plot_importance\n",
    "import matplotlib.pyplot as plt\n",
    "\n",
    "fig, ax = plt.subplots(figsize=(10, 12))\n",
    "plot_importance(xgb_model, ax=ax)"
   ]
  },
  {
   "cell_type": "code",
   "execution_count": null,
   "metadata": {},
   "outputs": [],
   "source": []
  }
 ],
 "metadata": {
  "kernelspec": {
   "display_name": "Python 3 (ipykernel)",
   "language": "python",
   "name": "python3"
  },
  "language_info": {
   "codemirror_mode": {
    "name": "ipython",
    "version": 3
   },
   "file_extension": ".py",
   "mimetype": "text/x-python",
   "name": "python",
   "nbconvert_exporter": "python",
   "pygments_lexer": "ipython3",
   "version": "3.8.5"
  }
 },
 "nbformat": 4,
 "nbformat_minor": 2
}
