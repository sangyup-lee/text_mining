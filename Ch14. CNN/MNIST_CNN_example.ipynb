{
 "cells": [
  {
   "cell_type": "code",
   "execution_count": 1,
   "metadata": {},
   "outputs": [],
   "source": [
    "import tensorflow as tf\n",
    "from tensorflow import keras\n",
    "from tensorflow.keras.datasets import mnist"
   ]
  },
  {
   "cell_type": "code",
   "execution_count": 2,
   "metadata": {},
   "outputs": [],
   "source": [
    "(x_train, y_train), (x_test, y_test) = mnist.load_data()"
   ]
  },
  {
   "cell_type": "code",
   "execution_count": 3,
   "metadata": {},
   "outputs": [
    {
     "data": {
      "text/plain": [
       "(60000, 28, 28)"
      ]
     },
     "execution_count": 3,
     "metadata": {},
     "output_type": "execute_result"
    }
   ],
   "source": [
    "x_train.shape"
   ]
  },
  {
   "cell_type": "code",
   "execution_count": 5,
   "metadata": {},
   "outputs": [
    {
     "data": {
      "text/plain": [
       "60000"
      ]
     },
     "execution_count": 5,
     "metadata": {},
     "output_type": "execute_result"
    }
   ],
   "source": [
    "x_train.shape[0]"
   ]
  },
  {
   "cell_type": "markdown",
   "metadata": {},
   "source": [
    "input data에 존재하는 하나의 이미지의 shape을 변경해줘야 한다. (28x28) => (28x28x1)<br>"
   ]
  },
  {
   "cell_type": "code",
   "execution_count": 4,
   "metadata": {},
   "outputs": [],
   "source": [
    "x_train = x_train.reshape(x_train.shape[0], 28, 28, 1)\n",
    "x_test = x_test.reshape(x_test.shape[0], 28, 28, 1)"
   ]
  },
  {
   "cell_type": "code",
   "execution_count": 6,
   "metadata": {},
   "outputs": [
    {
     "name": "stdout",
     "output_type": "stream",
     "text": [
      "x_train shape: (60000, 28, 28, 1)\n",
      "60000 train samples\n",
      "10000 test samples\n"
     ]
    }
   ],
   "source": [
    "print('x_train shape:', x_train.shape)\n",
    "print(x_train.shape[0], 'train samples')\n",
    "print(x_test.shape[0], 'test samples')"
   ]
  },
  {
   "cell_type": "code",
   "execution_count": 7,
   "metadata": {},
   "outputs": [
    {
     "data": {
      "text/plain": [
       "(28, 28, 1)"
      ]
     },
     "execution_count": 7,
     "metadata": {},
     "output_type": "execute_result"
    }
   ],
   "source": [
    "x_train[0].shape"
   ]
  },
  {
   "cell_type": "code",
   "execution_count": 12,
   "metadata": {},
   "outputs": [],
   "source": [
    "x_train = x_train/255 # 0 ~ 1 사이의 값으로 정규화 하기\n",
    "x_test = x_test/255"
   ]
  },
  {
   "cell_type": "code",
   "execution_count": 10,
   "metadata": {},
   "outputs": [
    {
     "data": {
      "text/plain": [
       "5"
      ]
     },
     "execution_count": 10,
     "metadata": {},
     "output_type": "execute_result"
    }
   ],
   "source": [
    "y_train[0]"
   ]
  },
  {
   "cell_type": "code",
   "execution_count": 13,
   "metadata": {},
   "outputs": [],
   "source": [
    "from tensorflow.keras.models import Sequential\n",
    "from tensorflow.keras.layers import Conv2D, MaxPooling2D, Dense, Flatten"
   ]
  },
  {
   "cell_type": "code",
   "execution_count": 49,
   "metadata": {},
   "outputs": [],
   "source": [
    "model = Sequential()"
   ]
  },
  {
   "cell_type": "code",
   "execution_count": 50,
   "metadata": {},
   "outputs": [],
   "source": [
    "model.add(Conv2D(32, kernel_size=(3, 3),\n",
    "                 strides=(1,1),\n",
    "                 activation='relu',\n",
    "                 input_shape=x_train[0].shape))"
   ]
  },
  {
   "cell_type": "markdown",
   "metadata": {},
   "source": [
    "Conv2D에 대한 자세한 내용은 https://keras.io/layers/convolutional/ 참고 \n",
    "또는 https://www.tensorflow.org/api_docs/python/tf/keras/layers/Conv2D"
   ]
  },
  {
   "cell_type": "code",
   "execution_count": 51,
   "metadata": {},
   "outputs": [],
   "source": [
    "# 2x2 크기의 filter를 사용해서 Max pooling 수행\n",
    "model.add(MaxPooling2D(pool_size=(2, 2)))\n",
    "# strides의 기본값 => pool_size"
   ]
  },
  {
   "cell_type": "markdown",
   "metadata": {},
   "source": [
    "다시 한번 Conv2D와 MaxPooling2D를 적용합니다."
   ]
  },
  {
   "cell_type": "code",
   "execution_count": 52,
   "metadata": {},
   "outputs": [],
   "source": [
    "model.add(Conv2D(32, kernel_size=(3, 3),\n",
    "                 strides=(1,1),\n",
    "                 activation='relu'))"
   ]
  },
  {
   "cell_type": "code",
   "execution_count": 53,
   "metadata": {},
   "outputs": [],
   "source": [
    "model.add(MaxPooling2D(pool_size=(2, 2)))"
   ]
  },
  {
   "cell_type": "code",
   "execution_count": 54,
   "metadata": {},
   "outputs": [],
   "source": [
    "model.add(Flatten())"
   ]
  },
  {
   "cell_type": "markdown",
   "metadata": {},
   "source": [
    "Flatten()은 3차원 형태의 데이터를 1차원 형태로 변경하는 작업을 수행"
   ]
  },
  {
   "cell_type": "code",
   "execution_count": 55,
   "metadata": {},
   "outputs": [],
   "source": [
    "model.add(Dense(64, activation='relu'))"
   ]
  },
  {
   "cell_type": "code",
   "execution_count": 56,
   "metadata": {},
   "outputs": [],
   "source": [
    "model.add(Dense(10, activation = 'softmax'))"
   ]
  },
  {
   "cell_type": "code",
   "execution_count": 57,
   "metadata": {},
   "outputs": [
    {
     "name": "stdout",
     "output_type": "stream",
     "text": [
      "Model: \"sequential_2\"\n",
      "_________________________________________________________________\n",
      " Layer (type)                Output Shape              Param #   \n",
      "=================================================================\n",
      " conv2d_4 (Conv2D)           (None, 26, 26, 32)        320       \n",
      "                                                                 \n",
      " max_pooling2d_4 (MaxPooling  (None, 13, 13, 32)       0         \n",
      " 2D)                                                             \n",
      "                                                                 \n",
      " conv2d_5 (Conv2D)           (None, 11, 11, 32)        9248      \n",
      "                                                                 \n",
      " max_pooling2d_5 (MaxPooling  (None, 5, 5, 32)         0         \n",
      " 2D)                                                             \n",
      "                                                                 \n",
      " flatten_2 (Flatten)         (None, 800)               0         \n",
      "                                                                 \n",
      " dense_4 (Dense)             (None, 64)                51264     \n",
      "                                                                 \n",
      " dense_5 (Dense)             (None, 10)                650       \n",
      "                                                                 \n",
      "=================================================================\n",
      "Total params: 61,482\n",
      "Trainable params: 61,482\n",
      "Non-trainable params: 0\n",
      "_________________________________________________________________\n"
     ]
    }
   ],
   "source": [
    "model.summary()"
   ]
  },
  {
   "cell_type": "code",
   "execution_count": 58,
   "metadata": {},
   "outputs": [],
   "source": [
    "from tensorflow.keras import optimizers\n",
    "model.compile(optimizer=optimizers.RMSprop(learning_rate=0.001),\n",
    "               loss='categorical_crossentropy',\n",
    "               metrics=['categorical_accuracy'])\n",
    "# 아래와 동일\n",
    "# model.compile(optimizer=optimizers.RMSprop(learning_rate=0.001),\n",
    "#                loss=tf.keras.losses.CategoricalCrossentropy(),\n",
    "#                metrics=[tf.keras.metrics.CategoricalAccuracy()])"
   ]
  },
  {
   "cell_type": "code",
   "execution_count": 59,
   "metadata": {},
   "outputs": [],
   "source": [
    "from tensorflow.keras.utils import to_categorical \n",
    "y_train_one_hot = to_categorical(y_train)\n",
    "y_test_one_hot = to_categorical(y_test)"
   ]
  },
  {
   "cell_type": "code",
   "execution_count": 60,
   "metadata": {},
   "outputs": [],
   "source": [
    "import matplotlib.pyplot as plt"
   ]
  },
  {
   "cell_type": "code",
   "execution_count": 61,
   "metadata": {},
   "outputs": [
    {
     "data": {
      "image/png": "[encoded data removed]",
      "text/plain": [
       "<Figure size 432x288 with 1 Axes>"
      ]
     },
     "metadata": {
      "needs_background": "light"
     },
     "output_type": "display_data"
    }
   ],
   "source": [
    "plt.imshow(x_train[0], cmap='gray')\n",
    "plt.show()"
   ]
  },
  {
   "cell_type": "code",
   "execution_count": 62,
   "metadata": {},
   "outputs": [
    {
     "name": "stdout",
     "output_type": "stream",
     "text": [
      "5\n"
     ]
    },
    {
     "data": {
      "text/plain": [
       "array([0., 0., 0., 0., 0., 1., 0., 0., 0., 0.], dtype=float32)"
      ]
     },
     "execution_count": 62,
     "metadata": {},
     "output_type": "execute_result"
    }
   ],
   "source": [
    "print(y_train[0])\n",
    "y_train_one_hot[0]"
   ]
  },
  {
   "cell_type": "code",
   "execution_count": 63,
   "metadata": {},
   "outputs": [
    {
     "name": "stdout",
     "output_type": "stream",
     "text": [
      "Epoch 1/20\n",
      "422/422 [==============================] - 16s 37ms/step - loss: 1.9536 - categorical_accuracy: 0.3451 - val_loss: 0.9858 - val_categorical_accuracy: 0.7388\n",
      "Epoch 2/20\n",
      "422/422 [==============================] - 15s 36ms/step - loss: 0.6337 - categorical_accuracy: 0.8103 - val_loss: 0.3760 - val_categorical_accuracy: 0.8882\n",
      "Epoch 3/20\n",
      "422/422 [==============================] - 15s 36ms/step - loss: 0.3971 - categorical_accuracy: 0.8781 - val_loss: 0.2709 - val_categorical_accuracy: 0.9187\n",
      "Epoch 4/20\n",
      "422/422 [==============================] - 15s 36ms/step - loss: 0.2961 - categorical_accuracy: 0.9097 - val_loss: 0.1985 - val_categorical_accuracy: 0.9422\n",
      "Epoch 5/20\n",
      "422/422 [==============================] - 15s 36ms/step - loss: 0.2283 - categorical_accuracy: 0.9294 - val_loss: 0.1731 - val_categorical_accuracy: 0.9520\n",
      "Epoch 6/20\n",
      "422/422 [==============================] - 15s 36ms/step - loss: 0.1825 - categorical_accuracy: 0.9441 - val_loss: 0.1314 - val_categorical_accuracy: 0.9632\n",
      "Epoch 7/20\n",
      "422/422 [==============================] - 16s 39ms/step - loss: 0.1517 - categorical_accuracy: 0.9533 - val_loss: 0.1094 - val_categorical_accuracy: 0.9703\n",
      "Epoch 8/20\n",
      "422/422 [==============================] - 16s 38ms/step - loss: 0.1295 - categorical_accuracy: 0.9601 - val_loss: 0.1026 - val_categorical_accuracy: 0.9712\n",
      "Epoch 9/20\n",
      "422/422 [==============================] - 16s 37ms/step - loss: 0.1149 - categorical_accuracy: 0.9639 - val_loss: 0.0987 - val_categorical_accuracy: 0.9723\n",
      "Epoch 10/20\n",
      "422/422 [==============================] - 15s 36ms/step - loss: 0.1043 - categorical_accuracy: 0.9675 - val_loss: 0.0948 - val_categorical_accuracy: 0.9712\n",
      "Epoch 11/20\n",
      "422/422 [==============================] - 16s 38ms/step - loss: 0.0958 - categorical_accuracy: 0.9703 - val_loss: 0.0881 - val_categorical_accuracy: 0.9757\n",
      "Epoch 12/20\n",
      "422/422 [==============================] - 16s 39ms/step - loss: 0.0881 - categorical_accuracy: 0.9727 - val_loss: 0.0773 - val_categorical_accuracy: 0.9785\n",
      "Epoch 13/20\n",
      "422/422 [==============================] - 17s 40ms/step - loss: 0.0820 - categorical_accuracy: 0.9744 - val_loss: 0.0748 - val_categorical_accuracy: 0.9795\n",
      "Epoch 14/20\n",
      "422/422 [==============================] - 16s 39ms/step - loss: 0.0774 - categorical_accuracy: 0.9760 - val_loss: 0.0699 - val_categorical_accuracy: 0.9820\n",
      "Epoch 15/20\n",
      "422/422 [==============================] - 16s 37ms/step - loss: 0.0727 - categorical_accuracy: 0.9775 - val_loss: 0.0688 - val_categorical_accuracy: 0.9810\n",
      "Epoch 16/20\n",
      "422/422 [==============================] - 16s 37ms/step - loss: 0.0689 - categorical_accuracy: 0.9785 - val_loss: 0.0689 - val_categorical_accuracy: 0.9807\n",
      "Epoch 17/20\n",
      "422/422 [==============================] - 15s 37ms/step - loss: 0.0647 - categorical_accuracy: 0.9802 - val_loss: 0.0730 - val_categorical_accuracy: 0.9788\n",
      "Epoch 18/20\n",
      "422/422 [==============================] - 16s 37ms/step - loss: 0.0616 - categorical_accuracy: 0.9808 - val_loss: 0.0734 - val_categorical_accuracy: 0.9808\n",
      "Epoch 19/20\n",
      "422/422 [==============================] - 16s 37ms/step - loss: 0.0591 - categorical_accuracy: 0.9817 - val_loss: 0.0618 - val_categorical_accuracy: 0.9843\n",
      "Epoch 20/20\n",
      "422/422 [==============================] - 16s 37ms/step - loss: 0.0559 - categorical_accuracy: 0.9828 - val_loss: 0.0670 - val_categorical_accuracy: 0.9815\n"
     ]
    }
   ],
   "source": [
    "history = model.fit(x_train, y_train_one_hot, epochs=20, batch_size=128, validation_split=0.1)"
   ]
  },
  {
   "cell_type": "code",
   "execution_count": 64,
   "metadata": {},
   "outputs": [
    {
     "data": {
      "image/png": "[encoded data removed]",
      "text/plain": [
       "<Figure size 432x288 with 1 Axes>"
      ]
     },
     "metadata": {
      "needs_background": "light"
     },
     "output_type": "display_data"
    }
   ],
   "source": [
    "import matplotlib.pyplot as plt\n",
    "plt.plot(history.history['loss'])\n",
    "plt.plot(history.history['val_loss'])\n",
    "plt.xlabel('epoch')\n",
    "plt.ylabel('loss')\n",
    "plt.legend(['train', 'val'])\n",
    "plt.show()"
   ]
  },
  {
   "cell_type": "code",
   "execution_count": 31,
   "metadata": {},
   "outputs": [
    {
     "data": {
      "image/png": "[encoded data removed]",
      "text/plain": [
       "<Figure size 432x288 with 1 Axes>"
      ]
     },
     "metadata": {
      "needs_background": "light"
     },
     "output_type": "display_data"
    }
   ],
   "source": [
    "plt.plot(history.history['categorical_accuracy'])\n",
    "plt.xlabel('epoch')\n",
    "plt.ylabel('accuracy')\n",
    "plt.legend(['train'])\n",
    "plt.show()"
   ]
  },
  {
   "cell_type": "code",
   "execution_count": 65,
   "metadata": {},
   "outputs": [
    {
     "name": "stdout",
     "output_type": "stream",
     "text": [
      "313/313 [==============================] - 1s 4ms/step - loss: 0.0592 - categorical_accuracy: 0.9813\n",
      "test_acc: 0.9812999963760376\n"
     ]
    }
   ],
   "source": [
    "test_loss, test_acc = model.evaluate(x_test, y_test_one_hot)\n",
    "print('test_acc:', test_acc)"
   ]
  },
  {
   "cell_type": "code",
   "execution_count": 21,
   "metadata": {},
   "outputs": [
    {
     "data": {
      "image/png": "[encoded data removed]",
      "text/plain": [
       "<Figure size 432x288 with 1 Axes>"
      ]
     },
     "metadata": {
      "needs_background": "light"
     },
     "output_type": "display_data"
    }
   ],
   "source": [
    "plt.imshow(x_test[0], cmap='gray')\n",
    "plt.show()"
   ]
  },
  {
   "cell_type": "code",
   "execution_count": 66,
   "metadata": {},
   "outputs": [
    {
     "name": "stdout",
     "output_type": "stream",
     "text": [
      "1/1 [==============================] - 0s 129ms/step\n"
     ]
    }
   ],
   "source": [
    "import numpy as np\n",
    "np.set_printoptions(suppress=True, precision=10)\n",
    "prediction = model.predict(x_test[0:1]) # 첫번째 이미지 in the test dataset"
   ]
  },
  {
   "cell_type": "code",
   "execution_count": 67,
   "metadata": {},
   "outputs": [
    {
     "data": {
      "text/plain": [
       "array([[0.0000000012, 0.0000005701, 0.0000024674, 0.000002135 ,\n",
       "        0.          , 0.000000002 , 0.          , 0.99999344  ,\n",
       "        0.0000000027, 0.0000013002]], dtype=float32)"
      ]
     },
     "execution_count": 67,
     "metadata": {},
     "output_type": "execute_result"
    }
   ],
   "source": [
    "prediction"
   ]
  },
  {
   "cell_type": "code",
   "execution_count": 68,
   "metadata": {},
   "outputs": [
    {
     "data": {
      "text/plain": [
       "7"
      ]
     },
     "execution_count": 68,
     "metadata": {},
     "output_type": "execute_result"
    }
   ],
   "source": [
    "y_test[0]"
   ]
  },
  {
   "cell_type": "code",
   "execution_count": 68,
   "metadata": {},
   "outputs": [],
   "source": [
    "labels = [0, 1, 2, 3, 4, 5, 6, 7, 8, 9]"
   ]
  },
  {
   "cell_type": "code",
   "execution_count": 69,
   "metadata": {},
   "outputs": [
    {
     "name": "stdout",
     "output_type": "stream",
     "text": [
      "7\n"
     ]
    }
   ],
   "source": [
    "print(labels[np.argmax(prediction)])"
   ]
  },
  {
   "cell_type": "code",
   "execution_count": 70,
   "metadata": {},
   "outputs": [
    {
     "data": {
      "text/plain": [
       "0"
      ]
     },
     "execution_count": 70,
     "metadata": {},
     "output_type": "execute_result"
    }
   ],
   "source": [
    "range(0,10)[0]"
   ]
  },
  {
   "cell_type": "code",
   "execution_count": null,
   "metadata": {},
   "outputs": [],
   "source": []
  }
 ],
 "metadata": {
  "kernelspec": {
   "display_name": "Python 3 (ipykernel)",
   "language": "python",
   "name": "python3"
  },
  "language_info": {
   "codemirror_mode": {
    "name": "ipython",
    "version": 3
   },
   "file_extension": ".py",
   "mimetype": "text/x-python",
   "name": "python",
   "nbconvert_exporter": "python",
   "pygments_lexer": "ipython3",
   "version": "3.8.5"
  }
 },
 "nbformat": 4,
 "nbformat_minor": 2
}
