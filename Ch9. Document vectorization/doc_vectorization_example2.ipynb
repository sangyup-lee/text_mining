{
 "cells": [
  {
   "cell_type": "code",
   "execution_count": 1,
   "metadata": {},
   "outputs": [],
   "source": [
    "from os import listdir\n",
    "from os.path import isfile, join\n",
    "\n",
    "# 아래 코드를 사용하여 폴더에 존재하는 파일의 이름만을 저장합니다.\n",
    "mypath = './docs/'\n",
    "onlyfiles = [f for f in listdir(mypath) if isfile(join(mypath, f))]\n",
    "\n",
    "total_docs = []\n",
    "for file in onlyfiles:\n",
    "    file_path = mypath+file\n",
    "    with open(file_path, 'r', encoding='utf8') as f:\n",
    "        content = f.read()\n",
    "    total_docs.append(content)"
   ]
  },
  {
   "cell_type": "code",
   "execution_count": 2,
   "metadata": {},
   "outputs": [
    {
     "data": {
      "text/plain": [
       "4"
      ]
     },
     "execution_count": 2,
     "metadata": {},
     "output_type": "execute_result"
    }
   ],
   "source": [
    "len(total_docs)"
   ]
  },
  {
   "cell_type": "code",
   "execution_count": 3,
   "metadata": {
    "scrolled": true
   },
   "outputs": [
    {
     "data": {
      "text/plain": [
       "'Smartphones are by our sides, on our desks, in our pockets and bags all day long. We use them for hours every day (as the latest software on iPhone and Android phones reveals in all-too-clear detail).\\nSo, it’s no surprise that battery anxiety, that great malady of the twenty-first century, is more perniciously present than ever.\\n\\nThe latest iPhones, I’d venture, have great battery life. I favor the iPhone XS Max and, as I’ve mentioned before, I’ve never had an issue with the battery running out, nor with the iPhone XR which, after all, has the largest battery of any iPhone. But how about the iPhone XS, the smallest-screened of the 2018 iPhones? Again, I haven’t had an issue except on those extra-long days, like flying west from London to California, for instance. On those 32-hour days caused by the time difference, the iPhone XS has struggled.\\nSo, that was the Smart Battery Case I plumped for, to see if it could banish battery anxiety altogether. The essentials of this review apply to the iPhone XS Max and iPhone XR as well, but it was the iPhone XS I tested.\\nHow does it fit?\\n\\nYou can tell from the moment you open the packaging, with the back plate holding the case in place, that this is a product where attention to detail is everything. It is beautifully crafted from premium materials.\\nTo wrap it around the iPhone XS you bend the upper part of the case back to 45 degrees. Once you’ve done that, you can slide the iPhone in from the top of the case along the microfibre lining. It fits smoothly on to the internal Lightning connector at the base of the case.\\nHow does it look and feel?\\n\\nIt’s big. It makes a slim, lightweight phone heavier and considerably thicker. But that may be a worthwhile trade for the peace of mind of knowing your phone won’t run out of juice.\\n\\nThe design here is different from previous Apple smart battery cases. They have a battery bulge in the middle of the back. Here, it stretches right down the back from just below the camera unit to the bottom. This means there’s a lot more battery on board, but it feels very different in the hand. It will no longer slide into a trouser pocket, for instance.\\n\\nThe silicone back is smooth and tactile. This feels good to the touch and is entirely non-slip – unlike most smartphones out there today which can slide off even the flattest surface, no matter how carefully you put them down, the instant your back is turned.\\n\\nOr is that just me?\\n\\nIt’s also, no surprise here, a perfect fit. Every button clicks with the same pressure as the phone when it’s naked. The switch to enable and disable the phone’s ringtone and turn it to silent is reachable – though you’ll need a fingernail to flip it on and off easily.\\n\\nAnd the holes drilled in the bottom edge are, of course, a flawless match for the two grilles on the base of the iPhone.'"
      ]
     },
     "execution_count": 3,
     "metadata": {},
     "output_type": "execute_result"
    }
   ],
   "source": [
    "total_docs[0]"
   ]
  },
  {
   "cell_type": "code",
   "execution_count": 4,
   "metadata": {},
   "outputs": [
    {
     "data": {
      "text/plain": [
       "'Four times, Serena Williams was only one point — a single point — from closing out a victory in the Australian Open quarterfinals.\\n\\nOn the first such chance, at 5-1, 40-30 in the third set, she turned her left ankle awkwardly. The owner of the best serve in the sport would lose every point she served the rest of the way.\\n\\nAnd so it was that a startling reversal and result would follow Wednesday at Melbourne Park, with Williams dropping the last six games of a 6-4, 4-6, 7-5 loss to No. 7-seeded Karolina Pliskova of the Czech Republic.\\n\\n\"I can\\'t say that I choked on those match points,\" Williams said. \"She literally played her best tennis ever on those shots.\"\\nThe 37-year-old American didn\\'t call for a trainer during the match and later wouldn\\'t blame the ankle for the way everything changed down the stretch, saying afterward that it \"seems to be fine.\"\\n\\nBut instead of Williams moving closer to an eighth championship at the Australian Open and record-tying 24th Grand Slam title overall, it is Pliskova who will continue the pursuit of her first major trophy.\\n\\n\"I was almost in the locker room,\" Pliskova told the Rod Laver Arena crowd, \"but now I\\'m standing here as the winner.\"\\n\\nNormally, Williams is the one manufacturing a comeback. This time, it was surprising to see her let a sizable lead vanish. Only twice before in 380 Grand Slam matches had Williams lost after holding a match point, at the 2010 French Open and 1999 Australian Open.\\n\\nIn Thursday\\'s semifinals, Pliskova will face No. 4-seeded Naomi Osaka, who advanced by beating No. 6 Elina Svitolina 6-4, 6-1. The other women\\'s semifinal will be unseeded Danielle Collins of St. Petersburg vs. two-time Wimbledon champion Petra Kvitova.\\n\\nIn men\\'s action Wednesday, No. 28 Lucas Pouille of France reached his first Grand Slam semifinal by beating 2016 Wimbledon runner-up Milos Raonic of Canada 7-6 (4), 6-3, 6-7 (2), 6-4. Pouille, who is coached by two-time major champion Amelie Mauresmo, had been 0-5 for his career at the Australian Open until last week. His next opponent will be 14-time major champion Novak Djokovic, who moved on when 2014 U.S. Open finalist Kei Nishikori stopped playing while trailing 6-1, 4-1.\\n\\nNishikori was treated for leg problems by a trainer.\\n\\nWilliams\\' surprising departure scuttled what would have been a much-anticipated rematch against Osaka, who beat her in the chaotic U.S. Open final last September.\\n\\nThis defeat is the earliest in Australia for Williams since 2014, when she exited with a fourth-round loss to Ana Ivanovic. Since then? She won the tournament in 2015, lost in the final in 2016, and won again in 2017 while pregnant, before missing last year\\'s edition a few months after the birth of her daughter.\\n\\nAs for chasing Margaret Court\\'s all-time mark of 24 Slam trophies in singles, Williams said: \"It hasn\\'t happened yet, but I feel like it\\'s going to happen.\"\\n\\nThe match against Pliskova was played under a stifling sun, with the temperature around 80 degrees (25 degrees Celsius). Williams — coming off an intense three-set victory over No. 1 Simona Halep in the fourth round — often stepped into the patches of shade behind each baseline.'"
      ]
     },
     "execution_count": 4,
     "metadata": {},
     "output_type": "execute_result"
    }
   ],
   "source": [
    "total_docs[-1]"
   ]
  },
  {
   "cell_type": "code",
   "execution_count": 5,
   "metadata": {},
   "outputs": [],
   "source": [
    "import preprocessing # import a python file for English text preprocessing"
   ]
  },
  {
   "cell_type": "code",
   "execution_count": 6,
   "metadata": {},
   "outputs": [],
   "source": [
    "# 사용자 정의 불용어 사전\n",
    "stopwords = ['be', 'today', 'yesterday', 'tomorrow'] "
   ]
  },
  {
   "cell_type": "code",
   "execution_count": 7,
   "metadata": {},
   "outputs": [],
   "source": [
    "# 각 문서의 전처리\n",
    "# 전처리의 결과물은 불용어가 제거된 명사 단어들\n",
    "docs_nouns = [preprocessing.En_preprocessing(doc, stopwords) for doc in total_docs]"
   ]
  },
  {
   "cell_type": "code",
   "execution_count": 8,
   "metadata": {},
   "outputs": [
    {
     "data": {
      "text/plain": [
       "4"
      ]
     },
     "execution_count": 8,
     "metadata": {},
     "output_type": "execute_result"
    }
   ],
   "source": [
    "len(docs_nouns)"
   ]
  },
  {
   "cell_type": "code",
   "execution_count": 9,
   "metadata": {},
   "outputs": [
    {
     "name": "stdout",
     "output_type": "stream",
     "text": [
      "['smartphones', 'side', 'desk', 'pocket', 'bag', 'day', 'hour', 'day', 'software', 'iphone', 'phone', 'reveals', 'detail', 'surprise', 'battery', 'anxiety', 'malady', 'century', 'iphones', 'venture', 'battery', 'life', 'iphone', 'x', 'max', 'issue', 'battery', 'iphone', 'xr', 'battery', 'iphone', 'iphone', 'iphones', 'havent', 'issue', 'day', 'london', 'instance', 'day', 'time', 'difference', 'iphone', 'x', 'battery', 'case', 'battery', 'anxiety', 'essential', 'review', 'iphone', 'x', 'max', 'iphone', 'xr', 'iphone', 'x', 'moment', 'packaging', 'plate', 'case', 'place', 'product', 'attention', 'everything', 'material', 'iphone', 'x', 'part', 'case', 'degree', 'iphone', 'top', 'case', 'microfibre', 'lightning', 'connector', 'base', 'case', 'lightweight', 'phone', 'thicker', 'trade', 'peace', 'mind', 'phone', 'wont', 'juice', 'design', 'apple', 'battery', 'case', 'battery', 'bulge', 'middle', 'back', 'back', 'camera', 'unit', 'bottom', 'lot', 'battery', 'board', 'hand', 'trouser', 'pocket', 'instance', 'silicone', 'feel', 'touch', 'smartphones', 'surface', 'matter', 'back', 'surprise', 'fit', 'button', 'pressure', 'phone', 'switch', 'phone', 'ringtone', 'fingernail', 'hole', 'bottom', 'edge', 'course', 'match', 'grille', 'base', 'iphone']\n"
     ]
    }
   ],
   "source": [
    "print(docs_nouns[0])"
   ]
  },
  {
   "cell_type": "code",
   "execution_count": 10,
   "metadata": {},
   "outputs": [],
   "source": [
    "documents_filtered = [' '.join(doc) for doc in docs_nouns]"
   ]
  },
  {
   "cell_type": "code",
   "execution_count": 11,
   "metadata": {},
   "outputs": [
    {
     "data": {
      "text/plain": [
       "'smartphones side desk pocket bag day hour day software iphone phone reveals detail surprise battery anxiety malady century iphones venture battery life iphone x max issue battery iphone xr battery iphone iphone iphones havent issue day london instance day time difference iphone x battery case battery anxiety essential review iphone x max iphone xr iphone x moment packaging plate case place product attention everything material iphone x part case degree iphone top case microfibre lightning connector base case lightweight phone thicker trade peace mind phone wont juice design apple battery case battery bulge middle back back camera unit bottom lot battery board hand trouser pocket instance silicone feel touch smartphones surface matter back surprise fit button pressure phone switch phone ringtone fingernail hole bottom edge course match grille base iphone'"
      ]
     },
     "execution_count": 11,
     "metadata": {},
     "output_type": "execute_result"
    }
   ],
   "source": [
    "documents_filtered[0]"
   ]
  },
  {
   "cell_type": "markdown",
   "metadata": {},
   "source": [
    "## CountVectorizer 클래스를 이용해서 벡터화 하기"
   ]
  },
  {
   "cell_type": "code",
   "execution_count": 12,
   "metadata": {},
   "outputs": [],
   "source": [
    "from sklearn.feature_extraction.text import CountVectorizer\n",
    "tf_vectorizer = CountVectorizer(min_df=1, max_df=0.8, ngram_range=(1,1))\n",
    "DTM_tf = tf_vectorizer.fit_transform(documents_filtered)"
   ]
  },
  {
   "cell_type": "code",
   "execution_count": 13,
   "metadata": {},
   "outputs": [],
   "source": [
    "# numpy의 array 형태로 변환\n",
    "import numpy as np\n",
    "DTM_TF = np.array(DTM_tf.todense())"
   ]
  },
  {
   "cell_type": "code",
   "execution_count": 14,
   "metadata": {},
   "outputs": [
    {
     "data": {
      "text/plain": [
       "array([[0, 0, 0, ..., 0, 0, 0],\n",
       "       [0, 0, 0, ..., 2, 0, 1],\n",
       "       [0, 2, 1, ..., 1, 1, 0],\n",
       "       [1, 0, 0, ..., 1, 0, 0]], dtype=int64)"
      ]
     },
     "execution_count": 14,
     "metadata": {},
     "output_type": "execute_result"
    }
   ],
   "source": [
    "DTM_TF"
   ]
  },
  {
   "cell_type": "code",
   "execution_count": 15,
   "metadata": {},
   "outputs": [
    {
     "data": {
      "text/plain": [
       "(4, 285)"
      ]
     },
     "execution_count": 15,
     "metadata": {},
     "output_type": "execute_result"
    }
   ],
   "source": [
    "DTM_TF.shape"
   ]
  },
  {
   "cell_type": "code",
   "execution_count": 16,
   "metadata": {},
   "outputs": [
    {
     "data": {
      "text/plain": [
       "array([ 0,  0,  0,  0,  0,  0,  0,  2,  0,  0,  1,  0,  0,  1,  0,  3,  1,\n",
       "        2,  0,  0,  0,  9,  0,  0,  1,  0,  2,  0,  1,  1,  0,  0,  1,  0,\n",
       "        0,  0,  0,  6,  0,  0,  1,  0,  0,  0,  0,  0,  0,  0,  0,  0,  0,\n",
       "        0,  0,  0,  0,  1,  1,  0,  0,  0,  0,  4,  0,  1,  0,  1,  1,  1,\n",
       "        0,  1,  0,  0,  1,  0,  1,  1,  0,  0,  0,  1,  0,  1,  1,  0,  0,\n",
       "        0,  0,  0,  0,  0,  0,  0,  1,  0,  0,  1,  0,  1,  0,  0,  1,  0,\n",
       "        1,  0,  0,  0,  2,  0, 12,  2,  2,  0,  1,  0,  0,  0,  0,  0,  0,\n",
       "        0,  0,  0,  0,  0,  1,  1,  1,  0,  1,  0,  0,  0,  1,  0,  1,  0,\n",
       "        0,  0,  1,  1,  1,  0,  2,  0,  0,  1,  1,  0,  1,  0,  1,  0,  0,\n",
       "        0,  0,  0,  0,  0,  0,  0,  0,  0,  0,  0,  0,  1,  0,  1,  0,  0,\n",
       "        1,  0,  0,  0,  0,  0,  5,  0,  0,  1,  1,  0,  2,  0,  0,  0,  0,\n",
       "        0,  0,  1,  0,  0,  0,  1,  0,  0,  0,  0,  0,  0,  0,  0,  0,  0,\n",
       "        1,  0,  1,  0,  1,  0,  0,  0,  0,  0,  0,  0,  0,  0,  0,  0,  0,\n",
       "        0,  0,  0,  1,  0,  1,  0,  0,  0,  0,  2,  1,  0,  0,  0,  0,  0,\n",
       "        0,  0,  0,  0,  0,  0,  1,  2,  1,  0,  0,  0,  1,  0,  0,  0,  0,\n",
       "        1,  1,  0,  0,  1,  0,  0,  1,  0,  1,  0,  1,  0,  0,  0,  0,  0,\n",
       "        0,  0,  0,  0,  0,  0,  0,  0,  1,  2,  0,  0,  0], dtype=int64)"
      ]
     },
     "execution_count": 16,
     "metadata": {},
     "output_type": "execute_result"
    }
   ],
   "source": [
    "DTM_TF[0]"
   ]
  },
  {
   "cell_type": "code",
   "execution_count": 17,
   "metadata": {},
   "outputs": [
    {
     "name": "stdout",
     "output_type": "stream",
     "text": [
      "23.895606290697042\n",
      "24.919871588754223\n",
      "25.826343140289914\n"
     ]
    }
   ],
   "source": [
    "print(np.linalg.norm(DTM_TF[1]-DTM_TF[0])) # 첫 번째 문서와 두 번째 문서 간의 유클리디안 거리\n",
    "print(np.linalg.norm(DTM_TF[2]-DTM_TF[0])) # 첫 번째 문서와 세 번째 문서 간의 유클리디안 거리\n",
    "print(np.linalg.norm(DTM_TF[3]-DTM_TF[0])) # 첫 번째 문서와 네 번째 문서 간의 유클리디안 거리"
   ]
  },
  {
   "cell_type": "code",
   "execution_count": 18,
   "metadata": {},
   "outputs": [
    {
     "name": "stdout",
     "output_type": "stream",
     "text": [
      "0.5959464513198515\n",
      "0.010149858103156184\n",
      "0.021112128709387182\n"
     ]
    }
   ],
   "source": [
    "print(np.dot(DTM_TF[0],DTM_TF[1])/(np.linalg.norm(DTM_TF[0])*np.linalg.norm(DTM_TF[1])))\n",
    "print(np.dot(DTM_TF[0],DTM_TF[2])/(np.linalg.norm(DTM_TF[0])*np.linalg.norm(DTM_TF[2])))\n",
    "print(np.dot(DTM_TF[0],DTM_TF[3])/(np.linalg.norm(DTM_TF[0])*np.linalg.norm(DTM_TF[3])))"
   ]
  },
  {
   "cell_type": "markdown",
   "metadata": {
    "collapsed": true
   },
   "source": [
    "## TfidfVectorizer 클래스를 이용해서 벡터화 하기"
   ]
  },
  {
   "cell_type": "code",
   "execution_count": 19,
   "metadata": {},
   "outputs": [],
   "source": [
    "from sklearn.feature_extraction.text import TfidfVectorizer\n",
    "tfidf_vectorizer = TfidfVectorizer(min_df=1, max_df=0.8, ngram_range=(1,1))\n",
    "DTM_tfidf = tfidf_vectorizer.fit_transform(documents_filtered)"
   ]
  },
  {
   "cell_type": "code",
   "execution_count": 20,
   "metadata": {},
   "outputs": [],
   "source": [
    "DTM_TFIDF = np.array(DTM_tfidf.todense())"
   ]
  },
  {
   "cell_type": "code",
   "execution_count": 21,
   "metadata": {
    "scrolled": true
   },
   "outputs": [
    {
     "data": {
      "text/plain": [
       "array([0.        , 0.        , 0.        , 0.        , 0.        ,\n",
       "       0.        , 0.        , 0.11685892, 0.        , 0.        ,\n",
       "       0.04606646, 0.        , 0.        , 0.05842946, 0.        ,\n",
       "       0.13819937, 0.05842946, 0.11685892, 0.        , 0.        ,\n",
       "       0.        , 0.41459811, 0.        , 0.        , 0.05842946,\n",
       "       0.        , 0.09213291, 0.        , 0.05842946, 0.05842946,\n",
       "       0.        , 0.        , 0.05842946, 0.        , 0.        ,\n",
       "       0.        , 0.        , 0.27639874, 0.        , 0.        ,\n",
       "       0.05842946, 0.        , 0.        , 0.        , 0.        ,\n",
       "       0.        , 0.        , 0.        , 0.        , 0.        ,\n",
       "       0.        , 0.        , 0.        , 0.        , 0.        ,\n",
       "       0.05842946, 0.05842946, 0.        , 0.        , 0.        ,\n",
       "       0.        , 0.18426583, 0.        , 0.04606646, 0.        ,\n",
       "       0.04606646, 0.05842946, 0.05842946, 0.        , 0.05842946,\n",
       "       0.        , 0.        , 0.05842946, 0.        , 0.05842946,\n",
       "       0.04606646, 0.        , 0.        , 0.        , 0.05842946,\n",
       "       0.        , 0.05842946, 0.05842946, 0.        , 0.        ,\n",
       "       0.        , 0.        , 0.        , 0.        , 0.        ,\n",
       "       0.        , 0.        , 0.05842946, 0.        , 0.        ,\n",
       "       0.04606646, 0.        , 0.05842946, 0.        , 0.        ,\n",
       "       0.05842946, 0.        , 0.05842946, 0.        , 0.        ,\n",
       "       0.        , 0.11685892, 0.        , 0.55279748, 0.11685892,\n",
       "       0.11685892, 0.        , 0.05842946, 0.        , 0.        ,\n",
       "       0.        , 0.        , 0.        , 0.        , 0.        ,\n",
       "       0.        , 0.        , 0.        , 0.        , 0.04606646,\n",
       "       0.04606646, 0.05842946, 0.        , 0.05842946, 0.        ,\n",
       "       0.        , 0.        , 0.03729477, 0.        , 0.05842946,\n",
       "       0.        , 0.        , 0.        , 0.04606646, 0.05842946,\n",
       "       0.05842946, 0.        , 0.09213291, 0.        , 0.        ,\n",
       "       0.05842946, 0.05842946, 0.        , 0.05842946, 0.        ,\n",
       "       0.05842946, 0.        , 0.        , 0.        , 0.        ,\n",
       "       0.        , 0.        , 0.        , 0.        , 0.        ,\n",
       "       0.        , 0.        , 0.        , 0.        , 0.        ,\n",
       "       0.05842946, 0.        , 0.04606646, 0.        , 0.        ,\n",
       "       0.05842946, 0.        , 0.        , 0.        , 0.        ,\n",
       "       0.        , 0.23033228, 0.        , 0.        , 0.05842946,\n",
       "       0.05842946, 0.        , 0.11685892, 0.        , 0.        ,\n",
       "       0.        , 0.        , 0.        , 0.        , 0.05842946,\n",
       "       0.        , 0.        , 0.        , 0.05842946, 0.        ,\n",
       "       0.        , 0.        , 0.        , 0.        , 0.        ,\n",
       "       0.        , 0.        , 0.        , 0.        , 0.05842946,\n",
       "       0.        , 0.05842946, 0.        , 0.05842946, 0.        ,\n",
       "       0.        , 0.        , 0.        , 0.        , 0.        ,\n",
       "       0.        , 0.        , 0.        , 0.        , 0.        ,\n",
       "       0.        , 0.        , 0.        , 0.        , 0.05842946,\n",
       "       0.        , 0.04606646, 0.        , 0.        , 0.        ,\n",
       "       0.        , 0.11685892, 0.05842946, 0.        , 0.        ,\n",
       "       0.        , 0.        , 0.        , 0.        , 0.        ,\n",
       "       0.        , 0.        , 0.        , 0.        , 0.05842946,\n",
       "       0.11685892, 0.05842946, 0.        , 0.        , 0.        ,\n",
       "       0.05842946, 0.        , 0.        , 0.        , 0.        ,\n",
       "       0.05842946, 0.05842946, 0.        , 0.        , 0.05842946,\n",
       "       0.        , 0.        , 0.05842946, 0.        , 0.05842946,\n",
       "       0.        , 0.05842946, 0.        , 0.        , 0.        ,\n",
       "       0.        , 0.        , 0.        , 0.        , 0.        ,\n",
       "       0.        , 0.        , 0.        , 0.        , 0.        ,\n",
       "       0.05842946, 0.11685892, 0.        , 0.        , 0.        ])"
      ]
     },
     "execution_count": 21,
     "metadata": {},
     "output_type": "execute_result"
    }
   ],
   "source": [
    "DTM_TFIDF[0]"
   ]
  },
  {
   "cell_type": "code",
   "execution_count": 22,
   "metadata": {},
   "outputs": [
    {
     "data": {
      "text/plain": [
       "(4, 285)"
      ]
     },
     "execution_count": 22,
     "metadata": {},
     "output_type": "execute_result"
    }
   ],
   "source": [
    "DTM_TFIDF.shape"
   ]
  },
  {
   "cell_type": "code",
   "execution_count": 23,
   "metadata": {},
   "outputs": [
    {
     "name": "stdout",
     "output_type": "stream",
     "text": [
      "0.9538556951497862\n",
      "1.409374356422095\n",
      "1.4028109418615884\n"
     ]
    }
   ],
   "source": [
    "print(np.linalg.norm(DTM_TFIDF[1]-DTM_TFIDF[0])) # 첫 번째 문서와 두 번째 문서 간의 유클리디안 거리\n",
    "print(np.linalg.norm(DTM_TFIDF[2]-DTM_TFIDF[0])) # 첫 번째 문서와 세 번째 문서 간의 유클리디안 거리\n",
    "print(np.linalg.norm(DTM_TFIDF[3]-DTM_TFIDF[0])) # 첫 번째 문서와 네 번째 문서 간의 유클리디안 거리"
   ]
  },
  {
   "cell_type": "code",
   "execution_count": 24,
   "metadata": {},
   "outputs": [
    {
     "name": "stdout",
     "output_type": "stream",
     "text": [
      "0.5450796564151593\n",
      "0.006831961729902576\n",
      "0.01606073069670202\n"
     ]
    }
   ],
   "source": [
    "print(np.dot(DTM_TFIDF[0],DTM_TFIDF[1])/(np.linalg.norm(DTM_TFIDF[0])*np.linalg.norm(DTM_TFIDF[1])))\n",
    "print(np.dot(DTM_TFIDF[0],DTM_TFIDF[2])/(np.linalg.norm(DTM_TFIDF[0])*np.linalg.norm(DTM_TFIDF[2])))\n",
    "print(np.dot(DTM_TFIDF[0],DTM_TFIDF[3])/(np.linalg.norm(DTM_TFIDF[0])*np.linalg.norm(DTM_TFIDF[3])))"
   ]
  },
  {
   "cell_type": "code",
   "execution_count": null,
   "metadata": {},
   "outputs": [],
   "source": []
  }
 ],
 "metadata": {
  "kernelspec": {
   "display_name": "Python 3 (ipykernel)",
   "language": "python",
   "name": "python3"
  },
  "language_info": {
   "codemirror_mode": {
    "name": "ipython",
    "version": 3
   },
   "file_extension": ".py",
   "mimetype": "text/x-python",
   "name": "python",
   "nbconvert_exporter": "python",
   "pygments_lexer": "ipython3",
   "version": "3.8.5"
  }
 },
 "nbformat": 4,
 "nbformat_minor": 2
}
