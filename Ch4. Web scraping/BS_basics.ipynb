{
 "cells": [
  {
   "cell_type": "code",
   "execution_count": 1,
   "metadata": {},
   "outputs": [],
   "source": [
    "# html_test.html에서 소스 코드를 읽어 옵니다. \n",
    "with open('html_test.html', 'r', encoding = 'utf-8') as f: \n",
    "    html = f.read() "
   ]
  },
  {
   "cell_type": "code",
   "execution_count": 2,
   "metadata": {},
   "outputs": [
    {
     "name": "stdout",
     "output_type": "stream",
     "text": [
      "﻿<html lang=\"ko\"> \n",
      "\t<head>\n",
      "\t\t<title>Online Data Scraping Test</title>\n",
      "\t</head>\n",
      "\n",
      "\t<body>\n",
      "\t\t<p class=\"title\">HTML code for the lecture</p>\n",
      "\t\t<p class=\"description\">This code will be used as HTML source code for the BS lecture. For more detailed information about BS, you can click\n",
      "\t\t\t<a class=\"BS_English\" href=\"http://www.pythonforbeginners.com/python-on-the-web/beautifulsoup-4-python/\"> BS4 for beginners</a></p>\n",
      "\t\t<p class=\"description\">한국어로 된 정보를 원한다면\n",
      "\t\t\t<a class=\"BS_Korean\" href=\"http://coreapython.hosting.paran.com/etc/beautifulsoup4.html\"> BS4 for beginners (한글버전)</a>을 이용하세요</p>\n",
      "\t\t<div>\n",
      "\t\t\t<p><span class=\"red_price\">35.6</span></p>\n",
      "\t\t\t<p><span class=\"blue_price\">43.2</span></p>\n",
      "\t\t\t<p><span method=\"manual\">24.3</span></p>\n",
      "\t\t</div>\n",
      "\t</body>\n",
      "</html>\n",
      "\n",
      "\n",
      "\n"
     ]
    }
   ],
   "source": [
    "# 소스 코드는 아래와 같습니다.\n",
    "print(html)"
   ]
  },
  {
   "cell_type": "markdown",
   "metadata": {},
   "source": [
    "## BeautifulSoup 클래스 사용하기"
   ]
  },
  {
   "cell_type": "code",
   "execution_count": 3,
   "metadata": {},
   "outputs": [],
   "source": [
    "from bs4 import BeautifulSoup   \n",
    "soup=BeautifulSoup(html, 'lxml')"
   ]
  },
  {
   "cell_type": "markdown",
   "metadata": {},
   "source": [
    "### 태그의 이름을 이용해서 태그 찾기 "
   ]
  },
  {
   "cell_type": "markdown",
   "metadata": {},
   "source": [
    "title 태그 찾기"
   ]
  },
  {
   "cell_type": "code",
   "execution_count": 4,
   "metadata": {},
   "outputs": [
    {
     "data": {
      "text/plain": [
       "<title>Online Data Scraping Test</title>"
      ]
     },
     "execution_count": 4,
     "metadata": {},
     "output_type": "execute_result"
    }
   ],
   "source": [
    "soup.title"
   ]
  },
  {
   "cell_type": "code",
   "execution_count": 5,
   "metadata": {},
   "outputs": [
    {
     "data": {
      "text/plain": [
       "'Online Data Scraping Test'"
      ]
     },
     "execution_count": 5,
     "metadata": {},
     "output_type": "execute_result"
    }
   ],
   "source": [
    "soup.title.text"
   ]
  },
  {
   "cell_type": "markdown",
   "metadata": {},
   "source": [
    "첫 번째 p 태그 찾기"
   ]
  },
  {
   "cell_type": "code",
   "execution_count": 6,
   "metadata": {},
   "outputs": [
    {
     "data": {
      "text/plain": [
       "<p class=\"title\">HTML code for the lecture</p>"
      ]
     },
     "execution_count": 6,
     "metadata": {},
     "output_type": "execute_result"
    }
   ],
   "source": [
    "soup.p"
   ]
  },
  {
   "cell_type": "markdown",
   "metadata": {},
   "source": [
    "### find() 또는 find_all() 함수 사용하기"
   ]
  },
  {
   "cell_type": "code",
   "execution_count": 7,
   "metadata": {},
   "outputs": [
    {
     "data": {
      "text/plain": [
       "<title>Online Data Scraping Test</title>"
      ]
     },
     "execution_count": 7,
     "metadata": {},
     "output_type": "execute_result"
    }
   ],
   "source": [
    "# 태그의 이름을 찾고자 하는 태그의 조건으로 입력\n",
    "soup.find('title')"
   ]
  },
  {
   "cell_type": "code",
   "execution_count": 8,
   "metadata": {},
   "outputs": [
    {
     "data": {
      "text/plain": [
       "'Online Data Scraping Test'"
      ]
     },
     "execution_count": 8,
     "metadata": {},
     "output_type": "execute_result"
    }
   ],
   "source": [
    "# 태그를 찾은 후, 텍스트 정보를 추출하기 위해 text 키워드 사용\n",
    "soup.find('title').text"
   ]
  },
  {
   "cell_type": "code",
   "execution_count": 9,
   "metadata": {},
   "outputs": [
    {
     "data": {
      "text/plain": [
       "<p class=\"title\">HTML code for the lecture</p>"
      ]
     },
     "execution_count": 9,
     "metadata": {},
     "output_type": "execute_result"
    }
   ],
   "source": [
    "soup.find('p')"
   ]
  },
  {
   "cell_type": "code",
   "execution_count": 10,
   "metadata": {},
   "outputs": [
    {
     "data": {
      "text/plain": [
       "'HTML code for the lecture'"
      ]
     },
     "execution_count": 10,
     "metadata": {},
     "output_type": "execute_result"
    }
   ],
   "source": [
    "soup.find('p').text"
   ]
  },
  {
   "cell_type": "markdown",
   "metadata": {},
   "source": [
    "### 태그의 속성 정보 이용하기"
   ]
  },
  {
   "cell_type": "markdown",
   "metadata": {},
   "source": [
    "find() 함수의 경우"
   ]
  },
  {
   "cell_type": "code",
   "execution_count": 11,
   "metadata": {},
   "outputs": [
    {
     "data": {
      "text/plain": [
       "<span class=\"blue_price\">43.2</span>"
      ]
     },
     "execution_count": 11,
     "metadata": {},
     "output_type": "execute_result"
    }
   ],
   "source": [
    "# 태그의 속성 정보를 인자로 입력하기 위해서 attrs 파라미터 사용\n",
    "soup.find('span', attrs={'class':'blue_price'})"
   ]
  },
  {
   "cell_type": "code",
   "execution_count": 12,
   "metadata": {},
   "outputs": [
    {
     "data": {
      "text/plain": [
       "'43.2'"
      ]
     },
     "execution_count": 12,
     "metadata": {},
     "output_type": "execute_result"
    }
   ],
   "source": [
    "soup.find('span',attrs={'class':'blue_price'}).text"
   ]
  },
  {
   "cell_type": "markdown",
   "metadata": {},
   "source": [
    "### find_all() 함수 사용하기"
   ]
  },
  {
   "cell_type": "code",
   "execution_count": 13,
   "metadata": {},
   "outputs": [
    {
     "data": {
      "text/plain": [
       "<p class=\"description\">This code will be used as HTML source code for the BS lecture. For more detailed information about BS, you can click\n",
       "\t\t\t<a class=\"BS_English\" href=\"http://www.pythonforbeginners.com/python-on-the-web/beautifulsoup-4-python/\"> BS4 for beginners</a></p>"
      ]
     },
     "execution_count": 13,
     "metadata": {},
     "output_type": "execute_result"
    }
   ],
   "source": [
    "# 아래와 같이 입력하면 두 번째 p 태그를 찾습니다. \n",
    "soup.find('p', attrs={'class':'description'})"
   ]
  },
  {
   "cell_type": "code",
   "execution_count": 14,
   "metadata": {},
   "outputs": [
    {
     "data": {
      "text/plain": [
       "[<p class=\"description\">This code will be used as HTML source code for the BS lecture. For more detailed information about BS, you can click\n",
       " \t\t\t<a class=\"BS_English\" href=\"http://www.pythonforbeginners.com/python-on-the-web/beautifulsoup-4-python/\"> BS4 for beginners</a></p>,\n",
       " <p class=\"description\">한국어로 된 정보를 원한다면\n",
       " \t\t\t<a class=\"BS_Korean\" href=\"http://coreapython.hosting.paran.com/etc/beautifulsoup4.html\"> BS4 for beginners (한글버전)</a>을 이용하세요</p>]"
      ]
     },
     "execution_count": 14,
     "metadata": {},
     "output_type": "execute_result"
    }
   ],
   "source": [
    "# 아래와 같이 입력하면 해당 조건을 만족하는 두 개의 p 태그가 모두 찾아지고, \n",
    "# 그 결과가 리스트 형태로 반환됩니다.\n",
    "soup.find_all('p', attrs={'class':'description'})"
   ]
  },
  {
   "cell_type": "code",
   "execution_count": 15,
   "metadata": {},
   "outputs": [
    {
     "data": {
      "text/plain": [
       "<p class=\"description\">한국어로 된 정보를 원한다면\n",
       "\t\t\t<a class=\"BS_Korean\" href=\"http://coreapython.hosting.paran.com/etc/beautifulsoup4.html\"> BS4 for beginners (한글버전)</a>을 이용하세요</p>"
      ]
     },
     "execution_count": 15,
     "metadata": {},
     "output_type": "execute_result"
    }
   ],
   "source": [
    "# 인덱스 번호 1을 사용해서 두 번째 원소에 접근할 수 있습니다.\n",
    "soup.find_all('p', attrs={'class':'description'})[1]"
   ]
  },
  {
   "cell_type": "code",
   "execution_count": 16,
   "metadata": {},
   "outputs": [
    {
     "data": {
      "text/plain": [
       "'24.3'"
      ]
     },
     "execution_count": 16,
     "metadata": {},
     "output_type": "execute_result"
    }
   ],
   "source": [
    "# 그렇다면 아래 코드를 실행하면 어떠한 결과가 반환될까요?\n",
    "soup.find_all('span')[-1].text"
   ]
  },
  {
   "cell_type": "markdown",
   "metadata": {},
   "source": [
    "## Navigation 기능 사용하기"
   ]
  },
  {
   "cell_type": "markdown",
   "metadata": {},
   "source": [
    "자식 태그에 접근하기"
   ]
  },
  {
   "cell_type": "code",
   "execution_count": 17,
   "metadata": {},
   "outputs": [
    {
     "data": {
      "text/plain": [
       "['\\n', <title>Online Data Scraping Test</title>, '\\n']"
      ]
     },
     "execution_count": 17,
     "metadata": {},
     "output_type": "execute_result"
    }
   ],
   "source": [
    "# 아래의 경우, .contents 는 head 태그의 모든 자식 원소를 리스트 형태로 반환합니다.\n",
    "soup.head.contents"
   ]
  },
  {
   "cell_type": "code",
   "execution_count": 18,
   "metadata": {},
   "outputs": [
    {
     "data": {
      "text/plain": [
       "<title>Online Data Scraping Test</title>"
      ]
     },
     "execution_count": 18,
     "metadata": {},
     "output_type": "execute_result"
    }
   ],
   "source": [
    "soup.head.contents[1]"
   ]
  },
  {
   "cell_type": "code",
   "execution_count": 19,
   "metadata": {},
   "outputs": [
    {
     "data": {
      "text/plain": [
       "'Online Data Scraping Test'"
      ]
     },
     "execution_count": 19,
     "metadata": {},
     "output_type": "execute_result"
    }
   ],
   "source": [
    "soup.head.contents[1].text"
   ]
  },
  {
   "cell_type": "markdown",
   "metadata": {},
   "source": [
    "부모 태그에 접근하기"
   ]
  },
  {
   "cell_type": "code",
   "execution_count": 20,
   "metadata": {},
   "outputs": [
    {
     "data": {
      "text/plain": [
       "<head>\n",
       "<title>Online Data Scraping Test</title>\n",
       "</head>"
      ]
     },
     "execution_count": 20,
     "metadata": {},
     "output_type": "execute_result"
    }
   ],
   "source": [
    "soup.title.parent"
   ]
  },
  {
   "cell_type": "markdown",
   "metadata": {},
   "source": [
    "형제자매 태그에 접근하기"
   ]
  },
  {
   "cell_type": "code",
   "execution_count": 21,
   "metadata": {},
   "outputs": [
    {
     "data": {
      "text/plain": [
       "<p class=\"title\">HTML code for the lecture</p>"
      ]
     },
     "execution_count": 21,
     "metadata": {},
     "output_type": "execute_result"
    }
   ],
   "source": [
    "soup.find('p',attrs={'class':'title'})"
   ]
  },
  {
   "cell_type": "code",
   "execution_count": 23,
   "metadata": {},
   "outputs": [
    {
     "data": {
      "text/plain": [
       "'\\n'"
      ]
     },
     "execution_count": 23,
     "metadata": {},
     "output_type": "execute_result"
    }
   ],
   "source": [
    "# 아래 코드는 '\\n'을 반환합니다.\n",
    "soup.find('p',attrs={'class':'title'}).next_sibling"
   ]
  },
  {
   "cell_type": "code",
   "execution_count": 24,
   "metadata": {},
   "outputs": [
    {
     "data": {
      "text/plain": [
       "<p class=\"description\">This code will be used as HTML source code for the BS lecture. For more detailed information about BS, you can click\n",
       "\t\t\t<a class=\"BS_English\" href=\"http://www.pythonforbeginners.com/python-on-the-web/beautifulsoup-4-python/\"> BS4 for beginners</a></p>"
      ]
     },
     "execution_count": 24,
     "metadata": {},
     "output_type": "execute_result"
    }
   ],
   "source": [
    "# 그 다음 p 태그에 접근하기 위해서는 next_sibling 키워드를 다시 한번 적용합니다.\n",
    "soup.find('p',attrs={'class':'title'}).next_sibling.next_sibling"
   ]
  },
  {
   "cell_type": "markdown",
   "metadata": {},
   "source": [
    "## 태그 속성의 값 추출하기: get() 함수 사용"
   ]
  },
  {
   "cell_type": "code",
   "execution_count": 25,
   "metadata": {},
   "outputs": [
    {
     "data": {
      "text/plain": [
       "'http://www.pythonforbeginners.com/python-on-the-web/beautifulsoup-4-python/'"
      ]
     },
     "execution_count": 25,
     "metadata": {},
     "output_type": "execute_result"
    }
   ],
   "source": [
    "# get() 함수의 인자로 추출하고자 하는 값을 저장하고 있는 속성의 이름을 입력합니다.\n",
    "soup.a.get('href')"
   ]
  }
 ],
 "metadata": {
  "kernelspec": {
   "display_name": "Python 3 (ipykernel)",
   "language": "python",
   "name": "python3"
  },
  "language_info": {
   "codemirror_mode": {
    "name": "ipython",
    "version": 3
   },
   "file_extension": ".py",
   "mimetype": "text/x-python",
   "name": "python",
   "nbconvert_exporter": "python",
   "pygments_lexer": "ipython3",
   "version": "3.8.5"
  }
 },
 "nbformat": 4,
 "nbformat_minor": 2
}
