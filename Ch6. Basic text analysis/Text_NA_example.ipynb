{
 "cells": [
  {
   "cell_type": "markdown",
   "metadata": {},
   "source": [
    "본 코드에서는 아래의 예제 텍스트에 대해 명사 단어들로 구성된 네트워크를 생성하고, 그에 대한 기본적인 네트워크 분석을 수행합니다. <br>\n",
    "노드: 명사 단어들 <br>\n",
    "tie: 두 단어가 동일 문장에서 함께 사용된 경우 tie가 존재한다고 정의"
   ]
  },
  {
   "cell_type": "code",
   "execution_count": 1,
   "metadata": {},
   "outputs": [],
   "source": [
    "text1 = 'The carrot is one of vegetables. Research shows vegetables are good for health. Thus, carrots are also good for health. Your health can be improved with carrots.'"
   ]
  },
  {
   "cell_type": "code",
   "execution_count": 3,
   "metadata": {},
   "outputs": [],
   "source": [
    "# 텍스트를 문장 단위로 구분하기 위한 함수, 정규표현식을 사용\n",
    "import re\n",
    "def get_sentences(text):\n",
    "    sentences = re.split(r'[\\.\\?\\!]\\s+', text)\n",
    "    return sentences"
   ]
  },
  {
   "cell_type": "code",
   "execution_count": 4,
   "metadata": {},
   "outputs": [
    {
     "name": "stdout",
     "output_type": "stream",
     "text": [
      "['the carrot is one of vegetables', 'research shows vegetables are good for health', 'thus, carrots are also good for health', 'your health can be improved with carrots.']\n"
     ]
    }
   ],
   "source": [
    "sentences = get_sentences(text1.lower()) # 문장 단위로 구분\n",
    "print(sentences)"
   ]
  },
  {
   "cell_type": "markdown",
   "metadata": {},
   "source": [
    "### 각 문장에 대한 전처리 => 명사 단어를 추출"
   ]
  },
  {
   "cell_type": "code",
   "execution_count": 5,
   "metadata": {},
   "outputs": [
    {
     "name": "stdout",
     "output_type": "stream",
     "text": [
      "[[('the', 'DT'), ('carrot', 'NN'), ('is', 'VBZ'), ('one', 'CD'), ('of', 'IN'), ('vegetables', 'NNS')], [('research', 'NN'), ('shows', 'VBZ'), ('vegetables', 'NNS'), ('are', 'VBP'), ('good', 'JJ'), ('for', 'IN'), ('health', 'NN')], [('thus', 'RB'), ('carrots', 'NNS'), ('are', 'VBP'), ('also', 'RB'), ('good', 'JJ'), ('for', 'IN'), ('health', 'NN')], [('your', 'PRP$'), ('health', 'NN'), ('can', 'MD'), ('be', 'VB'), ('improved', 'VBN'), ('with', 'IN'), ('carrots', 'NNS')]]\n"
     ]
    }
   ],
   "source": [
    "import nltk\n",
    "filtered_sentences = [re.sub(r'[^\\s\\d\\w]','',sent) for sent in sentences] # 각 문장에 존재하는 기호 제거\n",
    "tagged_words = [nltk.pos_tag(nltk.word_tokenize(sent)) for sent in filtered_sentences] # 단어 단위로 구분 후, PoS tagging\n",
    "print(tagged_words)"
   ]
  },
  {
   "cell_type": "markdown",
   "metadata": {},
   "source": [
    "tagged_words에서 명사 단어들만 추출 후, 원형찾기(lemmatization) 작업 수행"
   ]
  },
  {
   "cell_type": "code",
   "execution_count": 6,
   "metadata": {},
   "outputs": [
    {
     "name": "stdout",
     "output_type": "stream",
     "text": [
      "[['carrot', 'vegetable'], ['research', 'vegetable', 'health'], ['carrot', 'health'], ['health', 'carrot']]\n"
     ]
    }
   ],
   "source": [
    "final_sentences = []\n",
    "wlem = nltk.WordNetLemmatizer()\n",
    "for sent in tagged_words:\n",
    "    noun_sent = []\n",
    "    for word, pos in sent:\n",
    "        if 'NN' in pos:\n",
    "            noun_sent.append(wlem.lemmatize(word))\n",
    "    final_sentences.append(noun_sent)\n",
    "print(final_sentences)"
   ]
  },
  {
   "cell_type": "markdown",
   "metadata": {},
   "source": [
    "### 전체 단어 목록 추출"
   ]
  },
  {
   "cell_type": "code",
   "execution_count": 7,
   "metadata": {},
   "outputs": [
    {
     "name": "stdout",
     "output_type": "stream",
     "text": [
      "{'health', 'carrot', 'vegetable', 'research'}\n"
     ]
    }
   ],
   "source": [
    "total_nouns = []\n",
    "for words in final_sentences:\n",
    "    total_nouns.extend(words)\n",
    "unique_nouns = set(total_nouns)\n",
    "print(unique_nouns)"
   ]
  },
  {
   "cell_type": "markdown",
   "metadata": {},
   "source": [
    "## 위의 단어 정보와 문장 정보를 사용하여 텍스트에 대한 네트워크 생성"
   ]
  },
  {
   "cell_type": "code",
   "execution_count": 7,
   "metadata": {},
   "outputs": [],
   "source": [
    "import networkx as nx\n",
    "g = nx.Graph() # Empty network 생성\n",
    "g.add_nodes_from(unique_nouns) # 노드 추가"
   ]
  },
  {
   "cell_type": "markdown",
   "metadata": {},
   "source": [
    "#### 문장 정보를 이용하여 두 단어 사이의 타이 정보 추출 후, 네트워크에 추가"
   ]
  },
  {
   "cell_type": "code",
   "execution_count": 8,
   "metadata": {},
   "outputs": [],
   "source": [
    "import itertools\n",
    "for pair in list(itertools.combinations(list(unique_nouns), 2)):\n",
    "    if pair[0] == pair[1]:\n",
    "        continue\n",
    "    for sent in final_sentences:\n",
    "        if pair[0] in sent and pair[1] in sent:\n",
    "            if pair in list(g.edges()) or (pair[1],pair[0]) in list(g.edges()): \n",
    "                g[pair[0]][pair[1]]['weight'] += 1\n",
    "            else:\n",
    "                g.add_edge(pair[0], pair[1], weight=1 )"
   ]
  },
  {
   "cell_type": "markdown",
   "metadata": {},
   "source": [
    "## 네트워크 분석"
   ]
  },
  {
   "cell_type": "markdown",
   "metadata": {},
   "source": [
    "노드 목록 보기"
   ]
  },
  {
   "cell_type": "code",
   "execution_count": 9,
   "metadata": {},
   "outputs": [
    {
     "name": "stdout",
     "output_type": "stream",
     "text": [
      "['carrot', 'research', 'vegetable', 'health']\n"
     ]
    }
   ],
   "source": [
    "print(g.nodes())"
   ]
  },
  {
   "cell_type": "markdown",
   "metadata": {},
   "source": [
    "타이 목록 보기"
   ]
  },
  {
   "cell_type": "code",
   "execution_count": 10,
   "metadata": {},
   "outputs": [
    {
     "name": "stdout",
     "output_type": "stream",
     "text": [
      "[('carrot', 'vegetable'), ('carrot', 'health'), ('research', 'vegetable'), ('research', 'health'), ('vegetable', 'health')]\n"
     ]
    }
   ],
   "source": [
    "print(g.edges())"
   ]
  },
  {
   "cell_type": "markdown",
   "metadata": {},
   "source": [
    "특정 단어, 여기서는 carrot과 연결된 다른 단어 정보 보기"
   ]
  },
  {
   "cell_type": "code",
   "execution_count": 14,
   "metadata": {},
   "outputs": [
    {
     "name": "stdout",
     "output_type": "stream",
     "text": [
      "{'vegetable': {'weight': 1}, 'health': {'weight': 2}}\n"
     ]
    }
   ],
   "source": [
    "print(g['carrot'])"
   ]
  },
  {
   "cell_type": "markdown",
   "metadata": {},
   "source": [
    "matplotlib을 이용해서 시각화 하기"
   ]
  },
  {
   "cell_type": "code",
   "execution_count": 13,
   "metadata": {},
   "outputs": [
    {
     "data": {
      "image/png": "[encoded data removed]",
      "text/plain": [
       "<Figure size 432x288 with 1 Axes>"
      ]
     },
     "metadata": {},
     "output_type": "display_data"
    }
   ],
   "source": [
    "import matplotlib.pyplot as plt\n",
    "nx.draw_networkx(g)\n",
    "plt.show()"
   ]
  },
  {
   "cell_type": "markdown",
   "metadata": {},
   "source": [
    "### 각 단어들의 중심도 계산하기"
   ]
  },
  {
   "cell_type": "markdown",
   "metadata": {},
   "source": [
    "#### Degree centrality"
   ]
  },
  {
   "cell_type": "code",
   "execution_count": 15,
   "metadata": {},
   "outputs": [
    {
     "data": {
      "text/plain": [
       "{'carrot': 0.6666666666666666,\n",
       " 'research': 0.6666666666666666,\n",
       " 'vegetable': 1.0,\n",
       " 'health': 1.0}"
      ]
     },
     "execution_count": 15,
     "metadata": {},
     "output_type": "execute_result"
    }
   ],
   "source": [
    "nx.degree_centrality(g)"
   ]
  },
  {
   "cell_type": "markdown",
   "metadata": {},
   "source": [
    "#### Betweenness centrality"
   ]
  },
  {
   "cell_type": "code",
   "execution_count": 16,
   "metadata": {},
   "outputs": [
    {
     "data": {
      "text/plain": [
       "{'carrot': 0.0,\n",
       " 'research': 0.0,\n",
       " 'vegetable': 0.16666666666666666,\n",
       " 'health': 0.16666666666666666}"
      ]
     },
     "execution_count": 16,
     "metadata": {},
     "output_type": "execute_result"
    }
   ],
   "source": [
    "nx.betweenness_centrality(g)"
   ]
  },
  {
   "cell_type": "markdown",
   "metadata": {},
   "source": [
    "#### Closeness centrality"
   ]
  },
  {
   "cell_type": "code",
   "execution_count": 17,
   "metadata": {},
   "outputs": [
    {
     "data": {
      "text/plain": [
       "{'carrot': 0.75, 'research': 0.75, 'vegetable': 1.0, 'health': 1.0}"
      ]
     },
     "execution_count": 17,
     "metadata": {},
     "output_type": "execute_result"
    }
   ],
   "source": [
    "nx.closeness_centrality(g)"
   ]
  },
  {
   "cell_type": "markdown",
   "metadata": {},
   "source": [
    "#### Eigenvector centrality"
   ]
  },
  {
   "cell_type": "code",
   "execution_count": 78,
   "metadata": {},
   "outputs": [
    {
     "data": {
      "text/plain": [
       "{'carrot': 0.43516217270028296,\n",
       " 'health': 0.5573453897277424,\n",
       " 'research': 0.43516217270028296,\n",
       " 'vegetable': 0.5573453897277424}"
      ]
     },
     "execution_count": 78,
     "metadata": {},
     "output_type": "execute_result"
    }
   ],
   "source": [
    "nx.eigenvector_centrality(g)"
   ]
  },
  {
   "cell_type": "markdown",
   "metadata": {},
   "source": [
    "Gephi 시각화를 위해 graphml 파일로 저장하기"
   ]
  },
  {
   "cell_type": "code",
   "execution_count": null,
   "metadata": {
    "collapsed": true
   },
   "outputs": [],
   "source": [
    "nx.write_graphml(g, 'example.graphml')"
   ]
  },
  {
   "cell_type": "markdown",
   "metadata": {
    "collapsed": true
   },
   "source": [
    "# 인접 행렬을 사용해서 네트워크 생성하기\n",
    "이부분은 sklearn 부분을 공부한 후에 보세요."
   ]
  },
  {
   "cell_type": "code",
   "execution_count": 8,
   "metadata": {},
   "outputs": [],
   "source": [
    "sentences_filtered = [' '.join(sentence) for sentence in final_sentences]"
   ]
  },
  {
   "cell_type": "code",
   "execution_count": 9,
   "metadata": {},
   "outputs": [
    {
     "data": {
      "text/plain": [
       "'carrot vegetable'"
      ]
     },
     "execution_count": 9,
     "metadata": {},
     "output_type": "execute_result"
    }
   ],
   "source": [
    "sentences_filtered[0]"
   ]
  },
  {
   "cell_type": "code",
   "execution_count": 10,
   "metadata": {},
   "outputs": [],
   "source": [
    "from sklearn.feature_extraction.text import CountVectorizer # frequency based DTM\n",
    "def tf_extractor(corpus): \n",
    "    # returns a frequency-based DTM\n",
    "    vectorizer = CountVectorizer(min_df=1, ngram_range=(1,1))\n",
    "    # min_df: minimum document frequency threshold\n",
    "         # if min_df = 1 -> 최소 적어도 하나의 문서에서 사용된 단어들은 모두 포함\n",
    "    # ngram_range=(1,1) -> unigram 만 포함\n",
    "    # ngram_range=(1,3) -> unigram, bi-gram, tri-gram 까지 고려\n",
    "    features = vectorizer.fit_transform(corpus) # transform texts to a frequency matrix\n",
    "    return vectorizer, features  "
   ]
  },
  {
   "cell_type": "code",
   "execution_count": 11,
   "metadata": {},
   "outputs": [],
   "source": [
    "vectorizer_tf, STM_tf = tf_extractor(sentences_filtered)"
   ]
  },
  {
   "cell_type": "code",
   "execution_count": 12,
   "metadata": {},
   "outputs": [],
   "source": [
    "import numpy as np"
   ]
  },
  {
   "cell_type": "code",
   "execution_count": 13,
   "metadata": {},
   "outputs": [],
   "source": [
    "# 텍스트 데이터에 대한 DTM (Document Term Matrix)를 구합니다.\n",
    "STM = np.array(STM_tf.todense())"
   ]
  },
  {
   "cell_type": "code",
   "execution_count": 14,
   "metadata": {},
   "outputs": [],
   "source": [
    "import pandas as pd\n",
    "def display_features(features, feature_names):\n",
    "    df = pd.DataFrame(data=features, columns=feature_names)\n",
    "    #df.to_excel('test1.xlsx')\n",
    "    print(df)"
   ]
  },
  {
   "cell_type": "code",
   "execution_count": 16,
   "metadata": {},
   "outputs": [
    {
     "data": {
      "text/plain": [
       "array(['carrot', 'health', 'research', 'vegetable'], dtype=object)"
      ]
     },
     "execution_count": 16,
     "metadata": {},
     "output_type": "execute_result"
    }
   ],
   "source": [
    "feature_names = vectorizer_tf.get_feature_names_out()\n",
    "feature_names"
   ]
  },
  {
   "cell_type": "code",
   "execution_count": 17,
   "metadata": {},
   "outputs": [
    {
     "name": "stdout",
     "output_type": "stream",
     "text": [
      "   carrot  health  research  vegetable\n",
      "0       1       0         0          1\n",
      "1       0       1         1          1\n",
      "2       1       1         0          0\n",
      "3       1       1         0          0\n"
     ]
    }
   ],
   "source": [
    "display_features(STM, feature_names)"
   ]
  },
  {
   "cell_type": "code",
   "execution_count": 20,
   "metadata": {},
   "outputs": [],
   "source": [
    "# 문장을 기준으로 단어들의 공동 출현 행렬 생성 => 이것이 네트워크를 생성하는데\n",
    "# 사용되는 인접행렬이 됩니다. \n",
    "words_coccurrence = np.dot(STM.T, STM)"
   ]
  },
  {
   "cell_type": "code",
   "execution_count": 19,
   "metadata": {},
   "outputs": [
    {
     "data": {
      "text/plain": [
       "array([[3, 2, 0, 1],\n",
       "       [2, 3, 1, 1],\n",
       "       [0, 1, 1, 1],\n",
       "       [1, 1, 1, 2]], dtype=int64)"
      ]
     },
     "execution_count": 19,
     "metadata": {},
     "output_type": "execute_result"
    }
   ],
   "source": [
    "words_coccurrence"
   ]
  },
  {
   "cell_type": "code",
   "execution_count": 22,
   "metadata": {},
   "outputs": [
    {
     "data": {
      "text/plain": [
       "array([[0, 2, 0, 1],\n",
       "       [2, 0, 1, 1],\n",
       "       [0, 1, 0, 1],\n",
       "       [1, 1, 1, 0]], dtype=int64)"
      ]
     },
     "execution_count": 22,
     "metadata": {},
     "output_type": "execute_result"
    }
   ],
   "source": [
    "# 자기 자신에 대한 연결 정보는 사용하지 않기 때문에 대각 셀의 값은 0으로 변경합니다.\n",
    "np.fill_diagonal(words_coccurrence,0)\n",
    "words_coccurrence"
   ]
  },
  {
   "cell_type": "code",
   "execution_count": 23,
   "metadata": {},
   "outputs": [],
   "source": [
    "import networkx as nx\n",
    "import matplotlib.pyplot as plt "
   ]
  },
  {
   "cell_type": "code",
   "execution_count": 24,
   "metadata": {},
   "outputs": [],
   "source": [
    "# 위의 인접행렬을 이용해서 네트워크를 생성합니다.\n",
    "g = nx.convert_matrix.from_numpy_array(words_coccurrence)"
   ]
  },
  {
   "cell_type": "code",
   "execution_count": 26,
   "metadata": {},
   "outputs": [
    {
     "data": {
      "image/png": "[encoded data removed]",
      "text/plain": [
       "<Figure size 432x288 with 1 Axes>"
      ]
     },
     "metadata": {},
     "output_type": "display_data"
    }
   ],
   "source": [
    "# 시각화 하기\n",
    "nx.draw_networkx(g)\n",
    "plt.show()"
   ]
  },
  {
   "cell_type": "markdown",
   "metadata": {},
   "source": [
    "위의 그림을 보면 단어들의 레이블 정보가 반영이 안된 것을 알 수 있습니다. 단어들의 레이블 정보를 추가해 보겠습니다. "
   ]
  },
  {
   "cell_type": "code",
   "execution_count": 27,
   "metadata": {},
   "outputs": [],
   "source": [
    "mapping = {}\n",
    "for k, word in enumerate(feature_names):\n",
    "    mapping[k]=word"
   ]
  },
  {
   "cell_type": "code",
   "execution_count": 28,
   "metadata": {},
   "outputs": [
    {
     "data": {
      "text/plain": [
       "{0: 'carrot', 1: 'health', 2: 'research', 3: 'vegetable'}"
      ]
     },
     "execution_count": 28,
     "metadata": {},
     "output_type": "execute_result"
    }
   ],
   "source": [
    "mapping"
   ]
  },
  {
   "cell_type": "code",
   "execution_count": 30,
   "metadata": {},
   "outputs": [],
   "source": [
    "# 위의 mapping 정보를 사용해서 단어들의 레이블 정보를 추가합니다. \n",
    "g1 = nx.relabel_nodes(g, mapping)"
   ]
  },
  {
   "cell_type": "code",
   "execution_count": 31,
   "metadata": {},
   "outputs": [
    {
     "data": {
      "text/plain": [
       "NodeView(('carrot', 'health', 'research', 'vegetable'))"
      ]
     },
     "execution_count": 31,
     "metadata": {},
     "output_type": "execute_result"
    }
   ],
   "source": [
    "g1.nodes()"
   ]
  },
  {
   "cell_type": "code",
   "execution_count": 32,
   "metadata": {},
   "outputs": [
    {
     "data": {
      "image/png": "[encoded data removed]",
      "text/plain": [
       "<Figure size 432x288 with 1 Axes>"
      ]
     },
     "metadata": {},
     "output_type": "display_data"
    }
   ],
   "source": [
    "nx.draw_networkx(g1)\n",
    "plt.show()"
   ]
  },
  {
   "cell_type": "code",
   "execution_count": 34,
   "metadata": {},
   "outputs": [
    {
     "data": {
      "text/plain": [
       "AtlasView({'health': {'weight': 2}, 'vegetable': {'weight': 1}})"
      ]
     },
     "execution_count": 34,
     "metadata": {},
     "output_type": "execute_result"
    }
   ],
   "source": [
    "# 'carrot'에 대한 정보 보기\n",
    "g1['carrot']"
   ]
  },
  {
   "cell_type": "code",
   "execution_count": null,
   "metadata": {},
   "outputs": [],
   "source": []
  }
 ],
 "metadata": {
  "kernelspec": {
   "display_name": "Python 3 (ipykernel)",
   "language": "python",
   "name": "python3"
  },
  "language_info": {
   "codemirror_mode": {
    "name": "ipython",
    "version": 3
   },
   "file_extension": ".py",
   "mimetype": "text/x-python",
   "name": "python",
   "nbconvert_exporter": "python",
   "pygments_lexer": "ipython3",
   "version": "3.8.5"
  }
 },
 "nbformat": 4,
 "nbformat_minor": 2
}
