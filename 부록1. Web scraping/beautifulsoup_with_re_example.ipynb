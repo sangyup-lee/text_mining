{
 "cells": [
  {
   "cell_type": "code",
   "execution_count": 1,
   "metadata": {},
   "outputs": [],
   "source": [
    "# 예제 소스 코드\n",
    "html = '<html lang=\"ko\"> \\\n",
    "        <head> \\\n",
    "            <title> Online Data Scraping Test</title> \\\n",
    "        </head> \\\n",
    "        <span class=\"red_price\">35.6</span>\\\n",
    "        <span class=\"blue_price\">37.5</span>\\\n",
    "        <spang class=\"blue_price\">43.2</spang>\\\n",
    "        <spark method=\"manual\">24.3</spark>\\\n",
    "        </html>'"
   ]
  },
  {
   "cell_type": "code",
   "execution_count": 2,
   "metadata": {},
   "outputs": [
    {
     "name": "stdout",
     "output_type": "stream",
     "text": [
      "<html lang=\"ko\">         <head>             <title> Online Data Scraping Test</title>         </head>         <span class=\"red_price\">35.6</span>        <span class=\"blue_price\">37.5</span>        <spang class=\"blue_price\">43.2</spang>        <spark method=\"manual\">24.3</spark>        </html>\n"
     ]
    }
   ],
   "source": [
    "print(html)"
   ]
  },
  {
   "cell_type": "code",
   "execution_count": 3,
   "metadata": {},
   "outputs": [],
   "source": [
    "from bs4 import BeautifulSoup"
   ]
  },
  {
   "cell_type": "code",
   "execution_count": 4,
   "metadata": {},
   "outputs": [],
   "source": [
    "soup = BeautifulSoup(html, 'lxml')"
   ]
  },
  {
   "cell_type": "code",
   "execution_count": 5,
   "metadata": {},
   "outputs": [
    {
     "data": {
      "text/plain": [
       "[]"
      ]
     },
     "execution_count": 5,
     "metadata": {},
     "output_type": "execute_result"
    }
   ],
   "source": [
    "# sp로 시작하는 모든 태그들을 찾기 위해 아래와 같이 코딩해 봅니다.\n",
    "soup.find_all('sp')"
   ]
  },
  {
   "cell_type": "markdown",
   "metadata": {},
   "source": [
    "## BeautifulSoup에서 정규표현식 사용하기"
   ]
  },
  {
   "cell_type": "code",
   "execution_count": 6,
   "metadata": {},
   "outputs": [],
   "source": [
    "import re"
   ]
  },
  {
   "cell_type": "code",
   "execution_count": 7,
   "metadata": {},
   "outputs": [
    {
     "data": {
      "text/plain": [
       "[<span class=\"red_price\">35.6</span>,\n",
       " <span class=\"blue_price\">37.5</span>,\n",
       " <spang class=\"blue_price\">43.2</spang>,\n",
       " <spark method=\"manual\">24.3</spark>]"
      ]
     },
     "execution_count": 7,
     "metadata": {},
     "output_type": "execute_result"
    }
   ],
   "source": [
    "# re 모듈에서 제공되는 compile() 함수를 이용해서 정규식 패턴을 만듭니다.\n",
    "# 그리고 그것을 find_all() 함수의 인자로 입력합니다.\n",
    "soup.find_all(re.compile(r'sp'))"
   ]
  },
  {
   "cell_type": "code",
   "execution_count": 8,
   "metadata": {},
   "outputs": [
    {
     "data": {
      "text/plain": [
       "[<span class=\"red_price\">35.6</span>, <span class=\"blue_price\">37.5</span>]"
      ]
     },
     "execution_count": 8,
     "metadata": {},
     "output_type": "execute_result"
    }
   ],
   "source": [
    "# 속성의 값을 정규표현식을 이용해서 표현하기\n",
    "soup.find_all('span', attrs={'class':re.compile(r'price')})"
   ]
  },
  {
   "cell_type": "code",
   "execution_count": 9,
   "metadata": {},
   "outputs": [
    {
     "data": {
      "text/plain": [
       "[<span class=\"red_price\">35.6</span>,\n",
       " <span class=\"blue_price\">37.5</span>,\n",
       " <spang class=\"blue_price\">43.2</spang>]"
      ]
     },
     "execution_count": 9,
     "metadata": {},
     "output_type": "execute_result"
    }
   ],
   "source": [
    "soup.find_all(attrs={'class':re.compile(r'price')}) "
   ]
  }
 ],
 "metadata": {
  "kernelspec": {
   "display_name": "Python 3 (ipykernel)",
   "language": "python",
   "name": "python3"
  },
  "language_info": {
   "codemirror_mode": {
    "name": "ipython",
    "version": 3
   },
   "file_extension": ".py",
   "mimetype": "text/x-python",
   "name": "python",
   "nbconvert_exporter": "python",
   "pygments_lexer": "ipython3",
   "version": "3.8.5"
  }
 },
 "nbformat": 4,
 "nbformat_minor": 2
}
