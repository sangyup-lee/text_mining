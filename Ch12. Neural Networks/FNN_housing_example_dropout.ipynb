{
 "cells": [
  {
   "cell_type": "code",
   "execution_count": 1,
   "metadata": {},
   "outputs": [],
   "source": [
    "import tensorflow as tf\n",
    "from tensorflow import keras"
   ]
  },
  {
   "cell_type": "code",
   "execution_count": 2,
   "metadata": {},
   "outputs": [],
   "source": [
    "(train_data, train_targets), (test_data, test_targets) =keras.datasets.boston_housing.load_data()"
   ]
  },
  {
   "cell_type": "code",
   "execution_count": 3,
   "metadata": {},
   "outputs": [],
   "source": [
    "mean = train_data.mean(axis=0)\n",
    "train_data -= mean\n",
    "std = train_data.std(axis=0)\n",
    "train_data /= std\n",
    "test_data -= mean\n",
    "test_data /= std"
   ]
  },
  {
   "cell_type": "code",
   "execution_count": 4,
   "metadata": {},
   "outputs": [],
   "source": [
    "from tensorflow.keras import models\n",
    "from tensorflow.keras import layers"
   ]
  },
  {
   "cell_type": "code",
   "execution_count": 5,
   "metadata": {},
   "outputs": [
    {
     "data": {
      "text/plain": [
       "(404, 13)"
      ]
     },
     "execution_count": 5,
     "metadata": {},
     "output_type": "execute_result"
    }
   ],
   "source": [
    "train_data.shape"
   ]
  },
  {
   "cell_type": "code",
   "execution_count": 5,
   "metadata": {},
   "outputs": [],
   "source": [
    "model = models.Sequential()"
   ]
  },
  {
   "cell_type": "code",
   "execution_count": 6,
   "metadata": {},
   "outputs": [],
   "source": [
    "model.add(layers.Dense(64, activation = 'relu', kernel_initializer = 'glorot_uniform', input_shape=(train_data.shape[1],)))"
   ]
  },
  {
   "cell_type": "markdown",
   "metadata": {},
   "source": [
    "Dropout 적용하기"
   ]
  },
  {
   "cell_type": "code",
   "execution_count": 7,
   "metadata": {},
   "outputs": [],
   "source": [
    "model.add(layers.Dropout(0.3))"
   ]
  },
  {
   "cell_type": "code",
   "execution_count": 8,
   "metadata": {},
   "outputs": [],
   "source": [
    "model.add(layers.Dense(64, activation = 'relu', kernel_initializer = 'glorot_uniform'))"
   ]
  },
  {
   "cell_type": "code",
   "execution_count": 9,
   "metadata": {},
   "outputs": [],
   "source": [
    "model.add(layers.Dense(1))"
   ]
  },
  {
   "cell_type": "code",
   "execution_count": 10,
   "metadata": {},
   "outputs": [
    {
     "name": "stdout",
     "output_type": "stream",
     "text": [
      "Model: \"sequential\"\n",
      "_________________________________________________________________\n",
      " Layer (type)                Output Shape              Param #   \n",
      "=================================================================\n",
      " dense (Dense)               (None, 64)                896       \n",
      "                                                                 \n",
      " dropout (Dropout)           (None, 64)                0         \n",
      "                                                                 \n",
      " dense_1 (Dense)             (None, 64)                4160      \n",
      "                                                                 \n",
      " dense_2 (Dense)             (None, 1)                 65        \n",
      "                                                                 \n",
      "=================================================================\n",
      "Total params: 5,121\n",
      "Trainable params: 5,121\n",
      "Non-trainable params: 0\n",
      "_________________________________________________________________\n"
     ]
    }
   ],
   "source": [
    "model.summary()"
   ]
  },
  {
   "cell_type": "code",
   "execution_count": 11,
   "metadata": {},
   "outputs": [],
   "source": [
    "rmsprop = tf.keras.optimizers.RMSprop(learning_rate=0.01, rho=0.85, momentum=0.9)"
   ]
  },
  {
   "cell_type": "code",
   "execution_count": 12,
   "metadata": {},
   "outputs": [],
   "source": [
    "model.compile(optimizer=rmsprop, loss='mse')"
   ]
  },
  {
   "cell_type": "code",
   "execution_count": 13,
   "metadata": {
    "scrolled": true
   },
   "outputs": [
    {
     "name": "stdout",
     "output_type": "stream",
     "text": [
      "Epoch 1/100\n",
      "7/7 [==============================] - 1s 3ms/step - loss: 666.7587\n",
      "Epoch 2/100\n",
      "7/7 [==============================] - 0s 3ms/step - loss: 172.1823\n",
      "Epoch 3/100\n",
      "7/7 [==============================] - 0s 3ms/step - loss: 111.9805\n",
      "Epoch 4/100\n",
      "7/7 [==============================] - 0s 4ms/step - loss: 109.4017\n",
      "Epoch 5/100\n",
      "7/7 [==============================] - 0s 4ms/step - loss: 64.7200\n",
      "Epoch 6/100\n",
      "7/7 [==============================] - 0s 4ms/step - loss: 40.5900\n",
      "Epoch 7/100\n",
      "7/7 [==============================] - 0s 4ms/step - loss: 28.1596\n",
      "Epoch 8/100\n",
      "7/7 [==============================] - 0s 4ms/step - loss: 31.0479\n",
      "Epoch 9/100\n",
      "7/7 [==============================] - 0s 4ms/step - loss: 33.3683\n",
      "Epoch 10/100\n",
      "7/7 [==============================] - 0s 3ms/step - loss: 31.2908\n",
      "Epoch 11/100\n",
      "7/7 [==============================] - 0s 3ms/step - loss: 35.3058\n",
      "Epoch 12/100\n",
      "7/7 [==============================] - 0s 3ms/step - loss: 31.0240\n",
      "Epoch 13/100\n",
      "7/7 [==============================] - 0s 4ms/step - loss: 25.8530\n",
      "Epoch 14/100\n",
      "7/7 [==============================] - 0s 4ms/step - loss: 20.6756\n",
      "Epoch 15/100\n",
      "7/7 [==============================] - 0s 3ms/step - loss: 19.3416\n",
      "Epoch 16/100\n",
      "7/7 [==============================] - 0s 3ms/step - loss: 27.6667\n",
      "Epoch 17/100\n",
      "7/7 [==============================] - 0s 3ms/step - loss: 24.3861\n",
      "Epoch 18/100\n",
      "7/7 [==============================] - 0s 2ms/step - loss: 18.4772\n",
      "Epoch 19/100\n",
      "7/7 [==============================] - 0s 2ms/step - loss: 17.8294\n",
      "Epoch 20/100\n",
      "7/7 [==============================] - 0s 2ms/step - loss: 28.8306\n",
      "Epoch 21/100\n",
      "7/7 [==============================] - 0s 4ms/step - loss: 22.9693\n",
      "Epoch 22/100\n",
      "7/7 [==============================] - 0s 4ms/step - loss: 22.3378\n",
      "Epoch 23/100\n",
      "7/7 [==============================] - 0s 4ms/step - loss: 15.3974\n",
      "Epoch 24/100\n",
      "7/7 [==============================] - 0s 3ms/step - loss: 19.0203\n",
      "Epoch 25/100\n",
      "7/7 [==============================] - 0s 2ms/step - loss: 17.1338\n",
      "Epoch 26/100\n",
      "7/7 [==============================] - 0s 2ms/step - loss: 21.8191\n",
      "Epoch 27/100\n",
      "7/7 [==============================] - 0s 2ms/step - loss: 21.3431\n",
      "Epoch 28/100\n",
      "7/7 [==============================] - 0s 2ms/step - loss: 20.8934\n",
      "Epoch 29/100\n",
      "7/7 [==============================] - 0s 2ms/step - loss: 14.2085\n",
      "Epoch 30/100\n",
      "7/7 [==============================] - 0s 2ms/step - loss: 15.0162\n",
      "Epoch 31/100\n",
      "7/7 [==============================] - 0s 2ms/step - loss: 16.0350\n",
      "Epoch 32/100\n",
      "7/7 [==============================] - 0s 2ms/step - loss: 19.2822\n",
      "Epoch 33/100\n",
      "7/7 [==============================] - 0s 2ms/step - loss: 17.0071\n",
      "Epoch 34/100\n",
      "7/7 [==============================] - 0s 2ms/step - loss: 15.9927\n",
      "Epoch 35/100\n",
      "7/7 [==============================] - 0s 2ms/step - loss: 18.2327\n",
      "Epoch 36/100\n",
      "7/7 [==============================] - 0s 2ms/step - loss: 17.0883\n",
      "Epoch 37/100\n",
      "7/7 [==============================] - 0s 2ms/step - loss: 15.6106\n",
      "Epoch 38/100\n",
      "7/7 [==============================] - 0s 2ms/step - loss: 15.5931\n",
      "Epoch 39/100\n",
      "7/7 [==============================] - 0s 2ms/step - loss: 16.7119\n",
      "Epoch 40/100\n",
      "7/7 [==============================] - 0s 2ms/step - loss: 16.2233\n",
      "Epoch 41/100\n",
      "7/7 [==============================] - 0s 2ms/step - loss: 15.8241\n",
      "Epoch 42/100\n",
      "7/7 [==============================] - 0s 2ms/step - loss: 16.9189\n",
      "Epoch 43/100\n",
      "7/7 [==============================] - 0s 2ms/step - loss: 17.4776\n",
      "Epoch 44/100\n",
      "7/7 [==============================] - 0s 3ms/step - loss: 10.0731\n",
      "Epoch 45/100\n",
      "7/7 [==============================] - 0s 4ms/step - loss: 14.4561\n",
      "Epoch 46/100\n",
      "7/7 [==============================] - 0s 3ms/step - loss: 14.9839\n",
      "Epoch 47/100\n",
      "7/7 [==============================] - 0s 2ms/step - loss: 12.3956\n",
      "Epoch 48/100\n",
      "7/7 [==============================] - 0s 2ms/step - loss: 12.8478\n",
      "Epoch 49/100\n",
      "7/7 [==============================] - 0s 2ms/step - loss: 14.3831\n",
      "Epoch 50/100\n",
      "7/7 [==============================] - 0s 2ms/step - loss: 31.0364\n",
      "Epoch 51/100\n",
      "7/7 [==============================] - 0s 2ms/step - loss: 15.8512\n",
      "Epoch 52/100\n",
      "7/7 [==============================] - 0s 2ms/step - loss: 15.2770\n",
      "Epoch 53/100\n",
      "7/7 [==============================] - 0s 3ms/step - loss: 10.9427\n",
      "Epoch 54/100\n",
      "7/7 [==============================] - 0s 2ms/step - loss: 14.3426\n",
      "Epoch 55/100\n",
      "7/7 [==============================] - 0s 2ms/step - loss: 10.9662\n",
      "Epoch 56/100\n",
      "7/7 [==============================] - 0s 3ms/step - loss: 14.4239\n",
      "Epoch 57/100\n",
      "7/7 [==============================] - 0s 4ms/step - loss: 15.1431\n",
      "Epoch 58/100\n",
      "7/7 [==============================] - 0s 2ms/step - loss: 17.5201\n",
      "Epoch 59/100\n",
      "7/7 [==============================] - 0s 3ms/step - loss: 11.6528\n",
      "Epoch 60/100\n",
      "7/7 [==============================] - 0s 5ms/step - loss: 12.8565\n",
      "Epoch 61/100\n",
      "7/7 [==============================] - 0s 2ms/step - loss: 12.1955\n",
      "Epoch 62/100\n",
      "7/7 [==============================] - 0s 3ms/step - loss: 14.6496\n",
      "Epoch 63/100\n",
      "7/7 [==============================] - 0s 3ms/step - loss: 12.7349\n",
      "Epoch 64/100\n",
      "7/7 [==============================] - 0s 4ms/step - loss: 15.2565\n",
      "Epoch 65/100\n",
      "7/7 [==============================] - 0s 4ms/step - loss: 9.7938\n",
      "Epoch 66/100\n",
      "7/7 [==============================] - 0s 3ms/step - loss: 12.7601\n",
      "Epoch 67/100\n",
      "7/7 [==============================] - 0s 3ms/step - loss: 13.5979\n",
      "Epoch 68/100\n",
      "7/7 [==============================] - 0s 3ms/step - loss: 14.7271\n",
      "Epoch 69/100\n",
      "7/7 [==============================] - 0s 2ms/step - loss: 18.1469\n",
      "Epoch 70/100\n",
      "7/7 [==============================] - 0s 4ms/step - loss: 13.4784\n",
      "Epoch 71/100\n",
      "7/7 [==============================] - 0s 4ms/step - loss: 11.8630\n",
      "Epoch 72/100\n",
      "7/7 [==============================] - 0s 4ms/step - loss: 9.9068\n",
      "Epoch 73/100\n",
      "7/7 [==============================] - 0s 3ms/step - loss: 10.1478\n",
      "Epoch 74/100\n",
      "7/7 [==============================] - 0s 3ms/step - loss: 15.0764\n",
      "Epoch 75/100\n",
      "7/7 [==============================] - 0s 2ms/step - loss: 13.7504\n",
      "Epoch 76/100\n",
      "7/7 [==============================] - 0s 4ms/step - loss: 18.8953\n",
      "Epoch 77/100\n",
      "7/7 [==============================] - 0s 3ms/step - loss: 14.6403\n",
      "Epoch 78/100\n",
      "7/7 [==============================] - 0s 4ms/step - loss: 11.1314\n",
      "Epoch 79/100\n",
      "7/7 [==============================] - 0s 4ms/step - loss: 11.5076\n",
      "Epoch 80/100\n",
      "7/7 [==============================] - 0s 2ms/step - loss: 12.2325\n",
      "Epoch 81/100\n",
      "7/7 [==============================] - 0s 2ms/step - loss: 10.3355\n",
      "Epoch 82/100\n",
      "7/7 [==============================] - 0s 2ms/step - loss: 12.4508\n",
      "Epoch 83/100\n",
      "7/7 [==============================] - 0s 4ms/step - loss: 10.9385\n",
      "Epoch 84/100\n",
      "7/7 [==============================] - 0s 4ms/step - loss: 9.7525\n",
      "Epoch 85/100\n",
      "7/7 [==============================] - 0s 5ms/step - loss: 9.4379\n",
      "Epoch 86/100\n",
      "7/7 [==============================] - 0s 4ms/step - loss: 10.8115\n",
      "Epoch 87/100\n",
      "7/7 [==============================] - 0s 4ms/step - loss: 9.3948\n",
      "Epoch 88/100\n",
      "7/7 [==============================] - 0s 2ms/step - loss: 13.0310\n",
      "Epoch 89/100\n",
      "7/7 [==============================] - 0s 3ms/step - loss: 11.8052\n",
      "Epoch 90/100\n",
      "7/7 [==============================] - 0s 2ms/step - loss: 9.4449\n",
      "Epoch 91/100\n",
      "7/7 [==============================] - 0s 2ms/step - loss: 9.4522\n",
      "Epoch 92/100\n",
      "7/7 [==============================] - 0s 2ms/step - loss: 13.1296\n",
      "Epoch 93/100\n",
      "7/7 [==============================] - 0s 4ms/step - loss: 11.9678\n",
      "Epoch 94/100\n",
      "7/7 [==============================] - 0s 3ms/step - loss: 15.8945\n",
      "Epoch 95/100\n",
      "7/7 [==============================] - 0s 4ms/step - loss: 9.6213\n",
      "Epoch 96/100\n",
      "7/7 [==============================] - 0s 4ms/step - loss: 9.9989\n",
      "Epoch 97/100\n",
      "7/7 [==============================] - 0s 4ms/step - loss: 9.8928\n",
      "Epoch 98/100\n",
      "7/7 [==============================] - 0s 4ms/step - loss: 11.1973\n",
      "Epoch 99/100\n",
      "7/7 [==============================] - 0s 2ms/step - loss: 12.1360\n",
      "Epoch 100/100\n",
      "7/7 [==============================] - 0s 2ms/step - loss: 11.7163\n"
     ]
    }
   ],
   "source": [
    "# model.fit(train_data, train_targets, epochs=80, batch_size=16)\n",
    "history = model.fit(train_data, train_targets, epochs=100, batch_size=64)"
   ]
  },
  {
   "cell_type": "markdown",
   "metadata": {},
   "source": [
    "## Loss 값 변화 살펴보기"
   ]
  },
  {
   "cell_type": "code",
   "execution_count": 14,
   "metadata": {},
   "outputs": [],
   "source": [
    "import matplotlib.pyplot as plt"
   ]
  },
  {
   "cell_type": "code",
   "execution_count": 15,
   "metadata": {},
   "outputs": [
    {
     "data": {
      "image/png": "[encoded data removed]",
      "text/plain": [
       "<Figure size 432x288 with 1 Axes>"
      ]
     },
     "metadata": {
      "needs_background": "light"
     },
     "output_type": "display_data"
    }
   ],
   "source": [
    "plt.plot(history.history['loss'])\n",
    "plt.xlabel('epoch')\n",
    "plt.ylabel('loss')\n",
    "plt.legend(['train'])\n",
    "plt.show()"
   ]
  },
  {
   "cell_type": "markdown",
   "metadata": {},
   "source": [
    "# 성능 평가하기"
   ]
  },
  {
   "cell_type": "code",
   "execution_count": 16,
   "metadata": {},
   "outputs": [
    {
     "name": "stdout",
     "output_type": "stream",
     "text": [
      "4/4 [==============================] - 0s 2ms/step\n"
     ]
    },
    {
     "data": {
      "text/plain": [
       "3.499851232774049"
      ]
     },
     "execution_count": 16,
     "metadata": {},
     "output_type": "execute_result"
    }
   ],
   "source": [
    "y_pred = model.predict(test_data)\n",
    "from sklearn.metrics import mean_squared_error\n",
    "mean_squared_error(test_targets, y_pred)**0.5"
   ]
  },
  {
   "cell_type": "code",
   "execution_count": 17,
   "metadata": {},
   "outputs": [
    {
     "data": {
      "text/plain": [
       "0.8528544887177274"
      ]
     },
     "execution_count": 17,
     "metadata": {},
     "output_type": "execute_result"
    }
   ],
   "source": [
    "from sklearn.metrics import r2_score\n",
    "r2_score(test_targets, y_pred)"
   ]
  },
  {
   "cell_type": "code",
   "execution_count": null,
   "metadata": {},
   "outputs": [],
   "source": []
  }
 ],
 "metadata": {
  "kernelspec": {
   "display_name": "Python 3 (ipykernel)",
   "language": "python",
   "name": "python3"
  },
  "language_info": {
   "codemirror_mode": {
    "name": "ipython",
    "version": 3
   },
   "file_extension": ".py",
   "mimetype": "text/x-python",
   "name": "python",
   "nbconvert_exporter": "python",
   "pygments_lexer": "ipython3",
   "version": "3.8.5"
  }
 },
 "nbformat": 4,
 "nbformat_minor": 2
}
