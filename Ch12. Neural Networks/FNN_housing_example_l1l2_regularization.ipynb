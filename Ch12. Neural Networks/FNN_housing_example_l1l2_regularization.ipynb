{
 "cells": [
  {
   "cell_type": "code",
   "execution_count": 1,
   "metadata": {},
   "outputs": [],
   "source": [
    "import tensorflow as tf\n",
    "from tensorflow import keras"
   ]
  },
  {
   "cell_type": "code",
   "execution_count": 2,
   "metadata": {},
   "outputs": [],
   "source": [
    "(train_data, train_targets), (test_data, test_targets) =keras.datasets.boston_housing.load_data()"
   ]
  },
  {
   "cell_type": "code",
   "execution_count": 3,
   "metadata": {},
   "outputs": [],
   "source": [
    "mean = train_data.mean(axis=0)\n",
    "train_data -= mean\n",
    "std = train_data.std(axis=0)\n",
    "train_data /= std\n",
    "test_data -= mean\n",
    "test_data /= std"
   ]
  },
  {
   "cell_type": "code",
   "execution_count": 4,
   "metadata": {},
   "outputs": [],
   "source": [
    "from tensorflow.keras import models\n",
    "from tensorflow.keras import layers"
   ]
  },
  {
   "cell_type": "code",
   "execution_count": 5,
   "metadata": {},
   "outputs": [
    {
     "data": {
      "text/plain": [
       "(404, 13)"
      ]
     },
     "execution_count": 5,
     "metadata": {},
     "output_type": "execute_result"
    }
   ],
   "source": [
    "train_data.shape"
   ]
  },
  {
   "cell_type": "code",
   "execution_count": 36,
   "metadata": {},
   "outputs": [],
   "source": [
    "model = models.Sequential()"
   ]
  },
  {
   "cell_type": "code",
   "execution_count": 37,
   "metadata": {},
   "outputs": [],
   "source": [
    "from tensorflow.keras import regularizers"
   ]
  },
  {
   "cell_type": "code",
   "execution_count": 38,
   "metadata": {},
   "outputs": [],
   "source": [
    "l1 = regularizers.L1(l1=0.01)\n",
    "l2 = regularizers.L2(l2=0.01)"
   ]
  },
  {
   "cell_type": "code",
   "execution_count": 39,
   "metadata": {},
   "outputs": [],
   "source": [
    "model.add(layers.Dense(64, activation = 'relu', kernel_regularizer=l1, input_shape=(train_data.shape[1],)))"
   ]
  },
  {
   "cell_type": "code",
   "execution_count": 40,
   "metadata": {},
   "outputs": [],
   "source": [
    "model.add(layers.Dense(64, activation = 'relu', kernel_regularizer=l2))"
   ]
  },
  {
   "cell_type": "code",
   "execution_count": 41,
   "metadata": {},
   "outputs": [],
   "source": [
    "model.add(layers.Dense(1))"
   ]
  },
  {
   "cell_type": "code",
   "execution_count": 42,
   "metadata": {},
   "outputs": [
    {
     "name": "stdout",
     "output_type": "stream",
     "text": [
      "Model: \"sequential_2\"\n",
      "_________________________________________________________________\n",
      " Layer (type)                Output Shape              Param #   \n",
      "=================================================================\n",
      " dense_6 (Dense)             (None, 64)                896       \n",
      "                                                                 \n",
      " dense_7 (Dense)             (None, 64)                4160      \n",
      "                                                                 \n",
      " dense_8 (Dense)             (None, 1)                 65        \n",
      "                                                                 \n",
      "=================================================================\n",
      "Total params: 5,121\n",
      "Trainable params: 5,121\n",
      "Non-trainable params: 0\n",
      "_________________________________________________________________\n"
     ]
    }
   ],
   "source": [
    "model.summary()"
   ]
  },
  {
   "cell_type": "code",
   "execution_count": 43,
   "metadata": {},
   "outputs": [],
   "source": [
    "rmsprop = tf.keras.optimizers.RMSprop(learning_rate=0.001, rho=0.85, momentum=0.9)"
   ]
  },
  {
   "cell_type": "code",
   "execution_count": 44,
   "metadata": {},
   "outputs": [],
   "source": [
    "model.compile(optimizer=rmsprop, loss='mse')"
   ]
  },
  {
   "cell_type": "code",
   "execution_count": 45,
   "metadata": {
    "scrolled": true
   },
   "outputs": [
    {
     "name": "stdout",
     "output_type": "stream",
     "text": [
      "Epoch 1/80\n",
      "7/7 [==============================] - 0s 2ms/step - loss: 531.0895\n",
      "Epoch 2/80\n",
      "7/7 [==============================] - 0s 1ms/step - loss: 232.8217\n",
      "Epoch 3/80\n",
      "7/7 [==============================] - 0s 1ms/step - loss: 152.7221\n",
      "Epoch 4/80\n",
      "7/7 [==============================] - 0s 1ms/step - loss: 48.8315\n",
      "Epoch 5/80\n",
      "7/7 [==============================] - 0s 2ms/step - loss: 34.9599\n",
      "Epoch 6/80\n",
      "7/7 [==============================] - 0s 2ms/step - loss: 23.6060\n",
      "Epoch 7/80\n",
      "7/7 [==============================] - 0s 3ms/step - loss: 18.1339\n",
      "Epoch 8/80\n",
      "7/7 [==============================] - 0s 1ms/step - loss: 16.2203\n",
      "Epoch 9/80\n",
      "7/7 [==============================] - 0s 2ms/step - loss: 14.2120\n",
      "Epoch 10/80\n",
      "7/7 [==============================] - 0s 2ms/step - loss: 13.6625\n",
      "Epoch 11/80\n",
      "7/7 [==============================] - 0s 2ms/step - loss: 13.2031\n",
      "Epoch 12/80\n",
      "7/7 [==============================] - 0s 2ms/step - loss: 12.1827\n",
      "Epoch 13/80\n",
      "7/7 [==============================] - 0s 2ms/step - loss: 11.6285\n",
      "Epoch 14/80\n",
      "7/7 [==============================] - 0s 2ms/step - loss: 11.6680\n",
      "Epoch 15/80\n",
      "7/7 [==============================] - 0s 2ms/step - loss: 10.9110\n",
      "Epoch 16/80\n",
      "7/7 [==============================] - 0s 1ms/step - loss: 11.7807\n",
      "Epoch 17/80\n",
      "7/7 [==============================] - 0s 2ms/step - loss: 11.6470\n",
      "Epoch 18/80\n",
      "7/7 [==============================] - 0s 1ms/step - loss: 10.8290\n",
      "Epoch 19/80\n",
      "7/7 [==============================] - 0s 1ms/step - loss: 11.0566\n",
      "Epoch 20/80\n",
      "7/7 [==============================] - 0s 1ms/step - loss: 10.7807\n",
      "Epoch 21/80\n",
      "7/7 [==============================] - 0s 1ms/step - loss: 9.9379\n",
      "Epoch 22/80\n",
      "7/7 [==============================] - 0s 1ms/step - loss: 9.4189\n",
      "Epoch 23/80\n",
      "7/7 [==============================] - 0s 2ms/step - loss: 9.8629\n",
      "Epoch 24/80\n",
      "7/7 [==============================] - 0s 1ms/step - loss: 9.4316\n",
      "Epoch 25/80\n",
      "7/7 [==============================] - 0s 1ms/step - loss: 9.4085\n",
      "Epoch 26/80\n",
      "7/7 [==============================] - 0s 2ms/step - loss: 9.1556\n",
      "Epoch 27/80\n",
      "7/7 [==============================] - 0s 1ms/step - loss: 9.1826\n",
      "Epoch 28/80\n",
      "7/7 [==============================] - 0s 1ms/step - loss: 9.5331\n",
      "Epoch 29/80\n",
      "7/7 [==============================] - 0s 1ms/step - loss: 9.5924\n",
      "Epoch 30/80\n",
      "7/7 [==============================] - 0s 2ms/step - loss: 8.4239\n",
      "Epoch 31/80\n",
      "7/7 [==============================] - 0s 1ms/step - loss: 8.3938\n",
      "Epoch 32/80\n",
      "7/7 [==============================] - 0s 1ms/step - loss: 8.0713\n",
      "Epoch 33/80\n",
      "7/7 [==============================] - 0s 1ms/step - loss: 8.3367\n",
      "Epoch 34/80\n",
      "7/7 [==============================] - 0s 1ms/step - loss: 9.1253\n",
      "Epoch 35/80\n",
      "7/7 [==============================] - 0s 1ms/step - loss: 8.1753\n",
      "Epoch 36/80\n",
      "7/7 [==============================] - 0s 2ms/step - loss: 8.0376\n",
      "Epoch 37/80\n",
      "7/7 [==============================] - 0s 1ms/step - loss: 8.6500\n",
      "Epoch 38/80\n",
      "7/7 [==============================] - 0s 2ms/step - loss: 7.6422\n",
      "Epoch 39/80\n",
      "7/7 [==============================] - 0s 1ms/step - loss: 7.4513\n",
      "Epoch 40/80\n",
      "7/7 [==============================] - 0s 997us/step - loss: 7.6920\n",
      "Epoch 41/80\n",
      "7/7 [==============================] - 0s 2ms/step - loss: 7.9754\n",
      "Epoch 42/80\n",
      "7/7 [==============================] - 0s 2ms/step - loss: 7.5491\n",
      "Epoch 43/80\n",
      "7/7 [==============================] - 0s 1ms/step - loss: 7.6837\n",
      "Epoch 44/80\n",
      "7/7 [==============================] - 0s 2ms/step - loss: 7.1238\n",
      "Epoch 45/80\n",
      "7/7 [==============================] - 0s 1ms/step - loss: 7.2080\n",
      "Epoch 46/80\n",
      "7/7 [==============================] - 0s 2ms/step - loss: 7.7675\n",
      "Epoch 47/80\n",
      "7/7 [==============================] - 0s 2ms/step - loss: 7.2316\n",
      "Epoch 48/80\n",
      "7/7 [==============================] - 0s 2ms/step - loss: 7.2846\n",
      "Epoch 49/80\n",
      "7/7 [==============================] - 0s 2ms/step - loss: 7.1845\n",
      "Epoch 50/80\n",
      "7/7 [==============================] - 0s 2ms/step - loss: 7.0239\n",
      "Epoch 51/80\n",
      "7/7 [==============================] - 0s 2ms/step - loss: 8.5300\n",
      "Epoch 52/80\n",
      "7/7 [==============================] - 0s 1ms/step - loss: 7.1804\n",
      "Epoch 53/80\n",
      "7/7 [==============================] - 0s 1ms/step - loss: 6.9963\n",
      "Epoch 54/80\n",
      "7/7 [==============================] - 0s 1ms/step - loss: 6.6695\n",
      "Epoch 55/80\n",
      "7/7 [==============================] - 0s 2ms/step - loss: 6.6060\n",
      "Epoch 56/80\n",
      "7/7 [==============================] - 0s 1ms/step - loss: 7.1876\n",
      "Epoch 57/80\n",
      "7/7 [==============================] - 0s 2ms/step - loss: 6.6263\n",
      "Epoch 58/80\n",
      "7/7 [==============================] - 0s 1ms/step - loss: 6.4543\n",
      "Epoch 59/80\n",
      "7/7 [==============================] - 0s 2ms/step - loss: 6.3864\n",
      "Epoch 60/80\n",
      "7/7 [==============================] - 0s 1ms/step - loss: 7.2062\n",
      "Epoch 61/80\n",
      "7/7 [==============================] - 0s 2ms/step - loss: 6.8103\n",
      "Epoch 62/80\n",
      "7/7 [==============================] - 0s 2ms/step - loss: 6.8669\n",
      "Epoch 63/80\n",
      "7/7 [==============================] - 0s 1ms/step - loss: 7.3291\n",
      "Epoch 64/80\n",
      "7/7 [==============================] - 0s 1ms/step - loss: 6.7374\n",
      "Epoch 65/80\n",
      "7/7 [==============================] - 0s 2ms/step - loss: 6.7005\n",
      "Epoch 66/80\n",
      "7/7 [==============================] - 0s 1ms/step - loss: 7.0043\n",
      "Epoch 67/80\n",
      "7/7 [==============================] - 0s 2ms/step - loss: 6.5241\n",
      "Epoch 68/80\n",
      "7/7 [==============================] - 0s 1ms/step - loss: 6.1443\n",
      "Epoch 69/80\n",
      "7/7 [==============================] - 0s 2ms/step - loss: 6.2031\n",
      "Epoch 70/80\n",
      "7/7 [==============================] - 0s 1ms/step - loss: 5.9411\n",
      "Epoch 71/80\n",
      "7/7 [==============================] - 0s 1ms/step - loss: 5.8672\n",
      "Epoch 72/80\n",
      "7/7 [==============================] - 0s 1ms/step - loss: 6.6008\n",
      "Epoch 73/80\n",
      "7/7 [==============================] - 0s 2ms/step - loss: 6.9113\n",
      "Epoch 74/80\n",
      "7/7 [==============================] - 0s 2ms/step - loss: 6.6025\n",
      "Epoch 75/80\n",
      "7/7 [==============================] - 0s 1ms/step - loss: 6.4699\n",
      "Epoch 76/80\n",
      "7/7 [==============================] - 0s 1ms/step - loss: 6.3469\n",
      "Epoch 77/80\n",
      "7/7 [==============================] - 0s 997us/step - loss: 5.7454\n",
      "Epoch 78/80\n",
      "7/7 [==============================] - 0s 2ms/step - loss: 5.7181\n",
      "Epoch 79/80\n",
      "7/7 [==============================] - 0s 2ms/step - loss: 5.7582\n",
      "Epoch 80/80\n",
      "7/7 [==============================] - 0s 2ms/step - loss: 5.6678\n"
     ]
    }
   ],
   "source": [
    "# model.fit(train_data, train_targets, epochs=80, batch_size=16)\n",
    "history = model.fit(train_data, train_targets, epochs=80, batch_size=64)"
   ]
  },
  {
   "cell_type": "markdown",
   "metadata": {},
   "source": [
    "## Loss 값 변화 살펴보기"
   ]
  },
  {
   "cell_type": "code",
   "execution_count": 16,
   "metadata": {},
   "outputs": [],
   "source": [
    "import matplotlib.pyplot as plt"
   ]
  },
  {
   "cell_type": "code",
   "execution_count": 46,
   "metadata": {},
   "outputs": [
    {
     "data": {
      "image/png": "[encoded data removed]",
      "text/plain": [
       "<Figure size 432x288 with 1 Axes>"
      ]
     },
     "metadata": {
      "needs_background": "light"
     },
     "output_type": "display_data"
    }
   ],
   "source": [
    "plt.plot(history.history['loss'])\n",
    "plt.xlabel('epoch')\n",
    "plt.ylabel('loss')\n",
    "plt.legend(['train'])\n",
    "plt.show()"
   ]
  },
  {
   "cell_type": "markdown",
   "metadata": {},
   "source": [
    "# 성능 평가하기"
   ]
  },
  {
   "cell_type": "code",
   "execution_count": 47,
   "metadata": {},
   "outputs": [
    {
     "name": "stdout",
     "output_type": "stream",
     "text": [
      "4/4 [==============================] - 0s 1ms/step\n"
     ]
    },
    {
     "data": {
      "text/plain": [
       "3.7963605163276837"
      ]
     },
     "execution_count": 47,
     "metadata": {},
     "output_type": "execute_result"
    }
   ],
   "source": [
    "y_pred = model.predict(test_data)\n",
    "from sklearn.metrics import mean_squared_error\n",
    "mean_squared_error(test_targets, y_pred)**0.5"
   ]
  },
  {
   "cell_type": "code",
   "execution_count": 48,
   "metadata": {},
   "outputs": [
    {
     "data": {
      "text/plain": [
       "0.8268658474325136"
      ]
     },
     "execution_count": 48,
     "metadata": {},
     "output_type": "execute_result"
    }
   ],
   "source": [
    "from sklearn.metrics import r2_score\n",
    "r2_score(test_targets, y_pred)"
   ]
  },
  {
   "cell_type": "code",
   "execution_count": null,
   "metadata": {},
   "outputs": [],
   "source": []
  }
 ],
 "metadata": {
  "kernelspec": {
   "display_name": "Python 3 (ipykernel)",
   "language": "python",
   "name": "python3"
  },
  "language_info": {
   "codemirror_mode": {
    "name": "ipython",
    "version": 3
   },
   "file_extension": ".py",
   "mimetype": "text/x-python",
   "name": "python",
   "nbconvert_exporter": "python",
   "pygments_lexer": "ipython3",
   "version": "3.8.5"
  }
 },
 "nbformat": 4,
 "nbformat_minor": 2
}
