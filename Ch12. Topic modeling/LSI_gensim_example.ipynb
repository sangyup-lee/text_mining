{
 "cells": [
  {
   "cell_type": "code",
   "execution_count": 3,
   "metadata": {},
   "outputs": [],
   "source": [
    "import warnings\n",
    "warnings.filterwarnings('ignore')"
   ]
  },
  {
   "cell_type": "code",
   "execution_count": 1,
   "metadata": {},
   "outputs": [],
   "source": [
    "from os import listdir\n",
    "from os.path import isfile, join\n",
    "\n",
    "mypath = './example_En_docs/'\n",
    "onlyfiles = [f for f in listdir(mypath) if isfile(join(mypath, f))]\n",
    "onlyfiles.sort()\n",
    "\n",
    "total_docs = []\n",
    "for file in onlyfiles:\n",
    "    file_path = mypath+file\n",
    "    with open(file_path, 'r', encoding='utf8') as f:\n",
    "        content = f.read()\n",
    "    total_docs.append(content)"
   ]
  },
  {
   "cell_type": "code",
   "execution_count": 4,
   "metadata": {},
   "outputs": [],
   "source": [
    "import preprocessing # 전처리를 위한 preprocessing.py 파일을 임포트합니다. \n",
    "stopwords = ['be', 'today', 'yesterday', 'tomorrow'] # 불용어 사전 생성하기\n",
    "docs_nouns = [preprocessing.En_preprocessing(doc, stopwords) for doc in total_docs]"
   ]
  },
  {
   "cell_type": "code",
   "execution_count": 5,
   "metadata": {},
   "outputs": [
    {
     "name": "stdout",
     "output_type": "stream",
     "text": [
      "[['aleman', 'world', 'video', 'game', 'front', 'gunshot', 'restroom', 'cover', 'mass', 'shooting', 'florida', 'time', 'tournament', 'player', 'football', 'video', 'game', 'madden', 'jacksonville', 'winner', 'level', 'tournament', 'vega', 'october', 'cash', 'prize', 'participant', 'jacksonville', 'marketplace', 'store', 'bar', 'restaurant', 'st', 'john', 'river', 'david', 'gamer', 'baltimore', 'maryland', 'jacksonville', 'tournament', 'game', 'bar', 'back', 'pizza', 'restaurant', 'sunday', 'gun', 'venue', 'fire', 'people', 'gun', 'mike', 'williams', 'police', 'motive', 'katz', 'handgun', 'sheriff', 'people', 'wound', 'people', 'area', 'williams', 'victim', 'condition', 'hospital', 'sheriff', 'horror', 'stream', 'event', 'game', 'shot', 'people', 'person', 'f', 'whatd', 'call', 'williams', 'officer', 'scene', 'minute', 'bathroom', 'minute', 'ran', 'scene', 'im', 'member', 'jacksonville', 'fire', 'station', 'rock', 'training', 'parking', 'garage', 'street', 'landing', 'dozen', 'people', 'president', 'jacksonville', 'association', 'fire', 'fighter', 'person', 'shirt', 'chest', 'wyse', 'person', 'wound', 'firefighter', 'aid', 'others', 'landing', 'wyse', 'officer', 'victim', 'body', 'katzs', 'body', 'hour', 'authority', 'agent', 'bureau', 'alcohol', 'tobacco', 'firearm', 'explosive', 'fbi', 'police', 'family', 'home', 'baltimore', 'katz', 'gaming', 'bread', 'tournament', 'multiple', 'gamers', 'cnn', 'buffalo', 'bill', 'picture', 'bill', 'congrats', 'bill', 'thanks', 'bill', 'tweet', 'read', 'interview', 'win', 'buffalo', 'bill', 'player', 'tasker', 'katz', 'prowess', 'player', 'florida', 'mass', 'shooting', 'year', 'gunman', 'people', 'douglas', 'school', 'parkland', 'year', 'people', 'fort', 'lauderdale', 'airport', 'year', 'pulse', 'nightclub', 'orlando', 'gov', 'rick', 'scott', 'reporter', 'night', 'weve', 'something', 'men', 'life', 'value', 'somebody', 'life', 'congresswoman', 'gabrielle', 'giffords', 'mass', 'shooting', 'nation', 'attention', 'nation', 'grief', 'heart', 'giffords', 'gun', 'violence', 'prevention', 'organization', 'statement', 'massacre', 'jacksonville', 'reminder', 'threat', 'violence', 'matter', 'day', 'giffords', 'indictment', 'country', 'inability', 'kid', 'nation', 'grief', 'heart', 'massacre', 'jacksonville', 'indictment', 'country', 'inability', 'kid', 'httpstconnw88rvwr2', 'gabrielle', 'giffords', 'gabbygiffords', 'ea', 'sport', 'video', 'game', 'developer', 'publisher', 'shooting', 'senseless', 'act', 'violence', 'complexity', 'founder', 'ceo', 'jason', 'cnn', 'shooting', 'esports', 'industry', 'security', 'event', 'company', 'drini', 'thumb', 'lake', 'someone', 'walk', 'event', 'sportsmanship', 'teamwork', 'vibe', 'something', 'heartbreaking', 'esports', 'industry', 'whole', 'look', 'security'], ['gunman', 'baltimore', 'fire', 'game', 'tournament', 'afternoon', 'pizza', 'jacksonville', 'dozen', 'others', 'life', 'sheriff', 'mike', 'williams', 'williams', 'shooter', 'david', 'body', 'body', 'report', 'gunfire', 'landing', 'victim', 'area', 'hospital', 'wound', 'victim', 'hospital', 'wound', 'hospital', 'statement', 'monday', 'morning', 'victim', 'hospital', 'victim', 'condition', 'news4jax', 'source', 'katz', 'gamer', 'baltimore', 'area', 'handgun', 'authority', 'baltimore', 'katzs', 'home', 'sunday', 'afternoon', 'news4jax', 'death', 'williams', 'account', 'casualty', 'pm', 'briefing', 'williams', 'officer', 'minute', 'call', 'riverfront', 'mall', 'lockdown', 'jso', 'people', 'riverfront', 'mall', 'calm', 'search', 'jso', 'twitter', 'pm', 'team', 'search', 'landing', 'area', 'gunman', 'mall', 'law', 'enforcement', 'personnel', 'pm', 'president', 'firefighter', 'union', 'engine', 'company', 'area', 'victim', 'emergency', 'call', 'victim', 'csx', 'building', 'halfmile', 'victim', 'hospital', 'victim', 'condition', 'health', 'center', 'person', 'injury', 'condition', 'place', 'nfl', 'tournament', 'luck', 'game', 'room', 'pizza', 'dozen', 'gunshot', 'audio', 'livestream', 'tournament', 'dot', 'laser', 'pointer', 'chest', 'player', 'gunshot', 'video', 'medium', 'video', 'williams', 'people', 'video', 'information', 'please', 'group', 'tournament', 'question', 'founder', 'ceo', 'complexity', 'company', 'esports', 'team', 'twitter', 'player', 'drini', 'gjoka', 'thumb', 'gjoka', 'tourney', 'leaving', 'bullet', 'day', 'life', 'sheriff', 'office', 'bomb', 'squad', 'robot', 'swat', 'team', 'member', 'parking', 'garage', 'street', 'block', 'landing', 'williams', 'office', 'katzs', 'vehicle', 'threeblock', 'radius', 'mall', 'everyone', 'area', 'rest', 'day', 'officer', 'coast', 'guard', 'boat', 'st', 'john', 'river', 'police', 'position', 'bridge', 'river', 'florida', 'gov', 'rick', 'scott', 'president', 'donald', 'resource', 'house', 'spokeswoman', 'sander', 'trump', 'house', 'situation', 'scott', 'office', 'woman', 'son', 'game', 'room', 'man', 'gun', 'scary', 'time', 'someone', 'mayor', 'curry', 'williams', 'briefing', 'prayer', 'family', 'life', 'time', 'people', 'curry', 'witness', 'law', 'enforcement', 'information', 'incident', 'number', 'sheriff', 'team', 'councilman', 'district', 'shooting', 'scene', 'news', 'jacksonville', 'problem', 'time', 'jacksonville', 'gun', 'violence', 'issue', 'city', 'councilman', 'gaffney', 'solution', 'gaffney', 'mayor', 'sheriff', 'night', 'raines', 'school', 'solution', 'god', 'im', 'community', 'gaffney', 'statement', 'jacksonville', 'landing', 'incident', 'pray', 'everyone', 'jacksonville', 'landing', 'jacksonville', 'sheriff', 'office', 'investigation'], ['screen', 'control', 'console', 'tony', 'montagnino', 'defense', 'passing', 'strategy', 'gunfire', 'sunday', 'nfl', 'tournament', 'jacksonville', 'florida', 'pain', 'back', 'leg', 'year', 'john', 'madden', 'football', 'montagnino', 'monday', 'news', 'morning', 'america', 'video', 'moment', 'gamer', 'david', 'baltimore', 'fire', 'participant', 'southeast', 'contest', 'montagnino', 'reaction', 'shot', 'firecracker', 'gma', 'didnt', 'flash', 'gun', 'point', 'mode', 'silhouette', 'shooter', 'game', 'bar', 'share', 'space', 'chicago', 'pizza', 'restaurant', 'jacksonville', 'mall', 'hair', 'face', 'montagnino', 'father', 'gun', 'flash', 'kind', 'face', 'rip', 'flash', 'floor', 'wherever', 'sharon', 'game', 'color', 'commentary', 'online', 'broadcast', 'bullet', 'interview', 'gma', 'monday', 'sharon', 'announcer', 'shield', 'gunman', 'foot', 'aim', 'gamers', 'voice', 'emotion', 'sharon', 'grieving', 'one', 'family', 'member', 'didnt', 'family', 'brotherhood', 'morning', 'clayton', 'principal', 'chaminade', 'college', 'preparatory', 'school', 'west', 'hill', 'clayton', 'year', 'football', 'team', 'school', 'elijah', 'teacher', 'counselor', 'school', 'administrator', 'sweet', 'man', 'respect', 'peer', 'faculty', 'principal', 'brother', 'tom', 'fahy', 'statement', 'student', 'classroom', 'teammate', 'football', 'family', 'scout', 'team', 'role', 'performance', 'team', 'fahy', 'elijah', 'mother', 'erin', 'advocate', 'elijah', 'heart', 'impact', 'loss', 'fahy', 'people', 'pm', 'rampage', 'others', 'official', 'death', 'toll', 'firefighter', 'training', 'session', 'jacksonville', 'fire', 'chief', 'jeremy', 'cooke', 'morning', 'firefighter', 'direction', 'gunfire', 'gear', 'bleeding', 'airway', 'anything', 'cooke', 'thing', 'firefighter', 'taylor', 'poindexter', 'williams', 'hour', 'day', 'sunday', 'tournament', 'video', 'football', 'game', 'oakland', 'raider', 'coach', 'tv', 'analyst', 'john', 'madden', 'men', 'eternity', 'life', 'gunfire', 'bar', 'order', 'pizza', 'minute', 'bar', 'pop', 'balloon', 'williams', 'news', 'shooting', 'second', 'balloon', 'restaurant', 'pop', 'anything', 'gunshot', 'door', 'williams', 'people', 'space', 'chicago', 'pizza', 'tournament', 'video', 'area', 'back', 'restaurant', 'poindexter', 'williams', 'competition', 'shooter', 'fire', 'shot', 'shot', 'area', 'people', 'eternity', 'span', 'minute', 'people', 'yard', 'front', 'dont', 'name', 'second', 'poindexter', 'dozen', 'gamers', 'exit', 'ankle', 'rush', 'sunday', 'floor', 'stuff', 'people', 'poindexter', 'way', 'im', 'jacksonville', 'police', 'gunman', 'participant', 'tournament', 'motive', 'shooting', 'katz', 'tournament', 'chip', 'shoulder', 'think', 'seed', 'pregame', 'interview', 'ranking', 'tournament', 'player', 'police', 'katz', 'life', 'gunfire', 'police', 'others', 'poindexter', 'patient', 'condition', 'name', 'family', 'samotowka', 'trauma', 'director', 'hospital', 'name', 'george', 'amadeo', 'chris', 'patient', 'operation', 'operation', 'condition', 'health', 'jacksonville', 'patient', 'condition', 'condition', 'hospital', 'statement', 'shawn', 'richardson', 'restaurant', 'gunshot', 'people', 'rush', 'child', 'entrance', 'landing', 'backpack', 'back', 'mail'], ['house', 'flag', 'staff', 'monday', 'day', 'death', 'sen', 'john', 'mccain', 'president', 'donald', 'trump', 'mccain', 'war', 'hero', 'candidate', 'afternoon', 'saturday', 'home', 'state', 'arizona', 'battle', 'brain', 'cancer', 'flag', 'washington', 'capitol', 'washington', 'monument', 'halfstaff', 'mccains', 'house', 'flag', 'trump', 'administration', 'email', 'president', 'proclamation', 'mccain', 'trump', 'relationship', 'mccain', 'point', 'campaign', 'senator', 'pow', 'vietnam', 'war', 'war', 'hero', 'people', 'president', 'vote', 'bill', 'president', 'condolence', 'mccains', 'family', 'evening', 'tweet', 'mention', 'mccains', 'legacy', 'service', 'leadership', 'senate', 'statement', 'contrast', 'tribute', 'corner', 'world', 'front', 'page', 'newspaper', 'country', 'york', 'stock', 'exchange', 'moment', 'silence', 'monday', 'honor', 'mccain', 'house', 'weekend', 'president', 'morning', 'proclamation', 'halfstaff', 'mccains', 'proclamation', 'death', 'flag', 'date', 'interment', 'mccains', 'saturday', 'trump', 'proclamation', 'others', 'day', 'lady', 'barbara', 'bush', 'april', 'day', 'sen', 'john', 'glenn', 'tenure', 'president', 'barack', 'house', 'death', 'court', 'justice', 'antonin', 'scalia', 'flag', 'day', 'opponent', 'campaign', 'trail', 'president', 'george', 'bush', 'barack', 'obama', 'eulogy', 'service', 'cathedral', 'washington', 'saturday', 'mccains', 'family', 'trump', 'house', 'director', 'marc', 'appearance', 'cnn', 'monday', 'trump', 'thing', 'wake', 'mccains', 'death', 'president', 'flowery', 'statement', 'john', 'mccains', 'life', 'medium', 'thing', 'past', 'story', 'president', 'thing', 'president', 'family', 'life'], ['john', 'mccain', 'president', 'donald', 'trump', 'day', 'senator', 'lyinginstate', 'capitol', 'rotunda', 'pomp', 'service', 'washington', 'leader', 'hero', 'washington', 'death', 'fact', 'soughtafter', 'eulogizer', 'rite', 'president', 'statement', 'house', 'tribute', 'mccain', 'lauding', 'courage', 'honor', 'decency', 'character', 'readiness', 'mistake', 'time', 'trump', 'debate', 'personality', 'plea', 'president', 'lawyer', 'michael', 'cohen', 'conviction', 'campaign', 'chairman', 'paul', 'manafort', 'week', 'storm', 'house', 'leader', 'trump', 'context', 'ceremony', 'mccains', 'lament', 'giant', 'debate', 'morality', 'comportment', 'principle', 'figure', 'age', 'trump', 'influence', 'campaign', 'office', 'sendoff', 'assessment', 'men', 'president', 'cnn', 'mccain', 'obama', 'george', 'men', 'house', 'president', 'plan', 'mccain', 'message', 'president', 'style', 'outlook', 'value', 'role', 'antipathy', 'senator', 'president', 'death', 'saturday', 'brain', 'cancer', 'circumstance', 'president', 'statement', 'passing', 'figure', 'trump', 'tweet', 'member', 'family', 'mccains', 'character', 'contribution', 'washington', 'post', 'sunday', 'trump', 'statement', 'mccains', 'career', 'service', 'prisoner', 'war', 'paper', 'press', 'secretary', 'sarah', 'sander', 'house', 'chief', 'staff', 'john', 'arizona', 'senator', 'hero', 'deepest', 'sympathy', 'family', 'senator', 'john', 'heart', 'prayer', 'twitter', 'mccains', 'service', 'cathedral', 'meeting', 'establishment', 'elite', 'trump', 'presidency', 'president', 'absence', 'failure', 'nation', 'fracture', 'ruling', 'class', 'focus', 'campaign', 'motif', 'presidency', 'mark', 'salter', 'mccains', 'speechwriter', 'confidant', 'savannah', 'guthrie', 'monday', 'senator', 'week', 'president', 'donald', 'trump', 'week', 'john', 'honor', 'decorum', 'year', 'service', 'country', 'salter', 'occasion', 'man', 'trump', 'theatrics', 'presidency', 'upside', 'base', 'voter', 'mccain', 'relic', 'president', 'attack', 'senator', 'debate', 'trump', 'gathering', 'establishment', 'clan', 'epitaph', 'mccain', 'brand', 'conservatism', 'warrior', 'disciple', 'president', 'ronald', 'assertiveness', 'george', 'year', 'contrast', 'kgb', 'man', 'russia', 'influence', 'president', 'institution', 'nato', 'union', 'war', 'east', 'conflict', 'trading', 'system', 'state', 'week', 'election', 'race', 'remembrance', 'mccain', 'kind', 'value', 'policy', 'icon', 'establishment', 'contemporary', 'president', 'idea', 'issue', 'trade', 'use', 'power', 'grass', 'root', 'politics', 'case', 'congregation', 'cathedral', 'politician', 'luxury', 'opinion', 'sentiment', 'voter', 'tribute', 'state', 'figure', 'bar', 'president', 'leader', 'character', 'courage', 'willingness', 'ground', 'aisle', 'desire', 'cause', 'theme', 'day', 'mccains', 'observance', 'way', 'john', 'kind', 'courage', 'statement', 'minute', 'mccains', 'courage', 'john', 'president', 'george', 'bush', 'man', 'conviction', 'patriot', 'order', 'servant', 'tradition', 'country', 'leader', 'nation', 'mccain', 'sight', 'decade', 'travel', 'commitment', 'alliance', 'support', 'right', 'commitment', 'value', 'mccain', 'soldier', 'atlanticist', 'europe', 'north', 'america', 'courage', 'character', 'supporter', 'alliance', 'secretary', 'jens', 'tweet', 'partner', 'john', 'joe', 'biden', 'clinton', 'affection', 'man', 'biography', 'touch', 'hero', 'tribute', 'face', 'value', 'deeper', 'climate', 'year', 'trump', 'presidency', 'root', 'feud', 'senator', 'president', 'comparison', 'president', 'mccain', 'trump', 'supporter', 'medium', 'critic', 'mccains', 'death', 'attack', 'commanderinchief', 'tribute', 'establishment', 'politician', 'commentary', 'importance', 'character', 'life', 'mission', 'role', 'criticism', 'conduct', 'attitude', 'man', 'office', 'trump', 'critic', 'character', 'president', 'pace', 'week', 'woe', 'presidency', 'criticism', 'trump', 'motif', 'saw', 'mccain', 'ego', 'search', 'recognition', 'europe', 'concern', 'trump', 'commitment', 'value', 'nato', 'tribute', 'people', 'stoltenberg', 'context', 'way', 'antagonism', 'trump', 'mccain', 'microcosm', 'change', 'york', 'businessman', 'gop', 'candidate', 'trump', 'war', 'hero', 'observer', 'house', 'hope', 'sacrifice', 'man', 'hanoi', 'hilton', 'prison', 'war', 'fact', 'trump', 'wake', 'furor', 'sign', 'dynamic', 'party', 'anyone', 'stage', 'takeover', 'bid', 'mccain', 'end', 'life', 'trump', 'anomaly', 'diversion', 'leadership', 'core', 'value', 'fact', 'conviction', 'evidence', 'fake', 'mccain', 'book', 'restless', 'wave', 'swipe', 'trump', 'polarization', 'washington', 'goodbye', 'week', 'argument', 'america', 'condition'], ['trade', 'deal', 'monday', 'way', 'agreement', 'nation', 'president', 'donald', 'trump', 'deal', 'statesmexico', 'trade', 'agreement', 'rid', 'name', 'trump', 'deal', 'mexico', 'farmer', 'manufacturer', 'official', 'washington', 'issue', 'trump', 'administration', 'push', 'agreement', 'mexico', 'canada', 'hope', 'nafta', 'government', 'turnover', 'im', 'agreement', 'carla', 'representative', 'negotiator', 'cnbcs', 'squawk', 'alley', 'nafta', 'year', 'finger', 'job', 'trump', 'official', 'country', 'buying', 'farm', 'product', 'negotiation', 'month', 'official', 'week', 'distraction', 'plea', 'trump', 'lawyer', 'michael', 'cohen', 'verdict', 'campaign', 'manager', 'paul', 'manafort', 'president', 'enrique', 'pena', 'nieto', 'tweet', 'advance', 'negotiation', 'canada', 'talk', 'sideline', 'trade', 'talk', 'deal', 'mexico', 'mexico', 'office', 'amlo', 'office', 'hour', 'trade', 'deal', 'monday', 'way', 'agreement', 'nation', 'president', 'donald', 'trump', 'deal', 'statesmexico', 'trade', 'agreement', 'rid', 'name', 'trump', 'deal', 'mexico', 'farmer', 'manufacturer', 'official', 'washington', 'issue', 'trump', 'administration', 'push', 'agreement', 'mexico', 'canada', 'hope', 'nafta', 'government', 'turnover', 'im', 'agreement', 'carla', 'representative', 'negotiator', 'cnbcs', 'squawk', 'alley', 'nafta', 'year', 'finger', 'job', 'trump', 'official', 'country', 'buying', 'farm', 'product', 'negotiation', 'month', 'official', 'week', 'distraction', 'plea', 'trump', 'lawyer', 'michael', 'cohen', 'verdict', 'campaign', 'manager', 'paul', 'manafort', 'president', 'enrique', 'pena', 'nieto', 'tweet', 'advance', 'negotiation', 'canada', 'talk', 'sideline', 'trade', 'talk', 'deal', 'mexico', 'epn', 'tweet', 'issue', 'canada', 'talk', 'issue', 'issue', 'canada', 'minister', 'usmexico', 'issue', 'trump', 'negotiation', 'canada', 'canada', 'peso', 'percent', 'dollar', 'share', 'trade', 'bellwether', 'percent', 'percent'], ['state', 'mexico', 'agreement', 'trade', 'issue', 'source', 'negotiation', 'president', 'donald', 'trump', 'development', 'negotiation', 'state', 'mexico', 'block', 'auto', 'official', 'law', 'part', 'car', 'america', 'region', 'automaker', 'import', 'tax', 'agreement', 'requirement', 'agreement', 'country', 'negotiation', 'nafta', 'party', 'state', 'mexico', 'canada', 'canada', 'optimism', 'partner', 'spokesperson', 'minister', 'affair', 'chrystia', 'progress', 'mexico', 'state', 'requirement', 'agreement', 'negotiation', 'threecountry', 'agreement', 'year', 'trade', 'agreement', 'party', 'tariff', 'import', 'trump', 'agreement', 'deal', 'tariff', 'year', 'state', 'tariff', 'steel', 'aluminum', 'world', 'mexico', 'response', 'mexico', 'tariff', 'good', 'steel', 'pork', 'apple', 'potato', 'type', 'cheese', 'canada', 'tariff', 'good', 'steel', 'toffee', 'maple', 'coffee', 'bean', 'strawberry', 'jam'], ['state', 'mexico', 'agreement', 'portion', 'trade', 'agreement', 'deal', 'monday', 'step', 'trade', 'pact', 'brink', 'collapse', 'year', 'negotiation', 'agreement', 'portion', 'president', 'trump', 'trade', 'pact', 'history', 'mr', 'trump', 'win', 'trade', 'war', 'country', 'globe', 'union', 'china', 'agreement', 'state', 'mexico', 'agreement', 'canada', 'party', 'talk', 'washington', 'week', 'agreement', 'mexico', 'center', 'rule', 'automobile', 'industry', 'source', 'friction', 'leaf', 'issue', 'country', 'nafta', 'approval', 'effect', 'vote', 'lawmaker', 'president', 'plan', 'deal', 'monday', 'morning', 'mr', 'trump', 'deal', 'mexico', 'tweet', 'president', 'weekend', 'talk', 'relationship', 'mexico', 'hour', 'people', 'government', 'trade', 'agreement', 'mexico', 'j', 'trump', 'realdonaldtrump', 'nafta', 'canada', 'talk', 'canada', 'party', 'discussion', 'potential', 'twocountry', 'deal', 'opposition', 'lawmaker', 'industry', 'supply', 'country', 'official', 'progress', 'canada', 'negotiation', 'trade', 'relation', 'canada', 'month', 'mr', 'trump', 'country', 'trade', 'practice', 'leader', 'deal', 'favor'], ['growth', 'manufacturing', 'sector', 'september', 'demand', 'survey', 'sunday', 'pressure', 'policymakers', 'toll', 'economy', 'survey', 'growth', 'factory', 'sector', 'month', 'expansion', 'export', 'order', 'year', 'survey', 'manufacturing', 'business', 'activity', 'reading', 'china', 'economy', 'consensus', 'view', 'world', 'economy', 'policymakers', 'measure', 'month', 'policy', 'preparation', 'pressure', 'economy', 'year', 'tang', 'jianwei', 'economist', 'bank', 'communication', 'cushion', 'economy', 'service', 'half', 'economy', 'purchasing', 'manager', 'index', 'pmi', 'bureau', 'statistic', 'sunday', 'service', 'faster', 'rate', 'september', 'index', 'low', 'september', 'august', 'reuters', 'forecast', 'index', 'mark', 'expansion', 'contraction', 'month', 'caixinmarkit', 'purchasing', 'manager', 'index', 'pmi', 'economist', 'reuters', 'average', 'survey', 'september', 'time', 'china', 'factory', 'business', 'activity', 'export', 'order', 'official', 'data', 'number', 'company', 'poll', 'firm', 'job', 'creation', 'official', 'jo', 'loss', 'trade', 'risk', 'caixin', 'survey', 'export', 'order', 'indicator', 'activity', 'pace', 'company', 'order', 'friction', 'tariff', 'survey', 'export', 'order', 'contracting', 'month', 'expansion', 'manufacturing', 'sector', 'september', 'export', 'performance', 'demand', 'impact', 'company', 'production', 'zhengsheng', 'zhong', 'director', 'analysis', 'cebm', 'group', 'pressure', 'china', 'economy', 'tang', 'bank', 'communication', 'growth', 'percent', 'quarter', 'percent', 'apriljune', 'trump', 'administration', 'sign', 'weakness', 'china', 'stock', 'market', 'proof', 'state', 'trade', 'war', 'beijing', 'demand', 'blow', 'trade', 'shock', 'tariff', 'worth', 'good', 'sept', 'duty', 'good', 'export', 'state', 'plan', 'trade', 'talk', 'week', 'side', 'fight', 'pall', 'outlook', 'growth', 'head', 'cabinet', 'development', 'research', 'centre', 'reporter', 'impact', 'tariff', 'exporter', 'production', 'worker', 'china', 'export', 'data', 'analyst', 'company', 'shipment', 'state', 'round', 'tariff', 'risk', 'drop', 'duty', 'slump', 'export', 'order', 'theory', 'city', 'province', 'strain', 'china', 'province', 'product', 'drop', 'export', 'month', 'year', 'demand', 'china', 'trade', 'row', 'crackdown', 'lending', 'debt', 'company', 'cost', 'investment', 'growth', 'record', 'low', 'policymakers', 'focus', 'month', 'growth', 'measure', 'economy', 'trade', 'storm', 'financing', 'cost', 'lending', 'business', 'tax', 'infrastructure', 'project', 'analyst', 'time', 'measure', 'floor', 'economy', 'thing', 'china', 'hope', 'service', 'sector', 'wage', 'people', 'consumer', 'spending', 'power', 'pmi', 'index', 'september', 'service', 'level', 'june', 'august', 'bank', 'bank', 'ratio', 'time', 'year', 'liquidity', 'reduction'], ['beijingan', 'trade', 'brawl', 'toll', 'economy', 'demand', 'consumption', 'cause', 'manufacturer', 'production', 'slowdown', 'report', 'prospect', 'china', 'leader', 'stimulus', 'measure', 'growth', 'data', 'maker', 'car', 'machinery', 'product', 'september', 'export', 'order', 'year', 'time', 'output', 'manufacturer', 'data', 'gauge', 'performance', 'quarter', 'trade', 'fight', 'bite', 'growth', 'world', 'economy', 'softening', 'growth', 'debtcontrol', 'campaign', 'investment', 'consumption', 'company', 'individual', 'july', 'government', 'trade', 'threat', 'tariff', 'hundred', 'billion', 'dollar', 'country', 'product'], ['gauge', 'activity', 'china', 'manufacturing', 'sector', 'september', 'nation', 'slowdown', 'fallout', 'trade', 'war', 'manufacturing', 'purchasing', 'manager', 'index', 'september', 'versus', 'august', 'estimate', 'survey', 'economist', 'caixin', 'manufacturing', 'pmi', 'sentiment', 'firm', 'reading', 'line', 'expansion', 'contraction', 'time', 'nonmanufacturing', 'pmi', 'demand', 'service', 'construction', 'headwind', 'economy', 'president', 'donald', 'administration', 'tariff', 'total', 'good', 'china', 'china', 'levy', 'worth', 'good', 'gauge', 'export', 'order', 'manufacturing', 'report', 'month', 'contraction', 'reading', 'slowdown', 'view', 'government', 'range', 'stimulus', 'measure', 'middle', 'year', 'infrastructure', 'investment', 'government', 'support', 'policy', 'impact', 'quarter', 'damage', 'trade', 'war', 'yuwei', 'researcher', 'bank', 'institute', 'finance', 'effort', 'infrastructure', 'investment', 'construction', 'activity', 'service', 'industry', 'quarter', 'bloomberg', 'economics', 'indicator', 'china', 'economy', 'pullback', 'sentiment', 'september', 'report', 'picture', 'whats', 'china', 'indicator', 'business', 'condition', 'market', 'sentiment', 'bloombergs', 'indicator', 'series', 'economy', 'slowdown', 'profit', 'growth', 'company', 'enterprise', 'discrepancy', 'data', 'suggest', 'picture', 'manufacturer', 'growth', 'rate', 'official', 'stimulus', 'form', 'tax', 'cut', 'infrastructure', 'spending', 'economy', 'effect', 'trade', 'dispute', 'analyst', 'bank', 'liquidity', 'system', 'growth', 'index', 'telecommunication', 'industry', 'report', 'activity', 'transportation', 'realestate', 'service', 'reading', 'contraction', 'bureau', 'statistic', 'construction', 'activity', 'trade', 'war', 'impact', 'reliance', 'trade', 'influence', 'wen', 'tao', 'analyst', 'logistics', 'information', 'center', 'statement', 'website'], ['growth', 'manufacturing', 'sector', 'september', 'month', 'expansion', 'export', 'order', 'year', 'survey', 'sunday', 'tariff', 'toll', 'economy', 'caixinmarkit', 'purchasing', 'manager', 'index', 'pmi', 'september', 'economist', 'reuters', 'reading', 'average', 'divide', 'expansion', 'contraction', 'basis', 'time', 'china', 'factory', 'business', 'activity', 'production', 'september', 'sale', 'business', 'confidence', 'manufacturer', 'year', 'survey', 'reading', 'order', 'export', 'order', 'data', 'factory', 'demand', 'customer', 'home', 'cooling', 'economy', 'export', 'order', 'indicator', 'activity', 'shrank', 'pace', 'company', 'decline', 'friction', 'tariff', 'state', 'tariff', 'worth', 'good', 'sept', 'escalation', 'trade', 'war', 'world', 'economy', 'attempt', 'negotiation', 'side', 'fight', 'subindex', 'order', 'june', 'expansion', 'manufacturing', 'sector', 'september', 'export', 'performance', 'demand', 'impact', 'company', 'production', 'zhengsheng', 'zhong', 'director', 'analysis', 'cebm', 'group', 'pressure', 'china', 'economy', 'deterioration', 'business', 'condition', 'manufacturer', 'workforce', 'number', 'rate', 'month', 'survey', 'caixin', 'survey', 'company', 'job', 'creation', 'official', 'job', 'loss', 'trade', 'risk', 'cost', 'demand', 'firm', 'company', 'funding', 'condition', 'beijing', 'crackdown', 'debt', 'borrowing', 'practice', 'policymakers', 'fund', 'firm', 'tax', 'fee', 'bank', 'credit', 'line', 'firm', 'trade', 'dispute', 'survey', 'price', 'pressure', 'manufacturer', 'concern', 'profitability', 'turn', 'outlook', 'investment', 'input', 'price', 'september', 'cost', 'material', 'protection', 'policy'], ['gatekeeper', 'harvard', 'program', 'stand', 'court', 'monday', 'day', 'trial', 'harvard', 'use', 'race', 'factor', 'admission', 'decision', 'fitzsimmons', 'year', 'admission', 'school', 'witness', 'statement', 'architect', 'admission', 'applicant', 'credential', 'activity', 'experience', 'attribute', 'university', 'model', 'student', 'trial', 'lawsuit', 'student', 'admission', 'member', 'asianamericans', 'group', 'strategist', 'edward', 'blum', 'challenge', 'action', 'case', 'university', 'carolina', 'chapel', 'harvard', 'lawsuit', 'school', 'applicant', 'standard', 'student', 'race', 'allegation', 'race', 'factor', 'trial', 'week', 'judge', 'jury', 'trial', 'testimony', 'harvard', 'admission', 'practice', 'right', 'law', 'district', 'judge', 'allison', 'burroughs', 'ruling', 'trial', 'conclusion', 'month', 'decision', 'fitzsimmons', 'plaintiff', 'lawyer', 'monday', 'tuesday', 'applicant', 'score', 'group', 'score', 'factor', 'harvard', 'admission', 'personality', 'trait', 'likability', 'courage', 'kindness', 'investigation', 'report', 'decrease', 'applicant', 'chance', 'admission', 'harvard', 'court', 'filing', 'rating', 'factor', 'teacher', 'recommendation', 'essay', 'interview', 'office', 'research', 'report', 'trial', 'judge', 'admission', 'president', 'faust', 'harvard', 'college', 'dean', 'khurana', 'witness', 'economist', 'side', 'year', 'harvard', 'admission', 'data', 'conclusion', 'applicant', 'disadvantage', 'race', 'hundred', 'protester', 'activist', 'rally', 'boston', 'rally', 'copley', 'square', 'coalition', 'education', 'group', 'lawsuit', 'mr', 'blum', 'stage', 'ovation', 'parent', 'thank', 'harvard', 'student', 'asianamericans', 'college', 'harvard', 'speech', 'elimination', 'race', 'consideration', 'college', 'admission', 'banner', 'student', 'organizer', 'flag', 'audience', 'mile', 'student', 'others', 'blue', 'shirt', 'defenddiversity', 'group', 'american', 'action', 'sign', 'blum', 'dont', 'use', 'asian', 'agenda', 'rally', 'student', 'trial', 'harvard', 'behalf', 'action', 'diversity', 'campus', 'experience', 'speech', 'chant', 'erase', 'race', 'score'], ['lawsuit', 'harvard', 'behalf', 'student', 'admission', 'trial', 'monday', 'race', 'case', 'decade', 'action', 'policy', 'country', 'stake', 'lawsuit', 'advocate', 'admission', 'practice', 'student', 'goal', 'supreme', 'court', 'case', 'admission', 'policy', 'race', 'student', 'campus', 'diversity', 'party', 'side', 'court', 'issue', 'president', 'donald', 'appointee', 'justice', 'court', 'justice', 'landmark', 'challenger', 'edward', 'blum', 'activist', 'series', 'claim', 'policy', 'action', 'lawsuit', 'behalf', 'abigail', 'fisher', 'university', 'texas', 'challenge', 'voting', 'right', 'act', 'justice', 'anthony', 'vote', 'court', 'admission', 'university', 'case', 'kavanaugh', 'month', 'justice', 'antonin', 'scalia', 'action', 'university', 'program', 'case', 'student', 'admission', 'group', 'blum', 'harvard', 'case', 'university', 'balancing', 'chance', 'admission', 'black', 'hispanic', 'chance', 'american', 'harvard', 'practice', 'group', 'kind', 'discrimination', 'quota', 'applicant', 'assertion', 'american', 'standard', 'applicant', 'university', 'advocate', 'swath', 'background', 'experience', 'side', 'case', 'lawsuit', 'seek', 'consideration', 'race', 'admission', 'others', 'argue', 'university', 'race', 'campus', 'diversity', 'american', 'tie', 'country', 'opportunity', 'college', 'defense', 'fund', 'brief', 'behalf', 'student', 'organization', 'black', 'american', 'american', 'defense', 'fund', 'lawsuit', 'effort', 'division', 'court', 'endorsement', 'case', 'regent', 'university', 'california', 'v', 'ruling', 'vote', 'kennedy', 'justice', 'sandra', 'day', 'trump', 'administration', 'admission', 'practice', 'education', 'justice', 'department', 'complaint', 'group', 'student', 'admission', 'country', 'institution', 'education', 'balancing', 'limit', 'admission', 'effort', 'diversity', 'part', 'education', 'mission', 'admission', 'officer', 'wholeperson', 'evaluation', 'academic', 'activity', 'talent', 'quality', 'background', 'race', 'case', 'side', 'evidence', 'testimony', 'conclusion', 'district', 'court', 'judge', 'allison', 'party', 'relies', 'expert', 'report', 'presence', 'absence', 'effect', 'likelihood', 'admission', 'claim', 'evidence', 'intent', 'burroughs', 'order', 'month', 'request', 'side', 'trial', 'case', 'title', 'vi', 'right', 'act', 'discrimination', 'institution', 'fund', 'appointee', 'president', 'barack', 'obama', 'trial', 'week', 'side', 'statement', 'monday'], ['amantha', 'remembers', 'day', 'trial', 'version', 'college', 'part', 'part', 'hour', 'résuméor', 'hour', 'top', 'spent', 'exercise', 'home', 'oneonone', 'collegeapplication', 'coach', 'score', 'practice', 'test', 'weeknight', 'school', 'twin', 'bed', 'school', 'college', 'prep', 'time', 'hour', 'homework', 'apphysics', 'problem', 'thesis', 'samantha', 'name', 'topic', 'sophomore', 'john', 'hopkins', 'university', 'mile', 'cincinnati', 'home', 'school', 'shes', 'majoring', 'relation', 'study', 'centuryold', 'baltimore', 'campus', 'home', 'way', 'parent', 'somebody', 'collegeadmissions', 'process', 'elite', 'school', 'student', 'identity', 'profile', 'people', 'application', 'student', 'identity', 'background', 'effort', 'admission', 'officer', 'process', 'people', 'samantha', 'parent', 'consultant', 'game', 'system', 'applicationjuicing', 'service', 'study', 'help', 'practice', 'interview', 'example', 'whod', 'admission', 'system', 'time', 'process', 'didnt', 'lie', 'application', 'effort', 'personality', 'student', 'pressure', 'getgo', 'samantha', 'tutor', 'college', 'counselor', 'application', 'advice', 'violin', 'playing', 'stereotype', 'instrument', 'essay', 'asian', 'world', 'lot', 'essay', 'samantha', 'ive', 'thing', 'im', 'hopkins', 'im', 'judge', 'boston', 'opening', 'argument', 'lawsuit', 'attention', 'detail', 'admission', 'process', 'state', 'harvard', 'university', 'applicant', 'suit', 'debate', 'action', 'court', 'court', 'fisher', 'v', 'university', 'texas', 'use', 'race', 'factor', 'admission', 'difference', 'harvard', 'case', 'highprofile', 'case', 'others', 'action', 'applicant', 'harvard', 'suit', 'idea', 'action', 'minority', 'applicant', 'harvard', 'case', 'student', 'admission', 'strategist', 'ed', 'blum', 'student', 'admission', 'suit', 'harvard', 'evaluation', 'thing', 'student', 'personality', 'admission', 'officer', 'applicant', 'analysis', 'student', 'data', 'plaintiff', 'court', 'filing', 'harvard', 'applicant', 'gpa', 'test', 'score', 'involvement', 'counterpart', 'race', 'approach', 'admission', 'officer', 'candidate', 'fact', 'student', 'victim', 'discrimination', 'case', 'discrimination', 'harvard', 'court', 'suit', 'light', 'crack', 'foundation', 'admission', 'country', 'lawsuit', 'byproduct', 'fact', 'student', 'spot', 'college', 'number', 'american', 'year', 'candidate', 'harvard', 'slot', 'disease', 'people', 'college', 'college', 'richard', 'psychologist', 'lecturer', 'initiative', 'child', 'contributor', 'back', 'disease', 'pressure', 'harvard', 'lawsuit', 'symptom', 'disease', 'country', 'handful', 'university', 'essay', 'recommendation', 'information', 'candidate', 'background', 'character', 'score', 'effort', 'number', 'student', 'campus', 'scope', 'purpose', 'approach', 'student', 'form', 'applicant', 'lens', 'contexther', 'interest', 'personality', 'yes', 'race', 'parent', 'background', 'example', 'way', 'identity', 'opportunity', 'day', 'college', 'method', 'inequality', 'promote', 'college', 'access', 'university', 'policy', 'brief', 'highereducation', 'professor', 'michael', 'admission', 'goal', 'study', 'bastedo', 'coresearchers', 'journal', 'education', 'highereducation', 'institution', 'state', 'admission', 'student', 'imprecise', 'approach', 'admission', 'school', 'school', 'demand', 'luxury', 'applicant', 'journal', 'education', 'half', 'institution', 'student', 'addition', 'score', 'quarter', 'approach', 'admission', 'majority', 'college', 'enrollment', 'savant', 'sea', 'application']]\n"
     ]
    }
   ],
   "source": [
    "print(docs_nouns) #list of lists"
   ]
  },
  {
   "cell_type": "code",
   "execution_count": 6,
   "metadata": {},
   "outputs": [
    {
     "data": {
      "text/plain": [
       "['aleman',\n",
       " 'world',\n",
       " 'video',\n",
       " 'game',\n",
       " 'front',\n",
       " 'gunshot',\n",
       " 'restroom',\n",
       " 'cover',\n",
       " 'mass',\n",
       " 'shooting',\n",
       " 'florida',\n",
       " 'time',\n",
       " 'tournament',\n",
       " 'player',\n",
       " 'football',\n",
       " 'video',\n",
       " 'game',\n",
       " 'madden',\n",
       " 'jacksonville',\n",
       " 'winner',\n",
       " 'level',\n",
       " 'tournament',\n",
       " 'vega',\n",
       " 'october',\n",
       " 'cash',\n",
       " 'prize',\n",
       " 'participant',\n",
       " 'jacksonville',\n",
       " 'marketplace',\n",
       " 'store',\n",
       " 'bar',\n",
       " 'restaurant',\n",
       " 'st',\n",
       " 'john',\n",
       " 'river',\n",
       " 'david',\n",
       " 'gamer',\n",
       " 'baltimore',\n",
       " 'maryland',\n",
       " 'jacksonville',\n",
       " 'tournament',\n",
       " 'game',\n",
       " 'bar',\n",
       " 'back',\n",
       " 'pizza',\n",
       " 'restaurant',\n",
       " 'sunday',\n",
       " 'gun',\n",
       " 'venue',\n",
       " 'fire',\n",
       " 'people',\n",
       " 'gun',\n",
       " 'mike',\n",
       " 'williams',\n",
       " 'police',\n",
       " 'motive',\n",
       " 'katz',\n",
       " 'handgun',\n",
       " 'sheriff',\n",
       " 'people',\n",
       " 'wound',\n",
       " 'people',\n",
       " 'area',\n",
       " 'williams',\n",
       " 'victim',\n",
       " 'condition',\n",
       " 'hospital',\n",
       " 'sheriff',\n",
       " 'horror',\n",
       " 'stream',\n",
       " 'event',\n",
       " 'game',\n",
       " 'shot',\n",
       " 'people',\n",
       " 'person',\n",
       " 'f',\n",
       " 'whatd',\n",
       " 'call',\n",
       " 'williams',\n",
       " 'officer',\n",
       " 'scene',\n",
       " 'minute',\n",
       " 'bathroom',\n",
       " 'minute',\n",
       " 'ran',\n",
       " 'scene',\n",
       " 'im',\n",
       " 'member',\n",
       " 'jacksonville',\n",
       " 'fire',\n",
       " 'station',\n",
       " 'rock',\n",
       " 'training',\n",
       " 'parking',\n",
       " 'garage',\n",
       " 'street',\n",
       " 'landing',\n",
       " 'dozen',\n",
       " 'people',\n",
       " 'president',\n",
       " 'jacksonville',\n",
       " 'association',\n",
       " 'fire',\n",
       " 'fighter',\n",
       " 'person',\n",
       " 'shirt',\n",
       " 'chest',\n",
       " 'wyse',\n",
       " 'person',\n",
       " 'wound',\n",
       " 'firefighter',\n",
       " 'aid',\n",
       " 'others',\n",
       " 'landing',\n",
       " 'wyse',\n",
       " 'officer',\n",
       " 'victim',\n",
       " 'body',\n",
       " 'katzs',\n",
       " 'body',\n",
       " 'hour',\n",
       " 'authority',\n",
       " 'agent',\n",
       " 'bureau',\n",
       " 'alcohol',\n",
       " 'tobacco',\n",
       " 'firearm',\n",
       " 'explosive',\n",
       " 'fbi',\n",
       " 'police',\n",
       " 'family',\n",
       " 'home',\n",
       " 'baltimore',\n",
       " 'katz',\n",
       " 'gaming',\n",
       " 'bread',\n",
       " 'tournament',\n",
       " 'multiple',\n",
       " 'gamers',\n",
       " 'cnn',\n",
       " 'buffalo',\n",
       " 'bill',\n",
       " 'picture',\n",
       " 'bill',\n",
       " 'congrats',\n",
       " 'bill',\n",
       " 'thanks',\n",
       " 'bill',\n",
       " 'tweet',\n",
       " 'read',\n",
       " 'interview',\n",
       " 'win',\n",
       " 'buffalo',\n",
       " 'bill',\n",
       " 'player',\n",
       " 'tasker',\n",
       " 'katz',\n",
       " 'prowess',\n",
       " 'player',\n",
       " 'florida',\n",
       " 'mass',\n",
       " 'shooting',\n",
       " 'year',\n",
       " 'gunman',\n",
       " 'people',\n",
       " 'douglas',\n",
       " 'school',\n",
       " 'parkland',\n",
       " 'year',\n",
       " 'people',\n",
       " 'fort',\n",
       " 'lauderdale',\n",
       " 'airport',\n",
       " 'year',\n",
       " 'pulse',\n",
       " 'nightclub',\n",
       " 'orlando',\n",
       " 'gov',\n",
       " 'rick',\n",
       " 'scott',\n",
       " 'reporter',\n",
       " 'night',\n",
       " 'weve',\n",
       " 'something',\n",
       " 'men',\n",
       " 'life',\n",
       " 'value',\n",
       " 'somebody',\n",
       " 'life',\n",
       " 'congresswoman',\n",
       " 'gabrielle',\n",
       " 'giffords',\n",
       " 'mass',\n",
       " 'shooting',\n",
       " 'nation',\n",
       " 'attention',\n",
       " 'nation',\n",
       " 'grief',\n",
       " 'heart',\n",
       " 'giffords',\n",
       " 'gun',\n",
       " 'violence',\n",
       " 'prevention',\n",
       " 'organization',\n",
       " 'statement',\n",
       " 'massacre',\n",
       " 'jacksonville',\n",
       " 'reminder',\n",
       " 'threat',\n",
       " 'violence',\n",
       " 'matter',\n",
       " 'day',\n",
       " 'giffords',\n",
       " 'indictment',\n",
       " 'country',\n",
       " 'inability',\n",
       " 'kid',\n",
       " 'nation',\n",
       " 'grief',\n",
       " 'heart',\n",
       " 'massacre',\n",
       " 'jacksonville',\n",
       " 'indictment',\n",
       " 'country',\n",
       " 'inability',\n",
       " 'kid',\n",
       " 'httpstconnw88rvwr2',\n",
       " 'gabrielle',\n",
       " 'giffords',\n",
       " 'gabbygiffords',\n",
       " 'ea',\n",
       " 'sport',\n",
       " 'video',\n",
       " 'game',\n",
       " 'developer',\n",
       " 'publisher',\n",
       " 'shooting',\n",
       " 'senseless',\n",
       " 'act',\n",
       " 'violence',\n",
       " 'complexity',\n",
       " 'founder',\n",
       " 'ceo',\n",
       " 'jason',\n",
       " 'cnn',\n",
       " 'shooting',\n",
       " 'esports',\n",
       " 'industry',\n",
       " 'security',\n",
       " 'event',\n",
       " 'company',\n",
       " 'drini',\n",
       " 'thumb',\n",
       " 'lake',\n",
       " 'someone',\n",
       " 'walk',\n",
       " 'event',\n",
       " 'sportsmanship',\n",
       " 'teamwork',\n",
       " 'vibe',\n",
       " 'something',\n",
       " 'heartbreaking',\n",
       " 'esports',\n",
       " 'industry',\n",
       " 'whole',\n",
       " 'look',\n",
       " 'security']"
      ]
     },
     "execution_count": 6,
     "metadata": {},
     "output_type": "execute_result"
    }
   ],
   "source": [
    "docs_nouns[0]"
   ]
  },
  {
   "cell_type": "code",
   "execution_count": 7,
   "metadata": {},
   "outputs": [],
   "source": [
    "from gensim.corpora import Dictionary"
   ]
  },
  {
   "cell_type": "code",
   "execution_count": 8,
   "metadata": {},
   "outputs": [],
   "source": [
    "dictionary = Dictionary(docs_nouns)"
   ]
  },
  {
   "cell_type": "code",
   "execution_count": 9,
   "metadata": {},
   "outputs": [],
   "source": [
    "DTM = []\n",
    "for doc in docs_nouns:\n",
    "    bow = dictionary.doc2bow(doc)\n",
    "    DTM.append(bow)"
   ]
  },
  {
   "cell_type": "code",
   "execution_count": 10,
   "metadata": {},
   "outputs": [],
   "source": [
    "from gensim.models import LsiModel"
   ]
  },
  {
   "cell_type": "code",
   "execution_count": 11,
   "metadata": {},
   "outputs": [],
   "source": [
    "model = LsiModel(DTM, num_topics=5, id2word=dictionary) "
   ]
  },
  {
   "cell_type": "markdown",
   "metadata": {},
   "source": [
    "각 주제들과 관련이 높은 단어들 확인하기"
   ]
  },
  {
   "cell_type": "code",
   "execution_count": 12,
   "metadata": {},
   "outputs": [
    {
     "data": {
      "text/plain": [
       "[(0,\n",
       "  '-0.450*\"trump\" + -0.420*\"president\" + -0.255*\"mccain\" + -0.178*\"mccains\" + -0.144*\"john\" + -0.126*\"admission\" + -0.120*\"week\" + -0.118*\"senator\" + -0.116*\"house\" + -0.113*\"trade\"'),\n",
       " (1,\n",
       "  '0.449*\"admission\" + 0.352*\"student\" + 0.296*\"harvard\" + 0.190*\"college\" + 0.189*\"applicant\" + -0.180*\"trump\" + 0.179*\"university\" + 0.167*\"case\" + 0.161*\"race\" + 0.150*\"court\"'),\n",
       " (2,\n",
       "  '0.275*\"trade\" + 0.275*\"economy\" + 0.244*\"export\" + 0.242*\"china\" + 0.211*\"september\" + 0.189*\"survey\" + 0.186*\"order\" + 0.174*\"growth\" + 0.168*\"company\" + 0.164*\"month\"'),\n",
       " (3,\n",
       "  '-0.293*\"jacksonville\" + -0.248*\"people\" + -0.231*\"williams\" + -0.231*\"tournament\" + -0.177*\"game\" + -0.163*\"victim\" + -0.147*\"video\" + -0.133*\"area\" + -0.133*\"hospital\" + -0.131*\"landing\"'),\n",
       " (4,\n",
       "  '-0.368*\"agreement\" + -0.319*\"mexico\" + -0.301*\"canada\" + -0.281*\"deal\" + -0.187*\"negotiation\" + -0.187*\"trade\" + -0.166*\"issue\" + -0.158*\"talk\" + 0.156*\"mccain\" + -0.146*\"official\"')]"
      ]
     },
     "execution_count": 12,
     "metadata": {},
     "output_type": "execute_result"
    }
   ],
   "source": [
    "model.print_topics(num_words=10)"
   ]
  },
  {
   "cell_type": "markdown",
   "metadata": {},
   "source": [
    "각 주제와 각 문서간의 관련 정도 확인해 보기 "
   ]
  },
  {
   "cell_type": "code",
   "execution_count": 14,
   "metadata": {},
   "outputs": [
    {
     "data": {
      "text/plain": [
       "[(0, -5.010340723721413),\n",
       " (1, 1.9889856978513853),\n",
       " (2, 3.2091776041683833),\n",
       " (3, -17.51347297018426),\n",
       " (4, -1.7555975726161503)]"
      ]
     },
     "execution_count": 14,
     "metadata": {},
     "output_type": "execute_result"
    }
   ],
   "source": [
    "model[DTM[0]] # 문서 0의 경우, 주제 3과 가장 큰 관련이 있습니다."
   ]
  },
  {
   "cell_type": "code",
   "execution_count": 15,
   "metadata": {},
   "outputs": [
    {
     "data": {
      "text/plain": [
       "[(0, -6.396194084941487),\n",
       " (1, 1.5227026892174982),\n",
       " (2, 2.8191051872486597),\n",
       " (3, -18.82765710924198),\n",
       " (4, -1.3939499564797027)]"
      ]
     },
     "execution_count": 15,
     "metadata": {},
     "output_type": "execute_result"
    }
   ],
   "source": [
    "model[DTM[1]]"
   ]
  },
  {
   "cell_type": "code",
   "execution_count": 16,
   "metadata": {},
   "outputs": [
    {
     "data": {
      "text/plain": [
       "[(0, -5.590748151663147),\n",
       " (1, 2.9134641429111916),\n",
       " (2, 3.4727592597535613),\n",
       " (3, -19.36374646237506),\n",
       " (4, -1.3727006624945226)]"
      ]
     },
     "execution_count": 16,
     "metadata": {},
     "output_type": "execute_result"
    }
   ],
   "source": [
    "model[DTM[2]]"
   ]
  },
  {
   "cell_type": "markdown",
   "metadata": {},
   "source": [
    "# 찾고자 하는 주제의 수 정하기"
   ]
  },
  {
   "cell_type": "code",
   "execution_count": 64,
   "metadata": {},
   "outputs": [],
   "source": [
    "from gensim.models import CoherenceModel"
   ]
  },
  {
   "cell_type": "code",
   "execution_count": 65,
   "metadata": {},
   "outputs": [],
   "source": [
    "start = 1\n",
    "limit = 11\n",
    "step = 1"
   ]
  },
  {
   "cell_type": "code",
   "execution_count": 106,
   "metadata": {},
   "outputs": [],
   "source": [
    "dictionary = Dictionary(docs_nouns)\n",
    "DTM = []\n",
    "for doc in docs_nouns:\n",
    "    bow = dictionary.doc2bow(doc)\n",
    "    DTM.append(bow)"
   ]
  },
  {
   "cell_type": "code",
   "execution_count": 107,
   "metadata": {},
   "outputs": [],
   "source": [
    "coherence_values_umass = []\n",
    "\n",
    "for num_topics in range(start, limit, step):\n",
    "    lsi_model = LsiModel(DTM, num_topics=num_topics, id2word=dictionary)\n",
    "    coherencemodel = CoherenceModel(model=lsi_model, corpus=DTM, dictionary=dictionary, \n",
    "                                    coherence='u_mass', topn=10)\n",
    "    coherence_values_umass.append(coherencemodel.get_coherence())"
   ]
  },
  {
   "cell_type": "code",
   "execution_count": 108,
   "metadata": {},
   "outputs": [
    {
     "data": {
      "text/plain": [
       "[-3.658681163404324,\n",
       " -2.2107483400604186,\n",
       " -3.220818535056066,\n",
       " -2.4813673350165875,\n",
       " -2.019197908680385,\n",
       " -2.2890062857472966,\n",
       " -2.881718918575518,\n",
       " -3.626452733268986,\n",
       " -2.3618895114127927,\n",
       " -2.426869325893705]"
      ]
     },
     "execution_count": 108,
     "metadata": {},
     "output_type": "execute_result"
    }
   ],
   "source": [
    "coherence_values_umass"
   ]
  },
  {
   "cell_type": "code",
   "execution_count": 109,
   "metadata": {},
   "outputs": [
    {
     "data": {
      "image/png": "[encoded data removed]",
      "text/plain": [
       "<Figure size 432x288 with 1 Axes>"
      ]
     },
     "metadata": {
      "needs_background": "light"
     },
     "output_type": "display_data"
    }
   ],
   "source": [
    "import matplotlib.pyplot as plt\n",
    "limit=limit; start=start; step=step;\n",
    "x = range(start, limit, step)\n",
    "plt.plot(x, coherence_values_umass)\n",
    "plt.xlabel(\"Num Topics\")\n",
    "plt.ylabel(\"Coherence score: u mass\")\n",
    "plt.legend((\"coherence_values\"), loc='best')\n",
    "plt.show()"
   ]
  },
  {
   "cell_type": "code",
   "execution_count": 124,
   "metadata": {},
   "outputs": [],
   "source": [
    "dictionary = Dictionary(docs_nouns)\n",
    "DTM = []\n",
    "for doc in docs_nouns:\n",
    "    bow = dictionary.doc2bow(doc)\n",
    "    DTM.append(bow)"
   ]
  },
  {
   "cell_type": "code",
   "execution_count": 134,
   "metadata": {},
   "outputs": [
    {
     "data": {
      "text/plain": [
       "1168"
      ]
     },
     "execution_count": 134,
     "metadata": {},
     "output_type": "execute_result"
    }
   ],
   "source": [
    "len(dictionary)"
   ]
  },
  {
   "cell_type": "code",
   "execution_count": 138,
   "metadata": {},
   "outputs": [],
   "source": [
    "coherence_values_cv = []\n",
    "\n",
    "for num_topics in range(start, limit, step):\n",
    "    lsi_model = LsiModel(DTM, num_topics=num_topics, id2word=dictionary)\n",
    "    coherencemodel = CoherenceModel(model=lsi_model, corpus=DTM, texts=docs_nouns, dictionary=dictionary, \n",
    "                                    coherence='c_v', topn=50)\n",
    "    coherence_values_cv.append(coherencemodel.get_coherence())"
   ]
  },
  {
   "cell_type": "code",
   "execution_count": 139,
   "metadata": {},
   "outputs": [
    {
     "data": {
      "text/plain": [
       "[0.3822013914131604,\n",
       " 0.4403213078918927,\n",
       " 0.47013249202742974,\n",
       " 0.44727263370587933,\n",
       " 0.5209518151127824,\n",
       " 0.4839576991050871,\n",
       " 0.4629292328263774,\n",
       " 0.4204294415504313,\n",
       " 0.39334614892795916,\n",
       " 0.4425883222926473]"
      ]
     },
     "execution_count": 139,
     "metadata": {},
     "output_type": "execute_result"
    }
   ],
   "source": [
    "coherence_values_cv"
   ]
  },
  {
   "cell_type": "code",
   "execution_count": 140,
   "metadata": {},
   "outputs": [
    {
     "data": {
      "image/png": "[encoded data removed]",
      "text/plain": [
       "<Figure size 432x288 with 1 Axes>"
      ]
     },
     "metadata": {
      "needs_background": "light"
     },
     "output_type": "display_data"
    }
   ],
   "source": [
    "x = range(start, limit, step)\n",
    "limit=limit; start=start; step=step;\n",
    "plt.plot(x, coherence_values_cv)\n",
    "plt.xlabel(\"Num Topics\")\n",
    "plt.ylabel(\"Coherence score\")\n",
    "plt.legend((\"coherence_values\"), loc='best')\n",
    "plt.show()"
   ]
  },
  {
   "cell_type": "code",
   "execution_count": null,
   "metadata": {},
   "outputs": [],
   "source": []
  }
 ],
 "metadata": {
  "kernelspec": {
   "display_name": "Python 3 (ipykernel)",
   "language": "python",
   "name": "python3"
  },
  "language_info": {
   "codemirror_mode": {
    "name": "ipython",
    "version": 3
   },
   "file_extension": ".py",
   "mimetype": "text/x-python",
   "name": "python",
   "nbconvert_exporter": "python",
   "pygments_lexer": "ipython3",
   "version": "3.8.5"
  }
 },
 "nbformat": 4,
 "nbformat_minor": 2
}
