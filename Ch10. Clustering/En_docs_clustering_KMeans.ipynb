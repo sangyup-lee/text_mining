{
 "cells": [
  {
   "cell_type": "code",
   "execution_count": 1,
   "metadata": {},
   "outputs": [],
   "source": [
    "# 경고(warning) 문구를 화면에 출력하지 않게 하기 위해서 아래 코드를 사용합니다. \n",
    "import warnings\n",
    "warnings.filterwarnings('ignore')"
   ]
  },
  {
   "cell_type": "markdown",
   "metadata": {},
   "source": [
    "아래와 같이 텍스트 파일을 읽어 옵니다."
   ]
  },
  {
   "cell_type": "code",
   "execution_count": 2,
   "metadata": {},
   "outputs": [],
   "source": [
    "import numpy as np\n",
    "from os import listdir\n",
    "from os.path import isfile, join\n",
    "\n",
    "mypath = './example_En_docs/'\n",
    "onlyfiles = [f for f in listdir(mypath) if isfile(join(mypath, f))]\n",
    "onlyfiles.sort()\n",
    "\n",
    "total_docs = []\n",
    "for file in onlyfiles:\n",
    "    file_path = mypath+file\n",
    "    with open(file_path, 'r', encoding='utf8') as f:\n",
    "        content = f.read()\n",
    "    total_docs.append(content)"
   ]
  },
  {
   "cell_type": "code",
   "execution_count": 3,
   "metadata": {},
   "outputs": [
    {
     "data": {
      "text/plain": [
       "15"
      ]
     },
     "execution_count": 3,
     "metadata": {},
     "output_type": "execute_result"
    }
   ],
   "source": [
    "len(total_docs)"
   ]
  },
  {
   "cell_type": "code",
   "execution_count": 4,
   "metadata": {
    "scrolled": true
   },
   "outputs": [
    {
     "data": {
      "text/plain": [
       "'Ryen Aleman was engrossed in the virtual world, focused on the video game in front of him, when he realized the gunshots he was hearing were real. He ducked and bolted for a restroom to take cover.\\nAnother mass shooting was unfolding in Florida, this time at a tournament for competitive players of the football video game, Madden, in Jacksonville. The winners would go on to a higher level tournament in Las Vegas in October, where large cash prizes could be won.\\nParticipants had gathered at the Jacksonville Landing Complex, an open-air marketplace with stores, bars and restaurants along the St. Johns River.\\n\\nDavid Katz, a 24-year-old gamer from Baltimore, Maryland, was in Jacksonville for the tournament at GLHF Game Bar, in the back of a pizza restaurant. On Sunday, he brought a gun into the venue and opened fire, killing two people. Then he turned the gun on himself, Jacksonville Sheriff Mike Williams said. Police have not released a possible motive.\\nKatz used at least one handgun in the shooting, the sheriff said. Nine other people suffered gunshot wounds and two people were injured fleeing the area, Williams said. The victims were all in stable condition at local hospitals, the sheriff said.\\nThe horror that unfolded was captured on an online stream of the event, posted the website Twitch. The game abruptly stopped after several shots were heard.\\nPeople screamed. One person cried out, \"Oh f**, what\\'d he shoot me with?\" \\nShortly after 1:30 p.m., 911 calls started pouring in about a shooting, according to Williams. Officers were on the scene within two minutes.\\nAleman said he huddled in the bathroom for 10 minutes and ran from the scene.\\n\"I\\'m still shocked, I can hardly talk,\" he told CNN.\\nSeven members of the Jacksonville Fire Station 1 -- known as \"The Rock\" -- were doing routine training in a parking garage across the street from the Landing, when dozens of people came running out, said Randy Wyse, president of the Jacksonville Association of Fire Fighters.\\nOne person pulled up their shirt, showing where they had been shot in the chest, Wyse said. A second person with gunshot wounds followed shortly behind them.\\nAs four firefighters administered first aid, three others ran toward the Landing, Wyse said, and flagged down a police officer.\\nThey started treating victims and found the three dead bodies, including Katz\\'s body.\\nHours after he committed suicide, authorities said, agents with the Bureau of Alcohol, Tobacco, Firearms and Explosives and FBI and Baltimore Police searched Katz\\'s family home in Baltimore.\\nKatz went by the gaming naming \"Bread\" and previously won Madden tournaments in 2017, multiple gamers told CNN.\\nIn February 2017, the Buffalo Bills tweeted out a picture of him after he won the Madden 17 Bills Championship. \"Congrats to David Katz, the Madden 17 Bills Championship winner! Thanks for following along, Bills fans,\" the tweet read.\\nIn an interview after the win with former Buffalos Bills player Steve Tasker, Katz talked about his prowess.\\n\"I think personally I\\'m one of the better players,\" he said. \\nFlorida has seen several mass shootings in recent years: a gunman killed 17 people at Marjory Stoneman Douglas high school in Parkland earlier this year; five people were gunned down at the Fort Lauderdale airport last year; and 49 were shot dead at the Pulse nightclub in Orlando in 2016.\\n\"We have got to change,\" Gov. Rick Scott told reporters Sunday night. \"We\\'ve got to really stop and say to ourselves: there\\'s something wrong.\"\\n\"Why are young men willing to give up their life, or why don\\'t they value somebody else\\'s life?\" he said. \"We\\'ve got to figure this out.\"\\nFormer Congresswoman Gabrielle Giffords, who was seriously wounded in a mass shooting, said the nation\\'s attention turns to Florida, again.\\n\"The nation once again looks to Florida with grief and heavy hearts,\" Giffords, who co-founded a gun violence prevention organization, said in a statement.\\n\"The massacre in Jacksonville is a tragic reminder of the threats we face from gun violence, no matter who we are or where our day takes us,\" said Giffords. \"And it\\'s yet another devastating indictment of this country\\'s inability to keep our kids safe.\"\\n\\n    The nation once again looks to Florida with grief and heavy hearts. The massacre in Jacksonville is yet another devastating indictment of this country\\'s inability to keep our kids safe. https://t.co/NNw88rVWR2\\n    — Gabrielle Giffords (@GabbyGiffords) August 26, 2018\\n\\nEA Sports, a video game developer and publisher, condemned the shooting as \"a senseless act of violence.\"\\nCompLexity Gaming founder and CEO Jason Lake told CNN that the shooting may make the growing eSports industry reconsider security at events.\\nOne of the company\\'s gamers, a 19-year-old who goes by Drini, was shot in the thumb but managed to escape and is going to be fine, Lake said.\\n\"To have someone walk into an event like this that\\'s all about good sportsmanship and teamwork and just good vibes, and do something like this, it\\'s heartbreaking,\" he said. \"I think the e-sports industry as a whole is going to have to step back and take a look at further strengthening our security.\"'"
      ]
     },
     "execution_count": 4,
     "metadata": {},
     "output_type": "execute_result"
    }
   ],
   "source": [
    "total_docs[0]"
   ]
  },
  {
   "cell_type": "code",
   "execution_count": 5,
   "metadata": {},
   "outputs": [],
   "source": [
    "import preprocessing # import a python file for English text preprocessing"
   ]
  },
  {
   "cell_type": "code",
   "execution_count": 6,
   "metadata": {},
   "outputs": [],
   "source": [
    "stopwords = ['be', 'today', 'yesterday', 'tomorrow'] # 불용어 사전 생성하기"
   ]
  },
  {
   "cell_type": "code",
   "execution_count": 7,
   "metadata": {},
   "outputs": [],
   "source": [
    "docs_nouns = [preprocessing.En_preprocessing(doc, stopwords) for doc in total_docs]"
   ]
  },
  {
   "cell_type": "code",
   "execution_count": 8,
   "metadata": {},
   "outputs": [
    {
     "name": "stdout",
     "output_type": "stream",
     "text": [
      "['aleman', 'world', 'video', 'game', 'front', 'gunshot', 'restroom', 'cover', 'mass', 'shooting', 'florida', 'time', 'tournament', 'player', 'football', 'video', 'game', 'madden', 'jacksonville', 'winner', 'level', 'tournament', 'vega', 'october', 'cash', 'prize', 'participant', 'jacksonville', 'marketplace', 'store', 'bar', 'restaurant', 'st', 'john', 'river', 'david', 'gamer', 'baltimore', 'maryland', 'jacksonville', 'tournament', 'game', 'bar', 'back', 'pizza', 'restaurant', 'sunday', 'gun', 'venue', 'fire', 'people', 'gun', 'mike', 'williams', 'police', 'motive', 'katz', 'handgun', 'sheriff', 'people', 'wound', 'people', 'area', 'williams', 'victim', 'condition', 'hospital', 'sheriff', 'horror', 'stream', 'event', 'game', 'shot', 'people', 'person', 'f', 'whatd', 'call', 'williams', 'officer', 'scene', 'minute', 'bathroom', 'minute', 'ran', 'scene', 'im', 'member', 'jacksonville', 'fire', 'station', 'rock', 'training', 'parking', 'garage', 'street', 'landing', 'dozen', 'people', 'president', 'jacksonville', 'association', 'fire', 'fighter', 'person', 'shirt', 'chest', 'wyse', 'person', 'wound', 'firefighter', 'aid', 'others', 'landing', 'wyse', 'officer', 'victim', 'body', 'katzs', 'body', 'hour', 'authority', 'agent', 'bureau', 'alcohol', 'tobacco', 'firearm', 'explosive', 'fbi', 'police', 'family', 'home', 'baltimore', 'katz', 'gaming', 'bread', 'tournament', 'multiple', 'gamers', 'cnn', 'buffalo', 'bill', 'picture', 'bill', 'congrats', 'bill', 'thanks', 'bill', 'tweet', 'read', 'interview', 'win', 'buffalo', 'bill', 'player', 'tasker', 'katz', 'prowess', 'player', 'florida', 'mass', 'shooting', 'year', 'gunman', 'people', 'douglas', 'school', 'parkland', 'year', 'people', 'fort', 'lauderdale', 'airport', 'year', 'pulse', 'nightclub', 'orlando', 'gov', 'rick', 'scott', 'reporter', 'night', 'weve', 'something', 'men', 'life', 'value', 'somebody', 'life', 'congresswoman', 'gabrielle', 'giffords', 'mass', 'shooting', 'nation', 'attention', 'nation', 'grief', 'heart', 'giffords', 'gun', 'violence', 'prevention', 'organization', 'statement', 'massacre', 'jacksonville', 'reminder', 'threat', 'violence', 'matter', 'day', 'giffords', 'indictment', 'country', 'inability', 'kid', 'nation', 'grief', 'heart', 'massacre', 'jacksonville', 'indictment', 'country', 'inability', 'kid', 'httpstconnw88rvwr2', 'gabrielle', 'giffords', 'gabbygiffords', 'ea', 'sport', 'video', 'game', 'developer', 'publisher', 'shooting', 'senseless', 'act', 'violence', 'complexity', 'founder', 'ceo', 'jason', 'cnn', 'shooting', 'esports', 'industry', 'security', 'event', 'company', 'drini', 'thumb', 'lake', 'someone', 'walk', 'event', 'sportsmanship', 'teamwork', 'vibe', 'something', 'heartbreaking', 'esports', 'industry', 'whole', 'look', 'security']\n"
     ]
    }
   ],
   "source": [
    "print(docs_nouns[0]) # 첫번째 문서에 대한 내용 ((문서 내용, [명사단어])로 구성)"
   ]
  },
  {
   "cell_type": "code",
   "execution_count": 9,
   "metadata": {},
   "outputs": [],
   "source": [
    "documents_filtered = [' '.join(doc) for doc in docs_nouns]\n",
    "# 불필요한 단어들을 제거하고 난후 DTM로 변환하기 위해 다시 list of strings의 형태로 변환"
   ]
  },
  {
   "cell_type": "code",
   "execution_count": 10,
   "metadata": {},
   "outputs": [
    {
     "data": {
      "text/plain": [
       "'aleman world video game front gunshot restroom cover mass shooting florida time tournament player football video game madden jacksonville winner level tournament vega october cash prize participant jacksonville marketplace store bar restaurant st john river david gamer baltimore maryland jacksonville tournament game bar back pizza restaurant sunday gun venue fire people gun mike williams police motive katz handgun sheriff people wound people area williams victim condition hospital sheriff horror stream event game shot people person f whatd call williams officer scene minute bathroom minute ran scene im member jacksonville fire station rock training parking garage street landing dozen people president jacksonville association fire fighter person shirt chest wyse person wound firefighter aid others landing wyse officer victim body katzs body hour authority agent bureau alcohol tobacco firearm explosive fbi police family home baltimore katz gaming bread tournament multiple gamers cnn buffalo bill picture bill congrats bill thanks bill tweet read interview win buffalo bill player tasker katz prowess player florida mass shooting year gunman people douglas school parkland year people fort lauderdale airport year pulse nightclub orlando gov rick scott reporter night weve something men life value somebody life congresswoman gabrielle giffords mass shooting nation attention nation grief heart giffords gun violence prevention organization statement massacre jacksonville reminder threat violence matter day giffords indictment country inability kid nation grief heart massacre jacksonville indictment country inability kid httpstconnw88rvwr2 gabrielle giffords gabbygiffords ea sport video game developer publisher shooting senseless act violence complexity founder ceo jason cnn shooting esports industry security event company drini thumb lake someone walk event sportsmanship teamwork vibe something heartbreaking esports industry whole look security'"
      ]
     },
     "execution_count": 10,
     "metadata": {},
     "output_type": "execute_result"
    }
   ],
   "source": [
    "documents_filtered[0]"
   ]
  },
  {
   "cell_type": "markdown",
   "metadata": {},
   "source": [
    "CounterVectorizer 사용해 보기"
   ]
  },
  {
   "cell_type": "code",
   "execution_count": 11,
   "metadata": {},
   "outputs": [],
   "source": [
    "from sklearn.feature_extraction.text import CountVectorizer # frequency based DTM\n",
    "tf_vectorizer = CountVectorizer()\n",
    "DTM_tf = tf_vectorizer.fit_transform(documents_filtered)\n",
    "DTM_TF = np.array(DTM_tf.todense()) #dense array (즉, 0을 포함한 array)로 변환후 다시 numpy array로 변환"
   ]
  },
  {
   "cell_type": "markdown",
   "metadata": {},
   "source": [
    "유클리디안 거리와 코사인 유사도 계산해 보기"
   ]
  },
  {
   "cell_type": "code",
   "execution_count": 12,
   "metadata": {},
   "outputs": [
    {
     "name": "stdout",
     "output_type": "stream",
     "text": [
      "25.11971337416094 31.04834939252005 35.94440151122286\n"
     ]
    }
   ],
   "source": [
    "# 유클리디안 거리\n",
    "d1d2_tf = np.linalg.norm(DTM_TF[0]-DTM_TF[1])\n",
    "d1d4_tf = np.linalg.norm(DTM_TF[0]-DTM_TF[3])\n",
    "d1d6_tf = np.linalg.norm(DTM_TF[0]-DTM_TF[5])\n",
    "print(d1d2_tf, d1d4_tf, d1d6_tf)"
   ]
  },
  {
   "cell_type": "code",
   "execution_count": 13,
   "metadata": {},
   "outputs": [
    {
     "name": "stdout",
     "output_type": "stream",
     "text": [
      "0.48098450817589 0.0890419846686842 0.03920003859698009\n"
     ]
    }
   ],
   "source": [
    "# 코사인 유사도\n",
    "d1d2_cos_tf = np.dot(DTM_TF[0],DTM_TF[1])/(np.linalg.norm(DTM_TF[0])*np.linalg.norm(DTM_TF[1]))\n",
    "d1d4_cos_tf = np.dot(DTM_TF[0],DTM_TF[3])/(np.linalg.norm(DTM_TF[0])*np.linalg.norm(DTM_TF[3]))\n",
    "d1d6_cos_tf = np.dot(DTM_TF[0],DTM_TF[5])/(np.linalg.norm(DTM_TF[0])*np.linalg.norm(DTM_TF[5]))\n",
    "print(d1d2_cos_tf, d1d4_cos_tf, d1d6_cos_tf)"
   ]
  },
  {
   "cell_type": "markdown",
   "metadata": {},
   "source": [
    "## KMeans 적용하기"
   ]
  },
  {
   "cell_type": "code",
   "execution_count": 14,
   "metadata": {},
   "outputs": [],
   "source": [
    "from sklearn.cluster import KMeans"
   ]
  },
  {
   "cell_type": "code",
   "execution_count": 16,
   "metadata": {},
   "outputs": [],
   "source": [
    "# TF 정보 사용\n",
    "kmeans = KMeans(n_clusters=5)\n",
    "clusters_TF = kmeans.fit_predict(DTM_TF) # KMeans 알고리즘으로 학습"
   ]
  },
  {
   "cell_type": "markdown",
   "metadata": {},
   "source": [
    "'clusters_TF = kmeans.fit_predict(DTM_TF)'를 실행하는데 있어 AttributeError: 'NoneType' object has no attribute 'split' 에러가 발생하는 경우, 아래 코드를 실행해서 threadpoolctl 모듈의 버전을 최신 버전으로 업데이트 해주세요.<br>\n",
    "!pip install - U threadpoolctl"
   ]
  },
  {
   "cell_type": "code",
   "execution_count": 24,
   "metadata": {},
   "outputs": [
    {
     "data": {
      "text/plain": [
       "array([4, 4, 4, 3, 2, 3, 3, 3, 1, 1, 1, 1, 0, 0, 0])"
      ]
     },
     "execution_count": 24,
     "metadata": {},
     "output_type": "execute_result"
    }
   ],
   "source": [
    "clusters_TF"
   ]
  },
  {
   "cell_type": "code",
   "execution_count": 15,
   "metadata": {},
   "outputs": [
    {
     "data": {
      "text/plain": [
       "array([[0.33333333, 0.33333333, 0.33333333, ..., 0.        , 0.        ,\n",
       "        0.        ],\n",
       "       [0.        , 0.        , 0.        , ..., 0.        , 0.        ,\n",
       "        0.        ],\n",
       "       [0.        , 0.        , 0.        , ..., 0.        , 0.        ,\n",
       "        0.        ],\n",
       "       [0.        , 1.        , 0.        , ..., 0.        , 0.        ,\n",
       "        0.        ],\n",
       "       [0.        , 0.        , 0.        , ..., 0.25      , 0.5       ,\n",
       "        0.5       ]])"
      ]
     },
     "execution_count": 15,
     "metadata": {},
     "output_type": "execute_result"
    }
   ],
   "source": [
    "# 중심 확인하기 \n",
    "kmeans.cluster_centers_"
   ]
  },
  {
   "cell_type": "code",
   "execution_count": 16,
   "metadata": {},
   "outputs": [
    {
     "name": "stdout",
     "output_type": "stream",
     "text": [
      "Doc: 0, Cluster: 1, Distance to the center: 14.306175822583288\n",
      "Doc: 1, Cluster: 1, Distance to the center: 15.545631755148026\n",
      "Doc: 2, Cluster: 1, Distance to the center: 16.1761140780679\n",
      "Doc: 3, Cluster: 2, Distance to the center: 19.06567596493762\n",
      "Doc: 4, Cluster: 3, Distance to the center: 0.0\n",
      "Doc: 5, Cluster: 2, Distance to the center: 16.537835408541227\n",
      "Doc: 6, Cluster: 2, Distance to the center: 12.328828005937952\n",
      "Doc: 7, Cluster: 2, Distance to the center: 9.848857801796104\n",
      "Doc: 8, Cluster: 4, Distance to the center: 16.00195300580526\n",
      "Doc: 9, Cluster: 4, Distance to the center: 12.492497748648987\n",
      "Doc: 10, Cluster: 4, Distance to the center: 11.792476415070755\n",
      "Doc: 11, Cluster: 4, Distance to the center: 9.46374661537385\n",
      "Doc: 12, Cluster: 0, Distance to the center: 13.64632632697248\n",
      "Doc: 13, Cluster: 0, Distance to the center: 15.670212364724211\n",
      "Doc: 14, Cluster: 0, Distance to the center: 16.898389140848767\n"
     ]
    }
   ],
   "source": [
    "for i, k in enumerate(clusters_TF):\n",
    "    dis = np.linalg.norm(DTM_TF[i]-kmeans.cluster_centers_[k])\n",
    "    print('Doc: {0}, Cluster: {1}, Distance to the center: {2}'.format(i, k, dis))"
   ]
  },
  {
   "cell_type": "markdown",
   "metadata": {},
   "source": [
    "TfidfVectorizer 사용해보기"
   ]
  },
  {
   "cell_type": "code",
   "execution_count": 17,
   "metadata": {},
   "outputs": [],
   "source": [
    "from sklearn.feature_extraction.text import TfidfVectorizer # tf-idf based DTM\n",
    "tfidf_vectorizer = TfidfVectorizer()\n",
    "DTM_tfidf = tfidf_vectorizer.fit_transform(documents_filtered)\n",
    "DTM_TFIDF = np.array(DTM_tfidf.todense())"
   ]
  },
  {
   "cell_type": "code",
   "execution_count": 18,
   "metadata": {},
   "outputs": [],
   "source": [
    "#TFIDF 정보 사용\n",
    "kmeans = KMeans(n_clusters=5)\n",
    "clusters_TFIDF = kmeans.fit_predict(DTM_TFIDF)"
   ]
  },
  {
   "cell_type": "code",
   "execution_count": 19,
   "metadata": {},
   "outputs": [
    {
     "data": {
      "text/plain": [
       "array([0, 0, 0, 4, 4, 1, 1, 1, 2, 2, 2, 2, 3, 3, 3])"
      ]
     },
     "execution_count": 19,
     "metadata": {},
     "output_type": "execute_result"
    }
   ],
   "source": [
    "clusters_TFIDF"
   ]
  },
  {
   "cell_type": "markdown",
   "metadata": {},
   "source": [
    "# Elbow 방법"
   ]
  },
  {
   "cell_type": "code",
   "execution_count": 20,
   "metadata": {},
   "outputs": [
    {
     "data": {
      "image/png": "[encoded data removed]",
      "text/plain": [
       "<Figure size 432x288 with 1 Axes>"
      ]
     },
     "metadata": {
      "needs_background": "light"
     },
     "output_type": "display_data"
    }
   ],
   "source": [
    "import matplotlib.pyplot as plt\n",
    "wcss = []\n",
    "for i in range(1,11):\n",
    "    kmeans = KMeans(n_clusters=i, random_state=42)\n",
    "    kmeans.fit(DTM_TFIDF)\n",
    "    wcss.append(kmeans.inertia_) # inertia_ => WCSS\n",
    "\n",
    "plt.plot(range(1,11),wcss)\n",
    "plt.xlabel('Number of Clusters')\n",
    "plt.ylabel('WCSS')\n",
    "plt.title('Elbow Curve')\n",
    "plt.show()"
   ]
  },
  {
   "cell_type": "markdown",
   "metadata": {},
   "source": [
    "# 실루엣 스코어 계산해 보기"
   ]
  },
  {
   "cell_type": "code",
   "execution_count": 21,
   "metadata": {},
   "outputs": [
    {
     "name": "stdout",
     "output_type": "stream",
     "text": [
      "2 0.09310558805889903\n",
      "3 0.14179670602577632\n",
      "4 0.20398498202942308\n",
      "5 0.24302353093870305\n",
      "6 0.22094875903585243\n",
      "7 0.19474059372141436\n",
      "8 0.19150731029915946\n",
      "9 0.18306299142275123\n",
      "10 0.14400718007859883\n"
     ]
    }
   ],
   "source": [
    "from sklearn.metrics import silhouette_score\n",
    "for k in range(2,11):\n",
    "    kmeans = KMeans(n_clusters=k, random_state=42)\n",
    "    cluster = kmeans.fit_predict(DTM_TFIDF) \n",
    "    print(k, silhouette_score(DTM_TFIDF, cluster))"
   ]
  },
  {
   "cell_type": "markdown",
   "metadata": {},
   "source": [
    "# 군집화 결과 평가 지표"
   ]
  },
  {
   "cell_type": "markdown",
   "metadata": {},
   "source": [
    "### Rand Index"
   ]
  },
  {
   "cell_type": "code",
   "execution_count": 29,
   "metadata": {},
   "outputs": [],
   "source": [
    "# True labels\n",
    "true_labels = [0, 0, 0, 1, 1, 2, 2, 2, 3, 3, 3, 3, 4, 4, 4]"
   ]
  },
  {
   "cell_type": "code",
   "execution_count": 30,
   "metadata": {},
   "outputs": [],
   "source": [
    "from sklearn.metrics import rand_score"
   ]
  },
  {
   "cell_type": "code",
   "execution_count": 31,
   "metadata": {},
   "outputs": [
    {
     "data": {
      "text/plain": [
       "0.9619047619047619"
      ]
     },
     "execution_count": 31,
     "metadata": {},
     "output_type": "execute_result"
    }
   ],
   "source": [
    "rand_score(true_labels, clusters_TF)"
   ]
  },
  {
   "cell_type": "code",
   "execution_count": 32,
   "metadata": {},
   "outputs": [
    {
     "data": {
      "text/plain": [
       "1.0"
      ]
     },
     "execution_count": 32,
     "metadata": {},
     "output_type": "execute_result"
    }
   ],
   "source": [
    "rand_score(true_labels, clusters_TFIDF)"
   ]
  },
  {
   "cell_type": "code",
   "execution_count": 33,
   "metadata": {},
   "outputs": [
    {
     "data": {
      "text/plain": [
       "0.5"
      ]
     },
     "execution_count": 33,
     "metadata": {},
     "output_type": "execute_result"
    }
   ],
   "source": [
    "rand_score([0,1,1,1], [0,0,1,1])"
   ]
  },
  {
   "cell_type": "markdown",
   "metadata": {},
   "source": [
    "### Adjusted Rand Index"
   ]
  },
  {
   "cell_type": "code",
   "execution_count": 36,
   "metadata": {},
   "outputs": [],
   "source": [
    "from sklearn.metrics import adjusted_rand_score"
   ]
  },
  {
   "cell_type": "code",
   "execution_count": 37,
   "metadata": {},
   "outputs": [
    {
     "data": {
      "text/plain": [
       "0.8597194388777555"
      ]
     },
     "execution_count": 37,
     "metadata": {},
     "output_type": "execute_result"
    }
   ],
   "source": [
    "adjusted_rand_score(true_labels, clusters_TF)"
   ]
  },
  {
   "cell_type": "code",
   "execution_count": 38,
   "metadata": {},
   "outputs": [
    {
     "data": {
      "text/plain": [
       "1.0"
      ]
     },
     "execution_count": 38,
     "metadata": {},
     "output_type": "execute_result"
    }
   ],
   "source": [
    "adjusted_rand_score(true_labels, clusters_TFIDF)"
   ]
  },
  {
   "cell_type": "markdown",
   "metadata": {},
   "source": [
    "### Normalized Mutual Information"
   ]
  },
  {
   "cell_type": "code",
   "execution_count": 39,
   "metadata": {},
   "outputs": [],
   "source": [
    "from sklearn.metrics import normalized_mutual_info_score"
   ]
  },
  {
   "cell_type": "code",
   "execution_count": 40,
   "metadata": {},
   "outputs": [
    {
     "data": {
      "text/plain": [
       "0.9222165931504351"
      ]
     },
     "execution_count": 40,
     "metadata": {},
     "output_type": "execute_result"
    }
   ],
   "source": [
    "normalized_mutual_info_score(true_labels, clusters_TF)"
   ]
  },
  {
   "cell_type": "code",
   "execution_count": 41,
   "metadata": {},
   "outputs": [
    {
     "data": {
      "text/plain": [
       "1.0"
      ]
     },
     "execution_count": 41,
     "metadata": {},
     "output_type": "execute_result"
    }
   ],
   "source": [
    "normalized_mutual_info_score(true_labels, clusters_TFIDF)"
   ]
  },
  {
   "cell_type": "code",
   "execution_count": null,
   "metadata": {},
   "outputs": [],
   "source": []
  }
 ],
 "metadata": {
  "kernelspec": {
   "display_name": "Python 3 (ipykernel)",
   "language": "python",
   "name": "python3"
  },
  "language_info": {
   "codemirror_mode": {
    "name": "ipython",
    "version": 3
   },
   "file_extension": ".py",
   "mimetype": "text/x-python",
   "name": "python",
   "nbconvert_exporter": "python",
   "pygments_lexer": "ipython3",
   "version": "3.8.5"
  }
 },
 "nbformat": 4,
 "nbformat_minor": 2
}
